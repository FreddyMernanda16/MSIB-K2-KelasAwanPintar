





<!DOCTYPE html>
<html
  lang="en"
  
  data-color-mode="auto" data-light-theme="light" data-dark-theme="dark"
  data-a11y-animated-images="system" data-a11y-link-underlines="true"
  
  >



  <head>
    <meta charset="utf-8">
  <link rel="dns-prefetch" href="https://github.githubassets.com">
  <link rel="dns-prefetch" href="https://avatars.githubusercontent.com">
  <link rel="dns-prefetch" href="https://github-cloud.s3.amazonaws.com">
  <link rel="dns-prefetch" href="https://user-images.githubusercontent.com/">
  <link rel="preconnect" href="https://github.githubassets.com" crossorigin>
  <link rel="preconnect" href="https://avatars.githubusercontent.com">

  


  <link crossorigin="anonymous" media="all" rel="stylesheet" href="https://github.githubassets.com/assets/light-3e154969b9f9.css" /><link crossorigin="anonymous" media="all" rel="stylesheet" href="https://github.githubassets.com/assets/dark-9c5b7a476542.css" /><link data-color-theme="dark_dimmed" crossorigin="anonymous" media="all" rel="stylesheet" data-href="https://github.githubassets.com/assets/dark_dimmed-afda8eb0fb33.css" /><link data-color-theme="dark_high_contrast" crossorigin="anonymous" media="all" rel="stylesheet" data-href="https://github.githubassets.com/assets/dark_high_contrast-2494e44ccdc5.css" /><link data-color-theme="dark_colorblind" crossorigin="anonymous" media="all" rel="stylesheet" data-href="https://github.githubassets.com/assets/dark_colorblind-56fff47acadc.css" /><link data-color-theme="light_colorblind" crossorigin="anonymous" media="all" rel="stylesheet" data-href="https://github.githubassets.com/assets/light_colorblind-71cd4cc132ec.css" /><link data-color-theme="light_high_contrast" crossorigin="anonymous" media="all" rel="stylesheet" data-href="https://github.githubassets.com/assets/light_high_contrast-fd5499848985.css" /><link data-color-theme="light_tritanopia" crossorigin="anonymous" media="all" rel="stylesheet" data-href="https://github.githubassets.com/assets/light_tritanopia-31d17ba3e139.css" /><link data-color-theme="dark_tritanopia" crossorigin="anonymous" media="all" rel="stylesheet" data-href="https://github.githubassets.com/assets/dark_tritanopia-68d6b2c79663.css" />

    <link crossorigin="anonymous" media="all" rel="stylesheet" href="https://github.githubassets.com/assets/primer-primitives-4cf0d59ab51a.css" />
    <link crossorigin="anonymous" media="all" rel="stylesheet" href="https://github.githubassets.com/assets/primer-0a1f715ee9fb.css" />
    <link crossorigin="anonymous" media="all" rel="stylesheet" href="https://github.githubassets.com/assets/global-e41ff91f8baa.css" />
    <link crossorigin="anonymous" media="all" rel="stylesheet" href="https://github.githubassets.com/assets/github-6110438c1619.css" />
  <link crossorigin="anonymous" media="all" rel="stylesheet" href="https://github.githubassets.com/assets/repository-1e3bbbee6b91.css" />
<link crossorigin="anonymous" media="all" rel="stylesheet" href="https://github.githubassets.com/assets/code-53e56f0305ac.css" />

  


  <script type="application/json" id="client-env">{"locale":"en","featureFlags":["copilot_load_latest_thread","copilot_new_references_ui","copilot_beta_features_opt_in","copilot_chat_conversation_intent_knowledge_search_skill","copilot_chat_static_thread_suggestions","copilot_chat_restore_thread","copilot_chat_user_feedback","copilot_conversational_ux_history_refs","copilot_implicit_context","copilot_smell_icebreaker_ux","copilot_summary_beta","copilot_unified_attachment_menu","experimentation_azure_variant_endpoint","failbot_handle_non_errors","geojson_azure_maps","ghost_pilot_confidence_truncation_25","ghost_pilot_confidence_truncation_40","hovercard_accessibility","hovercard_longer_activate_timeout","issues_advanced_search","issues_react_cache_fix_workaround","marketing_pages_search_explore_provider","primer_react_css_modules_ga","remove_child_patch","repository_suggester_elastic_search","sample_network_conn_type","site_metered_billing_update","issues_react_first_time_contribution_banner","jk_navigation_in_list_view","ui_commands_respect_modals","lifecycle_label_name_updates","issues_react_customise_notifications_ui"],"login":"FreddyMernanda16"}</script>
<script crossorigin="anonymous" defer="defer" type="application/javascript" src="https://github.githubassets.com/assets/wp-runtime-60b5e628e88b.js"></script>
<script crossorigin="anonymous" defer="defer" type="application/javascript" src="https://github.githubassets.com/assets/vendors-node_modules_dompurify_dist_purify_js-b73fdff77a4e.js"></script>
<script crossorigin="anonymous" defer="defer" type="application/javascript" src="https://github.githubassets.com/assets/vendors-node_modules_oddbird_popover-polyfill_dist_popover_js-aff936e590ed.js"></script>
<script crossorigin="anonymous" defer="defer" type="application/javascript" src="https://github.githubassets.com/assets/vendors-node_modules_github_arianotify-polyfill_ariaNotify-polyfill_js-node_modules_github_mi-247092-ee0bd6110c34.js"></script>
<script crossorigin="anonymous" defer="defer" type="application/javascript" src="https://github.githubassets.com/assets/ui_packages_failbot_failbot_ts-074ee5faa813.js"></script>
<script crossorigin="anonymous" defer="defer" type="application/javascript" src="https://github.githubassets.com/assets/environment-cd35650c2e9c.js"></script>
<script crossorigin="anonymous" defer="defer" type="application/javascript" src="https://github.githubassets.com/assets/vendors-node_modules_primer_behaviors_dist_esm_index_mjs-4aa4b0e95669.js"></script>
<script crossorigin="anonymous" defer="defer" type="application/javascript" src="https://github.githubassets.com/assets/vendors-node_modules_github_selector-observer_dist_index_esm_js-f690fd9ae3d5.js"></script>
<script crossorigin="anonymous" defer="defer" type="application/javascript" src="https://github.githubassets.com/assets/vendors-node_modules_github_relative-time-element_dist_index_js-6d3967acd51c.js"></script>
<script crossorigin="anonymous" defer="defer" type="application/javascript" src="https://github.githubassets.com/assets/vendors-node_modules_github_combobox-nav_dist_index_js-node_modules_github_g-emoji-element_di-6ce195-53781cbc550f.js"></script>
<script crossorigin="anonymous" defer="defer" type="application/javascript" src="https://github.githubassets.com/assets/vendors-node_modules_github_auto-complete-element_dist_index_js-node_modules_github_catalyst_-6afc16-87f32ad5fff1.js"></script>
<script crossorigin="anonymous" defer="defer" type="application/javascript" src="https://github.githubassets.com/assets/vendors-node_modules_github_text-expander-element_dist_index_js-f5498b8d4e5d.js"></script>
<script crossorigin="anonymous" defer="defer" type="application/javascript" src="https://github.githubassets.com/assets/vendors-node_modules_github_filter-input-element_dist_index_js-node_modules_github_remote-inp-d1a841-8f251a0656e7.js"></script>
<script crossorigin="anonymous" defer="defer" type="application/javascript" src="https://github.githubassets.com/assets/vendors-node_modules_github_mini-throttle_dist_index_js-node_modules_stacktrace-parser_dist_s-1f651a-1e3d784c897c.js"></script>
<script crossorigin="anonymous" defer="defer" type="application/javascript" src="https://github.githubassets.com/assets/vendors-node_modules_github_file-attachment-element_dist_index_js-node_modules_primer_view-co-7671f1-e5a3aff0bcc1.js"></script>
<script crossorigin="anonymous" defer="defer" type="application/javascript" src="https://github.githubassets.com/assets/github-elements-cb7d8b621a49.js"></script>
<script crossorigin="anonymous" defer="defer" type="application/javascript" src="https://github.githubassets.com/assets/element-registry-a73b0cd37fb8.js"></script>
<script crossorigin="anonymous" defer="defer" type="application/javascript" src="https://github.githubassets.com/assets/vendors-node_modules_braintree_browser-detection_dist_browser-detection_js-node_modules_githu-bb80ec-634de60bacfa.js"></script>
<script crossorigin="anonymous" defer="defer" type="application/javascript" src="https://github.githubassets.com/assets/vendors-node_modules_lit-html_lit-html_js-ce7225a304c5.js"></script>
<script crossorigin="anonymous" defer="defer" type="application/javascript" src="https://github.githubassets.com/assets/vendors-node_modules_github_hydro-analytics-client_dist_analytics-client_js-node_modules_gith-f3aee1-e6893db9c19e.js"></script>
<script crossorigin="anonymous" defer="defer" type="application/javascript" src="https://github.githubassets.com/assets/vendors-node_modules_github_mini-throttle_dist_index_js-node_modules_morphdom_dist_morphdom-e-7c534c-f8a5485c982a.js"></script>
<script crossorigin="anonymous" defer="defer" type="application/javascript" src="https://github.githubassets.com/assets/vendors-node_modules_github_turbo_dist_turbo_es2017-esm_js-858e043fcf76.js"></script>
<script crossorigin="anonymous" defer="defer" type="application/javascript" src="https://github.githubassets.com/assets/vendors-node_modules_github_remote-form_dist_index_js-node_modules_delegated-events_dist_inde-893f9f-6cf3320416b8.js"></script>
<script crossorigin="anonymous" defer="defer" type="application/javascript" src="https://github.githubassets.com/assets/vendors-node_modules_scroll-anchoring_dist_scroll-anchoring_esm_js-node_modules_stacktrace-pa-a71630-6f3c4f0189d8.js"></script>
<script crossorigin="anonymous" defer="defer" type="application/javascript" src="https://github.githubassets.com/assets/vendors-node_modules_color-convert_index_js-0e07cc183eed.js"></script>
<script crossorigin="anonymous" defer="defer" type="application/javascript" src="https://github.githubassets.com/assets/vendors-node_modules_github_quote-selection_dist_index_js-node_modules_github_session-resume_-0b5e12-7b36339d5147.js"></script>
<script crossorigin="anonymous" defer="defer" type="application/javascript" src="https://github.githubassets.com/assets/ui_packages_updatable-content_updatable-content_ts-eae9df0dd562.js"></script>
<script crossorigin="anonymous" defer="defer" type="application/javascript" src="https://github.githubassets.com/assets/app_assets_modules_github_behaviors_task-list_ts-app_assets_modules_github_sso_ts-ui_packages-900dde-18d1c91a7872.js"></script>
<script crossorigin="anonymous" defer="defer" type="application/javascript" src="https://github.githubassets.com/assets/app_assets_modules_github_sticky-scroll-into-view_ts-7cbef09a422c.js"></script>
<script crossorigin="anonymous" defer="defer" type="application/javascript" src="https://github.githubassets.com/assets/app_assets_modules_github_behaviors_ajax-error_ts-app_assets_modules_github_behaviors_include-d0d0a6-b0b4fd6f86a5.js"></script>
<script crossorigin="anonymous" defer="defer" type="application/javascript" src="https://github.githubassets.com/assets/app_assets_modules_github_behaviors_commenting_edit_ts-app_assets_modules_github_behaviors_ht-83c235-c89801ebbe15.js"></script>
<script crossorigin="anonymous" defer="defer" type="application/javascript" src="https://github.githubassets.com/assets/behaviors-b2a2e8dee67e.js"></script>
<script crossorigin="anonymous" defer="defer" type="application/javascript" src="https://github.githubassets.com/assets/vendors-node_modules_delegated-events_dist_index_js-node_modules_github_catalyst_lib_index_js-06ff531-bf7e5a3732fd.js"></script>
<script crossorigin="anonymous" defer="defer" type="application/javascript" src="https://github.githubassets.com/assets/notifications-global-54f34167118d.js"></script>
<script crossorigin="anonymous" defer="defer" type="application/javascript" src="https://github.githubassets.com/assets/vendors-node_modules_github_mini-throttle_dist_index_js-node_modules_github_catalyst_lib_inde-dbbea9-e73b311a14f1.js"></script>
<script crossorigin="anonymous" defer="defer" type="application/javascript" src="https://github.githubassets.com/assets/code-menu-15796c6acaff.js"></script>
  
  <script crossorigin="anonymous" defer="defer" type="application/javascript" src="https://github.githubassets.com/assets/primer-react-765944243383.js"></script>
<script crossorigin="anonymous" defer="defer" type="application/javascript" src="https://github.githubassets.com/assets/react-core-705befca9f47.js"></script>
<script crossorigin="anonymous" defer="defer" type="application/javascript" src="https://github.githubassets.com/assets/react-lib-7b7b5264f6c1.js"></script>
<script crossorigin="anonymous" defer="defer" type="application/javascript" src="https://github.githubassets.com/assets/octicons-react-45c3a19dd792.js"></script>
<script crossorigin="anonymous" defer="defer" type="application/javascript" src="https://github.githubassets.com/assets/vendors-node_modules_emotion_is-prop-valid_dist_emotion-is-prop-valid_esm_js-node_modules_emo-0e630d-04276437489b.js"></script>
<script crossorigin="anonymous" defer="defer" type="application/javascript" src="https://github.githubassets.com/assets/vendors-node_modules_oddbird_popover-polyfill_dist_popover-fn_js-4896ddd4b7bb.js"></script>
<script crossorigin="anonymous" defer="defer" type="application/javascript" src="https://github.githubassets.com/assets/vendors-node_modules_github_catalyst_lib_index_js-node_modules_primer_live-region-element_dis-037ad60-8582b70cd5a9.js"></script>
<script crossorigin="anonymous" defer="defer" type="application/javascript" src="https://github.githubassets.com/assets/vendors-node_modules_focus-visible_dist_focus-visible_js-node_modules_fzy_js_index_js-node_mo-8edd88-99bd6dce30b5.js"></script>
<script crossorigin="anonymous" defer="defer" type="application/javascript" src="https://github.githubassets.com/assets/ui_packages_aria-live_aria-live_ts-ui_packages_promise-with-resolvers-polyfill_promise-with-r-014121-e1792bd5a31e.js"></script>
<script crossorigin="anonymous" defer="defer" type="application/javascript" src="https://github.githubassets.com/assets/ui_packages_paths_index_ts-3351286c0cb8.js"></script>
<script crossorigin="anonymous" defer="defer" type="application/javascript" src="https://github.githubassets.com/assets/ui_packages_ref-selector_RefSelector_tsx-7a75d9f22fe9.js"></script>
<script crossorigin="anonymous" defer="defer" type="application/javascript" src="https://github.githubassets.com/assets/ui_packages_code-view-shared_hooks_shortcuts_ts-ui_packages_code-view-shared_utilities_web-wo-397c42-97f809f90e5b.js"></script>
<script crossorigin="anonymous" defer="defer" type="application/javascript" src="https://github.githubassets.com/assets/ui_packages_hydro-analytics_hydro-analytics_ts-ui_packages_verified-fetch_verified-fetch_ts-u-4672d1-b9813979de97.js"></script>
<script crossorigin="anonymous" defer="defer" type="application/javascript" src="https://github.githubassets.com/assets/ui_packages_code-view-shared_hooks_use-canonical-object_ts-ui_packages_code-view-shared_utili-228da6-5281142fb486.js"></script>
<script crossorigin="anonymous" defer="defer" type="application/javascript" src="https://github.githubassets.com/assets/ui_packages_code-view-shared_hooks_use-file-page-payload_ts-ui_packages_code-view-shared_comp-1beb66-cb9d078d176c.js"></script>
<script crossorigin="anonymous" defer="defer" type="application/javascript" src="https://github.githubassets.com/assets/app_assets_modules_github_blob-anchor_ts-ui_packages_code-nav_code-nav_ts-ui_packages_filter--8253c1-87c39cb5708f.js"></script>
<script crossorigin="anonymous" defer="defer" type="application/javascript" src="https://github.githubassets.com/assets/react-code-view-51c8f48c808e.js"></script>
<link crossorigin="anonymous" media="all" rel="stylesheet" href="https://github.githubassets.com/assets/primer-react.9fa170e9435ed4b922b9.module.css" />
<link crossorigin="anonymous" media="all" rel="stylesheet" href="https://github.githubassets.com/assets/react-code-view.6b587a69b593e23c3657.module.css" />


  <title>MSIB-K2-KelasAwanPintar/Salinan_dari_Regresi_Logistic_Iris_Dataset.ipynb at main · Dim4s4ufa/MSIB-K2-KelasAwanPintar</title>



  <meta name="route-pattern" content="/:user_id/:repository/blob/*name(/*path)" data-turbo-transient>
  <meta name="route-controller" content="blob" data-turbo-transient>
  <meta name="route-action" content="show" data-turbo-transient>

    
  <meta name="current-catalog-service-hash" content="f3abb0cc802f3d7b95fc8762b94bdcb13bf39634c40c357301c4aa1d67a256fb">


  <meta name="request-id" content="CE66:36BB91:E46851:F64FF2:673654D5" data-turbo-transient="true" /><meta name="html-safe-nonce" content="ad3bb67e5942e8bcad4e19dfcca8d4da48b1ed5a2c880b2c6f3d77ab7e0ee1e4" data-turbo-transient="true" /><meta name="visitor-payload" content="eyJyZWZlcnJlciI6Imh0dHBzOi8vZ2l0aHViLmNvbS9EaW00czR1ZmEvTVNJQi1LMi1LZWxhc0F3YW5QaW50YXIiLCJyZXF1ZXN0X2lkIjoiQ0U2NjozNkJCOTE6RTQ2ODUxOkY2NEZGMjo2NzM2NTRENSIsInZpc2l0b3JfaWQiOiIyODQ2ODk2MTc3NDEyMTUzODQ1IiwicmVnaW9uX2VkZ2UiOiJzb3V0aGVhc3Rhc2lhIiwicmVnaW9uX3JlbmRlciI6ImlhZCJ9" data-turbo-transient="true" /><meta name="visitor-hmac" content="58dd7a91948e0b0f1b71fcbdfc21cebf1029b3b877c3e3560f5a248f2e1dfcdb" data-turbo-transient="true" />


    <meta name="hovercard-subject-tag" content="repository:858687523" data-turbo-transient>


  <meta name="github-keyboard-shortcuts" content="repository,source-code,file-tree,copilot" data-turbo-transient="true" />
  

  <meta name="selected-link" value="repo_source" data-turbo-transient>
  <link rel="assets" href="https://github.githubassets.com/">

    <meta name="google-site-verification" content="Apib7-x98H0j5cPqHWwSMm6dNU4GmODRoqxLiDzdx9I">

<meta name="octolytics-url" content="https://collector.github.com/github/collect" /><meta name="octolytics-actor-id" content="137316119" /><meta name="octolytics-actor-login" content="FreddyMernanda16" /><meta name="octolytics-actor-hash" content="4e1a1ec11f17908849d5121d7eecb4ff32ec1e324db7108318725c993a22a358" />

  <meta name="analytics-location" content="/&lt;user-name&gt;/&lt;repo-name&gt;/blob/show" data-turbo-transient="true" />

  




    <meta name="user-login" content="FreddyMernanda16">

  <link rel="sudo-modal" href="/sessions/sudo_modal">

    <meta name="viewport" content="width=device-width">

    

      <meta name="description" content="DIMAS AUFA MUHAMMAD ZAKI . Contribute to Dim4s4ufa/MSIB-K2-KelasAwanPintar development by creating an account on GitHub.">

      <link rel="search" type="application/opensearchdescription+xml" href="/opensearch.xml" title="GitHub">

    <link rel="fluid-icon" href="https://github.com/fluidicon.png" title="GitHub">
    <meta property="fb:app_id" content="1401488693436528">
    <meta name="apple-itunes-app" content="app-id=1477376905, app-argument=https://github.com/Dim4s4ufa/MSIB-K2-KelasAwanPintar/blob/main/Salinan_dari_Regresi_Logistic_Iris_Dataset.ipynb" />

      <meta name="twitter:image" content="https://opengraph.githubassets.com/5ec75187d854ae37d94fc3e4df27465f512531096ba9d377dbabb72c9d5a1fb8/Dim4s4ufa/MSIB-K2-KelasAwanPintar" /><meta name="twitter:site" content="@github" /><meta name="twitter:card" content="summary_large_image" /><meta name="twitter:title" content="MSIB-K2-KelasAwanPintar/Salinan_dari_Regresi_Logistic_Iris_Dataset.ipynb at main · Dim4s4ufa/MSIB-K2-KelasAwanPintar" /><meta name="twitter:description" content="DIMAS AUFA MUHAMMAD ZAKI . Contribute to Dim4s4ufa/MSIB-K2-KelasAwanPintar development by creating an account on GitHub." />
  <meta property="og:image" content="https://opengraph.githubassets.com/5ec75187d854ae37d94fc3e4df27465f512531096ba9d377dbabb72c9d5a1fb8/Dim4s4ufa/MSIB-K2-KelasAwanPintar" /><meta property="og:image:alt" content="DIMAS AUFA MUHAMMAD ZAKI . Contribute to Dim4s4ufa/MSIB-K2-KelasAwanPintar development by creating an account on GitHub." /><meta property="og:image:width" content="1200" /><meta property="og:image:height" content="600" /><meta property="og:site_name" content="GitHub" /><meta property="og:type" content="object" /><meta property="og:title" content="MSIB-K2-KelasAwanPintar/Salinan_dari_Regresi_Logistic_Iris_Dataset.ipynb at main · Dim4s4ufa/MSIB-K2-KelasAwanPintar" /><meta property="og:url" content="https://github.com/Dim4s4ufa/MSIB-K2-KelasAwanPintar/blob/main/Salinan_dari_Regresi_Logistic_Iris_Dataset.ipynb" /><meta property="og:description" content="DIMAS AUFA MUHAMMAD ZAKI . Contribute to Dim4s4ufa/MSIB-K2-KelasAwanPintar development by creating an account on GitHub." />
  


      <link rel="shared-web-socket" href="wss://alive.github.com/_sockets/u/137316119/ws?session=eyJ2IjoiVjMiLCJ1IjoxMzczMTYxMTksInMiOjE1MTgyMjEzMzMsImMiOjE4MzQ4Nzg2NjEsInQiOjE3MzE2MTM5MDl9--191695a73d22f22a29aac8e2b96cbf7e31f04eef4c549da2b85e218ec9bfa507" data-refresh-url="/_alive" data-session-id="934106f49972c8d716954f99442fc0a621f7eb57c723e728073973617f46057a">
      <link rel="shared-web-socket-src" href="/assets-cdn/worker/socket-worker-1a9b1a7a6108.js">


      <meta name="hostname" content="github.com">


      <meta name="keyboard-shortcuts-preference" content="all">
      <meta name="hovercards-preference" content="true">
      <meta name="announcement-preference-hovercard" content="true">

        <meta name="expected-hostname" content="github.com">


  <meta http-equiv="x-pjax-version" content="49a8838220c69ae524c86522a569b19f05cc97a2a836b4a913b9a6e111dbf996" data-turbo-track="reload">
  <meta http-equiv="x-pjax-csp-version" content="ace39c3b6632770952207593607e6e0be0db363435a8b877b1f96abe6430f345" data-turbo-track="reload">
  <meta http-equiv="x-pjax-css-version" content="e3387f5a78939e82fd1a20b7a9c359c696c4d2b7355c1bd9e83727407ad4e1f8" data-turbo-track="reload">
  <meta http-equiv="x-pjax-js-version" content="017a387f8e4e44324d54adc9eb3bb456e071b128eb36d490dc42cf97c85767e9" data-turbo-track="reload">

    <meta name="turbo-cache-control" content="no-preview" data-turbo-transient="">

      <meta name="turbo-cache-control" content="no-cache" data-turbo-transient>

    <meta data-hydrostats="publish">

    <link crossorigin="anonymous" media="all" rel="stylesheet" href="https://github.githubassets.com/assets/react-1a79343258bd.css" />
  <meta name="go-import" content="github.com/Dim4s4ufa/MSIB-K2-KelasAwanPintar git https://github.com/Dim4s4ufa/MSIB-K2-KelasAwanPintar.git">

  <meta name="octolytics-dimension-user_id" content="136666104" /><meta name="octolytics-dimension-user_login" content="Dim4s4ufa" /><meta name="octolytics-dimension-repository_id" content="858687523" /><meta name="octolytics-dimension-repository_nwo" content="Dim4s4ufa/MSIB-K2-KelasAwanPintar" /><meta name="octolytics-dimension-repository_public" content="true" /><meta name="octolytics-dimension-repository_is_fork" content="false" /><meta name="octolytics-dimension-repository_network_root_id" content="858687523" /><meta name="octolytics-dimension-repository_network_root_nwo" content="Dim4s4ufa/MSIB-K2-KelasAwanPintar" />



    

    <meta name="turbo-body-classes" content="logged-in env-production page-responsive">


  <meta name="browser-stats-url" content="https://api.github.com/_private/browser/stats">

  <meta name="browser-errors-url" content="https://api.github.com/_private/browser/errors">

  <link rel="mask-icon" href="https://github.githubassets.com/assets/pinned-octocat-093da3e6fa40.svg" color="#000000">
  <link rel="alternate icon" class="js-site-favicon" type="image/png" href="https://github.githubassets.com/favicons/favicon.png">
  <link rel="icon" class="js-site-favicon" type="image/svg+xml" href="https://github.githubassets.com/favicons/favicon.svg">

<meta name="theme-color" content="#1e2327">
<meta name="color-scheme" content="light dark" />


  <link rel="manifest" href="/manifest.json" crossOrigin="use-credentials">

  </head>

  <body class="logged-in env-production page-responsive" style="word-wrap: break-word;">
    <div data-turbo-body class="logged-in env-production page-responsive" style="word-wrap: break-word;">
      


    <div class="position-relative header-wrapper js-header-wrapper ">
      <a href="#start-of-content" data-skip-target-assigned="false" class="p-3 color-bg-accent-emphasis color-fg-on-emphasis show-on-focus js-skip-to-content">Skip to content</a>

      <span data-view-component="true" class="progress-pjax-loader Progress position-fixed width-full">
    <span style="width: 0%;" data-view-component="true" class="Progress-item progress-pjax-loader-bar left-0 top-0 color-bg-accent-emphasis"></span>
</span>      
      
      <script crossorigin="anonymous" defer="defer" type="application/javascript" src="https://github.githubassets.com/assets/vendors-node_modules_github_catalyst_lib_index_js-node_modules_github_hotkey_dist_index_js-no-d67c7f-bd7d077cdcb1.js"></script>
<script crossorigin="anonymous" defer="defer" type="application/javascript" src="https://github.githubassets.com/assets/ui_packages_ui-commands_ui-commands_ts-d25fac54a6bc.js"></script>
<script crossorigin="anonymous" defer="defer" type="application/javascript" src="https://github.githubassets.com/assets/keyboard-shortcuts-dialog-cb3d4f30c9ed.js"></script>
<link crossorigin="anonymous" media="all" rel="stylesheet" href="https://github.githubassets.com/assets/primer-react.9fa170e9435ed4b922b9.module.css" />

<react-partial
  partial-name="keyboard-shortcuts-dialog"
  data-ssr="false"
  data-attempted-ssr="false"
>
  
  <script type="application/json" data-target="react-partial.embeddedData">{"props":{"docsUrl":"https://docs.github.com/get-started/accessibility/keyboard-shortcuts"}}</script>
  <div data-target="react-partial.reactRoot"></div>
</react-partial>




      

          

              <header class="AppHeader" role="banner">
  <h2 class="sr-only">Navigation Menu</h2>

    

    <div class="AppHeader-globalBar pb-2 js-global-bar">
      <div class="AppHeader-globalBar-start">
          <deferred-side-panel data-url="/_side-panels/global">
  <include-fragment data-target="deferred-side-panel.fragment">
      <button aria-label="Open global navigation menu" data-action="click:deferred-side-panel#loadPanel click:deferred-side-panel#panelOpened" data-show-dialog-id="dialog-40b8689f-587a-4bbe-ada4-7f214c225165" id="dialog-show-dialog-40b8689f-587a-4bbe-ada4-7f214c225165" type="button" data-view-component="true" class="Button Button--iconOnly Button--secondary Button--medium AppHeader-button color-bg-transparent p-0 color-fg-muted">  <svg aria-hidden="true" height="16" viewBox="0 0 16 16" version="1.1" width="16" data-view-component="true" class="octicon octicon-three-bars Button-visual">
    <path d="M1 2.75A.75.75 0 0 1 1.75 2h12.5a.75.75 0 0 1 0 1.5H1.75A.75.75 0 0 1 1 2.75Zm0 5A.75.75 0 0 1 1.75 7h12.5a.75.75 0 0 1 0 1.5H1.75A.75.75 0 0 1 1 7.75ZM1.75 12h12.5a.75.75 0 0 1 0 1.5H1.75a.75.75 0 0 1 0-1.5Z"></path>
</svg>
</button>

<dialog-helper>
  <dialog data-target="deferred-side-panel.panel" id="dialog-40b8689f-587a-4bbe-ada4-7f214c225165" aria-modal="true" aria-labelledby="dialog-40b8689f-587a-4bbe-ada4-7f214c225165-title" aria-describedby="dialog-40b8689f-587a-4bbe-ada4-7f214c225165-description" data-view-component="true" class="Overlay Overlay-whenNarrow Overlay--size-small-portrait Overlay--motion-scaleFade Overlay--placement-left SidePanel Overlay--disableScroll">
    <div styles="flex-direction: row;" data-view-component="true" class="Overlay-header">
  <div class="Overlay-headerContentWrap">
    <div class="Overlay-titleWrap">
      <h1 class="Overlay-title sr-only" id="dialog-40b8689f-587a-4bbe-ada4-7f214c225165-title">
        Global navigation
      </h1>
            <div data-view-component="true" class="d-flex">
      <div data-view-component="true" class="AppHeader-logo position-relative">
        <svg aria-hidden="true" height="24" viewBox="0 0 24 24" version="1.1" width="24" data-view-component="true" class="octicon octicon-mark-github">
    <path d="M12.5.75C6.146.75 1 5.896 1 12.25c0 5.089 3.292 9.387 7.863 10.91.575.101.79-.244.79-.546 0-.273-.014-1.178-.014-2.142-2.889.532-3.636-.704-3.866-1.35-.13-.331-.69-1.352-1.18-1.625-.402-.216-.977-.748-.014-.762.906-.014 1.553.834 1.769 1.179 1.035 1.74 2.688 1.25 3.349.948.1-.747.402-1.25.733-1.538-2.559-.287-5.232-1.279-5.232-5.678 0-1.25.445-2.285 1.178-3.09-.115-.288-.517-1.467.115-3.048 0 0 .963-.302 3.163 1.179.92-.259 1.897-.388 2.875-.388.977 0 1.955.13 2.875.388 2.2-1.495 3.162-1.179 3.162-1.179.633 1.581.23 2.76.115 3.048.733.805 1.179 1.825 1.179 3.09 0 4.413-2.688 5.39-5.247 5.678.417.36.776 1.05.776 2.128 0 1.538-.014 2.774-.014 3.162 0 .302.216.662.79.547C20.709 21.637 24 17.324 24 12.25 24 5.896 18.854.75 12.5.75Z"></path>
</svg>
</div></div>
    </div>
    <div class="Overlay-actionWrap">
      <button data-close-dialog-id="dialog-40b8689f-587a-4bbe-ada4-7f214c225165" aria-label="Close" type="button" data-view-component="true" class="close-button Overlay-closeButton"><svg aria-hidden="true" height="16" viewBox="0 0 16 16" version="1.1" width="16" data-view-component="true" class="octicon octicon-x">
    <path d="M3.72 3.72a.75.75 0 0 1 1.06 0L8 6.94l3.22-3.22a.749.749 0 0 1 1.275.326.749.749 0 0 1-.215.734L9.06 8l3.22 3.22a.749.749 0 0 1-.326 1.275.749.749 0 0 1-.734-.215L8 9.06l-3.22 3.22a.751.751 0 0 1-1.042-.018.751.751 0 0 1-.018-1.042L6.94 8 3.72 4.78a.75.75 0 0 1 0-1.06Z"></path>
</svg></button>
    </div>
  </div>
  
</div>
      <scrollable-region data-labelled-by="dialog-40b8689f-587a-4bbe-ada4-7f214c225165-title">
        <div data-view-component="true" class="Overlay-body d-flex flex-column px-2">    <div data-view-component="true" class="d-flex flex-column mb-3">
        <nav aria-label="Site navigation" data-view-component="true" class="ActionList">
  
  <nav-list>
    <ul data-target="nav-list.topLevelList" data-view-component="true" class="ActionListWrap">
        
          
<li data-item-id="" data-targets="nav-list.items" data-view-component="true" class="ActionListItem">
    
    
    <a data-hotkey="g d" data-analytics-event="{&quot;category&quot;:&quot;Global navigation&quot;,&quot;action&quot;:&quot;HOME&quot;,&quot;label&quot;:null}" id="item-987b40c3-06fa-4a0d-8cba-5f76e0aec5da" href="/dashboard" data-view-component="true" class="ActionListContent ActionListContent--visual16">
        <span class="ActionListItem-visual ActionListItem-visual--leading">
          <svg aria-hidden="true" height="16" viewBox="0 0 16 16" version="1.1" width="16" data-view-component="true" class="octicon octicon-home">
    <path d="M6.906.664a1.749 1.749 0 0 1 2.187 0l5.25 4.2c.415.332.657.835.657 1.367v7.019A1.75 1.75 0 0 1 13.25 15h-3.5a.75.75 0 0 1-.75-.75V9H7v5.25a.75.75 0 0 1-.75.75h-3.5A1.75 1.75 0 0 1 1 13.25V6.23c0-.531.242-1.034.657-1.366l5.25-4.2Zm1.25 1.171a.25.25 0 0 0-.312 0l-5.25 4.2a.25.25 0 0 0-.094.196v7.019c0 .138.112.25.25.25H5.5V8.25a.75.75 0 0 1 .75-.75h3.5a.75.75 0 0 1 .75.75v5.25h2.75a.25.25 0 0 0 .25-.25V6.23a.25.25 0 0 0-.094-.195Z"></path>
</svg>
        </span>
      
        <span data-view-component="true" class="ActionListItem-label">
          Home
</span>      
</a>
  
</li>

        
          
<li data-item-id="" data-targets="nav-list.items" data-view-component="true" class="ActionListItem">
    
    
    <a data-hotkey="g i" data-analytics-event="{&quot;category&quot;:&quot;Global navigation&quot;,&quot;action&quot;:&quot;ISSUES&quot;,&quot;label&quot;:null}" id="item-ba9b6369-d54f-46f1-bd0b-3733f5939a7e" href="/issues" data-view-component="true" class="ActionListContent ActionListContent--visual16">
        <span class="ActionListItem-visual ActionListItem-visual--leading">
          <svg aria-hidden="true" height="16" viewBox="0 0 16 16" version="1.1" width="16" data-view-component="true" class="octicon octicon-issue-opened">
    <path d="M8 9.5a1.5 1.5 0 1 0 0-3 1.5 1.5 0 0 0 0 3Z"></path><path d="M8 0a8 8 0 1 1 0 16A8 8 0 0 1 8 0ZM1.5 8a6.5 6.5 0 1 0 13 0 6.5 6.5 0 0 0-13 0Z"></path>
</svg>
        </span>
      
        <span data-view-component="true" class="ActionListItem-label">
          Issues
</span>      
</a>
  
</li>

        
          
<li data-item-id="" data-targets="nav-list.items" data-view-component="true" class="ActionListItem">
    
    
    <a data-hotkey="g p" data-analytics-event="{&quot;category&quot;:&quot;Global navigation&quot;,&quot;action&quot;:&quot;PULL_REQUESTS&quot;,&quot;label&quot;:null}" id="item-ea682e85-25f3-496b-bcc2-b5964296c8c1" href="/pulls" data-view-component="true" class="ActionListContent ActionListContent--visual16">
        <span class="ActionListItem-visual ActionListItem-visual--leading">
          <svg aria-hidden="true" height="16" viewBox="0 0 16 16" version="1.1" width="16" data-view-component="true" class="octicon octicon-git-pull-request">
    <path d="M1.5 3.25a2.25 2.25 0 1 1 3 2.122v5.256a2.251 2.251 0 1 1-1.5 0V5.372A2.25 2.25 0 0 1 1.5 3.25Zm5.677-.177L9.573.677A.25.25 0 0 1 10 .854V2.5h1A2.5 2.5 0 0 1 13.5 5v5.628a2.251 2.251 0 1 1-1.5 0V5a1 1 0 0 0-1-1h-1v1.646a.25.25 0 0 1-.427.177L7.177 3.427a.25.25 0 0 1 0-.354ZM3.75 2.5a.75.75 0 1 0 0 1.5.75.75 0 0 0 0-1.5Zm0 9.5a.75.75 0 1 0 0 1.5.75.75 0 0 0 0-1.5Zm8.25.75a.75.75 0 1 0 1.5 0 .75.75 0 0 0-1.5 0Z"></path>
</svg>
        </span>
      
        <span data-view-component="true" class="ActionListItem-label">
          Pull requests
</span>      
</a>
  
</li>

        
          
<li data-item-id="" data-targets="nav-list.items" data-item-id="projects" data-view-component="true" class="ActionListItem">
    
    
    <a data-analytics-event="{&quot;category&quot;:&quot;Global navigation&quot;,&quot;action&quot;:&quot;PROJECTS&quot;,&quot;label&quot;:null}" id="item-59bde159-6125-4a06-b0a3-0b2771786e8a" href="/projects" data-view-component="true" class="ActionListContent ActionListContent--visual16">
        <span class="ActionListItem-visual ActionListItem-visual--leading">
          <svg aria-hidden="true" height="16" viewBox="0 0 16 16" version="1.1" width="16" data-view-component="true" class="octicon octicon-table">
    <path d="M0 1.75C0 .784.784 0 1.75 0h12.5C15.216 0 16 .784 16 1.75v12.5A1.75 1.75 0 0 1 14.25 16H1.75A1.75 1.75 0 0 1 0 14.25ZM6.5 6.5v8h7.75a.25.25 0 0 0 .25-.25V6.5Zm8-1.5V1.75a.25.25 0 0 0-.25-.25H6.5V5Zm-13 1.5v7.75c0 .138.112.25.25.25H5v-8ZM5 5V1.5H1.75a.25.25 0 0 0-.25.25V5Z"></path>
</svg>
        </span>
      
        <span data-view-component="true" class="ActionListItem-label">
          Projects
</span>      
</a>
  
</li>

        
          
<li data-item-id="" data-targets="nav-list.items" data-view-component="true" class="ActionListItem">
    
    
    <a data-analytics-event="{&quot;category&quot;:&quot;Global navigation&quot;,&quot;action&quot;:&quot;DISCUSSIONS&quot;,&quot;label&quot;:null}" id="item-b8b2c262-2181-47de-9bd6-219a2ea4f3c2" href="/discussions" data-view-component="true" class="ActionListContent ActionListContent--visual16">
        <span class="ActionListItem-visual ActionListItem-visual--leading">
          <svg aria-hidden="true" height="16" viewBox="0 0 16 16" version="1.1" width="16" data-view-component="true" class="octicon octicon-comment-discussion">
    <path d="M1.75 1h8.5c.966 0 1.75.784 1.75 1.75v5.5A1.75 1.75 0 0 1 10.25 10H7.061l-2.574 2.573A1.458 1.458 0 0 1 2 11.543V10h-.25A1.75 1.75 0 0 1 0 8.25v-5.5C0 1.784.784 1 1.75 1ZM1.5 2.75v5.5c0 .138.112.25.25.25h1a.75.75 0 0 1 .75.75v2.19l2.72-2.72a.749.749 0 0 1 .53-.22h3.5a.25.25 0 0 0 .25-.25v-5.5a.25.25 0 0 0-.25-.25h-8.5a.25.25 0 0 0-.25.25Zm13 2a.25.25 0 0 0-.25-.25h-.5a.75.75 0 0 1 0-1.5h.5c.966 0 1.75.784 1.75 1.75v5.5A1.75 1.75 0 0 1 14.25 12H14v1.543a1.458 1.458 0 0 1-2.487 1.03L9.22 12.28a.749.749 0 0 1 .326-1.275.749.749 0 0 1 .734.215l2.22 2.22v-2.19a.75.75 0 0 1 .75-.75h1a.25.25 0 0 0 .25-.25Z"></path>
</svg>
        </span>
      
        <span data-view-component="true" class="ActionListItem-label">
          Discussions
</span>      
</a>
  
</li>

        
          
<li data-item-id="" data-targets="nav-list.items" data-view-component="true" class="ActionListItem">
    
    
    <a data-analytics-event="{&quot;category&quot;:&quot;Global navigation&quot;,&quot;action&quot;:&quot;CODESPACES&quot;,&quot;label&quot;:null}" id="item-7d83a7c7-6c57-43b5-9a01-8bb96861ddc5" href="https://github.com/codespaces" data-view-component="true" class="ActionListContent ActionListContent--visual16">
        <span class="ActionListItem-visual ActionListItem-visual--leading">
          <svg aria-hidden="true" height="16" viewBox="0 0 16 16" version="1.1" width="16" data-view-component="true" class="octicon octicon-codespaces">
    <path d="M0 11.25c0-.966.784-1.75 1.75-1.75h12.5c.966 0 1.75.784 1.75 1.75v3A1.75 1.75 0 0 1 14.25 16H1.75A1.75 1.75 0 0 1 0 14.25Zm2-9.5C2 .784 2.784 0 3.75 0h8.5C13.216 0 14 .784 14 1.75v5a1.75 1.75 0 0 1-1.75 1.75h-8.5A1.75 1.75 0 0 1 2 6.75Zm1.75-.25a.25.25 0 0 0-.25.25v5c0 .138.112.25.25.25h8.5a.25.25 0 0 0 .25-.25v-5a.25.25 0 0 0-.25-.25Zm-2 9.5a.25.25 0 0 0-.25.25v3c0 .138.112.25.25.25h12.5a.25.25 0 0 0 .25-.25v-3a.25.25 0 0 0-.25-.25Z"></path><path d="M7 12.75a.75.75 0 0 1 .75-.75h4.5a.75.75 0 0 1 0 1.5h-4.5a.75.75 0 0 1-.75-.75Zm-4 0a.75.75 0 0 1 .75-.75h.5a.75.75 0 0 1 0 1.5h-.5a.75.75 0 0 1-.75-.75Z"></path>
</svg>
        </span>
      
        <span data-view-component="true" class="ActionListItem-label">
          Codespaces
</span>      
</a>
  
</li>

        
          <li role="presentation" aria-hidden="true" data-view-component="true" class="ActionList-sectionDivider"></li>
        
          
<li data-item-id="" data-targets="nav-list.items" data-view-component="true" class="ActionListItem">
    
    
    <a data-analytics-event="{&quot;category&quot;:&quot;Global navigation&quot;,&quot;action&quot;:&quot;EXPLORE&quot;,&quot;label&quot;:null}" id="item-bed3dba9-76ad-4007-aa33-4403160ebcc9" href="/explore" data-view-component="true" class="ActionListContent ActionListContent--visual16">
        <span class="ActionListItem-visual ActionListItem-visual--leading">
          <svg aria-hidden="true" height="16" viewBox="0 0 16 16" version="1.1" width="16" data-view-component="true" class="octicon octicon-telescope">
    <path d="M14.184 1.143v-.001l1.422 2.464a1.75 1.75 0 0 1-.757 2.451L3.104 11.713a1.75 1.75 0 0 1-2.275-.702l-.447-.775a1.75 1.75 0 0 1 .53-2.32L11.682.573a1.748 1.748 0 0 1 2.502.57Zm-4.709 9.32h-.001l2.644 3.863a.75.75 0 1 1-1.238.848l-1.881-2.75v2.826a.75.75 0 0 1-1.5 0v-2.826l-1.881 2.75a.75.75 0 1 1-1.238-.848l2.049-2.992a.746.746 0 0 1 .293-.253l1.809-.87a.749.749 0 0 1 .944.252ZM9.436 3.92h-.001l-4.97 3.39.942 1.63 5.42-2.61Zm3.091-2.108h.001l-1.85 1.26 1.505 2.605 2.016-.97a.247.247 0 0 0 .13-.151.247.247 0 0 0-.022-.199l-1.422-2.464a.253.253 0 0 0-.161-.119.254.254 0 0 0-.197.038ZM1.756 9.157a.25.25 0 0 0-.075.33l.447.775a.25.25 0 0 0 .325.1l1.598-.769-.83-1.436-1.465 1Z"></path>
</svg>
        </span>
      
        <span data-view-component="true" class="ActionListItem-label">
          Explore
</span>      
</a>
  
</li>

        
          
<li data-item-id="" data-targets="nav-list.items" data-view-component="true" class="ActionListItem">
    
    
    <a data-analytics-event="{&quot;category&quot;:&quot;Global navigation&quot;,&quot;action&quot;:&quot;MARKETPLACE&quot;,&quot;label&quot;:null}" id="item-c2294e9f-7474-49f8-89e6-51e457fc0bfc" href="/marketplace" data-view-component="true" class="ActionListContent ActionListContent--visual16">
        <span class="ActionListItem-visual ActionListItem-visual--leading">
          <svg aria-hidden="true" height="16" viewBox="0 0 16 16" version="1.1" width="16" data-view-component="true" class="octicon octicon-gift">
    <path d="M2 2.75A2.75 2.75 0 0 1 4.75 0c.983 0 1.873.42 2.57 1.232.268.318.497.668.68 1.042.183-.375.411-.725.68-1.044C9.376.42 10.266 0 11.25 0a2.75 2.75 0 0 1 2.45 4h.55c.966 0 1.75.784 1.75 1.75v2c0 .698-.409 1.301-1 1.582v4.918A1.75 1.75 0 0 1 13.25 16H2.75A1.75 1.75 0 0 1 1 14.25V9.332C.409 9.05 0 8.448 0 7.75v-2C0 4.784.784 4 1.75 4h.55c-.192-.375-.3-.8-.3-1.25ZM7.25 9.5H2.5v4.75c0 .138.112.25.25.25h4.5Zm1.5 0v5h4.5a.25.25 0 0 0 .25-.25V9.5Zm0-4V8h5.5a.25.25 0 0 0 .25-.25v-2a.25.25 0 0 0-.25-.25Zm-7 0a.25.25 0 0 0-.25.25v2c0 .138.112.25.25.25h5.5V5.5h-5.5Zm3-4a1.25 1.25 0 0 0 0 2.5h2.309c-.233-.818-.542-1.401-.878-1.793-.43-.502-.915-.707-1.431-.707ZM8.941 4h2.309a1.25 1.25 0 0 0 0-2.5c-.516 0-1 .205-1.43.707-.337.392-.646.975-.879 1.793Z"></path>
</svg>
        </span>
      
        <span data-view-component="true" class="ActionListItem-label">
          Marketplace
</span>      
</a>
  
</li>

</ul>  </nav-list>
</nav>

        <div data-view-component="true" class="my-3 d-flex flex-justify-center height-full">
          <span data-view-component="true">
  <svg style="box-sizing: content-box; color: var(--color-icon-primary);" width="16" height="16" viewBox="0 0 16 16" fill="none" aria-hidden="true" data-view-component="true" class="anim-rotate">
    <circle cx="8" cy="8" r="7" stroke="currentColor" stroke-opacity="0.25" stroke-width="2" vector-effect="non-scaling-stroke" fill="none" />
    <path d="M15 8a7.002 7.002 0 00-7-7" stroke="currentColor" stroke-width="2" stroke-linecap="round" vector-effect="non-scaling-stroke" />
</svg>    <span class="sr-only">Loading</span>
</span>
</div>
</div>
      <div data-view-component="true" class="flex-1"></div>


      <div data-view-component="true" class="px-2">      <p class="color-fg-subtle text-small text-light">&copy; 2024 GitHub, Inc.</p>

      <div data-view-component="true" class="d-flex flex-wrap text-small text-light">
          <a target="_blank" href="https://github.com/about" data-view-component="true" class="Link mr-2">About</a>
          <a target="_blank" href="https://github.blog" data-view-component="true" class="Link mr-2">Blog</a>
          <a target="_blank" href="https://docs.github.com/site-policy/github-terms/github-terms-of-service" data-view-component="true" class="Link mr-2">Terms</a>
          <a target="_blank" href="https://docs.github.com/site-policy/privacy-policies/github-privacy-statement" data-view-component="true" class="Link mr-2">Privacy</a>
          <a target="_blank" href="https://github.com/security" data-view-component="true" class="Link mr-2">Security</a>
          <a target="_blank" href="https://www.githubstatus.com/" data-view-component="true" class="Link mr-3">Status</a>

</div></div>
</div>
      </scrollable-region>
      
</dialog></dialog-helper>

  </include-fragment>
</deferred-side-panel>

        <a
          class="AppHeader-logo ml-2"
          href="https://github.com/"
          data-hotkey="g d"
          aria-label="Homepage "
          data-turbo="false"
          data-analytics-event="{&quot;category&quot;:&quot;Header&quot;,&quot;action&quot;:&quot;go to dashboard&quot;,&quot;label&quot;:&quot;icon:logo&quot;}"
        >
          <svg height="32" aria-hidden="true" viewBox="0 0 24 24" version="1.1" width="32" data-view-component="true" class="octicon octicon-mark-github v-align-middle color-fg-default">
    <path d="M12.5.75C6.146.75 1 5.896 1 12.25c0 5.089 3.292 9.387 7.863 10.91.575.101.79-.244.79-.546 0-.273-.014-1.178-.014-2.142-2.889.532-3.636-.704-3.866-1.35-.13-.331-.69-1.352-1.18-1.625-.402-.216-.977-.748-.014-.762.906-.014 1.553.834 1.769 1.179 1.035 1.74 2.688 1.25 3.349.948.1-.747.402-1.25.733-1.538-2.559-.287-5.232-1.279-5.232-5.678 0-1.25.445-2.285 1.178-3.09-.115-.288-.517-1.467.115-3.048 0 0 .963-.302 3.163 1.179.92-.259 1.897-.388 2.875-.388.977 0 1.955.13 2.875.388 2.2-1.495 3.162-1.179 3.162-1.179.633 1.581.23 2.76.115 3.048.733.805 1.179 1.825 1.179 3.09 0 4.413-2.688 5.39-5.247 5.678.417.36.776 1.05.776 2.128 0 1.538-.014 2.774-.014 3.162 0 .302.216.662.79.547C20.709 21.637 24 17.324 24 12.25 24 5.896 18.854.75 12.5.75Z"></path>
</svg>
        </a>

          <div class="AppHeader-context" >
  <div class="AppHeader-context-compact">
      <button aria-expanded="false" aria-haspopup="dialog" aria-label="Page context: Dim4s4ufa / MSIB-K2-KelasAwanPintar" id="dialog-show-context-region-dialog" data-show-dialog-id="context-region-dialog" type="button" data-view-component="true" class="AppHeader-context-compact-trigger Truncate Button--secondary Button--medium Button box-shadow-none">  <span class="Button-content">
    <span class="Button-label"><span class="AppHeader-context-compact-lead">
                <span class="AppHeader-context-compact-parentItem">Dim4s4ufa</span>
                <span class="no-wrap">&nbsp;/</span>

            </span>

            <strong class="AppHeader-context-compact-mainItem d-flex flex-items-center Truncate" >
  <span class="Truncate-text ">MSIB-K2-KelasAwanPintar</span>

</strong></span>
  </span>
</button>

<dialog-helper>
  <dialog id="context-region-dialog" aria-modal="true" aria-labelledby="context-region-dialog-title" aria-describedby="context-region-dialog-description" data-view-component="true" class="Overlay Overlay-whenNarrow Overlay--size-medium Overlay--motion-scaleFade Overlay--disableScroll">
    <div data-view-component="true" class="Overlay-header">
  <div class="Overlay-headerContentWrap">
    <div class="Overlay-titleWrap">
      <h1 class="Overlay-title " id="context-region-dialog-title">
        Navigate back to
      </h1>
        
    </div>
    <div class="Overlay-actionWrap">
      <button data-close-dialog-id="context-region-dialog" aria-label="Close" type="button" data-view-component="true" class="close-button Overlay-closeButton"><svg aria-hidden="true" height="16" viewBox="0 0 16 16" version="1.1" width="16" data-view-component="true" class="octicon octicon-x">
    <path d="M3.72 3.72a.75.75 0 0 1 1.06 0L8 6.94l3.22-3.22a.749.749 0 0 1 1.275.326.749.749 0 0 1-.215.734L9.06 8l3.22 3.22a.749.749 0 0 1-.326 1.275.749.749 0 0 1-.734-.215L8 9.06l-3.22 3.22a.751.751 0 0 1-1.042-.018.751.751 0 0 1-.018-1.042L6.94 8 3.72 4.78a.75.75 0 0 1 0-1.06Z"></path>
</svg></button>
    </div>
  </div>
  
</div>
      <scrollable-region data-labelled-by="context-region-dialog-title">
        <div data-view-component="true" class="Overlay-body">          <ul role="list" class="list-style-none" >
    <li>
      <a data-analytics-event="{&quot;category&quot;:&quot;SiteHeaderComponent&quot;,&quot;action&quot;:&quot;context_region_crumb&quot;,&quot;label&quot;:&quot;Dim4s4ufa&quot;,&quot;screen_size&quot;:&quot;compact&quot;}" href="/Dim4s4ufa" data-view-component="true" class="Link--primary Truncate d-flex flex-items-center py-1">
        <span class="AppHeader-context-item-label Truncate-text ">
            <svg aria-hidden="true" height="12" viewBox="0 0 16 16" version="1.1" width="12" data-view-component="true" class="octicon octicon-person mr-1">
    <path d="M10.561 8.073a6.005 6.005 0 0 1 3.432 5.142.75.75 0 1 1-1.498.07 4.5 4.5 0 0 0-8.99 0 .75.75 0 0 1-1.498-.07 6.004 6.004 0 0 1 3.431-5.142 3.999 3.999 0 1 1 5.123 0ZM10.5 5a2.5 2.5 0 1 0-5 0 2.5 2.5 0 0 0 5 0Z"></path>
</svg>

          Dim4s4ufa
        </span>

</a>
    </li>
    <li>
      <a data-analytics-event="{&quot;category&quot;:&quot;SiteHeaderComponent&quot;,&quot;action&quot;:&quot;context_region_crumb&quot;,&quot;label&quot;:&quot;MSIB-K2-KelasAwanPintar&quot;,&quot;screen_size&quot;:&quot;compact&quot;}" href="/Dim4s4ufa/MSIB-K2-KelasAwanPintar" data-view-component="true" class="Link--primary Truncate d-flex flex-items-center py-1">
        <span class="AppHeader-context-item-label Truncate-text ">
            <svg aria-hidden="true" height="12" viewBox="0 0 16 16" version="1.1" width="12" data-view-component="true" class="octicon octicon-repo mr-1">
    <path d="M2 2.5A2.5 2.5 0 0 1 4.5 0h8.75a.75.75 0 0 1 .75.75v12.5a.75.75 0 0 1-.75.75h-2.5a.75.75 0 0 1 0-1.5h1.75v-2h-8a1 1 0 0 0-.714 1.7.75.75 0 1 1-1.072 1.05A2.495 2.495 0 0 1 2 11.5Zm10.5-1h-8a1 1 0 0 0-1 1v6.708A2.486 2.486 0 0 1 4.5 9h8ZM5 12.25a.25.25 0 0 1 .25-.25h3.5a.25.25 0 0 1 .25.25v3.25a.25.25 0 0 1-.4.2l-1.45-1.087a.249.249 0 0 0-.3 0L5.4 15.7a.25.25 0 0 1-.4-.2Z"></path>
</svg>

          MSIB-K2-KelasAwanPintar
        </span>

</a>
    </li>
</ul>

</div>
      </scrollable-region>
      
</dialog></dialog-helper>
  </div>

  <div class="AppHeader-context-full">
    <nav role="navigation" aria-label="Page context">
      <ul role="list" class="list-style-none" >
    <li>
      <a data-analytics-event="{&quot;category&quot;:&quot;SiteHeaderComponent&quot;,&quot;action&quot;:&quot;context_region_crumb&quot;,&quot;label&quot;:&quot;Dim4s4ufa&quot;,&quot;screen_size&quot;:&quot;full&quot;}" data-hovercard-type="user" data-hovercard-url="/users/Dim4s4ufa/hovercard" data-octo-click="hovercard-link-click" data-octo-dimensions="link_type:self" href="/Dim4s4ufa" data-view-component="true" class="AppHeader-context-item">
        <span class="AppHeader-context-item-label  ">

          Dim4s4ufa
        </span>

</a>
        <span class="AppHeader-context-item-separator">/</span>
    </li>
    <li>
      <a data-analytics-event="{&quot;category&quot;:&quot;SiteHeaderComponent&quot;,&quot;action&quot;:&quot;context_region_crumb&quot;,&quot;label&quot;:&quot;MSIB-K2-KelasAwanPintar&quot;,&quot;screen_size&quot;:&quot;full&quot;}" href="/Dim4s4ufa/MSIB-K2-KelasAwanPintar" data-view-component="true" class="AppHeader-context-item">
        <span class="AppHeader-context-item-label  ">

          MSIB-K2-KelasAwanPintar
        </span>

</a>
    </li>
</ul>

    </nav>
  </div>
</div>

      </div>
      <div class="AppHeader-globalBar-end">
          <div class="AppHeader-search" >
              


<qbsearch-input class="search-input" data-scope="repo:Dim4s4ufa/MSIB-K2-KelasAwanPintar" data-custom-scopes-path="/search/custom_scopes" data-delete-custom-scopes-csrf="ocpIBysrMFL6zOjsH6tzoUj-pmhzhAy05Rbuctzw4ATsBtLyMAzyxhnkAJUaExxfEDF-wuZ5BexNf_nRHUyUJQ" data-max-custom-scopes="10" data-header-redesign-enabled="true" data-initial-value="" data-blackbird-suggestions-path="/search/suggestions" data-jump-to-suggestions-path="/_graphql/GetSuggestedNavigationDestinations" data-current-repository="Dim4s4ufa/MSIB-K2-KelasAwanPintar" data-current-org="" data-current-owner="Dim4s4ufa" data-logged-in="true" data-copilot-chat-enabled="false" data-nl-search-enabled="false">
  <div
    class="search-input-container search-with-dialog position-relative d-flex flex-row flex-items-center height-auto color-bg-transparent border-0 color-fg-subtle mx-0"
    data-action="click:qbsearch-input#searchInputContainerClicked"
  >
      
            <button type="button" data-action="click:qbsearch-input#handleExpand" class="AppHeader-button AppHeader-search-whenNarrow" aria-label="Search or jump to…" aria-expanded="false" aria-haspopup="dialog">
            <svg aria-hidden="true" height="16" viewBox="0 0 16 16" version="1.1" width="16" data-view-component="true" class="octicon octicon-search">
    <path d="M10.68 11.74a6 6 0 0 1-7.922-8.982 6 6 0 0 1 8.982 7.922l3.04 3.04a.749.749 0 0 1-.326 1.275.749.749 0 0 1-.734-.215ZM11.5 7a4.499 4.499 0 1 0-8.997 0A4.499 4.499 0 0 0 11.5 7Z"></path>
</svg>
          </button>


<div class="AppHeader-search-whenRegular">
  <div class="AppHeader-search-wrap AppHeader-search-wrap--hasTrailing">
    <div class="AppHeader-search-control">
      <label
        for="AppHeader-searchInput"
        aria-label="Search or jump to…"
        class="AppHeader-search-visual--leading"
      >
        <svg aria-hidden="true" height="16" viewBox="0 0 16 16" version="1.1" width="16" data-view-component="true" class="octicon octicon-search">
    <path d="M10.68 11.74a6 6 0 0 1-7.922-8.982 6 6 0 0 1 8.982 7.922l3.04 3.04a.749.749 0 0 1-.326 1.275.749.749 0 0 1-.734-.215ZM11.5 7a4.499 4.499 0 1 0-8.997 0A4.499 4.499 0 0 0 11.5 7Z"></path>
</svg>
      </label>

                <button
            type="button"
            data-target="qbsearch-input.inputButton"
            data-action="click:qbsearch-input#handleExpand"
            class="AppHeader-searchButton form-control input-contrast text-left color-fg-subtle no-wrap"
            data-hotkey="s,/"
            data-analytics-event="{&quot;location&quot;:&quot;navbar&quot;,&quot;action&quot;:&quot;searchbar&quot;,&quot;context&quot;:&quot;global&quot;,&quot;tag&quot;:&quot;input&quot;,&quot;label&quot;:&quot;searchbar_input_global_navbar&quot;}"
            aria-describedby="search-error-message-flash"
          >
            <div class="overflow-hidden">
              <span id="qb-input-query" data-target="qbsearch-input.inputButtonText">
                  Type <kbd class="AppHeader-search-kbd">/</kbd> to search
              </span>
            </div>
          </button>

    </div>


  </div>
</div>

    <input type="hidden" name="type" class="js-site-search-type-field">

    
<div class="Overlay--hidden " data-modal-dialog-overlay>
  <modal-dialog data-action="close:qbsearch-input#handleClose cancel:qbsearch-input#handleClose" data-target="qbsearch-input.searchSuggestionsDialog" role="dialog" id="search-suggestions-dialog" aria-modal="true" aria-labelledby="search-suggestions-dialog-header" data-view-component="true" class="Overlay Overlay--width-medium Overlay--height-auto">
      <h1 id="search-suggestions-dialog-header" class="sr-only">Search code, repositories, users, issues, pull requests...</h1>
    <div class="Overlay-body Overlay-body--paddingNone">
      
          <div data-view-component="true">        <div class="search-suggestions position-absolute width-full color-shadow-large border color-fg-default color-bg-default overflow-hidden d-flex flex-column query-builder-container"
          style="border-radius: 12px;"
          data-target="qbsearch-input.queryBuilderContainer"
          hidden
        >
          <!-- '"` --><!-- </textarea></xmp> --></option></form><form id="query-builder-test-form" action="" accept-charset="UTF-8" method="get">
  <query-builder data-target="qbsearch-input.queryBuilder" id="query-builder-query-builder-test" data-filter-key=":" data-view-component="true" class="QueryBuilder search-query-builder">
    <div class="FormControl FormControl--fullWidth">
      <label id="query-builder-test-label" for="query-builder-test" class="FormControl-label sr-only">
        Search
      </label>
      <div
        class="QueryBuilder-StyledInput width-fit "
        data-target="query-builder.styledInput"
      >
          <span id="query-builder-test-leadingvisual-wrap" class="FormControl-input-leadingVisualWrap QueryBuilder-leadingVisualWrap">
            <svg aria-hidden="true" height="16" viewBox="0 0 16 16" version="1.1" width="16" data-view-component="true" class="octicon octicon-search FormControl-input-leadingVisual">
    <path d="M10.68 11.74a6 6 0 0 1-7.922-8.982 6 6 0 0 1 8.982 7.922l3.04 3.04a.749.749 0 0 1-.326 1.275.749.749 0 0 1-.734-.215ZM11.5 7a4.499 4.499 0 1 0-8.997 0A4.499 4.499 0 0 0 11.5 7Z"></path>
</svg>
          </span>
        <div data-target="query-builder.styledInputContainer" class="QueryBuilder-StyledInputContainer">
          <div
            aria-hidden="true"
            class="QueryBuilder-StyledInputContent"
            data-target="query-builder.styledInputContent"
          ></div>
          <div class="QueryBuilder-InputWrapper">
            <div aria-hidden="true" class="QueryBuilder-Sizer" data-target="query-builder.sizer"></div>
            <input id="query-builder-test" name="query-builder-test" value="" autocomplete="off" type="text" role="combobox" spellcheck="false" aria-expanded="false" aria-describedby="validation-1dc99c28-aea7-4c6e-b134-e03cc938002c" data-target="query-builder.input" data-action="
          input:query-builder#inputChange
          blur:query-builder#inputBlur
          keydown:query-builder#inputKeydown
          focus:query-builder#inputFocus
        " data-view-component="true" class="FormControl-input QueryBuilder-Input FormControl-medium" />
          </div>
        </div>
          <span class="sr-only" id="query-builder-test-clear">Clear</span>
          <button role="button" id="query-builder-test-clear-button" aria-labelledby="query-builder-test-clear query-builder-test-label" data-target="query-builder.clearButton" data-action="
                click:query-builder#clear
                focus:query-builder#clearButtonFocus
                blur:query-builder#clearButtonBlur
              " variant="small" hidden="hidden" type="button" data-view-component="true" class="Button Button--iconOnly Button--invisible Button--medium mr-1 px-2 py-0 d-flex flex-items-center rounded-1 color-fg-muted">  <svg aria-hidden="true" height="16" viewBox="0 0 16 16" version="1.1" width="16" data-view-component="true" class="octicon octicon-x-circle-fill Button-visual">
    <path d="M2.343 13.657A8 8 0 1 1 13.658 2.343 8 8 0 0 1 2.343 13.657ZM6.03 4.97a.751.751 0 0 0-1.042.018.751.751 0 0 0-.018 1.042L6.94 8 4.97 9.97a.749.749 0 0 0 .326 1.275.749.749 0 0 0 .734-.215L8 9.06l1.97 1.97a.749.749 0 0 0 1.275-.326.749.749 0 0 0-.215-.734L9.06 8l1.97-1.97a.749.749 0 0 0-.326-1.275.749.749 0 0 0-.734.215L8 6.94Z"></path>
</svg>
</button>

      </div>
      <template id="search-icon">
  <svg aria-hidden="true" height="16" viewBox="0 0 16 16" version="1.1" width="16" data-view-component="true" class="octicon octicon-search">
    <path d="M10.68 11.74a6 6 0 0 1-7.922-8.982 6 6 0 0 1 8.982 7.922l3.04 3.04a.749.749 0 0 1-.326 1.275.749.749 0 0 1-.734-.215ZM11.5 7a4.499 4.499 0 1 0-8.997 0A4.499 4.499 0 0 0 11.5 7Z"></path>
</svg>
</template>

<template id="code-icon">
  <svg aria-hidden="true" height="16" viewBox="0 0 16 16" version="1.1" width="16" data-view-component="true" class="octicon octicon-code">
    <path d="m11.28 3.22 4.25 4.25a.75.75 0 0 1 0 1.06l-4.25 4.25a.749.749 0 0 1-1.275-.326.749.749 0 0 1 .215-.734L13.94 8l-3.72-3.72a.749.749 0 0 1 .326-1.275.749.749 0 0 1 .734.215Zm-6.56 0a.751.751 0 0 1 1.042.018.751.751 0 0 1 .018 1.042L2.06 8l3.72 3.72a.749.749 0 0 1-.326 1.275.749.749 0 0 1-.734-.215L.47 8.53a.75.75 0 0 1 0-1.06Z"></path>
</svg>
</template>

<template id="file-code-icon">
  <svg aria-hidden="true" height="16" viewBox="0 0 16 16" version="1.1" width="16" data-view-component="true" class="octicon octicon-file-code">
    <path d="M4 1.75C4 .784 4.784 0 5.75 0h5.586c.464 0 .909.184 1.237.513l2.914 2.914c.329.328.513.773.513 1.237v8.586A1.75 1.75 0 0 1 14.25 15h-9a.75.75 0 0 1 0-1.5h9a.25.25 0 0 0 .25-.25V6h-2.75A1.75 1.75 0 0 1 10 4.25V1.5H5.75a.25.25 0 0 0-.25.25v2.5a.75.75 0 0 1-1.5 0Zm1.72 4.97a.75.75 0 0 1 1.06 0l2 2a.75.75 0 0 1 0 1.06l-2 2a.749.749 0 0 1-1.275-.326.749.749 0 0 1 .215-.734l1.47-1.47-1.47-1.47a.75.75 0 0 1 0-1.06ZM3.28 7.78 1.81 9.25l1.47 1.47a.751.751 0 0 1-.018 1.042.751.751 0 0 1-1.042.018l-2-2a.75.75 0 0 1 0-1.06l2-2a.751.751 0 0 1 1.042.018.751.751 0 0 1 .018 1.042Zm8.22-6.218V4.25c0 .138.112.25.25.25h2.688l-.011-.013-2.914-2.914-.013-.011Z"></path>
</svg>
</template>

<template id="history-icon">
  <svg aria-hidden="true" height="16" viewBox="0 0 16 16" version="1.1" width="16" data-view-component="true" class="octicon octicon-history">
    <path d="m.427 1.927 1.215 1.215a8.002 8.002 0 1 1-1.6 5.685.75.75 0 1 1 1.493-.154 6.5 6.5 0 1 0 1.18-4.458l1.358 1.358A.25.25 0 0 1 3.896 6H.25A.25.25 0 0 1 0 5.75V2.104a.25.25 0 0 1 .427-.177ZM7.75 4a.75.75 0 0 1 .75.75v2.992l2.028.812a.75.75 0 0 1-.557 1.392l-2.5-1A.751.751 0 0 1 7 8.25v-3.5A.75.75 0 0 1 7.75 4Z"></path>
</svg>
</template>

<template id="repo-icon">
  <svg aria-hidden="true" height="16" viewBox="0 0 16 16" version="1.1" width="16" data-view-component="true" class="octicon octicon-repo">
    <path d="M2 2.5A2.5 2.5 0 0 1 4.5 0h8.75a.75.75 0 0 1 .75.75v12.5a.75.75 0 0 1-.75.75h-2.5a.75.75 0 0 1 0-1.5h1.75v-2h-8a1 1 0 0 0-.714 1.7.75.75 0 1 1-1.072 1.05A2.495 2.495 0 0 1 2 11.5Zm10.5-1h-8a1 1 0 0 0-1 1v6.708A2.486 2.486 0 0 1 4.5 9h8ZM5 12.25a.25.25 0 0 1 .25-.25h3.5a.25.25 0 0 1 .25.25v3.25a.25.25 0 0 1-.4.2l-1.45-1.087a.249.249 0 0 0-.3 0L5.4 15.7a.25.25 0 0 1-.4-.2Z"></path>
</svg>
</template>

<template id="bookmark-icon">
  <svg aria-hidden="true" height="16" viewBox="0 0 16 16" version="1.1" width="16" data-view-component="true" class="octicon octicon-bookmark">
    <path d="M3 2.75C3 1.784 3.784 1 4.75 1h6.5c.966 0 1.75.784 1.75 1.75v11.5a.75.75 0 0 1-1.227.579L8 11.722l-3.773 3.107A.751.751 0 0 1 3 14.25Zm1.75-.25a.25.25 0 0 0-.25.25v9.91l3.023-2.489a.75.75 0 0 1 .954 0l3.023 2.49V2.75a.25.25 0 0 0-.25-.25Z"></path>
</svg>
</template>

<template id="plus-circle-icon">
  <svg aria-hidden="true" height="16" viewBox="0 0 16 16" version="1.1" width="16" data-view-component="true" class="octicon octicon-plus-circle">
    <path d="M8 0a8 8 0 1 1 0 16A8 8 0 0 1 8 0ZM1.5 8a6.5 6.5 0 1 0 13 0 6.5 6.5 0 0 0-13 0Zm7.25-3.25v2.5h2.5a.75.75 0 0 1 0 1.5h-2.5v2.5a.75.75 0 0 1-1.5 0v-2.5h-2.5a.75.75 0 0 1 0-1.5h2.5v-2.5a.75.75 0 0 1 1.5 0Z"></path>
</svg>
</template>

<template id="circle-icon">
  <svg aria-hidden="true" height="16" viewBox="0 0 16 16" version="1.1" width="16" data-view-component="true" class="octicon octicon-dot-fill">
    <path d="M8 4a4 4 0 1 1 0 8 4 4 0 0 1 0-8Z"></path>
</svg>
</template>

<template id="trash-icon">
  <svg aria-hidden="true" height="16" viewBox="0 0 16 16" version="1.1" width="16" data-view-component="true" class="octicon octicon-trash">
    <path d="M11 1.75V3h2.25a.75.75 0 0 1 0 1.5H2.75a.75.75 0 0 1 0-1.5H5V1.75C5 .784 5.784 0 6.75 0h2.5C10.216 0 11 .784 11 1.75ZM4.496 6.675l.66 6.6a.25.25 0 0 0 .249.225h5.19a.25.25 0 0 0 .249-.225l.66-6.6a.75.75 0 0 1 1.492.149l-.66 6.6A1.748 1.748 0 0 1 10.595 15h-5.19a1.75 1.75 0 0 1-1.741-1.575l-.66-6.6a.75.75 0 1 1 1.492-.15ZM6.5 1.75V3h3V1.75a.25.25 0 0 0-.25-.25h-2.5a.25.25 0 0 0-.25.25Z"></path>
</svg>
</template>

<template id="team-icon">
  <svg aria-hidden="true" height="16" viewBox="0 0 16 16" version="1.1" width="16" data-view-component="true" class="octicon octicon-people">
    <path d="M2 5.5a3.5 3.5 0 1 1 5.898 2.549 5.508 5.508 0 0 1 3.034 4.084.75.75 0 1 1-1.482.235 4 4 0 0 0-7.9 0 .75.75 0 0 1-1.482-.236A5.507 5.507 0 0 1 3.102 8.05 3.493 3.493 0 0 1 2 5.5ZM11 4a3.001 3.001 0 0 1 2.22 5.018 5.01 5.01 0 0 1 2.56 3.012.749.749 0 0 1-.885.954.752.752 0 0 1-.549-.514 3.507 3.507 0 0 0-2.522-2.372.75.75 0 0 1-.574-.73v-.352a.75.75 0 0 1 .416-.672A1.5 1.5 0 0 0 11 5.5.75.75 0 0 1 11 4Zm-5.5-.5a2 2 0 1 0-.001 3.999A2 2 0 0 0 5.5 3.5Z"></path>
</svg>
</template>

<template id="project-icon">
  <svg aria-hidden="true" height="16" viewBox="0 0 16 16" version="1.1" width="16" data-view-component="true" class="octicon octicon-project">
    <path d="M1.75 0h12.5C15.216 0 16 .784 16 1.75v12.5A1.75 1.75 0 0 1 14.25 16H1.75A1.75 1.75 0 0 1 0 14.25V1.75C0 .784.784 0 1.75 0ZM1.5 1.75v12.5c0 .138.112.25.25.25h12.5a.25.25 0 0 0 .25-.25V1.75a.25.25 0 0 0-.25-.25H1.75a.25.25 0 0 0-.25.25ZM11.75 3a.75.75 0 0 1 .75.75v7.5a.75.75 0 0 1-1.5 0v-7.5a.75.75 0 0 1 .75-.75Zm-8.25.75a.75.75 0 0 1 1.5 0v5.5a.75.75 0 0 1-1.5 0ZM8 3a.75.75 0 0 1 .75.75v3.5a.75.75 0 0 1-1.5 0v-3.5A.75.75 0 0 1 8 3Z"></path>
</svg>
</template>

<template id="pencil-icon">
  <svg aria-hidden="true" height="16" viewBox="0 0 16 16" version="1.1" width="16" data-view-component="true" class="octicon octicon-pencil">
    <path d="M11.013 1.427a1.75 1.75 0 0 1 2.474 0l1.086 1.086a1.75 1.75 0 0 1 0 2.474l-8.61 8.61c-.21.21-.47.364-.756.445l-3.251.93a.75.75 0 0 1-.927-.928l.929-3.25c.081-.286.235-.547.445-.758l8.61-8.61Zm.176 4.823L9.75 4.81l-6.286 6.287a.253.253 0 0 0-.064.108l-.558 1.953 1.953-.558a.253.253 0 0 0 .108-.064Zm1.238-3.763a.25.25 0 0 0-.354 0L10.811 3.75l1.439 1.44 1.263-1.263a.25.25 0 0 0 0-.354Z"></path>
</svg>
</template>

<template id="copilot-icon">
  <svg aria-hidden="true" height="16" viewBox="0 0 16 16" version="1.1" width="16" data-view-component="true" class="octicon octicon-copilot">
    <path d="M7.998 15.035c-4.562 0-7.873-2.914-7.998-3.749V9.338c.085-.628.677-1.686 1.588-2.065.013-.07.024-.143.036-.218.029-.183.06-.384.126-.612-.201-.508-.254-1.084-.254-1.656 0-.87.128-1.769.693-2.484.579-.733 1.494-1.124 2.724-1.261 1.206-.134 2.262.034 2.944.765.05.053.096.108.139.165.044-.057.094-.112.143-.165.682-.731 1.738-.899 2.944-.765 1.23.137 2.145.528 2.724 1.261.566.715.693 1.614.693 2.484 0 .572-.053 1.148-.254 1.656.066.228.098.429.126.612.012.076.024.148.037.218.924.385 1.522 1.471 1.591 2.095v1.872c0 .766-3.351 3.795-8.002 3.795Zm0-1.485c2.28 0 4.584-1.11 5.002-1.433V7.862l-.023-.116c-.49.21-1.075.291-1.727.291-1.146 0-2.059-.327-2.71-.991A3.222 3.222 0 0 1 8 6.303a3.24 3.24 0 0 1-.544.743c-.65.664-1.563.991-2.71.991-.652 0-1.236-.081-1.727-.291l-.023.116v4.255c.419.323 2.722 1.433 5.002 1.433ZM6.762 2.83c-.193-.206-.637-.413-1.682-.297-1.019.113-1.479.404-1.713.7-.247.312-.369.789-.369 1.554 0 .793.129 1.171.308 1.371.162.181.519.379 1.442.379.853 0 1.339-.235 1.638-.54.315-.322.527-.827.617-1.553.117-.935-.037-1.395-.241-1.614Zm4.155-.297c-1.044-.116-1.488.091-1.681.297-.204.219-.359.679-.242 1.614.091.726.303 1.231.618 1.553.299.305.784.54 1.638.54.922 0 1.28-.198 1.442-.379.179-.2.308-.578.308-1.371 0-.765-.123-1.242-.37-1.554-.233-.296-.693-.587-1.713-.7Z"></path><path d="M6.25 9.037a.75.75 0 0 1 .75.75v1.501a.75.75 0 0 1-1.5 0V9.787a.75.75 0 0 1 .75-.75Zm4.25.75v1.501a.75.75 0 0 1-1.5 0V9.787a.75.75 0 0 1 1.5 0Z"></path>
</svg>
</template>

<template id="copilot-error-icon">
  <svg aria-hidden="true" height="16" viewBox="0 0 16 16" version="1.1" width="16" data-view-component="true" class="octicon octicon-copilot-error">
    <path d="M16 11.24c0 .112-.072.274-.21.467L13 9.688V7.862l-.023-.116c-.49.21-1.075.291-1.727.291-.198 0-.388-.009-.571-.029L6.833 5.226a4.01 4.01 0 0 0 .17-.782c.117-.935-.037-1.395-.241-1.614-.193-.206-.637-.413-1.682-.297-.683.076-1.115.231-1.395.415l-1.257-.91c.579-.564 1.413-.877 2.485-.996 1.206-.134 2.262.034 2.944.765.05.053.096.108.139.165.044-.057.094-.112.143-.165.682-.731 1.738-.899 2.944-.765 1.23.137 2.145.528 2.724 1.261.566.715.693 1.614.693 2.484 0 .572-.053 1.148-.254 1.656.066.228.098.429.126.612.012.076.024.148.037.218.924.385 1.522 1.471 1.591 2.095Zm-5.083-8.707c-1.044-.116-1.488.091-1.681.297-.204.219-.359.679-.242 1.614.091.726.303 1.231.618 1.553.299.305.784.54 1.638.54.922 0 1.28-.198 1.442-.379.179-.2.308-.578.308-1.371 0-.765-.123-1.242-.37-1.554-.233-.296-.693-.587-1.713-.7Zm2.511 11.074c-1.393.776-3.272 1.428-5.43 1.428-4.562 0-7.873-2.914-7.998-3.749V9.338c.085-.628.677-1.686 1.588-2.065.013-.07.024-.143.036-.218.029-.183.06-.384.126-.612-.18-.455-.241-.963-.252-1.475L.31 4.107A.747.747 0 0 1 0 3.509V3.49a.748.748 0 0 1 .625-.73c.156-.026.306.047.435.139l14.667 10.578a.592.592 0 0 1 .227.264.752.752 0 0 1 .046.249v.022a.75.75 0 0 1-1.19.596Zm-1.367-.991L5.635 7.964a5.128 5.128 0 0 1-.889.073c-.652 0-1.236-.081-1.727-.291l-.023.116v4.255c.419.323 2.722 1.433 5.002 1.433 1.539 0 3.089-.505 4.063-.934Z"></path>
</svg>
</template>

<template id="workflow-icon">
  <svg aria-hidden="true" height="16" viewBox="0 0 16 16" version="1.1" width="16" data-view-component="true" class="octicon octicon-workflow">
    <path d="M0 1.75C0 .784.784 0 1.75 0h3.5C6.216 0 7 .784 7 1.75v3.5A1.75 1.75 0 0 1 5.25 7H4v4a1 1 0 0 0 1 1h4v-1.25C9 9.784 9.784 9 10.75 9h3.5c.966 0 1.75.784 1.75 1.75v3.5A1.75 1.75 0 0 1 14.25 16h-3.5A1.75 1.75 0 0 1 9 14.25v-.75H5A2.5 2.5 0 0 1 2.5 11V7h-.75A1.75 1.75 0 0 1 0 5.25Zm1.75-.25a.25.25 0 0 0-.25.25v3.5c0 .138.112.25.25.25h3.5a.25.25 0 0 0 .25-.25v-3.5a.25.25 0 0 0-.25-.25Zm9 9a.25.25 0 0 0-.25.25v3.5c0 .138.112.25.25.25h3.5a.25.25 0 0 0 .25-.25v-3.5a.25.25 0 0 0-.25-.25Z"></path>
</svg>
</template>

<template id="book-icon">
  <svg aria-hidden="true" height="16" viewBox="0 0 16 16" version="1.1" width="16" data-view-component="true" class="octicon octicon-book">
    <path d="M0 1.75A.75.75 0 0 1 .75 1h4.253c1.227 0 2.317.59 3 1.501A3.743 3.743 0 0 1 11.006 1h4.245a.75.75 0 0 1 .75.75v10.5a.75.75 0 0 1-.75.75h-4.507a2.25 2.25 0 0 0-1.591.659l-.622.621a.75.75 0 0 1-1.06 0l-.622-.621A2.25 2.25 0 0 0 5.258 13H.75a.75.75 0 0 1-.75-.75Zm7.251 10.324.004-5.073-.002-2.253A2.25 2.25 0 0 0 5.003 2.5H1.5v9h3.757a3.75 3.75 0 0 1 1.994.574ZM8.755 4.75l-.004 7.322a3.752 3.752 0 0 1 1.992-.572H14.5v-9h-3.495a2.25 2.25 0 0 0-2.25 2.25Z"></path>
</svg>
</template>

<template id="code-review-icon">
  <svg aria-hidden="true" height="16" viewBox="0 0 16 16" version="1.1" width="16" data-view-component="true" class="octicon octicon-code-review">
    <path d="M1.75 1h12.5c.966 0 1.75.784 1.75 1.75v8.5A1.75 1.75 0 0 1 14.25 13H8.061l-2.574 2.573A1.458 1.458 0 0 1 3 14.543V13H1.75A1.75 1.75 0 0 1 0 11.25v-8.5C0 1.784.784 1 1.75 1ZM1.5 2.75v8.5c0 .138.112.25.25.25h2a.75.75 0 0 1 .75.75v2.19l2.72-2.72a.749.749 0 0 1 .53-.22h6.5a.25.25 0 0 0 .25-.25v-8.5a.25.25 0 0 0-.25-.25H1.75a.25.25 0 0 0-.25.25Zm5.28 1.72a.75.75 0 0 1 0 1.06L5.31 7l1.47 1.47a.751.751 0 0 1-.018 1.042.751.751 0 0 1-1.042.018l-2-2a.75.75 0 0 1 0-1.06l2-2a.75.75 0 0 1 1.06 0Zm2.44 0a.75.75 0 0 1 1.06 0l2 2a.75.75 0 0 1 0 1.06l-2 2a.751.751 0 0 1-1.042-.018.751.751 0 0 1-.018-1.042L10.69 7 9.22 5.53a.75.75 0 0 1 0-1.06Z"></path>
</svg>
</template>

<template id="codespaces-icon">
  <svg aria-hidden="true" height="16" viewBox="0 0 16 16" version="1.1" width="16" data-view-component="true" class="octicon octicon-codespaces">
    <path d="M0 11.25c0-.966.784-1.75 1.75-1.75h12.5c.966 0 1.75.784 1.75 1.75v3A1.75 1.75 0 0 1 14.25 16H1.75A1.75 1.75 0 0 1 0 14.25Zm2-9.5C2 .784 2.784 0 3.75 0h8.5C13.216 0 14 .784 14 1.75v5a1.75 1.75 0 0 1-1.75 1.75h-8.5A1.75 1.75 0 0 1 2 6.75Zm1.75-.25a.25.25 0 0 0-.25.25v5c0 .138.112.25.25.25h8.5a.25.25 0 0 0 .25-.25v-5a.25.25 0 0 0-.25-.25Zm-2 9.5a.25.25 0 0 0-.25.25v3c0 .138.112.25.25.25h12.5a.25.25 0 0 0 .25-.25v-3a.25.25 0 0 0-.25-.25Z"></path><path d="M7 12.75a.75.75 0 0 1 .75-.75h4.5a.75.75 0 0 1 0 1.5h-4.5a.75.75 0 0 1-.75-.75Zm-4 0a.75.75 0 0 1 .75-.75h.5a.75.75 0 0 1 0 1.5h-.5a.75.75 0 0 1-.75-.75Z"></path>
</svg>
</template>

<template id="comment-icon">
  <svg aria-hidden="true" height="16" viewBox="0 0 16 16" version="1.1" width="16" data-view-component="true" class="octicon octicon-comment">
    <path d="M1 2.75C1 1.784 1.784 1 2.75 1h10.5c.966 0 1.75.784 1.75 1.75v7.5A1.75 1.75 0 0 1 13.25 12H9.06l-2.573 2.573A1.458 1.458 0 0 1 4 13.543V12H2.75A1.75 1.75 0 0 1 1 10.25Zm1.75-.25a.25.25 0 0 0-.25.25v7.5c0 .138.112.25.25.25h2a.75.75 0 0 1 .75.75v2.19l2.72-2.72a.749.749 0 0 1 .53-.22h4.5a.25.25 0 0 0 .25-.25v-7.5a.25.25 0 0 0-.25-.25Z"></path>
</svg>
</template>

<template id="comment-discussion-icon">
  <svg aria-hidden="true" height="16" viewBox="0 0 16 16" version="1.1" width="16" data-view-component="true" class="octicon octicon-comment-discussion">
    <path d="M1.75 1h8.5c.966 0 1.75.784 1.75 1.75v5.5A1.75 1.75 0 0 1 10.25 10H7.061l-2.574 2.573A1.458 1.458 0 0 1 2 11.543V10h-.25A1.75 1.75 0 0 1 0 8.25v-5.5C0 1.784.784 1 1.75 1ZM1.5 2.75v5.5c0 .138.112.25.25.25h1a.75.75 0 0 1 .75.75v2.19l2.72-2.72a.749.749 0 0 1 .53-.22h3.5a.25.25 0 0 0 .25-.25v-5.5a.25.25 0 0 0-.25-.25h-8.5a.25.25 0 0 0-.25.25Zm13 2a.25.25 0 0 0-.25-.25h-.5a.75.75 0 0 1 0-1.5h.5c.966 0 1.75.784 1.75 1.75v5.5A1.75 1.75 0 0 1 14.25 12H14v1.543a1.458 1.458 0 0 1-2.487 1.03L9.22 12.28a.749.749 0 0 1 .326-1.275.749.749 0 0 1 .734.215l2.22 2.22v-2.19a.75.75 0 0 1 .75-.75h1a.25.25 0 0 0 .25-.25Z"></path>
</svg>
</template>

<template id="organization-icon">
  <svg aria-hidden="true" height="16" viewBox="0 0 16 16" version="1.1" width="16" data-view-component="true" class="octicon octicon-organization">
    <path d="M1.75 16A1.75 1.75 0 0 1 0 14.25V1.75C0 .784.784 0 1.75 0h8.5C11.216 0 12 .784 12 1.75v12.5c0 .085-.006.168-.018.25h2.268a.25.25 0 0 0 .25-.25V8.285a.25.25 0 0 0-.111-.208l-1.055-.703a.749.749 0 1 1 .832-1.248l1.055.703c.487.325.779.871.779 1.456v5.965A1.75 1.75 0 0 1 14.25 16h-3.5a.766.766 0 0 1-.197-.026c-.099.017-.2.026-.303.026h-3a.75.75 0 0 1-.75-.75V14h-1v1.25a.75.75 0 0 1-.75.75Zm-.25-1.75c0 .138.112.25.25.25H4v-1.25a.75.75 0 0 1 .75-.75h2.5a.75.75 0 0 1 .75.75v1.25h2.25a.25.25 0 0 0 .25-.25V1.75a.25.25 0 0 0-.25-.25h-8.5a.25.25 0 0 0-.25.25ZM3.75 6h.5a.75.75 0 0 1 0 1.5h-.5a.75.75 0 0 1 0-1.5ZM3 3.75A.75.75 0 0 1 3.75 3h.5a.75.75 0 0 1 0 1.5h-.5A.75.75 0 0 1 3 3.75Zm4 3A.75.75 0 0 1 7.75 6h.5a.75.75 0 0 1 0 1.5h-.5A.75.75 0 0 1 7 6.75ZM7.75 3h.5a.75.75 0 0 1 0 1.5h-.5a.75.75 0 0 1 0-1.5ZM3 9.75A.75.75 0 0 1 3.75 9h.5a.75.75 0 0 1 0 1.5h-.5A.75.75 0 0 1 3 9.75ZM7.75 9h.5a.75.75 0 0 1 0 1.5h-.5a.75.75 0 0 1 0-1.5Z"></path>
</svg>
</template>

<template id="rocket-icon">
  <svg aria-hidden="true" height="16" viewBox="0 0 16 16" version="1.1" width="16" data-view-component="true" class="octicon octicon-rocket">
    <path d="M14.064 0h.186C15.216 0 16 .784 16 1.75v.186a8.752 8.752 0 0 1-2.564 6.186l-.458.459c-.314.314-.641.616-.979.904v3.207c0 .608-.315 1.172-.833 1.49l-2.774 1.707a.749.749 0 0 1-1.11-.418l-.954-3.102a1.214 1.214 0 0 1-.145-.125L3.754 9.816a1.218 1.218 0 0 1-.124-.145L.528 8.717a.749.749 0 0 1-.418-1.11l1.71-2.774A1.748 1.748 0 0 1 3.31 4h3.204c.288-.338.59-.665.904-.979l.459-.458A8.749 8.749 0 0 1 14.064 0ZM8.938 3.623h-.002l-.458.458c-.76.76-1.437 1.598-2.02 2.5l-1.5 2.317 2.143 2.143 2.317-1.5c.902-.583 1.74-1.26 2.499-2.02l.459-.458a7.25 7.25 0 0 0 2.123-5.127V1.75a.25.25 0 0 0-.25-.25h-.186a7.249 7.249 0 0 0-5.125 2.123ZM3.56 14.56c-.732.732-2.334 1.045-3.005 1.148a.234.234 0 0 1-.201-.064.234.234 0 0 1-.064-.201c.103-.671.416-2.273 1.15-3.003a1.502 1.502 0 1 1 2.12 2.12Zm6.94-3.935c-.088.06-.177.118-.266.175l-2.35 1.521.548 1.783 1.949-1.2a.25.25 0 0 0 .119-.213ZM3.678 8.116 5.2 5.766c.058-.09.117-.178.176-.266H3.309a.25.25 0 0 0-.213.119l-1.2 1.95ZM12 5a1 1 0 1 1-2 0 1 1 0 0 1 2 0Z"></path>
</svg>
</template>

<template id="shield-check-icon">
  <svg aria-hidden="true" height="16" viewBox="0 0 16 16" version="1.1" width="16" data-view-component="true" class="octicon octicon-shield-check">
    <path d="m8.533.133 5.25 1.68A1.75 1.75 0 0 1 15 3.48V7c0 1.566-.32 3.182-1.303 4.682-.983 1.498-2.585 2.813-5.032 3.855a1.697 1.697 0 0 1-1.33 0c-2.447-1.042-4.049-2.357-5.032-3.855C1.32 10.182 1 8.566 1 7V3.48a1.75 1.75 0 0 1 1.217-1.667l5.25-1.68a1.748 1.748 0 0 1 1.066 0Zm-.61 1.429.001.001-5.25 1.68a.251.251 0 0 0-.174.237V7c0 1.36.275 2.666 1.057 3.859.784 1.194 2.121 2.342 4.366 3.298a.196.196 0 0 0 .154 0c2.245-.957 3.582-2.103 4.366-3.297C13.225 9.666 13.5 8.358 13.5 7V3.48a.25.25 0 0 0-.174-.238l-5.25-1.68a.25.25 0 0 0-.153 0ZM11.28 6.28l-3.5 3.5a.75.75 0 0 1-1.06 0l-1.5-1.5a.749.749 0 0 1 .326-1.275.749.749 0 0 1 .734.215l.97.97 2.97-2.97a.751.751 0 0 1 1.042.018.751.751 0 0 1 .018 1.042Z"></path>
</svg>
</template>

<template id="heart-icon">
  <svg aria-hidden="true" height="16" viewBox="0 0 16 16" version="1.1" width="16" data-view-component="true" class="octicon octicon-heart">
    <path d="m8 14.25.345.666a.75.75 0 0 1-.69 0l-.008-.004-.018-.01a7.152 7.152 0 0 1-.31-.17 22.055 22.055 0 0 1-3.434-2.414C2.045 10.731 0 8.35 0 5.5 0 2.836 2.086 1 4.25 1 5.797 1 7.153 1.802 8 3.02 8.847 1.802 10.203 1 11.75 1 13.914 1 16 2.836 16 5.5c0 2.85-2.045 5.231-3.885 6.818a22.066 22.066 0 0 1-3.744 2.584l-.018.01-.006.003h-.002ZM4.25 2.5c-1.336 0-2.75 1.164-2.75 3 0 2.15 1.58 4.144 3.365 5.682A20.58 20.58 0 0 0 8 13.393a20.58 20.58 0 0 0 3.135-2.211C12.92 9.644 14.5 7.65 14.5 5.5c0-1.836-1.414-3-2.75-3-1.373 0-2.609.986-3.029 2.456a.749.749 0 0 1-1.442 0C6.859 3.486 5.623 2.5 4.25 2.5Z"></path>
</svg>
</template>

<template id="server-icon">
  <svg aria-hidden="true" height="16" viewBox="0 0 16 16" version="1.1" width="16" data-view-component="true" class="octicon octicon-server">
    <path d="M1.75 1h12.5c.966 0 1.75.784 1.75 1.75v4c0 .372-.116.717-.314 1 .198.283.314.628.314 1v4a1.75 1.75 0 0 1-1.75 1.75H1.75A1.75 1.75 0 0 1 0 12.75v-4c0-.358.109-.707.314-1a1.739 1.739 0 0 1-.314-1v-4C0 1.784.784 1 1.75 1ZM1.5 2.75v4c0 .138.112.25.25.25h12.5a.25.25 0 0 0 .25-.25v-4a.25.25 0 0 0-.25-.25H1.75a.25.25 0 0 0-.25.25Zm.25 5.75a.25.25 0 0 0-.25.25v4c0 .138.112.25.25.25h12.5a.25.25 0 0 0 .25-.25v-4a.25.25 0 0 0-.25-.25ZM7 4.75A.75.75 0 0 1 7.75 4h4.5a.75.75 0 0 1 0 1.5h-4.5A.75.75 0 0 1 7 4.75ZM7.75 10h4.5a.75.75 0 0 1 0 1.5h-4.5a.75.75 0 0 1 0-1.5ZM3 4.75A.75.75 0 0 1 3.75 4h.5a.75.75 0 0 1 0 1.5h-.5A.75.75 0 0 1 3 4.75ZM3.75 10h.5a.75.75 0 0 1 0 1.5h-.5a.75.75 0 0 1 0-1.5Z"></path>
</svg>
</template>

<template id="globe-icon">
  <svg aria-hidden="true" height="16" viewBox="0 0 16 16" version="1.1" width="16" data-view-component="true" class="octicon octicon-globe">
    <path d="M8 0a8 8 0 1 1 0 16A8 8 0 0 1 8 0ZM5.78 8.75a9.64 9.64 0 0 0 1.363 4.177c.255.426.542.832.857 1.215.245-.296.551-.705.857-1.215A9.64 9.64 0 0 0 10.22 8.75Zm4.44-1.5a9.64 9.64 0 0 0-1.363-4.177c-.307-.51-.612-.919-.857-1.215a9.927 9.927 0 0 0-.857 1.215A9.64 9.64 0 0 0 5.78 7.25Zm-5.944 1.5H1.543a6.507 6.507 0 0 0 4.666 5.5c-.123-.181-.24-.365-.352-.552-.715-1.192-1.437-2.874-1.581-4.948Zm-2.733-1.5h2.733c.144-2.074.866-3.756 1.58-4.948.12-.197.237-.381.353-.552a6.507 6.507 0 0 0-4.666 5.5Zm10.181 1.5c-.144 2.074-.866 3.756-1.58 4.948-.12.197-.237.381-.353.552a6.507 6.507 0 0 0 4.666-5.5Zm2.733-1.5a6.507 6.507 0 0 0-4.666-5.5c.123.181.24.365.353.552.714 1.192 1.436 2.874 1.58 4.948Z"></path>
</svg>
</template>

<template id="issue-opened-icon">
  <svg aria-hidden="true" height="16" viewBox="0 0 16 16" version="1.1" width="16" data-view-component="true" class="octicon octicon-issue-opened">
    <path d="M8 9.5a1.5 1.5 0 1 0 0-3 1.5 1.5 0 0 0 0 3Z"></path><path d="M8 0a8 8 0 1 1 0 16A8 8 0 0 1 8 0ZM1.5 8a6.5 6.5 0 1 0 13 0 6.5 6.5 0 0 0-13 0Z"></path>
</svg>
</template>

<template id="device-mobile-icon">
  <svg aria-hidden="true" height="16" viewBox="0 0 16 16" version="1.1" width="16" data-view-component="true" class="octicon octicon-device-mobile">
    <path d="M3.75 0h8.5C13.216 0 14 .784 14 1.75v12.5A1.75 1.75 0 0 1 12.25 16h-8.5A1.75 1.75 0 0 1 2 14.25V1.75C2 .784 2.784 0 3.75 0ZM3.5 1.75v12.5c0 .138.112.25.25.25h8.5a.25.25 0 0 0 .25-.25V1.75a.25.25 0 0 0-.25-.25h-8.5a.25.25 0 0 0-.25.25ZM8 13a1 1 0 1 1 0-2 1 1 0 0 1 0 2Z"></path>
</svg>
</template>

<template id="package-icon">
  <svg aria-hidden="true" height="16" viewBox="0 0 16 16" version="1.1" width="16" data-view-component="true" class="octicon octicon-package">
    <path d="m8.878.392 5.25 3.045c.54.314.872.89.872 1.514v6.098a1.75 1.75 0 0 1-.872 1.514l-5.25 3.045a1.75 1.75 0 0 1-1.756 0l-5.25-3.045A1.75 1.75 0 0 1 1 11.049V4.951c0-.624.332-1.201.872-1.514L7.122.392a1.75 1.75 0 0 1 1.756 0ZM7.875 1.69l-4.63 2.685L8 7.133l4.755-2.758-4.63-2.685a.248.248 0 0 0-.25 0ZM2.5 5.677v5.372c0 .09.047.171.125.216l4.625 2.683V8.432Zm6.25 8.271 4.625-2.683a.25.25 0 0 0 .125-.216V5.677L8.75 8.432Z"></path>
</svg>
</template>

<template id="credit-card-icon">
  <svg aria-hidden="true" height="16" viewBox="0 0 16 16" version="1.1" width="16" data-view-component="true" class="octicon octicon-credit-card">
    <path d="M10.75 9a.75.75 0 0 0 0 1.5h1.5a.75.75 0 0 0 0-1.5h-1.5Z"></path><path d="M0 3.75C0 2.784.784 2 1.75 2h12.5c.966 0 1.75.784 1.75 1.75v8.5A1.75 1.75 0 0 1 14.25 14H1.75A1.75 1.75 0 0 1 0 12.25ZM14.5 6.5h-13v5.75c0 .138.112.25.25.25h12.5a.25.25 0 0 0 .25-.25Zm0-2.75a.25.25 0 0 0-.25-.25H1.75a.25.25 0 0 0-.25.25V5h13Z"></path>
</svg>
</template>

<template id="play-icon">
  <svg aria-hidden="true" height="16" viewBox="0 0 16 16" version="1.1" width="16" data-view-component="true" class="octicon octicon-play">
    <path d="M8 0a8 8 0 1 1 0 16A8 8 0 0 1 8 0ZM1.5 8a6.5 6.5 0 1 0 13 0 6.5 6.5 0 0 0-13 0Zm4.879-2.773 4.264 2.559a.25.25 0 0 1 0 .428l-4.264 2.559A.25.25 0 0 1 6 10.559V5.442a.25.25 0 0 1 .379-.215Z"></path>
</svg>
</template>

<template id="gift-icon">
  <svg aria-hidden="true" height="16" viewBox="0 0 16 16" version="1.1" width="16" data-view-component="true" class="octicon octicon-gift">
    <path d="M2 2.75A2.75 2.75 0 0 1 4.75 0c.983 0 1.873.42 2.57 1.232.268.318.497.668.68 1.042.183-.375.411-.725.68-1.044C9.376.42 10.266 0 11.25 0a2.75 2.75 0 0 1 2.45 4h.55c.966 0 1.75.784 1.75 1.75v2c0 .698-.409 1.301-1 1.582v4.918A1.75 1.75 0 0 1 13.25 16H2.75A1.75 1.75 0 0 1 1 14.25V9.332C.409 9.05 0 8.448 0 7.75v-2C0 4.784.784 4 1.75 4h.55c-.192-.375-.3-.8-.3-1.25ZM7.25 9.5H2.5v4.75c0 .138.112.25.25.25h4.5Zm1.5 0v5h4.5a.25.25 0 0 0 .25-.25V9.5Zm0-4V8h5.5a.25.25 0 0 0 .25-.25v-2a.25.25 0 0 0-.25-.25Zm-7 0a.25.25 0 0 0-.25.25v2c0 .138.112.25.25.25h5.5V5.5h-5.5Zm3-4a1.25 1.25 0 0 0 0 2.5h2.309c-.233-.818-.542-1.401-.878-1.793-.43-.502-.915-.707-1.431-.707ZM8.941 4h2.309a1.25 1.25 0 0 0 0-2.5c-.516 0-1 .205-1.43.707-.337.392-.646.975-.879 1.793Z"></path>
</svg>
</template>

<template id="code-square-icon">
  <svg aria-hidden="true" height="16" viewBox="0 0 16 16" version="1.1" width="16" data-view-component="true" class="octicon octicon-code-square">
    <path d="M0 1.75C0 .784.784 0 1.75 0h12.5C15.216 0 16 .784 16 1.75v12.5A1.75 1.75 0 0 1 14.25 16H1.75A1.75 1.75 0 0 1 0 14.25Zm1.75-.25a.25.25 0 0 0-.25.25v12.5c0 .138.112.25.25.25h12.5a.25.25 0 0 0 .25-.25V1.75a.25.25 0 0 0-.25-.25Zm7.47 3.97a.75.75 0 0 1 1.06 0l2 2a.75.75 0 0 1 0 1.06l-2 2a.749.749 0 0 1-1.275-.326.749.749 0 0 1 .215-.734L10.69 8 9.22 6.53a.75.75 0 0 1 0-1.06ZM6.78 6.53 5.31 8l1.47 1.47a.749.749 0 0 1-.326 1.275.749.749 0 0 1-.734-.215l-2-2a.75.75 0 0 1 0-1.06l2-2a.751.751 0 0 1 1.042.018.751.751 0 0 1 .018 1.042Z"></path>
</svg>
</template>

<template id="device-desktop-icon">
  <svg aria-hidden="true" height="16" viewBox="0 0 16 16" version="1.1" width="16" data-view-component="true" class="octicon octicon-device-desktop">
    <path d="M14.25 1c.966 0 1.75.784 1.75 1.75v7.5A1.75 1.75 0 0 1 14.25 12h-3.727c.099 1.041.52 1.872 1.292 2.757A.752.752 0 0 1 11.25 16h-6.5a.75.75 0 0 1-.565-1.243c.772-.885 1.192-1.716 1.292-2.757H1.75A1.75 1.75 0 0 1 0 10.25v-7.5C0 1.784.784 1 1.75 1ZM1.75 2.5a.25.25 0 0 0-.25.25v7.5c0 .138.112.25.25.25h12.5a.25.25 0 0 0 .25-.25v-7.5a.25.25 0 0 0-.25-.25ZM9.018 12H6.982a5.72 5.72 0 0 1-.765 2.5h3.566a5.72 5.72 0 0 1-.765-2.5Z"></path>
</svg>
</template>

        <div class="position-relative">
                <ul
                  role="listbox"
                  class="ActionListWrap QueryBuilder-ListWrap"
                  aria-label="Suggestions"
                  data-action="
                    combobox-commit:query-builder#comboboxCommit
                    mousedown:query-builder#resultsMousedown
                  "
                  data-target="query-builder.resultsList"
                  data-persist-list=false
                  id="query-builder-test-results"
                ></ul>
        </div>
      <div class="FormControl-inlineValidation" id="validation-1dc99c28-aea7-4c6e-b134-e03cc938002c" hidden="hidden">
        <span class="FormControl-inlineValidation--visual">
          <svg aria-hidden="true" height="12" viewBox="0 0 12 12" version="1.1" width="12" data-view-component="true" class="octicon octicon-alert-fill">
    <path d="M4.855.708c.5-.896 1.79-.896 2.29 0l4.675 8.351a1.312 1.312 0 0 1-1.146 1.954H1.33A1.313 1.313 0 0 1 .183 9.058ZM7 7V3H5v4Zm-1 3a1 1 0 1 0 0-2 1 1 0 0 0 0 2Z"></path>
</svg>
        </span>
        <span></span>
</div>    </div>
    <div data-target="query-builder.screenReaderFeedback" aria-live="polite" aria-atomic="true" class="sr-only"></div>
</query-builder></form>
          <div class="d-flex flex-row color-fg-muted px-3 text-small color-bg-default search-feedback-prompt">
            <a target="_blank" href="https://docs.github.com/search-github/github-code-search/understanding-github-code-search-syntax" data-view-component="true" class="Link color-fg-accent text-normal ml-2">
              Search syntax tips
</a>            <div class="d-flex flex-1"></div>
              <button data-action="click:qbsearch-input#showFeedbackDialog" type="button" data-view-component="true" class="Button--link Button--medium Button color-fg-accent text-normal ml-2">  <span class="Button-content">
    <span class="Button-label">Give feedback</span>
  </span>
</button>
          </div>
        </div>
</div>

    </div>
</modal-dialog></div>
  </div>
  <div data-action="click:qbsearch-input#retract" class="dark-backdrop position-fixed" hidden data-target="qbsearch-input.darkBackdrop"></div>
  <div class="color-fg-default">
    
<dialog-helper>
  <dialog data-target="qbsearch-input.feedbackDialog" data-action="close:qbsearch-input#handleDialogClose cancel:qbsearch-input#handleDialogClose" id="feedback-dialog" aria-modal="true" aria-labelledby="feedback-dialog-title" aria-describedby="feedback-dialog-description" data-view-component="true" class="Overlay Overlay-whenNarrow Overlay--size-medium Overlay--motion-scaleFade Overlay--disableScroll">
    <div data-view-component="true" class="Overlay-header">
  <div class="Overlay-headerContentWrap">
    <div class="Overlay-titleWrap">
      <h1 class="Overlay-title " id="feedback-dialog-title">
        Provide feedback
      </h1>
        
    </div>
    <div class="Overlay-actionWrap">
      <button data-close-dialog-id="feedback-dialog" aria-label="Close" type="button" data-view-component="true" class="close-button Overlay-closeButton"><svg aria-hidden="true" height="16" viewBox="0 0 16 16" version="1.1" width="16" data-view-component="true" class="octicon octicon-x">
    <path d="M3.72 3.72a.75.75 0 0 1 1.06 0L8 6.94l3.22-3.22a.749.749 0 0 1 1.275.326.749.749 0 0 1-.215.734L9.06 8l3.22 3.22a.749.749 0 0 1-.326 1.275.749.749 0 0 1-.734-.215L8 9.06l-3.22 3.22a.751.751 0 0 1-1.042-.018.751.751 0 0 1-.018-1.042L6.94 8 3.72 4.78a.75.75 0 0 1 0-1.06Z"></path>
</svg></button>
    </div>
  </div>
  
</div>
      <scrollable-region data-labelled-by="feedback-dialog-title">
        <div data-view-component="true" class="Overlay-body">        <!-- '"` --><!-- </textarea></xmp> --></option></form><form id="code-search-feedback-form" data-turbo="false" action="/search/feedback" accept-charset="UTF-8" method="post"><input type="hidden" name="authenticity_token" value="Q0b4Tqz8aurHzMd_LjW-T0QKnNBxYJemMz1DfCNi5gS72-8e8DToFNL4plkS4tV-MAUM8cTG6mBqfw6CYtvG2w" />
          <p>We read every piece of feedback, and take your input very seriously.</p>
          <textarea name="feedback" class="form-control width-full mb-2" style="height: 120px" id="feedback"></textarea>
          <input name="include_email" id="include_email" aria-label="Include my email address so I can be contacted" class="form-control mr-2" type="checkbox">
          <label for="include_email" style="font-weight: normal">Include my email address so I can be contacted</label>
</form></div>
      </scrollable-region>
      <div data-view-component="true" class="Overlay-footer Overlay-footer--alignEnd">          <button data-close-dialog-id="feedback-dialog" type="button" data-view-component="true" class="btn">    Cancel
</button>
          <button form="code-search-feedback-form" data-action="click:qbsearch-input#submitFeedback" type="submit" data-view-component="true" class="btn-primary btn">    Submit feedback
</button>
</div>
</dialog></dialog-helper>

    <custom-scopes data-target="qbsearch-input.customScopesManager">
    
<dialog-helper>
  <dialog data-target="custom-scopes.customScopesModalDialog" data-action="close:qbsearch-input#handleDialogClose cancel:qbsearch-input#handleDialogClose" id="custom-scopes-dialog" aria-modal="true" aria-labelledby="custom-scopes-dialog-title" aria-describedby="custom-scopes-dialog-description" data-view-component="true" class="Overlay Overlay-whenNarrow Overlay--size-medium Overlay--motion-scaleFade Overlay--disableScroll">
    <div data-view-component="true" class="Overlay-header Overlay-header--divided">
  <div class="Overlay-headerContentWrap">
    <div class="Overlay-titleWrap">
      <h1 class="Overlay-title " id="custom-scopes-dialog-title">
        Saved searches
      </h1>
        <h2 id="custom-scopes-dialog-description" class="Overlay-description">Use saved searches to filter your results more quickly</h2>
    </div>
    <div class="Overlay-actionWrap">
      <button data-close-dialog-id="custom-scopes-dialog" aria-label="Close" type="button" data-view-component="true" class="close-button Overlay-closeButton"><svg aria-hidden="true" height="16" viewBox="0 0 16 16" version="1.1" width="16" data-view-component="true" class="octicon octicon-x">
    <path d="M3.72 3.72a.75.75 0 0 1 1.06 0L8 6.94l3.22-3.22a.749.749 0 0 1 1.275.326.749.749 0 0 1-.215.734L9.06 8l3.22 3.22a.749.749 0 0 1-.326 1.275.749.749 0 0 1-.734-.215L8 9.06l-3.22 3.22a.751.751 0 0 1-1.042-.018.751.751 0 0 1-.018-1.042L6.94 8 3.72 4.78a.75.75 0 0 1 0-1.06Z"></path>
</svg></button>
    </div>
  </div>
  
</div>
      <scrollable-region data-labelled-by="custom-scopes-dialog-title">
        <div data-view-component="true" class="Overlay-body">        <div data-target="custom-scopes.customScopesModalDialogFlash"></div>

        <div hidden class="create-custom-scope-form" data-target="custom-scopes.createCustomScopeForm">
        <!-- '"` --><!-- </textarea></xmp> --></option></form><form id="custom-scopes-dialog-form" data-turbo="false" action="/search/custom_scopes" accept-charset="UTF-8" method="post"><input type="hidden" name="authenticity_token" value="2it56M4gMSkBk2fJSGs5hvoRLeP1iR4GbmsLGmnDXN76fnDJbgbDWWJMtFOyciUZHwFzDiRgFqggVK3YHFZzfw" />
          <div data-target="custom-scopes.customScopesModalDialogFlash"></div>

          <input type="hidden" id="custom_scope_id" name="custom_scope_id" data-target="custom-scopes.customScopesIdField">

          <div class="form-group">
            <label for="custom_scope_name">Name</label>
            <auto-check src="/search/custom_scopes/check_name" required>
              <input
                type="text"
                name="custom_scope_name"
                id="custom_scope_name"
                data-target="custom-scopes.customScopesNameField"
                class="form-control"
                autocomplete="off"
                placeholder="github-ruby"
                required
                maxlength="50">
              <input type="hidden" value="CeXOXuSNDiJUQrJWV3AEheFBdTnCptY1uTh-0czNuyqkeLy50vpdpAB5CF7vW4RpCfYKhzr-Yt7E_7uLHU57SQ" data-csrf="true" />
            </auto-check>
          </div>

          <div class="form-group">
            <label for="custom_scope_query">Query</label>
            <input
              type="text"
              name="custom_scope_query"
              id="custom_scope_query"
              data-target="custom-scopes.customScopesQueryField"
              class="form-control"
              autocomplete="off"
              placeholder="(repo:mona/a OR repo:mona/b) AND lang:python"
              required
              maxlength="500">
          </div>

          <p class="text-small color-fg-muted">
            To see all available qualifiers, see our <a class="Link--inTextBlock" href="https://docs.github.com/search-github/github-code-search/understanding-github-code-search-syntax">documentation</a>.
          </p>
</form>        </div>

        <div data-target="custom-scopes.manageCustomScopesForm">
          <div data-target="custom-scopes.list"></div>
        </div>

</div>
      </scrollable-region>
      <div data-view-component="true" class="Overlay-footer Overlay-footer--alignEnd Overlay-footer--divided">          <button data-action="click:custom-scopes#customScopesCancel" type="button" data-view-component="true" class="btn">    Cancel
</button>
          <button form="custom-scopes-dialog-form" data-action="click:custom-scopes#customScopesSubmit" data-target="custom-scopes.customScopesSubmitButton" type="submit" data-view-component="true" class="btn-primary btn">    Create saved search
</button>
</div>
</dialog></dialog-helper>
    </custom-scopes>
  </div>
</qbsearch-input>    <input type="hidden" value="E7s-DzBqaLrdF2Vo40GhYH0c3YwwjJNu-sykpu1AAfnz7oDkreTVkzm8KtII5H_TUDFAFq1DmuUlvYnvmgin8Q" data-csrf="true" class="js-data-jump-to-suggestions-path-csrf" />

          </div>

        

        <div class="AppHeader-actions position-relative">
             <react-partial-anchor>
      <button id="global-create-menu-anchor" aria-label="Create something new" data-target="react-partial-anchor.anchor" type="button" disabled="disabled" data-view-component="true" class="AppHeader-button global-create-button cursor-wait Button--secondary Button--medium Button width-auto color-fg-muted">  <span class="Button-content">
      <span class="Button-visual Button-leadingVisual">
        <svg aria-hidden="true" height="16" viewBox="0 0 16 16" version="1.1" width="16" data-view-component="true" class="octicon octicon-plus">
    <path d="M7.75 2a.75.75 0 0 1 .75.75V7h4.25a.75.75 0 0 1 0 1.5H8.5v4.25a.75.75 0 0 1-1.5 0V8.5H2.75a.75.75 0 0 1 0-1.5H7V2.75A.75.75 0 0 1 7.75 2Z"></path>
</svg>
      </span>
    <span class="Button-label"><svg aria-hidden="true" height="16" viewBox="0 0 16 16" version="1.1" width="16" data-view-component="true" class="octicon octicon-triangle-down">
    <path d="m4.427 7.427 3.396 3.396a.25.25 0 0 0 .354 0l3.396-3.396A.25.25 0 0 0 11.396 7H4.604a.25.25 0 0 0-.177.427Z"></path>
</svg></span>
  </span>
</button><tool-tip id="tooltip-da2a189b-a146-4ac7-957c-876954d230d6" for="global-create-menu-anchor" popover="manual" data-direction="s" data-type="description" data-view-component="true" class="sr-only position-absolute">Create new...</tool-tip>

      <template data-target="react-partial-anchor.template">
        <script crossorigin="anonymous" defer="defer" type="application/javascript" src="https://github.githubassets.com/assets/vendors-node_modules_github_catalyst_lib_index_js-node_modules_github_hydro-analytics-client_-3af2330-734f6965447a.js"></script>
<script crossorigin="anonymous" defer="defer" type="application/javascript" src="https://github.githubassets.com/assets/ui_packages_promise-with-resolvers-polyfill_promise-with-resolvers-polyfill_ts-ui_packages_re-8d43b0-9ef4628d3e8f.js"></script>
<script crossorigin="anonymous" defer="defer" type="application/javascript" src="https://github.githubassets.com/assets/global-create-menu-a31aa5ce2219.js"></script>
<link crossorigin="anonymous" media="all" rel="stylesheet" href="https://github.githubassets.com/assets/primer-react.9fa170e9435ed4b922b9.module.css" />

<react-partial
  partial-name="global-create-menu"
  data-ssr="false"
  data-attempted-ssr="false"
>
  
  <script type="application/json" data-target="react-partial.embeddedData">{"props":{"createRepo":true,"importRepo":true,"codespaces":true,"gist":true,"createOrg":true,"createProject":false,"createProjectUrl":"/FreddyMernanda16?tab=projects","createLegacyProject":false,"createIssue":false,"org":null,"owner":"Dim4s4ufa","repo":"MSIB-K2-KelasAwanPintar"}}</script>
  <div data-target="react-partial.reactRoot"></div>
</react-partial>

      </template>
    </react-partial-anchor>


          <a href="/issues" data-analytics-event="{&quot;category&quot;:&quot;Global navigation&quot;,&quot;action&quot;:&quot;ISSUES_HEADER&quot;,&quot;label&quot;:null}" id="icon-button-3b81fb48-8cda-4a81-9d23-016b17d455e7" aria-labelledby="tooltip-bb6f1cb8-c6e9-4744-9c3b-2158b53a54f7" data-view-component="true" class="Button Button--iconOnly Button--secondary Button--medium AppHeader-button color-fg-muted">  <svg aria-hidden="true" height="16" viewBox="0 0 16 16" version="1.1" width="16" data-view-component="true" class="octicon octicon-issue-opened Button-visual">
    <path d="M8 9.5a1.5 1.5 0 1 0 0-3 1.5 1.5 0 0 0 0 3Z"></path><path d="M8 0a8 8 0 1 1 0 16A8 8 0 0 1 8 0ZM1.5 8a6.5 6.5 0 1 0 13 0 6.5 6.5 0 0 0-13 0Z"></path>
</svg>
</a><tool-tip id="tooltip-bb6f1cb8-c6e9-4744-9c3b-2158b53a54f7" for="icon-button-3b81fb48-8cda-4a81-9d23-016b17d455e7" popover="manual" data-direction="s" data-type="label" data-view-component="true" class="sr-only position-absolute">Issues</tool-tip>

          <a href="/pulls" data-analytics-event="{&quot;category&quot;:&quot;Global navigation&quot;,&quot;action&quot;:&quot;PULL_REQUESTS_HEADER&quot;,&quot;label&quot;:null}" id="icon-button-a7161b1f-e42f-4874-b0dd-8aad40597c0e" aria-labelledby="tooltip-f9316203-0046-4043-b474-52ff3e15155b" data-view-component="true" class="Button Button--iconOnly Button--secondary Button--medium AppHeader-button color-fg-muted">  <svg aria-hidden="true" height="16" viewBox="0 0 16 16" version="1.1" width="16" data-view-component="true" class="octicon octicon-git-pull-request Button-visual">
    <path d="M1.5 3.25a2.25 2.25 0 1 1 3 2.122v5.256a2.251 2.251 0 1 1-1.5 0V5.372A2.25 2.25 0 0 1 1.5 3.25Zm5.677-.177L9.573.677A.25.25 0 0 1 10 .854V2.5h1A2.5 2.5 0 0 1 13.5 5v5.628a2.251 2.251 0 1 1-1.5 0V5a1 1 0 0 0-1-1h-1v1.646a.25.25 0 0 1-.427.177L7.177 3.427a.25.25 0 0 1 0-.354ZM3.75 2.5a.75.75 0 1 0 0 1.5.75.75 0 0 0 0-1.5Zm0 9.5a.75.75 0 1 0 0 1.5.75.75 0 0 0 0-1.5Zm8.25.75a.75.75 0 1 0 1.5 0 .75.75 0 0 0-1.5 0Z"></path>
</svg>
</a><tool-tip id="tooltip-f9316203-0046-4043-b474-52ff3e15155b" for="icon-button-a7161b1f-e42f-4874-b0dd-8aad40597c0e" popover="manual" data-direction="s" data-type="label" data-view-component="true" class="sr-only position-absolute">Pull requests</tool-tip>

        </div>

        <notification-indicator data-channel="eyJjIjoibm90aWZpY2F0aW9uLWNoYW5nZWQ6MTM3MzE2MTE5IiwidCI6MTczMTYxMzkwOX0=--8a5f2c00883e71e1d20706dc89445ecbc8e5673e634a1c56bdbbf8724c64804d" data-indicator-mode="none" data-tooltip-global="You have unread notifications" data-tooltip-unavailable="Notifications are unavailable at the moment." data-tooltip-none="You have no unread notifications" data-header-redesign-enabled="true" data-fetch-indicator-src="/notifications/indicator" data-fetch-indicator-enabled="true" data-view-component="true" class="js-socket-channel">
    <a id="AppHeader-notifications-button" href="/notifications" aria-labelledby="notification-indicator-tooltip" data-hotkey="g n" data-target="notification-indicator.link" data-analytics-event="{&quot;category&quot;:&quot;Global navigation&quot;,&quot;action&quot;:&quot;NOTIFICATIONS_HEADER&quot;,&quot;label&quot;:null}" data-view-component="true" class="Button Button--iconOnly Button--secondary Button--medium AppHeader-button  color-fg-muted">  <svg aria-hidden="true" height="16" viewBox="0 0 16 16" version="1.1" width="16" data-view-component="true" class="octicon octicon-inbox Button-visual">
    <path d="M2.8 2.06A1.75 1.75 0 0 1 4.41 1h7.18c.7 0 1.333.417 1.61 1.06l2.74 6.395c.04.093.06.194.06.295v4.5A1.75 1.75 0 0 1 14.25 15H1.75A1.75 1.75 0 0 1 0 13.25v-4.5c0-.101.02-.202.06-.295Zm1.61.44a.25.25 0 0 0-.23.152L1.887 8H4.75a.75.75 0 0 1 .6.3L6.625 10h2.75l1.275-1.7a.75.75 0 0 1 .6-.3h2.863L11.82 2.652a.25.25 0 0 0-.23-.152Zm10.09 7h-2.875l-1.275 1.7a.75.75 0 0 1-.6.3h-3.5a.75.75 0 0 1-.6-.3L4.375 9.5H1.5v3.75c0 .138.112.25.25.25h12.5a.25.25 0 0 0 .25-.25Z"></path>
</svg>
</a>

    <tool-tip id="notification-indicator-tooltip" data-target="notification-indicator.tooltip" for="AppHeader-notifications-button" popover="manual" data-direction="s" data-type="label" data-view-component="true" class="sr-only position-absolute">Notifications</tool-tip>
</notification-indicator>

        <div class="AppHeader-user">
          <deferred-side-panel data-url="/_side-panels/user?repository_id=858687523">
  <include-fragment data-target="deferred-side-panel.fragment">
    <react-partial-anchor
  
>
  <button data-target="react-partial-anchor.anchor" data-login="FreddyMernanda16" aria-label="Open user navigation menu" type="button" data-view-component="true" class="cursor-wait Button--invisible Button--medium Button Button--invisible-noVisuals color-bg-transparent p-0">  <span class="Button-content">
    <span class="Button-label"><img src="https://avatars.githubusercontent.com/u/137316119?v=4" alt="" size="32" height="32" width="32" data-view-component="true" class="avatar circle" /></span>
  </span>
</button>
  <template data-target="react-partial-anchor.template">
    <script crossorigin="anonymous" defer="defer" type="application/javascript" src="https://github.githubassets.com/assets/global-user-nav-drawer-14c6ab93185a.js"></script>
<link crossorigin="anonymous" media="all" rel="stylesheet" href="https://github.githubassets.com/assets/primer-react.9fa170e9435ed4b922b9.module.css" />
<link crossorigin="anonymous" media="all" rel="stylesheet" href="https://github.githubassets.com/assets/global-user-nav-drawer.830d6c10c9fea7fc134e.module.css" />

<react-partial
  partial-name="global-user-nav-drawer"
  data-ssr="false"
  data-attempted-ssr="false"
>
  
  <script type="application/json" data-target="react-partial.embeddedData">{"props":{"owner":{"login":"FreddyMernanda16","name":null,"avatarUrl":"https://avatars.githubusercontent.com/u/137316119?v=4"},"drawerId":"global-user-nav-drawer","lazyLoadItemDataFetchUrl":"/_side-panels/user.json","canAddAccount":true,"addAccountPath":"/login?add_account=1\u0026return_to=https%3A%2F%2Fgithub.com%2FDim4s4ufa%2FMSIB-K2-KelasAwanPintar%2Fblob%2Fmain%2FSalinan_dari_Regresi_Logistic_Iris_Dataset.ipynb","switchAccountPath":"/switch_account","loginAccountPath":"/login?add_account=1","projectsPath":"/FreddyMernanda16?tab=projects","gistsUrl":"https://gist.github.com/mine","docsUrl":"https://docs.github.com","yourEnterpriseUrl":null,"enterpriseSettingsUrl":null,"supportUrl":"https://support.github.com","showAccountSwitcher":true,"showCopilot":true,"showEnterprises":true,"showEnterprise":false,"showGists":true,"showOrganizations":true,"showSponsors":true,"showUpgrade":true,"showFeaturesPreviews":true,"showEnterpriseSettings":false,"createMenuProps":{"createRepo":true,"importRepo":true,"codespaces":true,"gist":true,"createOrg":true,"createProject":false,"createProjectUrl":"/FreddyMernanda16?tab=projects","createLegacyProject":false,"createIssue":false,"org":null,"owner":"Dim4s4ufa","repo":"MSIB-K2-KelasAwanPintar"}}}</script>
  <div data-target="react-partial.reactRoot"></div>
</react-partial>

  </template>
</react-partial-anchor>

  </include-fragment>
</deferred-side-panel>
        </div>

        <div class="position-absolute mt-2">
            
<site-header-logged-in-user-menu>

</site-header-logged-in-user-menu>

        </div>
      </div>
    </div>


      <div class="AppHeader-localBar" >
        <nav data-pjax="#js-repo-pjax-container" aria-label="Repository" data-view-component="true" class="js-repo-nav js-sidenav-container-pjax js-responsive-underlinenav overflow-hidden UnderlineNav">

  <ul data-view-component="true" class="UnderlineNav-body list-style-none">
      <li data-view-component="true" class="d-inline-flex">
  <a id="code-tab" href="/Dim4s4ufa/MSIB-K2-KelasAwanPintar" data-tab-item="i0code-tab" data-selected-links="repo_source repo_downloads repo_commits repo_releases repo_tags repo_branches repo_packages repo_deployments repo_attestations /Dim4s4ufa/MSIB-K2-KelasAwanPintar" data-pjax="#repo-content-pjax-container" data-turbo-frame="repo-content-turbo-frame" data-hotkey="g c" data-analytics-event="{&quot;category&quot;:&quot;Underline navbar&quot;,&quot;action&quot;:&quot;Click tab&quot;,&quot;label&quot;:&quot;Code&quot;,&quot;target&quot;:&quot;UNDERLINE_NAV.TAB&quot;}" data-view-component="true" class="UnderlineNav-item no-wrap js-responsive-underlinenav-item js-selected-navigation-item">
    
              <svg aria-hidden="true" height="16" viewBox="0 0 16 16" version="1.1" width="16" data-view-component="true" class="octicon octicon-code UnderlineNav-octicon d-none d-sm-inline">
    <path d="m11.28 3.22 4.25 4.25a.75.75 0 0 1 0 1.06l-4.25 4.25a.749.749 0 0 1-1.275-.326.749.749 0 0 1 .215-.734L13.94 8l-3.72-3.72a.749.749 0 0 1 .326-1.275.749.749 0 0 1 .734.215Zm-6.56 0a.751.751 0 0 1 1.042.018.751.751 0 0 1 .018 1.042L2.06 8l3.72 3.72a.749.749 0 0 1-.326 1.275.749.749 0 0 1-.734-.215L.47 8.53a.75.75 0 0 1 0-1.06Z"></path>
</svg>
        <span data-content="Code">Code</span>
          <span id="code-repo-tab-count" data-pjax-replace="" data-turbo-replace="" title="Not available" data-view-component="true" class="Counter"></span>


    
</a></li>
      <li data-view-component="true" class="d-inline-flex">
  <a id="issues-tab" href="/Dim4s4ufa/MSIB-K2-KelasAwanPintar/issues" data-tab-item="i1issues-tab" data-selected-links="repo_issues repo_labels repo_milestones /Dim4s4ufa/MSIB-K2-KelasAwanPintar/issues" data-pjax="#repo-content-pjax-container" data-turbo-frame="repo-content-turbo-frame" data-hotkey="g i" data-analytics-event="{&quot;category&quot;:&quot;Underline navbar&quot;,&quot;action&quot;:&quot;Click tab&quot;,&quot;label&quot;:&quot;Issues&quot;,&quot;target&quot;:&quot;UNDERLINE_NAV.TAB&quot;}" data-view-component="true" class="UnderlineNav-item no-wrap js-responsive-underlinenav-item js-selected-navigation-item">
    
              <svg aria-hidden="true" height="16" viewBox="0 0 16 16" version="1.1" width="16" data-view-component="true" class="octicon octicon-issue-opened UnderlineNav-octicon d-none d-sm-inline">
    <path d="M8 9.5a1.5 1.5 0 1 0 0-3 1.5 1.5 0 0 0 0 3Z"></path><path d="M8 0a8 8 0 1 1 0 16A8 8 0 0 1 8 0ZM1.5 8a6.5 6.5 0 1 0 13 0 6.5 6.5 0 0 0-13 0Z"></path>
</svg>
        <span data-content="Issues">Issues</span>
          <span id="issues-repo-tab-count" data-pjax-replace="" data-turbo-replace="" title="0" hidden="hidden" data-view-component="true" class="Counter">0</span>


    
</a></li>
      <li data-view-component="true" class="d-inline-flex">
  <a id="pull-requests-tab" href="/Dim4s4ufa/MSIB-K2-KelasAwanPintar/pulls" data-tab-item="i2pull-requests-tab" data-selected-links="repo_pulls checks /Dim4s4ufa/MSIB-K2-KelasAwanPintar/pulls" data-pjax="#repo-content-pjax-container" data-turbo-frame="repo-content-turbo-frame" data-hotkey="g p" data-analytics-event="{&quot;category&quot;:&quot;Underline navbar&quot;,&quot;action&quot;:&quot;Click tab&quot;,&quot;label&quot;:&quot;Pull requests&quot;,&quot;target&quot;:&quot;UNDERLINE_NAV.TAB&quot;}" data-view-component="true" class="UnderlineNav-item no-wrap js-responsive-underlinenav-item js-selected-navigation-item">
    
              <svg aria-hidden="true" height="16" viewBox="0 0 16 16" version="1.1" width="16" data-view-component="true" class="octicon octicon-git-pull-request UnderlineNav-octicon d-none d-sm-inline">
    <path d="M1.5 3.25a2.25 2.25 0 1 1 3 2.122v5.256a2.251 2.251 0 1 1-1.5 0V5.372A2.25 2.25 0 0 1 1.5 3.25Zm5.677-.177L9.573.677A.25.25 0 0 1 10 .854V2.5h1A2.5 2.5 0 0 1 13.5 5v5.628a2.251 2.251 0 1 1-1.5 0V5a1 1 0 0 0-1-1h-1v1.646a.25.25 0 0 1-.427.177L7.177 3.427a.25.25 0 0 1 0-.354ZM3.75 2.5a.75.75 0 1 0 0 1.5.75.75 0 0 0 0-1.5Zm0 9.5a.75.75 0 1 0 0 1.5.75.75 0 0 0 0-1.5Zm8.25.75a.75.75 0 1 0 1.5 0 .75.75 0 0 0-1.5 0Z"></path>
</svg>
        <span data-content="Pull requests">Pull requests</span>
          <span id="pull-requests-repo-tab-count" data-pjax-replace="" data-turbo-replace="" title="0" hidden="hidden" data-view-component="true" class="Counter">0</span>


    
</a></li>
      <li data-view-component="true" class="d-inline-flex">
  <a id="actions-tab" href="/Dim4s4ufa/MSIB-K2-KelasAwanPintar/actions" data-tab-item="i3actions-tab" data-selected-links="repo_actions /Dim4s4ufa/MSIB-K2-KelasAwanPintar/actions" data-pjax="#repo-content-pjax-container" data-turbo-frame="repo-content-turbo-frame" data-hotkey="g a" data-analytics-event="{&quot;category&quot;:&quot;Underline navbar&quot;,&quot;action&quot;:&quot;Click tab&quot;,&quot;label&quot;:&quot;Actions&quot;,&quot;target&quot;:&quot;UNDERLINE_NAV.TAB&quot;}" data-view-component="true" class="UnderlineNav-item no-wrap js-responsive-underlinenav-item js-selected-navigation-item">
    
              <svg aria-hidden="true" height="16" viewBox="0 0 16 16" version="1.1" width="16" data-view-component="true" class="octicon octicon-play UnderlineNav-octicon d-none d-sm-inline">
    <path d="M8 0a8 8 0 1 1 0 16A8 8 0 0 1 8 0ZM1.5 8a6.5 6.5 0 1 0 13 0 6.5 6.5 0 0 0-13 0Zm4.879-2.773 4.264 2.559a.25.25 0 0 1 0 .428l-4.264 2.559A.25.25 0 0 1 6 10.559V5.442a.25.25 0 0 1 .379-.215Z"></path>
</svg>
        <span data-content="Actions">Actions</span>
          <span id="actions-repo-tab-count" data-pjax-replace="" data-turbo-replace="" title="Not available" data-view-component="true" class="Counter"></span>


    
</a></li>
      <li data-view-component="true" class="d-inline-flex">
  <a id="projects-tab" href="/Dim4s4ufa/MSIB-K2-KelasAwanPintar/projects" data-tab-item="i4projects-tab" data-selected-links="repo_projects new_repo_project repo_project /Dim4s4ufa/MSIB-K2-KelasAwanPintar/projects" data-pjax="#repo-content-pjax-container" data-turbo-frame="repo-content-turbo-frame" data-hotkey="g b" data-analytics-event="{&quot;category&quot;:&quot;Underline navbar&quot;,&quot;action&quot;:&quot;Click tab&quot;,&quot;label&quot;:&quot;Projects&quot;,&quot;target&quot;:&quot;UNDERLINE_NAV.TAB&quot;}" data-view-component="true" class="UnderlineNav-item no-wrap js-responsive-underlinenav-item js-selected-navigation-item">
    
              <svg aria-hidden="true" height="16" viewBox="0 0 16 16" version="1.1" width="16" data-view-component="true" class="octicon octicon-table UnderlineNav-octicon d-none d-sm-inline">
    <path d="M0 1.75C0 .784.784 0 1.75 0h12.5C15.216 0 16 .784 16 1.75v12.5A1.75 1.75 0 0 1 14.25 16H1.75A1.75 1.75 0 0 1 0 14.25ZM6.5 6.5v8h7.75a.25.25 0 0 0 .25-.25V6.5Zm8-1.5V1.75a.25.25 0 0 0-.25-.25H6.5V5Zm-13 1.5v7.75c0 .138.112.25.25.25H5v-8ZM5 5V1.5H1.75a.25.25 0 0 0-.25.25V5Z"></path>
</svg>
        <span data-content="Projects">Projects</span>
          <span id="projects-repo-tab-count" data-pjax-replace="" data-turbo-replace="" title="0" hidden="hidden" data-view-component="true" class="Counter">0</span>


    
</a></li>
      <li data-view-component="true" class="d-inline-flex">
  <a id="security-tab" href="/Dim4s4ufa/MSIB-K2-KelasAwanPintar/security" data-tab-item="i5security-tab" data-selected-links="security overview alerts policy token_scanning code_scanning /Dim4s4ufa/MSIB-K2-KelasAwanPintar/security" data-pjax="#repo-content-pjax-container" data-turbo-frame="repo-content-turbo-frame" data-hotkey="g s" data-analytics-event="{&quot;category&quot;:&quot;Underline navbar&quot;,&quot;action&quot;:&quot;Click tab&quot;,&quot;label&quot;:&quot;Security&quot;,&quot;target&quot;:&quot;UNDERLINE_NAV.TAB&quot;}" data-view-component="true" class="UnderlineNav-item no-wrap js-responsive-underlinenav-item js-selected-navigation-item">
    
              <svg aria-hidden="true" height="16" viewBox="0 0 16 16" version="1.1" width="16" data-view-component="true" class="octicon octicon-shield UnderlineNav-octicon d-none d-sm-inline">
    <path d="M7.467.133a1.748 1.748 0 0 1 1.066 0l5.25 1.68A1.75 1.75 0 0 1 15 3.48V7c0 1.566-.32 3.182-1.303 4.682-.983 1.498-2.585 2.813-5.032 3.855a1.697 1.697 0 0 1-1.33 0c-2.447-1.042-4.049-2.357-5.032-3.855C1.32 10.182 1 8.566 1 7V3.48a1.75 1.75 0 0 1 1.217-1.667Zm.61 1.429a.25.25 0 0 0-.153 0l-5.25 1.68a.25.25 0 0 0-.174.238V7c0 1.358.275 2.666 1.057 3.86.784 1.194 2.121 2.34 4.366 3.297a.196.196 0 0 0 .154 0c2.245-.956 3.582-2.104 4.366-3.298C13.225 9.666 13.5 8.36 13.5 7V3.48a.251.251 0 0 0-.174-.237l-5.25-1.68ZM8.75 4.75v3a.75.75 0 0 1-1.5 0v-3a.75.75 0 0 1 1.5 0ZM9 10.5a1 1 0 1 1-2 0 1 1 0 0 1 2 0Z"></path>
</svg>
        <span data-content="Security">Security</span>
          <include-fragment src="/Dim4s4ufa/MSIB-K2-KelasAwanPintar/security/overall-count" accept="text/fragment+html"></include-fragment>

    
</a></li>
      <li data-view-component="true" class="d-inline-flex">
  <a id="insights-tab" href="/Dim4s4ufa/MSIB-K2-KelasAwanPintar/pulse" data-tab-item="i6insights-tab" data-selected-links="repo_graphs repo_contributors dependency_graph dependabot_updates pulse people community /Dim4s4ufa/MSIB-K2-KelasAwanPintar/pulse" data-pjax="#repo-content-pjax-container" data-turbo-frame="repo-content-turbo-frame" data-analytics-event="{&quot;category&quot;:&quot;Underline navbar&quot;,&quot;action&quot;:&quot;Click tab&quot;,&quot;label&quot;:&quot;Insights&quot;,&quot;target&quot;:&quot;UNDERLINE_NAV.TAB&quot;}" data-view-component="true" class="UnderlineNav-item no-wrap js-responsive-underlinenav-item js-selected-navigation-item">
    
              <svg aria-hidden="true" height="16" viewBox="0 0 16 16" version="1.1" width="16" data-view-component="true" class="octicon octicon-graph UnderlineNav-octicon d-none d-sm-inline">
    <path d="M1.5 1.75V13.5h13.75a.75.75 0 0 1 0 1.5H.75a.75.75 0 0 1-.75-.75V1.75a.75.75 0 0 1 1.5 0Zm14.28 2.53-5.25 5.25a.75.75 0 0 1-1.06 0L7 7.06 4.28 9.78a.751.751 0 0 1-1.042-.018.751.751 0 0 1-.018-1.042l3.25-3.25a.75.75 0 0 1 1.06 0L10 7.94l4.72-4.72a.751.751 0 0 1 1.042.018.751.751 0 0 1 .018 1.042Z"></path>
</svg>
        <span data-content="Insights">Insights</span>
          <span id="insights-repo-tab-count" data-pjax-replace="" data-turbo-replace="" title="Not available" data-view-component="true" class="Counter"></span>


    
</a></li>
</ul>
    <div style="visibility:hidden;" data-view-component="true" class="UnderlineNav-actions js-responsive-underlinenav-overflow position-absolute pr-3 pr-md-4 pr-lg-5 right-0">      <action-menu data-select-variant="none" data-view-component="true">
  <focus-group direction="vertical" mnemonics retain>
    <button id="action-menu-74449b89-5bb6-484e-b6f0-9553d7834587-button" popovertarget="action-menu-74449b89-5bb6-484e-b6f0-9553d7834587-overlay" aria-controls="action-menu-74449b89-5bb6-484e-b6f0-9553d7834587-list" aria-haspopup="true" aria-labelledby="tooltip-23cd725f-714b-421c-90a1-0f0a0a14b5e6" type="button" data-view-component="true" class="Button Button--iconOnly Button--secondary Button--medium UnderlineNav-item">  <svg aria-hidden="true" height="16" viewBox="0 0 16 16" version="1.1" width="16" data-view-component="true" class="octicon octicon-kebab-horizontal Button-visual">
    <path d="M8 9a1.5 1.5 0 1 0 0-3 1.5 1.5 0 0 0 0 3ZM1.5 9a1.5 1.5 0 1 0 0-3 1.5 1.5 0 0 0 0 3Zm13 0a1.5 1.5 0 1 0 0-3 1.5 1.5 0 0 0 0 3Z"></path>
</svg>
</button><tool-tip id="tooltip-23cd725f-714b-421c-90a1-0f0a0a14b5e6" for="action-menu-74449b89-5bb6-484e-b6f0-9553d7834587-button" popover="manual" data-direction="s" data-type="label" data-view-component="true" class="sr-only position-absolute">Additional navigation options</tool-tip>


<anchored-position id="action-menu-74449b89-5bb6-484e-b6f0-9553d7834587-overlay" anchor="action-menu-74449b89-5bb6-484e-b6f0-9553d7834587-button" align="start" side="outside-bottom" anchor-offset="normal" popover="auto" data-view-component="true">
  <div data-view-component="true" class="Overlay Overlay--size-auto">
    
      <div data-view-component="true" class="Overlay-body Overlay-body--paddingNone">          <action-list>
  <div data-view-component="true">
    <ul aria-labelledby="action-menu-74449b89-5bb6-484e-b6f0-9553d7834587-button" id="action-menu-74449b89-5bb6-484e-b6f0-9553d7834587-list" role="menu" data-view-component="true" class="ActionListWrap--inset ActionListWrap">
        <li hidden="hidden" data-menu-item="i0code-tab" data-targets="action-list.items" role="none" data-view-component="true" class="ActionListItem">
    
    
    <a tabindex="-1" id="item-2f422e59-bbe8-4fcf-a267-bf6986748120" href="/Dim4s4ufa/MSIB-K2-KelasAwanPintar" role="menuitem" data-view-component="true" class="ActionListContent ActionListContent--visual16">
        <span class="ActionListItem-visual ActionListItem-visual--leading">
          <svg aria-hidden="true" height="16" viewBox="0 0 16 16" version="1.1" width="16" data-view-component="true" class="octicon octicon-code">
    <path d="m11.28 3.22 4.25 4.25a.75.75 0 0 1 0 1.06l-4.25 4.25a.749.749 0 0 1-1.275-.326.749.749 0 0 1 .215-.734L13.94 8l-3.72-3.72a.749.749 0 0 1 .326-1.275.749.749 0 0 1 .734.215Zm-6.56 0a.751.751 0 0 1 1.042.018.751.751 0 0 1 .018 1.042L2.06 8l3.72 3.72a.749.749 0 0 1-.326 1.275.749.749 0 0 1-.734-.215L.47 8.53a.75.75 0 0 1 0-1.06Z"></path>
</svg>
        </span>
      
        <span data-view-component="true" class="ActionListItem-label">
          Code
</span>      
</a>
  
</li>
        <li hidden="hidden" data-menu-item="i1issues-tab" data-targets="action-list.items" role="none" data-view-component="true" class="ActionListItem">
    
    
    <a tabindex="-1" id="item-30b81825-46f5-44e5-9763-fc59c3fbcb08" href="/Dim4s4ufa/MSIB-K2-KelasAwanPintar/issues" role="menuitem" data-view-component="true" class="ActionListContent ActionListContent--visual16">
        <span class="ActionListItem-visual ActionListItem-visual--leading">
          <svg aria-hidden="true" height="16" viewBox="0 0 16 16" version="1.1" width="16" data-view-component="true" class="octicon octicon-issue-opened">
    <path d="M8 9.5a1.5 1.5 0 1 0 0-3 1.5 1.5 0 0 0 0 3Z"></path><path d="M8 0a8 8 0 1 1 0 16A8 8 0 0 1 8 0ZM1.5 8a6.5 6.5 0 1 0 13 0 6.5 6.5 0 0 0-13 0Z"></path>
</svg>
        </span>
      
        <span data-view-component="true" class="ActionListItem-label">
          Issues
</span>      
</a>
  
</li>
        <li hidden="hidden" data-menu-item="i2pull-requests-tab" data-targets="action-list.items" role="none" data-view-component="true" class="ActionListItem">
    
    
    <a tabindex="-1" id="item-e2a41bfe-4f30-418c-9bb9-3b349cbcfd30" href="/Dim4s4ufa/MSIB-K2-KelasAwanPintar/pulls" role="menuitem" data-view-component="true" class="ActionListContent ActionListContent--visual16">
        <span class="ActionListItem-visual ActionListItem-visual--leading">
          <svg aria-hidden="true" height="16" viewBox="0 0 16 16" version="1.1" width="16" data-view-component="true" class="octicon octicon-git-pull-request">
    <path d="M1.5 3.25a2.25 2.25 0 1 1 3 2.122v5.256a2.251 2.251 0 1 1-1.5 0V5.372A2.25 2.25 0 0 1 1.5 3.25Zm5.677-.177L9.573.677A.25.25 0 0 1 10 .854V2.5h1A2.5 2.5 0 0 1 13.5 5v5.628a2.251 2.251 0 1 1-1.5 0V5a1 1 0 0 0-1-1h-1v1.646a.25.25 0 0 1-.427.177L7.177 3.427a.25.25 0 0 1 0-.354ZM3.75 2.5a.75.75 0 1 0 0 1.5.75.75 0 0 0 0-1.5Zm0 9.5a.75.75 0 1 0 0 1.5.75.75 0 0 0 0-1.5Zm8.25.75a.75.75 0 1 0 1.5 0 .75.75 0 0 0-1.5 0Z"></path>
</svg>
        </span>
      
        <span data-view-component="true" class="ActionListItem-label">
          Pull requests
</span>      
</a>
  
</li>
        <li hidden="hidden" data-menu-item="i3actions-tab" data-targets="action-list.items" role="none" data-view-component="true" class="ActionListItem">
    
    
    <a tabindex="-1" id="item-9e7d19ed-3b37-4345-aaea-b23aa4c30102" href="/Dim4s4ufa/MSIB-K2-KelasAwanPintar/actions" role="menuitem" data-view-component="true" class="ActionListContent ActionListContent--visual16">
        <span class="ActionListItem-visual ActionListItem-visual--leading">
          <svg aria-hidden="true" height="16" viewBox="0 0 16 16" version="1.1" width="16" data-view-component="true" class="octicon octicon-play">
    <path d="M8 0a8 8 0 1 1 0 16A8 8 0 0 1 8 0ZM1.5 8a6.5 6.5 0 1 0 13 0 6.5 6.5 0 0 0-13 0Zm4.879-2.773 4.264 2.559a.25.25 0 0 1 0 .428l-4.264 2.559A.25.25 0 0 1 6 10.559V5.442a.25.25 0 0 1 .379-.215Z"></path>
</svg>
        </span>
      
        <span data-view-component="true" class="ActionListItem-label">
          Actions
</span>      
</a>
  
</li>
        <li hidden="hidden" data-menu-item="i4projects-tab" data-targets="action-list.items" role="none" data-view-component="true" class="ActionListItem">
    
    
    <a tabindex="-1" id="item-facb796e-c0ec-4752-bda7-2f10be54a7e2" href="/Dim4s4ufa/MSIB-K2-KelasAwanPintar/projects" role="menuitem" data-view-component="true" class="ActionListContent ActionListContent--visual16">
        <span class="ActionListItem-visual ActionListItem-visual--leading">
          <svg aria-hidden="true" height="16" viewBox="0 0 16 16" version="1.1" width="16" data-view-component="true" class="octicon octicon-table">
    <path d="M0 1.75C0 .784.784 0 1.75 0h12.5C15.216 0 16 .784 16 1.75v12.5A1.75 1.75 0 0 1 14.25 16H1.75A1.75 1.75 0 0 1 0 14.25ZM6.5 6.5v8h7.75a.25.25 0 0 0 .25-.25V6.5Zm8-1.5V1.75a.25.25 0 0 0-.25-.25H6.5V5Zm-13 1.5v7.75c0 .138.112.25.25.25H5v-8ZM5 5V1.5H1.75a.25.25 0 0 0-.25.25V5Z"></path>
</svg>
        </span>
      
        <span data-view-component="true" class="ActionListItem-label">
          Projects
</span>      
</a>
  
</li>
        <li hidden="hidden" data-menu-item="i5security-tab" data-targets="action-list.items" role="none" data-view-component="true" class="ActionListItem">
    
    
    <a tabindex="-1" id="item-d44f0a4f-c380-4599-a533-7fc91f2e7f44" href="/Dim4s4ufa/MSIB-K2-KelasAwanPintar/security" role="menuitem" data-view-component="true" class="ActionListContent ActionListContent--visual16">
        <span class="ActionListItem-visual ActionListItem-visual--leading">
          <svg aria-hidden="true" height="16" viewBox="0 0 16 16" version="1.1" width="16" data-view-component="true" class="octicon octicon-shield">
    <path d="M7.467.133a1.748 1.748 0 0 1 1.066 0l5.25 1.68A1.75 1.75 0 0 1 15 3.48V7c0 1.566-.32 3.182-1.303 4.682-.983 1.498-2.585 2.813-5.032 3.855a1.697 1.697 0 0 1-1.33 0c-2.447-1.042-4.049-2.357-5.032-3.855C1.32 10.182 1 8.566 1 7V3.48a1.75 1.75 0 0 1 1.217-1.667Zm.61 1.429a.25.25 0 0 0-.153 0l-5.25 1.68a.25.25 0 0 0-.174.238V7c0 1.358.275 2.666 1.057 3.86.784 1.194 2.121 2.34 4.366 3.297a.196.196 0 0 0 .154 0c2.245-.956 3.582-2.104 4.366-3.298C13.225 9.666 13.5 8.36 13.5 7V3.48a.251.251 0 0 0-.174-.237l-5.25-1.68ZM8.75 4.75v3a.75.75 0 0 1-1.5 0v-3a.75.75 0 0 1 1.5 0ZM9 10.5a1 1 0 1 1-2 0 1 1 0 0 1 2 0Z"></path>
</svg>
        </span>
      
        <span data-view-component="true" class="ActionListItem-label">
          Security
</span>      
</a>
  
</li>
        <li hidden="hidden" data-menu-item="i6insights-tab" data-targets="action-list.items" role="none" data-view-component="true" class="ActionListItem">
    
    
    <a tabindex="-1" id="item-e4d535d8-d2ae-4b0a-b385-35a9c6a3c56f" href="/Dim4s4ufa/MSIB-K2-KelasAwanPintar/pulse" role="menuitem" data-view-component="true" class="ActionListContent ActionListContent--visual16">
        <span class="ActionListItem-visual ActionListItem-visual--leading">
          <svg aria-hidden="true" height="16" viewBox="0 0 16 16" version="1.1" width="16" data-view-component="true" class="octicon octicon-graph">
    <path d="M1.5 1.75V13.5h13.75a.75.75 0 0 1 0 1.5H.75a.75.75 0 0 1-.75-.75V1.75a.75.75 0 0 1 1.5 0Zm14.28 2.53-5.25 5.25a.75.75 0 0 1-1.06 0L7 7.06 4.28 9.78a.751.751 0 0 1-1.042-.018.751.751 0 0 1-.018-1.042l3.25-3.25a.75.75 0 0 1 1.06 0L10 7.94l4.72-4.72a.751.751 0 0 1 1.042.018.751.751 0 0 1 .018 1.042Z"></path>
</svg>
        </span>
      
        <span data-view-component="true" class="ActionListItem-label">
          Insights
</span>      
</a>
  
</li>
</ul>    
</div></action-list>


</div>
      
</div></anchored-position>  </focus-group>
</action-menu></div>
</nav>
      </div>
</header>


      <div hidden="hidden" data-view-component="true" class="js-stale-session-flash stale-session-flash flash flash-warn flash-full">
  
        <svg aria-hidden="true" height="16" viewBox="0 0 16 16" version="1.1" width="16" data-view-component="true" class="octicon octicon-alert">
    <path d="M6.457 1.047c.659-1.234 2.427-1.234 3.086 0l6.082 11.378A1.75 1.75 0 0 1 14.082 15H1.918a1.75 1.75 0 0 1-1.543-2.575Zm1.763.707a.25.25 0 0 0-.44 0L1.698 13.132a.25.25 0 0 0 .22.368h12.164a.25.25 0 0 0 .22-.368Zm.53 3.996v2.5a.75.75 0 0 1-1.5 0v-2.5a.75.75 0 0 1 1.5 0ZM9 11a1 1 0 1 1-2 0 1 1 0 0 1 2 0Z"></path>
</svg>
        <span class="js-stale-session-flash-signed-in" hidden>You signed in with another tab or window. <a class="Link--inTextBlock" href="">Reload</a> to refresh your session.</span>
        <span class="js-stale-session-flash-signed-out" hidden>You signed out in another tab or window. <a class="Link--inTextBlock" href="">Reload</a> to refresh your session.</span>
        <span class="js-stale-session-flash-switched" hidden>You switched accounts on another tab or window. <a class="Link--inTextBlock" href="">Reload</a> to refresh your session.</span>

    <button id="icon-button-e622aa44-308e-4ec0-be7c-4cd6898ccf46" aria-labelledby="tooltip-b6b1c1c2-ea01-4b28-9ba3-308fc26dafee" type="button" data-view-component="true" class="Button Button--iconOnly Button--invisible Button--medium flash-close js-flash-close">  <svg aria-hidden="true" height="16" viewBox="0 0 16 16" version="1.1" width="16" data-view-component="true" class="octicon octicon-x Button-visual">
    <path d="M3.72 3.72a.75.75 0 0 1 1.06 0L8 6.94l3.22-3.22a.749.749 0 0 1 1.275.326.749.749 0 0 1-.215.734L9.06 8l3.22 3.22a.749.749 0 0 1-.326 1.275.749.749 0 0 1-.734-.215L8 9.06l-3.22 3.22a.751.751 0 0 1-1.042-.018.751.751 0 0 1-.018-1.042L6.94 8 3.72 4.78a.75.75 0 0 1 0-1.06Z"></path>
</svg>
</button><tool-tip id="tooltip-b6b1c1c2-ea01-4b28-9ba3-308fc26dafee" for="icon-button-e622aa44-308e-4ec0-be7c-4cd6898ccf46" popover="manual" data-direction="s" data-type="label" data-view-component="true" class="sr-only position-absolute">Dismiss alert</tool-tip>


  
</div>
          
    </div>

  <div id="start-of-content" class="show-on-focus"></div>








    <div id="js-flash-container" class="flash-container" data-turbo-replace>




  <template class="js-flash-template">
    
<div class="flash flash-full   {{ className }}">
  <div >
    <button autofocus class="flash-close js-flash-close" type="button" aria-label="Dismiss this message">
      <svg aria-hidden="true" height="16" viewBox="0 0 16 16" version="1.1" width="16" data-view-component="true" class="octicon octicon-x">
    <path d="M3.72 3.72a.75.75 0 0 1 1.06 0L8 6.94l3.22-3.22a.749.749 0 0 1 1.275.326.749.749 0 0 1-.215.734L9.06 8l3.22 3.22a.749.749 0 0 1-.326 1.275.749.749 0 0 1-.734-.215L8 9.06l-3.22 3.22a.751.751 0 0 1-1.042-.018.751.751 0 0 1-.018-1.042L6.94 8 3.72 4.78a.75.75 0 0 1 0-1.06Z"></path>
</svg>
    </button>
    <div aria-atomic="true" role="alert" class="js-flash-alert">
      
      <div>{{ message }}</div>

    </div>
  </div>
</div>
  </template>
</div>


    
    <notification-shelf-watcher data-base-url="https://github.com/notifications/beta/shelf" data-channel="eyJjIjoibm90aWZpY2F0aW9uLWNoYW5nZWQ6MTM3MzE2MTE5IiwidCI6MTczMTYxMzkwOX0=--8a5f2c00883e71e1d20706dc89445ecbc8e5673e634a1c56bdbbf8724c64804d" data-should-throttle="true" data-should-prevent-updates-when-inactive="true" data-view-component="true" class="js-socket-channel"></notification-shelf-watcher>
  <div hidden data-initial data-target="notification-shelf-watcher.placeholder"></div>






  <div
    class="application-main "
    data-commit-hovercards-enabled
    data-discussion-hovercards-enabled
    data-issue-and-pr-hovercards-enabled
  >
        <div itemscope itemtype="http://schema.org/SoftwareSourceCode" class="">
    <main id="js-repo-pjax-container" >
      
      






    
  <div id="repository-container-header" data-turbo-replace hidden ></div>




<turbo-frame id="repo-content-turbo-frame" target="_top" data-turbo-action="advance" class="">
    <div id="repo-content-pjax-container" class="repository-content " >
      <a href="https://github.dev/" class="d-none js-github-dev-shortcut" data-hotkey=".,Mod+Alt+.">Open in github.dev</a>
  <a href="https://github.dev/" class="d-none js-github-dev-new-tab-shortcut" data-hotkey="Shift+.,Shift+&gt;,&gt;" target="_blank" rel="noopener noreferrer">Open in a new github.dev tab</a>
    <a class="d-none" data-hotkey=",,Mod+Alt+," target="_blank" href="/codespaces/new/Dim4s4ufa/MSIB-K2-KelasAwanPintar/tree/main?resume=1">Open in codespace</a>




    
      
    








<react-app
  app-name="react-code-view"
  initial-path="/Dim4s4ufa/MSIB-K2-KelasAwanPintar/blob/main/Salinan_dari_Regresi_Logistic_Iris_Dataset.ipynb"
    class="react-app"
  data-attempted-ssr="true"
  data-ssr="true"
  data-lazy="false"
  data-alternate="false"
>
  
  <script type="application/json" data-target="react-app.embeddedData">{"payload":{"allShortcutsEnabled":true,"fileTree":{"":{"items":[{"name":"Copy_of_Introduction_to_DS.ipynb","path":"Copy_of_Introduction_to_DS.ipynb","contentType":"file"},{"name":"README.md","path":"README.md","contentType":"file"},{"name":"Salinan_dari_(Student)SL_05_Data_Aquisition.ipynb","path":"Salinan_dari_(Student)SL_05_Data_Aquisition.ipynb","contentType":"file"},{"name":"Salinan_dari_AIJ0201S2302_C01_Hierarchical_Clustering.ipynb","path":"Salinan_dari_AIJ0201S2302_C01_Hierarchical_Clustering.ipynb","contentType":"file"},{"name":"Salinan_dari_AIJ0202S2302_C01_Non_Hierarchical_Clustering.ipynb","path":"Salinan_dari_AIJ0202S2302_C01_Non_Hierarchical_Clustering.ipynb","contentType":"file"},{"name":"Salinan_dari_CNN_Indonesian_Food_Classification.ipynb","path":"Salinan_dari_CNN_Indonesian_Food_Classification.ipynb","contentType":"file"},{"name":"Salinan_dari_DL_Chatbot_Student.ipynb","path":"Salinan_dari_DL_Chatbot_Student.ipynb","contentType":"file"},{"name":"Salinan_dari_DS05_Market_Basket_Analysis.ipynb","path":"Salinan_dari_DS05_Market_Basket_Analysis.ipynb","contentType":"file"},{"name":"Salinan_dari_Data_Preprocessing_in_Action.ipynb","path":"Salinan_dari_Data_Preprocessing_in_Action.ipynb","contentType":"file"},{"name":"Salinan_dari_Dimensionality_Reduction.ipynb","path":"Salinan_dari_Dimensionality_Reduction.ipynb","contentType":"file"},{"name":"Salinan_dari_JM_Rule_Based_Chatbot.ipynb","path":"Salinan_dari_JM_Rule_Based_Chatbot.ipynb","contentType":"file"},{"name":"Salinan_dari_Klasifikasi_Bunga_Iris_(Model_Decision_Tree).ipynb","path":"Salinan_dari_Klasifikasi_Bunga_Iris_(Model_Decision_Tree).ipynb","contentType":"file"},{"name":"Salinan_dari_Latihan_statistical_test.ipynb","path":"Salinan_dari_Latihan_statistical_test.ipynb","contentType":"file"},{"name":"Salinan_dari_ML_1_Korelasi_dan_Regresi.ipynb","path":"Salinan_dari_ML_1_Korelasi_dan_Regresi.ipynb","contentType":"file"},{"name":"Salinan_dari_ML_2_Classification_using_k_NN.ipynb","path":"Salinan_dari_ML_2_Classification_using_k_NN.ipynb","contentType":"file"},{"name":"Salinan_dari_ML_2_Regresi_Lanjutan.ipynb","path":"Salinan_dari_ML_2_Regresi_Lanjutan.ipynb","contentType":"file"},{"name":"Salinan_dari_ML_3_Classification_using_Decision_Tree.ipynb","path":"Salinan_dari_ML_3_Classification_using_Decision_Tree.ipynb","contentType":"file"},{"name":"Salinan_dari_ML_7_Deep_Learning.ipynb","path":"Salinan_dari_ML_7_Deep_Learning.ipynb","contentType":"file"},{"name":"Salinan_dari_Python_1_Let's_Start_Coding.ipynb","path":"Salinan_dari_Python_1_Let's_Start_Coding.ipynb","contentType":"file"},{"name":"Salinan_dari_Python_2_MyFirstProgram_py.ipynb","path":"Salinan_dari_Python_2_MyFirstProgram_py.ipynb","contentType":"file"},{"name":"Salinan_dari_Python_3__Container_list,_tupple,_set.ipynb","path":"Salinan_dari_Python_3__Container_list,_tupple,_set.ipynb","contentType":"file"},{"name":"Salinan_dari_Python_4__Container_Dictionary_and_Numpy.ipynb","path":"Salinan_dari_Python_4__Container_Dictionary_and_Numpy.ipynb","contentType":"file"},{"name":"Salinan_dari_Python_5_Flow_Control.ipynb","path":"Salinan_dari_Python_5_Flow_Control.ipynb","contentType":"file"},{"name":"Salinan_dari_Python_6_Don't_Repeat_Yourself.ipynb","path":"Salinan_dari_Python_6_Don't_Repeat_Yourself.ipynb","contentType":"file"},{"name":"Salinan_dari_Python_7_Handling_AI_Source_of_Power.ipynb","path":"Salinan_dari_Python_7_Handling_AI_Source_of_Power.ipynb","contentType":"file"},{"name":"Salinan_dari_RB_03_Data_Exploration_NLP_(Coach).ipynb","path":"Salinan_dari_RB_03_Data_Exploration_NLP_(Coach).ipynb","contentType":"file"},{"name":"Salinan_dari_Regresi_Logistic_Iris_Dataset.ipynb","path":"Salinan_dari_Regresi_Logistic_Iris_Dataset.ipynb","contentType":"file"},{"name":"Salinan_dari_SL_04_Regular_Expression.ipynb","path":"Salinan_dari_SL_04_Regular_Expression.ipynb","contentType":"file"},{"name":"Salinan_dari_SL_NLP_4_Self_Learning_Sentiment_Analysis_Python.ipynb","path":"Salinan_dari_SL_NLP_4_Self_Learning_Sentiment_Analysis_Python.ipynb","contentType":"file"},{"name":"Salinan_dari_SVM_Iris_Dataset.ipynb","path":"Salinan_dari_SVM_Iris_Dataset.ipynb","contentType":"file"},{"name":"Salinan_dari_Self_Learning_pelabelan_dan_pembuatan_WordCloud.ipynb","path":"Salinan_dari_Self_Learning_pelabelan_dan_pembuatan_WordCloud.ipynb","contentType":"file"},{"name":"Salinan_dari_Siklus_2_Data_Exploration.ipynb","path":"Salinan_dari_Siklus_2_Data_Exploration.ipynb","contentType":"file"},{"name":"Salinan_dari_Student_Transfer_Learning.ipynb","path":"Salinan_dari_Student_Transfer_Learning.ipynb","contentType":"file"},{"name":"Salinan_dari_YOLOv4_tiny_Darknet_Deteksi_Masker.ipynb","path":"Salinan_dari_YOLOv4_tiny_Darknet_Deteksi_Masker.ipynb","contentType":"file"},{"name":"Salinan_dari_Yolo_v11_custom_dataset_by_rasyidev.ipynb","path":"Salinan_dari_Yolo_v11_custom_dataset_by_rasyidev.ipynb","contentType":"file"},{"name":"Salinan_dari_[Student]_Revised_Object_Detection_Haar_Cascade_Hands_On.ipynb","path":"Salinan_dari_[Student]_Revised_Object_Detection_Haar_Cascade_Hands_On.ipynb","contentType":"file"},{"name":"Salinan_dari_simple_data_pre_processing_steps.ipynb","path":"Salinan_dari_simple_data_pre_processing_steps.ipynb","contentType":"file"}],"totalCount":37}},"fileTreeProcessingTime":2.541248,"foldersToFetch":[],"repo":{"id":858687523,"defaultBranch":"main","name":"MSIB-K2-KelasAwanPintar","ownerLogin":"Dim4s4ufa","currentUserCanPush":false,"isFork":false,"isEmpty":false,"createdAt":"2024-09-17T18:07:23.000+07:00","ownerAvatar":"https://avatars.githubusercontent.com/u/136666104?v=4","public":true,"private":false,"isOrgOwned":false},"codeLineWrapEnabled":false,"symbolsExpanded":false,"treeExpanded":true,"refInfo":{"name":"main","listCacheKey":"v0:1726571243.0","canEdit":true,"refType":"branch","currentOid":"0b024ebe0624af64477a37d96d7f7f9b72326a0f"},"path":"Salinan_dari_Regresi_Logistic_Iris_Dataset.ipynb","currentUser":{"id":137316119,"login":"FreddyMernanda16","userEmail":"freddyalpa7@gmail.com"},"blob":{"rawLines":["{","  \"nbformat\": 4,","  \"nbformat_minor\": 0,","  \"metadata\": {","    \"colab\": {","      \"provenance\": [],","      \"include_colab_link\": true","    },","    \"kernelspec\": {","      \"name\": \"python3\",","      \"display_name\": \"Python 3\"","    },","    \"language_info\": {","      \"name\": \"python\"","    }","  },","  \"cells\": [","    {","      \"cell_type\": \"markdown\",","      \"metadata\": {","        \"id\": \"view-in-github\",","        \"colab_type\": \"text\"","      },","      \"source\": [","        \"\u003ca href=\\\"https://colab.research.google.com/github/Dim4s4ufa/MSIB-K2-KelasAwanPintar/blob/main/Salinan_dari_Regresi_Logistic_Iris_Dataset.ipynb\\\" target=\\\"_parent\\\"\u003e\u003cimg src=\\\"https://colab.research.google.com/assets/colab-badge.svg\\\" alt=\\\"Open In Colab\\\"/\u003e\u003c/a\u003e\"","      ]","    },","    {","      \"cell_type\": \"markdown\",","      \"source\": [","        \"## **REMINDER**\\n\",","        \"Sebelum memulai pembelajaran self-learning jangan lupa berdoa ya teman-teman dan perhatikan:\\n\",","        \"1. Jika menggunakan Jupyter Notebook, silahkan pilih \\\"File\\\" --\u003e \\\"Download\\\" --\u003e \\\"Download .ipynb\\\"\\n\",","        \"2. Jika menggunakan Colab, silahkan pilih \\\"File\\\" --\u003e \\\"Save a copy in drive\\\"\"","      ],","      \"metadata\": {","        \"id\": \"7QGyB9qAZgke\"","      }","    },","    {","      \"cell_type\": \"markdown\",","      \"source\": [","        \"## Klasifikasi Iris Dataset menggunakan Logistic Regression\"","      ],","      \"metadata\": {","        \"id\": \"cJGrsy2nicg3\"","      }","    },","    {","      \"cell_type\": \"markdown\",","      \"source\": [","        \"Pada modul kali ini, kita akan melakukan klasifikasi untuk dataset iris dengan menggunakan algoritma Regresi Logistik. Adapun prediksi didasarkan pada fitur/karakteristik dari bunga Iris, yaitu: Sepal Length, Sepal Width, Petal Length, Petal Width yang sudah memiliki kelas (species). Kelasnya adalah iris-setosa, iris-virginica, iris-versicolor.\"","      ],","      \"metadata\": {","        \"id\": \"suOPv9G3ZxDt\"","      }","    },","    {","      \"cell_type\": \"markdown\",","      \"source\": [","        \"#**MODUL REGRESI LOGISTIK**\"","      ],","      \"metadata\": {","        \"id\": \"UKH5nmMyZkVv\"","      }","    },","    {","      \"cell_type\": \"markdown\",","      \"source\": [","        \"## 1. Impor Library/Packages\"","      ],","      \"metadata\": {","        \"id\": \"X58N-oyPZJOB\"","      }","    },","    {","      \"cell_type\": \"code\",","      \"source\": [","        \"import matplotlib.pyplot as plt\\n\",","        \"import pandas as pd\\n\",","        \"from sklearn.linear_model import LogisticRegression\\n\",","        \"from sklearn.metrics import classification_report\\n\",","        \"from sklearn.metrics import accuracy_score\\n\",","        \"from sklearn.model_selection import train_test_split\"","      ],","      \"metadata\": {","        \"id\": \"O2J6P_3HZD6S\"","      },","      \"execution_count\": null,","      \"outputs\": []","    },","    {","      \"cell_type\": \"markdown\",","      \"source\": [","        \"## 2. Load Dataset\"","      ],","      \"metadata\": {","        \"id\": \"XxXeHLnnZVsn\"","      }","    },","    {","      \"cell_type\": \"markdown\",","      \"source\": [","        \"Dataset dapat diakses di sini: [Iris.csv](https://drive.google.com/file/d/1NsJdTJgFmVTg9YS2UpJq9EDTWM3JirwI/view?usp=sharing)\"","      ],","      \"metadata\": {","        \"id\": \"lPm49d5FdIIq\"","      }","    },","    {","      \"cell_type\": \"code\",","      \"source\": [","        \"#Membaca dataset\\n\",","        \"dataset = pd.read_csv(\\\"Iris (1).csv\\\")\\n\",","        \"\\n\",","        \"#Tampilan 5 data teratas\\n\",","        \"dataset.head()\"","      ],","      \"metadata\": {","        \"colab\": {","          \"base_uri\": \"https://localhost:8080/\",","          \"height\": 206","        },","        \"id\": \"zyLw_oauZUFp\",","        \"outputId\": \"0e62e485-d569-4124-d88b-5eccca0bb3b0\"","      },","      \"execution_count\": null,","      \"outputs\": [","        {","          \"output_type\": \"execute_result\",","          \"data\": {","            \"text/plain\": [","              \"   Id  SepalLengthCm  SepalWidthCm  PetalLengthCm  PetalWidthCm      Species\\n\",","              \"0   1            5.1           3.5            1.4           0.2  Iris-setosa\\n\",","              \"1   2            4.9           3.0            1.4           0.2  Iris-setosa\\n\",","              \"2   3            4.7           3.2            1.3           0.2  Iris-setosa\\n\",","              \"3   4            4.6           3.1            1.5           0.2  Iris-setosa\\n\",","              \"4   5            5.0           3.6            1.4           0.2  Iris-setosa\"","            ],","            \"text/html\": [","              \"\\n\",","              \"  \u003cdiv id=\\\"df-778f12d6-aa76-4aac-b2d4-90436d875cf2\\\" class=\\\"colab-df-container\\\"\u003e\\n\",","              \"    \u003cdiv\u003e\\n\",","              \"\u003cstyle scoped\u003e\\n\",","              \"    .dataframe tbody tr th:only-of-type {\\n\",","              \"        vertical-align: middle;\\n\",","              \"    }\\n\",","              \"\\n\",","              \"    .dataframe tbody tr th {\\n\",","              \"        vertical-align: top;\\n\",","              \"    }\\n\",","              \"\\n\",","              \"    .dataframe thead th {\\n\",","              \"        text-align: right;\\n\",","              \"    }\\n\",","              \"\u003c/style\u003e\\n\",","              \"\u003ctable border=\\\"1\\\" class=\\\"dataframe\\\"\u003e\\n\",","              \"  \u003cthead\u003e\\n\",","              \"    \u003ctr style=\\\"text-align: right;\\\"\u003e\\n\",","              \"      \u003cth\u003e\u003c/th\u003e\\n\",","              \"      \u003cth\u003eId\u003c/th\u003e\\n\",","              \"      \u003cth\u003eSepalLengthCm\u003c/th\u003e\\n\",","              \"      \u003cth\u003eSepalWidthCm\u003c/th\u003e\\n\",","              \"      \u003cth\u003ePetalLengthCm\u003c/th\u003e\\n\",","              \"      \u003cth\u003ePetalWidthCm\u003c/th\u003e\\n\",","              \"      \u003cth\u003eSpecies\u003c/th\u003e\\n\",","              \"    \u003c/tr\u003e\\n\",","              \"  \u003c/thead\u003e\\n\",","              \"  \u003ctbody\u003e\\n\",","              \"    \u003ctr\u003e\\n\",","              \"      \u003cth\u003e0\u003c/th\u003e\\n\",","              \"      \u003ctd\u003e1\u003c/td\u003e\\n\",","              \"      \u003ctd\u003e5.1\u003c/td\u003e\\n\",","              \"      \u003ctd\u003e3.5\u003c/td\u003e\\n\",","              \"      \u003ctd\u003e1.4\u003c/td\u003e\\n\",","              \"      \u003ctd\u003e0.2\u003c/td\u003e\\n\",","              \"      \u003ctd\u003eIris-setosa\u003c/td\u003e\\n\",","              \"    \u003c/tr\u003e\\n\",","              \"    \u003ctr\u003e\\n\",","              \"      \u003cth\u003e1\u003c/th\u003e\\n\",","              \"      \u003ctd\u003e2\u003c/td\u003e\\n\",","              \"      \u003ctd\u003e4.9\u003c/td\u003e\\n\",","              \"      \u003ctd\u003e3.0\u003c/td\u003e\\n\",","              \"      \u003ctd\u003e1.4\u003c/td\u003e\\n\",","              \"      \u003ctd\u003e0.2\u003c/td\u003e\\n\",","              \"      \u003ctd\u003eIris-setosa\u003c/td\u003e\\n\",","              \"    \u003c/tr\u003e\\n\",","              \"    \u003ctr\u003e\\n\",","              \"      \u003cth\u003e2\u003c/th\u003e\\n\",","              \"      \u003ctd\u003e3\u003c/td\u003e\\n\",","              \"      \u003ctd\u003e4.7\u003c/td\u003e\\n\",","              \"      \u003ctd\u003e3.2\u003c/td\u003e\\n\",","              \"      \u003ctd\u003e1.3\u003c/td\u003e\\n\",","              \"      \u003ctd\u003e0.2\u003c/td\u003e\\n\",","              \"      \u003ctd\u003eIris-setosa\u003c/td\u003e\\n\",","              \"    \u003c/tr\u003e\\n\",","              \"    \u003ctr\u003e\\n\",","              \"      \u003cth\u003e3\u003c/th\u003e\\n\",","              \"      \u003ctd\u003e4\u003c/td\u003e\\n\",","              \"      \u003ctd\u003e4.6\u003c/td\u003e\\n\",","              \"      \u003ctd\u003e3.1\u003c/td\u003e\\n\",","              \"      \u003ctd\u003e1.5\u003c/td\u003e\\n\",","              \"      \u003ctd\u003e0.2\u003c/td\u003e\\n\",","              \"      \u003ctd\u003eIris-setosa\u003c/td\u003e\\n\",","              \"    \u003c/tr\u003e\\n\",","              \"    \u003ctr\u003e\\n\",","              \"      \u003cth\u003e4\u003c/th\u003e\\n\",","              \"      \u003ctd\u003e5\u003c/td\u003e\\n\",","              \"      \u003ctd\u003e5.0\u003c/td\u003e\\n\",","              \"      \u003ctd\u003e3.6\u003c/td\u003e\\n\",","              \"      \u003ctd\u003e1.4\u003c/td\u003e\\n\",","              \"      \u003ctd\u003e0.2\u003c/td\u003e\\n\",","              \"      \u003ctd\u003eIris-setosa\u003c/td\u003e\\n\",","              \"    \u003c/tr\u003e\\n\",","              \"  \u003c/tbody\u003e\\n\",","              \"\u003c/table\u003e\\n\",","              \"\u003c/div\u003e\\n\",","              \"    \u003cdiv class=\\\"colab-df-buttons\\\"\u003e\\n\",","              \"\\n\",","              \"  \u003cdiv class=\\\"colab-df-container\\\"\u003e\\n\",","              \"    \u003cbutton class=\\\"colab-df-convert\\\" onclick=\\\"convertToInteractive('df-778f12d6-aa76-4aac-b2d4-90436d875cf2')\\\"\\n\",","              \"            title=\\\"Convert this dataframe to an interactive table.\\\"\\n\",","              \"            style=\\\"display:none;\\\"\u003e\\n\",","              \"\\n\",","              \"  \u003csvg xmlns=\\\"http://www.w3.org/2000/svg\\\" height=\\\"24px\\\" viewBox=\\\"0 -960 960 960\\\"\u003e\\n\",","              \"    \u003cpath d=\\\"M120-120v-720h720v720H120Zm60-500h600v-160H180v160Zm220 220h160v-160H400v160Zm0 220h160v-160H400v160ZM180-400h160v-160H180v160Zm440 0h160v-160H620v160ZM180-180h160v-160H180v160Zm440 0h160v-160H620v160Z\\\"/\u003e\\n\",","              \"  \u003c/svg\u003e\\n\",","              \"    \u003c/button\u003e\\n\",","              \"\\n\",","              \"  \u003cstyle\u003e\\n\",","              \"    .colab-df-container {\\n\",","              \"      display:flex;\\n\",","              \"      gap: 12px;\\n\",","              \"    }\\n\",","              \"\\n\",","              \"    .colab-df-convert {\\n\",","              \"      background-color: #E8F0FE;\\n\",","              \"      border: none;\\n\",","              \"      border-radius: 50%;\\n\",","              \"      cursor: pointer;\\n\",","              \"      display: none;\\n\",","              \"      fill: #1967D2;\\n\",","              \"      height: 32px;\\n\",","              \"      padding: 0 0 0 0;\\n\",","              \"      width: 32px;\\n\",","              \"    }\\n\",","              \"\\n\",","              \"    .colab-df-convert:hover {\\n\",","              \"      background-color: #E2EBFA;\\n\",","              \"      box-shadow: 0px 1px 2px rgba(60, 64, 67, 0.3), 0px 1px 3px 1px rgba(60, 64, 67, 0.15);\\n\",","              \"      fill: #174EA6;\\n\",","              \"    }\\n\",","              \"\\n\",","              \"    .colab-df-buttons div {\\n\",","              \"      margin-bottom: 4px;\\n\",","              \"    }\\n\",","              \"\\n\",","              \"    [theme=dark] .colab-df-convert {\\n\",","              \"      background-color: #3B4455;\\n\",","              \"      fill: #D2E3FC;\\n\",","              \"    }\\n\",","              \"\\n\",","              \"    [theme=dark] .colab-df-convert:hover {\\n\",","              \"      background-color: #434B5C;\\n\",","              \"      box-shadow: 0px 1px 3px 1px rgba(0, 0, 0, 0.15);\\n\",","              \"      filter: drop-shadow(0px 1px 2px rgba(0, 0, 0, 0.3));\\n\",","              \"      fill: #FFFFFF;\\n\",","              \"    }\\n\",","              \"  \u003c/style\u003e\\n\",","              \"\\n\",","              \"    \u003cscript\u003e\\n\",","              \"      const buttonEl =\\n\",","              \"        document.querySelector('#df-778f12d6-aa76-4aac-b2d4-90436d875cf2 button.colab-df-convert');\\n\",","              \"      buttonEl.style.display =\\n\",","              \"        google.colab.kernel.accessAllowed ? 'block' : 'none';\\n\",","              \"\\n\",","              \"      async function convertToInteractive(key) {\\n\",","              \"        const element = document.querySelector('#df-778f12d6-aa76-4aac-b2d4-90436d875cf2');\\n\",","              \"        const dataTable =\\n\",","              \"          await google.colab.kernel.invokeFunction('convertToInteractive',\\n\",","              \"                                                    [key], {});\\n\",","              \"        if (!dataTable) return;\\n\",","              \"\\n\",","              \"        const docLinkHtml = 'Like what you see? Visit the ' +\\n\",","              \"          '\u003ca target=\\\"_blank\\\" href=https://colab.research.google.com/notebooks/data_table.ipynb\u003edata table notebook\u003c/a\u003e'\\n\",","              \"          + ' to learn more about interactive tables.';\\n\",","              \"        element.innerHTML = '';\\n\",","              \"        dataTable['output_type'] = 'display_data';\\n\",","              \"        await google.colab.output.renderOutput(dataTable, element);\\n\",","              \"        const docLink = document.createElement('div');\\n\",","              \"        docLink.innerHTML = docLinkHtml;\\n\",","              \"        element.appendChild(docLink);\\n\",","              \"      }\\n\",","              \"    \u003c/script\u003e\\n\",","              \"  \u003c/div\u003e\\n\",","              \"\\n\",","              \"\\n\",","              \"\u003cdiv id=\\\"df-f9d77d30-1f6f-4f9b-9257-e51fbf4810fc\\\"\u003e\\n\",","              \"  \u003cbutton class=\\\"colab-df-quickchart\\\" onclick=\\\"quickchart('df-f9d77d30-1f6f-4f9b-9257-e51fbf4810fc')\\\"\\n\",","              \"            title=\\\"Suggest charts\\\"\\n\",","              \"            style=\\\"display:none;\\\"\u003e\\n\",","              \"\\n\",","              \"\u003csvg xmlns=\\\"http://www.w3.org/2000/svg\\\" height=\\\"24px\\\"viewBox=\\\"0 0 24 24\\\"\\n\",","              \"     width=\\\"24px\\\"\u003e\\n\",","              \"    \u003cg\u003e\\n\",","              \"        \u003cpath d=\\\"M19 3H5c-1.1 0-2 .9-2 2v14c0 1.1.9 2 2 2h14c1.1 0 2-.9 2-2V5c0-1.1-.9-2-2-2zM9 17H7v-7h2v7zm4 0h-2V7h2v10zm4 0h-2v-4h2v4z\\\"/\u003e\\n\",","              \"    \u003c/g\u003e\\n\",","              \"\u003c/svg\u003e\\n\",","              \"  \u003c/button\u003e\\n\",","              \"\\n\",","              \"\u003cstyle\u003e\\n\",","              \"  .colab-df-quickchart {\\n\",","              \"      --bg-color: #E8F0FE;\\n\",","              \"      --fill-color: #1967D2;\\n\",","              \"      --hover-bg-color: #E2EBFA;\\n\",","              \"      --hover-fill-color: #174EA6;\\n\",","              \"      --disabled-fill-color: #AAA;\\n\",","              \"      --disabled-bg-color: #DDD;\\n\",","              \"  }\\n\",","              \"\\n\",","              \"  [theme=dark] .colab-df-quickchart {\\n\",","              \"      --bg-color: #3B4455;\\n\",","              \"      --fill-color: #D2E3FC;\\n\",","              \"      --hover-bg-color: #434B5C;\\n\",","              \"      --hover-fill-color: #FFFFFF;\\n\",","              \"      --disabled-bg-color: #3B4455;\\n\",","              \"      --disabled-fill-color: #666;\\n\",","              \"  }\\n\",","              \"\\n\",","              \"  .colab-df-quickchart {\\n\",","              \"    background-color: var(--bg-color);\\n\",","              \"    border: none;\\n\",","              \"    border-radius: 50%;\\n\",","              \"    cursor: pointer;\\n\",","              \"    display: none;\\n\",","              \"    fill: var(--fill-color);\\n\",","              \"    height: 32px;\\n\",","              \"    padding: 0;\\n\",","              \"    width: 32px;\\n\",","              \"  }\\n\",","              \"\\n\",","              \"  .colab-df-quickchart:hover {\\n\",","              \"    background-color: var(--hover-bg-color);\\n\",","              \"    box-shadow: 0 1px 2px rgba(60, 64, 67, 0.3), 0 1px 3px 1px rgba(60, 64, 67, 0.15);\\n\",","              \"    fill: var(--button-hover-fill-color);\\n\",","              \"  }\\n\",","              \"\\n\",","              \"  .colab-df-quickchart-complete:disabled,\\n\",","              \"  .colab-df-quickchart-complete:disabled:hover {\\n\",","              \"    background-color: var(--disabled-bg-color);\\n\",","              \"    fill: var(--disabled-fill-color);\\n\",","              \"    box-shadow: none;\\n\",","              \"  }\\n\",","              \"\\n\",","              \"  .colab-df-spinner {\\n\",","              \"    border: 2px solid var(--fill-color);\\n\",","              \"    border-color: transparent;\\n\",","              \"    border-bottom-color: var(--fill-color);\\n\",","              \"    animation:\\n\",","              \"      spin 1s steps(1) infinite;\\n\",","              \"  }\\n\",","              \"\\n\",","              \"  @keyframes spin {\\n\",","              \"    0% {\\n\",","              \"      border-color: transparent;\\n\",","              \"      border-bottom-color: var(--fill-color);\\n\",","              \"      border-left-color: var(--fill-color);\\n\",","              \"    }\\n\",","              \"    20% {\\n\",","              \"      border-color: transparent;\\n\",","              \"      border-left-color: var(--fill-color);\\n\",","              \"      border-top-color: var(--fill-color);\\n\",","              \"    }\\n\",","              \"    30% {\\n\",","              \"      border-color: transparent;\\n\",","              \"      border-left-color: var(--fill-color);\\n\",","              \"      border-top-color: var(--fill-color);\\n\",","              \"      border-right-color: var(--fill-color);\\n\",","              \"    }\\n\",","              \"    40% {\\n\",","              \"      border-color: transparent;\\n\",","              \"      border-right-color: var(--fill-color);\\n\",","              \"      border-top-color: var(--fill-color);\\n\",","              \"    }\\n\",","              \"    60% {\\n\",","              \"      border-color: transparent;\\n\",","              \"      border-right-color: var(--fill-color);\\n\",","              \"    }\\n\",","              \"    80% {\\n\",","              \"      border-color: transparent;\\n\",","              \"      border-right-color: var(--fill-color);\\n\",","              \"      border-bottom-color: var(--fill-color);\\n\",","              \"    }\\n\",","              \"    90% {\\n\",","              \"      border-color: transparent;\\n\",","              \"      border-bottom-color: var(--fill-color);\\n\",","              \"    }\\n\",","              \"  }\\n\",","              \"\u003c/style\u003e\\n\",","              \"\\n\",","              \"  \u003cscript\u003e\\n\",","              \"    async function quickchart(key) {\\n\",","              \"      const quickchartButtonEl =\\n\",","              \"        document.querySelector('#' + key + ' button');\\n\",","              \"      quickchartButtonEl.disabled = true;  // To prevent multiple clicks.\\n\",","              \"      quickchartButtonEl.classList.add('colab-df-spinner');\\n\",","              \"      try {\\n\",","              \"        const charts = await google.colab.kernel.invokeFunction(\\n\",","              \"            'suggestCharts', [key], {});\\n\",","              \"      } catch (error) {\\n\",","              \"        console.error('Error during call to suggestCharts:', error);\\n\",","              \"      }\\n\",","              \"      quickchartButtonEl.classList.remove('colab-df-spinner');\\n\",","              \"      quickchartButtonEl.classList.add('colab-df-quickchart-complete');\\n\",","              \"    }\\n\",","              \"    (() =\u003e {\\n\",","              \"      let quickchartButtonEl =\\n\",","              \"        document.querySelector('#df-f9d77d30-1f6f-4f9b-9257-e51fbf4810fc button');\\n\",","              \"      quickchartButtonEl.style.display =\\n\",","              \"        google.colab.kernel.accessAllowed ? 'block' : 'none';\\n\",","              \"    })();\\n\",","              \"  \u003c/script\u003e\\n\",","              \"\u003c/div\u003e\\n\",","              \"\\n\",","              \"    \u003c/div\u003e\\n\",","              \"  \u003c/div\u003e\\n\"","            ],","            \"application/vnd.google.colaboratory.intrinsic+json\": {","              \"type\": \"dataframe\",","              \"variable_name\": \"dataset\",","              \"summary\": \"{\\n  \\\"name\\\": \\\"dataset\\\",\\n  \\\"rows\\\": 150,\\n  \\\"fields\\\": [\\n    {\\n      \\\"column\\\": \\\"Id\\\",\\n      \\\"properties\\\": {\\n        \\\"dtype\\\": \\\"number\\\",\\n        \\\"std\\\": 43,\\n        \\\"min\\\": 1,\\n        \\\"max\\\": 150,\\n        \\\"num_unique_values\\\": 150,\\n        \\\"samples\\\": [\\n          74,\\n          19,\\n          119\\n        ],\\n        \\\"semantic_type\\\": \\\"\\\",\\n        \\\"description\\\": \\\"\\\"\\n      }\\n    },\\n    {\\n      \\\"column\\\": \\\"SepalLengthCm\\\",\\n      \\\"properties\\\": {\\n        \\\"dtype\\\": \\\"number\\\",\\n        \\\"std\\\": 0.828066127977863,\\n        \\\"min\\\": 4.3,\\n        \\\"max\\\": 7.9,\\n        \\\"num_unique_values\\\": 35,\\n        \\\"samples\\\": [\\n          6.2,\\n          4.5,\\n          5.6\\n        ],\\n        \\\"semantic_type\\\": \\\"\\\",\\n        \\\"description\\\": \\\"\\\"\\n      }\\n    },\\n    {\\n      \\\"column\\\": \\\"SepalWidthCm\\\",\\n      \\\"properties\\\": {\\n        \\\"dtype\\\": \\\"number\\\",\\n        \\\"std\\\": 0.4335943113621737,\\n        \\\"min\\\": 2.0,\\n        \\\"max\\\": 4.4,\\n        \\\"num_unique_values\\\": 23,\\n        \\\"samples\\\": [\\n          2.3,\\n          4.0,\\n          3.5\\n        ],\\n        \\\"semantic_type\\\": \\\"\\\",\\n        \\\"description\\\": \\\"\\\"\\n      }\\n    },\\n    {\\n      \\\"column\\\": \\\"PetalLengthCm\\\",\\n      \\\"properties\\\": {\\n        \\\"dtype\\\": \\\"number\\\",\\n        \\\"std\\\": 1.7644204199522626,\\n        \\\"min\\\": 1.0,\\n        \\\"max\\\": 6.9,\\n        \\\"num_unique_values\\\": 43,\\n        \\\"samples\\\": [\\n          6.7,\\n          3.8,\\n          3.7\\n        ],\\n        \\\"semantic_type\\\": \\\"\\\",\\n        \\\"description\\\": \\\"\\\"\\n      }\\n    },\\n    {\\n      \\\"column\\\": \\\"PetalWidthCm\\\",\\n      \\\"properties\\\": {\\n        \\\"dtype\\\": \\\"number\\\",\\n        \\\"std\\\": 0.7631607417008411,\\n        \\\"min\\\": 0.1,\\n        \\\"max\\\": 2.5,\\n        \\\"num_unique_values\\\": 22,\\n        \\\"samples\\\": [\\n          0.2,\\n          1.2,\\n          1.3\\n        ],\\n        \\\"semantic_type\\\": \\\"\\\",\\n        \\\"description\\\": \\\"\\\"\\n      }\\n    },\\n    {\\n      \\\"column\\\": \\\"Species\\\",\\n      \\\"properties\\\": {\\n        \\\"dtype\\\": \\\"category\\\",\\n        \\\"num_unique_values\\\": 3,\\n        \\\"samples\\\": [\\n          \\\"Iris-setosa\\\",\\n          \\\"Iris-versicolor\\\",\\n          \\\"Iris-virginica\\\"\\n        ],\\n        \\\"semantic_type\\\": \\\"\\\",\\n        \\\"description\\\": \\\"\\\"\\n      }\\n    }\\n  ]\\n}\"","            }","          },","          \"metadata\": {},","          \"execution_count\": 5","        }","      ]","    },","    {","      \"cell_type\": \"markdown\",","      \"source\": [","        \"## 3. Data Preprocessing\"","      ],","      \"metadata\": {","        \"id\": \"NWopyPBJgp9v\"","      }","    },","    {","      \"cell_type\": \"markdown\",","      \"source\": [],","      \"metadata\": {","        \"id\": \"293Na0pYimqM\"","      }","    },","    {","      \"cell_type\": \"code\",","      \"source\": [","        \"#Mengecek apakah dataset memiliki nilai NaN\\n\",","        \"dataset.isna().values.any()\"","      ],","      \"metadata\": {","        \"colab\": {","          \"base_uri\": \"https://localhost:8080/\"","        },","        \"id\": \"zI4S_C4GZs1k\",","        \"outputId\": \"5096b2a4-b401-41d6-a0ab-764d185f04c7\"","      },","      \"execution_count\": null,","      \"outputs\": [","        {","          \"output_type\": \"execute_result\",","          \"data\": {","            \"text/plain\": [","              \"False\"","            ]","          },","          \"metadata\": {},","          \"execution_count\": 6","        }","      ]","    },","    {","      \"cell_type\": \"markdown\",","      \"source\": [","        \"Pengecekan nilai NaN dilakukan untuk melihat apakah ada data yang tidak memiliki nilai atau NaN. Jika ada, lakukan pengisian terhadap nilai kosong dengan variabel 0. Akan tetapi, pada data ini tertulis false yang berarti semua data memiliki nilai sehingga dapat langsung diproses.\"","      ],","      \"metadata\": {","        \"id\": \"vovuZRqRhx2j\"","      }","    },","    {","      \"cell_type\": \"markdown\",","      \"source\": [","        \"Untuk mempermudah melihat fitur-fitur yang terdapat pada dataset, kita dapat menggunakan fungsi dtypes.\"","      ],","      \"metadata\": {","        \"id\": \"l6TraE5Uiq2b\"","      }","    },","    {","      \"cell_type\": \"code\",","      \"source\": [","        \"#Mengecek fitur yang digunakan\\n\",","        \"print(dataset.dtypes)\"","      ],","      \"metadata\": {","        \"colab\": {","          \"base_uri\": \"https://localhost:8080/\"","        },","        \"id\": \"sxNhH37Ybdci\",","        \"outputId\": \"7d0afb6a-5531-40c4-f230-5d8d5e8a8395\"","      },","      \"execution_count\": null,","      \"outputs\": [","        {","          \"output_type\": \"stream\",","          \"name\": \"stdout\",","          \"text\": [","            \"Id                 int64\\n\",","            \"SepalLengthCm    float64\\n\",","            \"SepalWidthCm     float64\\n\",","            \"PetalLengthCm    float64\\n\",","            \"PetalWidthCm     float64\\n\",","            \"Species           object\\n\",","            \"dtype: object\\n\"","          ]","        }","      ]","    },","    {","      \"cell_type\": \"code\",","      \"source\": [","        \"#Splitting Data fitur dan label(target)\\n\",","        \"X = dataset.iloc[:, :-1] #X = memilih semua fitur kecuali kolom terakhir\\n\",","        \"y = dataset.iloc[:, -1] #y = memilih target yaitu kolom terakhir\"","      ],","      \"metadata\": {","        \"id\": \"SkrJf68_bwWp\"","      },","      \"execution_count\": null,","      \"outputs\": []","    },","    {","      \"cell_type\": \"code\",","      \"source\": [","        \"#Plotting relasi anata variabel fitur dan target\\n\",","        \"plt.xlabel(\\\"Features\\\")\\n\",","        \"plt.ylabel(\\\"Species\\\")\\n\",","        \"\\n\",","        \"pltX = dataset.loc[:, \\\"SepalLengthCm\\\"]\\n\",","        \"pltY = dataset.loc[:, \\\"Species\\\"]\\n\",","        \"plt.scatter(pltX, pltY, color=\\\"blue\\\", label=\\\"SepalLengthCm\\\")\\n\",","        \"\\n\",","        \"pltX = dataset.loc[:, \\\"SepalWidthCm\\\"]\\n\",","        \"pltY = dataset.loc[:, \\\"Species\\\"]\\n\",","        \"plt.scatter(pltX, pltY, color=\\\"green\\\", label=\\\"SepalWidthCm\\\")\\n\",","        \"\\n\",","        \"pltX = dataset.loc[:, \\\"PetalLengthCm\\\"]\\n\",","        \"pltY = dataset.loc[:, \\\"Species\\\"]\\n\",","        \"plt.scatter(pltX, pltY, color=\\\"red\\\", label=\\\"PetalLengthCm\\\")\\n\",","        \"\\n\",","        \"pltX = dataset.loc[:, \\\"PetalWidthCm\\\"]\\n\",","        \"pltY = dataset.loc[:, \\\"Species\\\"]\\n\",","        \"plt.scatter(pltX, pltY, color=\\\"black\\\", label=\\\"PetalWidthCm\\\")\"","      ],","      \"metadata\": {","        \"colab\": {","          \"base_uri\": \"https://localhost:8080/\",","          \"height\": 467","        },","        \"id\": \"TcxjskSQcA7o\",","        \"outputId\": \"8e627c6b-c2ad-4d92-dd52-3e753c0e2fc2\"","      },","      \"execution_count\": null,","      \"outputs\": [","        {","          \"output_type\": \"execute_result\",","          \"data\": {","            \"text/plain\": [","              \"\u003cmatplotlib.collections.PathCollection at 0x7ee60aacddb0\u003e\"","            ]","          },","          \"metadata\": {},","          \"execution_count\": 9","        },","        {","          \"output_type\": \"display_data\",","          \"data\": {","            \"text/plain\": [","              \"\u003cFigure size 640x480 with 1 Axes\u003e\"","            ],","            \"image/png\": \"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\\n\"","          },","          \"metadata\": {}","        }","      ]","    },","    {","      \"cell_type\": \"markdown\",","      \"source\": [","        \"## 4. Pemisahan data untuk training dan testing\"","      ],","      \"metadata\": {","        \"id\": \"ogsGzJWegzKb\"","      }","    },","    {","      \"cell_type\": \"markdown\",","      \"source\": [","        \"Tahapan selanjutnya adalah melakukan pemisahan data untuk training dan testing. Hal ini diperlukan agar kita bisa melihat bagaimana algoritma belajar untuk melakukan prediksi pada testing data. Kita akan membagi data menjadi 80% training dan 20% testing menggunakan fungsi train_test_split() dari sklearn.model_selection.\"","      ],","      \"metadata\": {","        \"id\": \"eR68fACJgsaD\"","      }","    },","    {","      \"cell_type\": \"code\",","      \"source\": [","        \"#Data dibagi menjadi 80% untuk training dan 20% untuk testing\\n\",","        \"X_train, X_test, y_train, y_test = train_test_split(X, y, test_size=0.2, random_state=42)\"","      ],","      \"metadata\": {","        \"id\": \"-rOHh5ancc6_\"","      },","      \"execution_count\": null,","      \"outputs\": []","    },","    {","      \"cell_type\": \"markdown\",","      \"source\": [","        \"## 5. Modelling\"","      ],","      \"metadata\": {","        \"id\": \"zzkc3puhhAT6\"","      }","    },","    {","      \"cell_type\": \"markdown\",","      \"source\": [","        \"Pada tahapan ini yang dilakukan adalah mentraining data yang ada menggunakan algoritma logistic regression. Berikut cara membuat dan melatih logistic regression model.\"","      ],","      \"metadata\": {","        \"id\": \"fLAonjcZhi0D\"","      }","    },","    {","      \"cell_type\": \"code\",","      \"source\": [","        \"#train the model\\n\",","        \"model = LogisticRegression()\\n\",","        \"model.fit(X_train, y_train)\"","      ],","      \"metadata\": {","        \"colab\": {","          \"base_uri\": \"https://localhost:8080/\",","          \"height\": 245","        },","        \"id\": \"xxZv3qa5g-ub\",","        \"outputId\": \"e04a8f5a-7f31-4307-d5c7-0ef8164de5f7\"","      },","      \"execution_count\": null,","      \"outputs\": [","        {","          \"output_type\": \"stream\",","          \"name\": \"stderr\",","          \"text\": [","            \"/usr/local/lib/python3.10/dist-packages/sklearn/linear_model/_logistic.py:469: ConvergenceWarning: lbfgs failed to converge (status=1):\\n\",","            \"STOP: TOTAL NO. of ITERATIONS REACHED LIMIT.\\n\",","            \"\\n\",","            \"Increase the number of iterations (max_iter) or scale the data as shown in:\\n\",","            \"    https://scikit-learn.org/stable/modules/preprocessing.html\\n\",","            \"Please also refer to the documentation for alternative solver options:\\n\",","            \"    https://scikit-learn.org/stable/modules/linear_model.html#logistic-regression\\n\",","            \"  n_iter_i = _check_optimize_result(\\n\"","          ]","        },","        {","          \"output_type\": \"execute_result\",","          \"data\": {","            \"text/plain\": [","              \"LogisticRegression()\"","            ],","            \"text/html\": [","              \"\u003cstyle\u003e#sk-container-id-1 {\\n\",","              \"  /* Definition of color scheme common for light and dark mode */\\n\",","              \"  --sklearn-color-text: black;\\n\",","              \"  --sklearn-color-line: gray;\\n\",","              \"  /* Definition of color scheme for unfitted estimators */\\n\",","              \"  --sklearn-color-unfitted-level-0: #fff5e6;\\n\",","              \"  --sklearn-color-unfitted-level-1: #f6e4d2;\\n\",","              \"  --sklearn-color-unfitted-level-2: #ffe0b3;\\n\",","              \"  --sklearn-color-unfitted-level-3: chocolate;\\n\",","              \"  /* Definition of color scheme for fitted estimators */\\n\",","              \"  --sklearn-color-fitted-level-0: #f0f8ff;\\n\",","              \"  --sklearn-color-fitted-level-1: #d4ebff;\\n\",","              \"  --sklearn-color-fitted-level-2: #b3dbfd;\\n\",","              \"  --sklearn-color-fitted-level-3: cornflowerblue;\\n\",","              \"\\n\",","              \"  /* Specific color for light theme */\\n\",","              \"  --sklearn-color-text-on-default-background: var(--sg-text-color, var(--theme-code-foreground, var(--jp-content-font-color1, black)));\\n\",","              \"  --sklearn-color-background: var(--sg-background-color, var(--theme-background, var(--jp-layout-color0, white)));\\n\",","              \"  --sklearn-color-border-box: var(--sg-text-color, var(--theme-code-foreground, var(--jp-content-font-color1, black)));\\n\",","              \"  --sklearn-color-icon: #696969;\\n\",","              \"\\n\",","              \"  @media (prefers-color-scheme: dark) {\\n\",","              \"    /* Redefinition of color scheme for dark theme */\\n\",","              \"    --sklearn-color-text-on-default-background: var(--sg-text-color, var(--theme-code-foreground, var(--jp-content-font-color1, white)));\\n\",","              \"    --sklearn-color-background: var(--sg-background-color, var(--theme-background, var(--jp-layout-color0, #111)));\\n\",","              \"    --sklearn-color-border-box: var(--sg-text-color, var(--theme-code-foreground, var(--jp-content-font-color1, white)));\\n\",","              \"    --sklearn-color-icon: #878787;\\n\",","              \"  }\\n\",","              \"}\\n\",","              \"\\n\",","              \"#sk-container-id-1 {\\n\",","              \"  color: var(--sklearn-color-text);\\n\",","              \"}\\n\",","              \"\\n\",","              \"#sk-container-id-1 pre {\\n\",","              \"  padding: 0;\\n\",","              \"}\\n\",","              \"\\n\",","              \"#sk-container-id-1 input.sk-hidden--visually {\\n\",","              \"  border: 0;\\n\",","              \"  clip: rect(1px 1px 1px 1px);\\n\",","              \"  clip: rect(1px, 1px, 1px, 1px);\\n\",","              \"  height: 1px;\\n\",","              \"  margin: -1px;\\n\",","              \"  overflow: hidden;\\n\",","              \"  padding: 0;\\n\",","              \"  position: absolute;\\n\",","              \"  width: 1px;\\n\",","              \"}\\n\",","              \"\\n\",","              \"#sk-container-id-1 div.sk-dashed-wrapped {\\n\",","              \"  border: 1px dashed var(--sklearn-color-line);\\n\",","              \"  margin: 0 0.4em 0.5em 0.4em;\\n\",","              \"  box-sizing: border-box;\\n\",","              \"  padding-bottom: 0.4em;\\n\",","              \"  background-color: var(--sklearn-color-background);\\n\",","              \"}\\n\",","              \"\\n\",","              \"#sk-container-id-1 div.sk-container {\\n\",","              \"  /* jupyter's `normalize.less` sets `[hidden] { display: none; }`\\n\",","              \"     but bootstrap.min.css set `[hidden] { display: none !important; }`\\n\",","              \"     so we also need the `!important` here to be able to override the\\n\",","              \"     default hidden behavior on the sphinx rendered scikit-learn.org.\\n\",","              \"     See: https://github.com/scikit-learn/scikit-learn/issues/21755 */\\n\",","              \"  display: inline-block !important;\\n\",","              \"  position: relative;\\n\",","              \"}\\n\",","              \"\\n\",","              \"#sk-container-id-1 div.sk-text-repr-fallback {\\n\",","              \"  display: none;\\n\",","              \"}\\n\",","              \"\\n\",","              \"div.sk-parallel-item,\\n\",","              \"div.sk-serial,\\n\",","              \"div.sk-item {\\n\",","              \"  /* draw centered vertical line to link estimators */\\n\",","              \"  background-image: linear-gradient(var(--sklearn-color-text-on-default-background), var(--sklearn-color-text-on-default-background));\\n\",","              \"  background-size: 2px 100%;\\n\",","              \"  background-repeat: no-repeat;\\n\",","              \"  background-position: center center;\\n\",","              \"}\\n\",","              \"\\n\",","              \"/* Parallel-specific style estimator block */\\n\",","              \"\\n\",","              \"#sk-container-id-1 div.sk-parallel-item::after {\\n\",","              \"  content: \\\"\\\";\\n\",","              \"  width: 100%;\\n\",","              \"  border-bottom: 2px solid var(--sklearn-color-text-on-default-background);\\n\",","              \"  flex-grow: 1;\\n\",","              \"}\\n\",","              \"\\n\",","              \"#sk-container-id-1 div.sk-parallel {\\n\",","              \"  display: flex;\\n\",","              \"  align-items: stretch;\\n\",","              \"  justify-content: center;\\n\",","              \"  background-color: var(--sklearn-color-background);\\n\",","              \"  position: relative;\\n\",","              \"}\\n\",","              \"\\n\",","              \"#sk-container-id-1 div.sk-parallel-item {\\n\",","              \"  display: flex;\\n\",","              \"  flex-direction: column;\\n\",","              \"}\\n\",","              \"\\n\",","              \"#sk-container-id-1 div.sk-parallel-item:first-child::after {\\n\",","              \"  align-self: flex-end;\\n\",","              \"  width: 50%;\\n\",","              \"}\\n\",","              \"\\n\",","              \"#sk-container-id-1 div.sk-parallel-item:last-child::after {\\n\",","              \"  align-self: flex-start;\\n\",","              \"  width: 50%;\\n\",","              \"}\\n\",","              \"\\n\",","              \"#sk-container-id-1 div.sk-parallel-item:only-child::after {\\n\",","              \"  width: 0;\\n\",","              \"}\\n\",","              \"\\n\",","              \"/* Serial-specific style estimator block */\\n\",","              \"\\n\",","              \"#sk-container-id-1 div.sk-serial {\\n\",","              \"  display: flex;\\n\",","              \"  flex-direction: column;\\n\",","              \"  align-items: center;\\n\",","              \"  background-color: var(--sklearn-color-background);\\n\",","              \"  padding-right: 1em;\\n\",","              \"  padding-left: 1em;\\n\",","              \"}\\n\",","              \"\\n\",","              \"\\n\",","              \"/* Toggleable style: style used for estimator/Pipeline/ColumnTransformer box that is\\n\",","              \"clickable and can be expanded/collapsed.\\n\",","              \"- Pipeline and ColumnTransformer use this feature and define the default style\\n\",","              \"- Estimators will overwrite some part of the style using the `sk-estimator` class\\n\",","              \"*/\\n\",","              \"\\n\",","              \"/* Pipeline and ColumnTransformer style (default) */\\n\",","              \"\\n\",","              \"#sk-container-id-1 div.sk-toggleable {\\n\",","              \"  /* Default theme specific background. It is overwritten whether we have a\\n\",","              \"  specific estimator or a Pipeline/ColumnTransformer */\\n\",","              \"  background-color: var(--sklearn-color-background);\\n\",","              \"}\\n\",","              \"\\n\",","              \"/* Toggleable label */\\n\",","              \"#sk-container-id-1 label.sk-toggleable__label {\\n\",","              \"  cursor: pointer;\\n\",","              \"  display: block;\\n\",","              \"  width: 100%;\\n\",","              \"  margin-bottom: 0;\\n\",","              \"  padding: 0.5em;\\n\",","              \"  box-sizing: border-box;\\n\",","              \"  text-align: center;\\n\",","              \"}\\n\",","              \"\\n\",","              \"#sk-container-id-1 label.sk-toggleable__label-arrow:before {\\n\",","              \"  /* Arrow on the left of the label */\\n\",","              \"  content: \\\"▸\\\";\\n\",","              \"  float: left;\\n\",","              \"  margin-right: 0.25em;\\n\",","              \"  color: var(--sklearn-color-icon);\\n\",","              \"}\\n\",","              \"\\n\",","              \"#sk-container-id-1 label.sk-toggleable__label-arrow:hover:before {\\n\",","              \"  color: var(--sklearn-color-text);\\n\",","              \"}\\n\",","              \"\\n\",","              \"/* Toggleable content - dropdown */\\n\",","              \"\\n\",","              \"#sk-container-id-1 div.sk-toggleable__content {\\n\",","              \"  max-height: 0;\\n\",","              \"  max-width: 0;\\n\",","              \"  overflow: hidden;\\n\",","              \"  text-align: left;\\n\",","              \"  /* unfitted */\\n\",","              \"  background-color: var(--sklearn-color-unfitted-level-0);\\n\",","              \"}\\n\",","              \"\\n\",","              \"#sk-container-id-1 div.sk-toggleable__content.fitted {\\n\",","              \"  /* fitted */\\n\",","              \"  background-color: var(--sklearn-color-fitted-level-0);\\n\",","              \"}\\n\",","              \"\\n\",","              \"#sk-container-id-1 div.sk-toggleable__content pre {\\n\",","              \"  margin: 0.2em;\\n\",","              \"  border-radius: 0.25em;\\n\",","              \"  color: var(--sklearn-color-text);\\n\",","              \"  /* unfitted */\\n\",","              \"  background-color: var(--sklearn-color-unfitted-level-0);\\n\",","              \"}\\n\",","              \"\\n\",","              \"#sk-container-id-1 div.sk-toggleable__content.fitted pre {\\n\",","              \"  /* unfitted */\\n\",","              \"  background-color: var(--sklearn-color-fitted-level-0);\\n\",","              \"}\\n\",","              \"\\n\",","              \"#sk-container-id-1 input.sk-toggleable__control:checked~div.sk-toggleable__content {\\n\",","              \"  /* Expand drop-down */\\n\",","              \"  max-height: 200px;\\n\",","              \"  max-width: 100%;\\n\",","              \"  overflow: auto;\\n\",","              \"}\\n\",","              \"\\n\",","              \"#sk-container-id-1 input.sk-toggleable__control:checked~label.sk-toggleable__label-arrow:before {\\n\",","              \"  content: \\\"▾\\\";\\n\",","              \"}\\n\",","              \"\\n\",","              \"/* Pipeline/ColumnTransformer-specific style */\\n\",","              \"\\n\",","              \"#sk-container-id-1 div.sk-label input.sk-toggleable__control:checked~label.sk-toggleable__label {\\n\",","              \"  color: var(--sklearn-color-text);\\n\",","              \"  background-color: var(--sklearn-color-unfitted-level-2);\\n\",","              \"}\\n\",","              \"\\n\",","              \"#sk-container-id-1 div.sk-label.fitted input.sk-toggleable__control:checked~label.sk-toggleable__label {\\n\",","              \"  background-color: var(--sklearn-color-fitted-level-2);\\n\",","              \"}\\n\",","              \"\\n\",","              \"/* Estimator-specific style */\\n\",","              \"\\n\",","              \"/* Colorize estimator box */\\n\",","              \"#sk-container-id-1 div.sk-estimator input.sk-toggleable__control:checked~label.sk-toggleable__label {\\n\",","              \"  /* unfitted */\\n\",","              \"  background-color: var(--sklearn-color-unfitted-level-2);\\n\",","              \"}\\n\",","              \"\\n\",","              \"#sk-container-id-1 div.sk-estimator.fitted input.sk-toggleable__control:checked~label.sk-toggleable__label {\\n\",","              \"  /* fitted */\\n\",","              \"  background-color: var(--sklearn-color-fitted-level-2);\\n\",","              \"}\\n\",","              \"\\n\",","              \"#sk-container-id-1 div.sk-label label.sk-toggleable__label,\\n\",","              \"#sk-container-id-1 div.sk-label label {\\n\",","              \"  /* The background is the default theme color */\\n\",","              \"  color: var(--sklearn-color-text-on-default-background);\\n\",","              \"}\\n\",","              \"\\n\",","              \"/* On hover, darken the color of the background */\\n\",","              \"#sk-container-id-1 div.sk-label:hover label.sk-toggleable__label {\\n\",","              \"  color: var(--sklearn-color-text);\\n\",","              \"  background-color: var(--sklearn-color-unfitted-level-2);\\n\",","              \"}\\n\",","              \"\\n\",","              \"/* Label box, darken color on hover, fitted */\\n\",","              \"#sk-container-id-1 div.sk-label.fitted:hover label.sk-toggleable__label.fitted {\\n\",","              \"  color: var(--sklearn-color-text);\\n\",","              \"  background-color: var(--sklearn-color-fitted-level-2);\\n\",","              \"}\\n\",","              \"\\n\",","              \"/* Estimator label */\\n\",","              \"\\n\",","              \"#sk-container-id-1 div.sk-label label {\\n\",","              \"  font-family: monospace;\\n\",","              \"  font-weight: bold;\\n\",","              \"  display: inline-block;\\n\",","              \"  line-height: 1.2em;\\n\",","              \"}\\n\",","              \"\\n\",","              \"#sk-container-id-1 div.sk-label-container {\\n\",","              \"  text-align: center;\\n\",","              \"}\\n\",","              \"\\n\",","              \"/* Estimator-specific */\\n\",","              \"#sk-container-id-1 div.sk-estimator {\\n\",","              \"  font-family: monospace;\\n\",","              \"  border: 1px dotted var(--sklearn-color-border-box);\\n\",","              \"  border-radius: 0.25em;\\n\",","              \"  box-sizing: border-box;\\n\",","              \"  margin-bottom: 0.5em;\\n\",","              \"  /* unfitted */\\n\",","              \"  background-color: var(--sklearn-color-unfitted-level-0);\\n\",","              \"}\\n\",","              \"\\n\",","              \"#sk-container-id-1 div.sk-estimator.fitted {\\n\",","              \"  /* fitted */\\n\",","              \"  background-color: var(--sklearn-color-fitted-level-0);\\n\",","              \"}\\n\",","              \"\\n\",","              \"/* on hover */\\n\",","              \"#sk-container-id-1 div.sk-estimator:hover {\\n\",","              \"  /* unfitted */\\n\",","              \"  background-color: var(--sklearn-color-unfitted-level-2);\\n\",","              \"}\\n\",","              \"\\n\",","              \"#sk-container-id-1 div.sk-estimator.fitted:hover {\\n\",","              \"  /* fitted */\\n\",","              \"  background-color: var(--sklearn-color-fitted-level-2);\\n\",","              \"}\\n\",","              \"\\n\",","              \"/* Specification for estimator info (e.g. \\\"i\\\" and \\\"?\\\") */\\n\",","              \"\\n\",","              \"/* Common style for \\\"i\\\" and \\\"?\\\" */\\n\",","              \"\\n\",","              \".sk-estimator-doc-link,\\n\",","              \"a:link.sk-estimator-doc-link,\\n\",","              \"a:visited.sk-estimator-doc-link {\\n\",","              \"  float: right;\\n\",","              \"  font-size: smaller;\\n\",","              \"  line-height: 1em;\\n\",","              \"  font-family: monospace;\\n\",","              \"  background-color: var(--sklearn-color-background);\\n\",","              \"  border-radius: 1em;\\n\",","              \"  height: 1em;\\n\",","              \"  width: 1em;\\n\",","              \"  text-decoration: none !important;\\n\",","              \"  margin-left: 1ex;\\n\",","              \"  /* unfitted */\\n\",","              \"  border: var(--sklearn-color-unfitted-level-1) 1pt solid;\\n\",","              \"  color: var(--sklearn-color-unfitted-level-1);\\n\",","              \"}\\n\",","              \"\\n\",","              \".sk-estimator-doc-link.fitted,\\n\",","              \"a:link.sk-estimator-doc-link.fitted,\\n\",","              \"a:visited.sk-estimator-doc-link.fitted {\\n\",","              \"  /* fitted */\\n\",","              \"  border: var(--sklearn-color-fitted-level-1) 1pt solid;\\n\",","              \"  color: var(--sklearn-color-fitted-level-1);\\n\",","              \"}\\n\",","              \"\\n\",","              \"/* On hover */\\n\",","              \"div.sk-estimator:hover .sk-estimator-doc-link:hover,\\n\",","              \".sk-estimator-doc-link:hover,\\n\",","              \"div.sk-label-container:hover .sk-estimator-doc-link:hover,\\n\",","              \".sk-estimator-doc-link:hover {\\n\",","              \"  /* unfitted */\\n\",","              \"  background-color: var(--sklearn-color-unfitted-level-3);\\n\",","              \"  color: var(--sklearn-color-background);\\n\",","              \"  text-decoration: none;\\n\",","              \"}\\n\",","              \"\\n\",","              \"div.sk-estimator.fitted:hover .sk-estimator-doc-link.fitted:hover,\\n\",","              \".sk-estimator-doc-link.fitted:hover,\\n\",","              \"div.sk-label-container:hover .sk-estimator-doc-link.fitted:hover,\\n\",","              \".sk-estimator-doc-link.fitted:hover {\\n\",","              \"  /* fitted */\\n\",","              \"  background-color: var(--sklearn-color-fitted-level-3);\\n\",","              \"  color: var(--sklearn-color-background);\\n\",","              \"  text-decoration: none;\\n\",","              \"}\\n\",","              \"\\n\",","              \"/* Span, style for the box shown on hovering the info icon */\\n\",","              \".sk-estimator-doc-link span {\\n\",","              \"  display: none;\\n\",","              \"  z-index: 9999;\\n\",","              \"  position: relative;\\n\",","              \"  font-weight: normal;\\n\",","              \"  right: .2ex;\\n\",","              \"  padding: .5ex;\\n\",","              \"  margin: .5ex;\\n\",","              \"  width: min-content;\\n\",","              \"  min-width: 20ex;\\n\",","              \"  max-width: 50ex;\\n\",","              \"  color: var(--sklearn-color-text);\\n\",","              \"  box-shadow: 2pt 2pt 4pt #999;\\n\",","              \"  /* unfitted */\\n\",","              \"  background: var(--sklearn-color-unfitted-level-0);\\n\",","              \"  border: .5pt solid var(--sklearn-color-unfitted-level-3);\\n\",","              \"}\\n\",","              \"\\n\",","              \".sk-estimator-doc-link.fitted span {\\n\",","              \"  /* fitted */\\n\",","              \"  background: var(--sklearn-color-fitted-level-0);\\n\",","              \"  border: var(--sklearn-color-fitted-level-3);\\n\",","              \"}\\n\",","              \"\\n\",","              \".sk-estimator-doc-link:hover span {\\n\",","              \"  display: block;\\n\",","              \"}\\n\",","              \"\\n\",","              \"/* \\\"?\\\"-specific style due to the `\u003ca\u003e` HTML tag */\\n\",","              \"\\n\",","              \"#sk-container-id-1 a.estimator_doc_link {\\n\",","              \"  float: right;\\n\",","              \"  font-size: 1rem;\\n\",","              \"  line-height: 1em;\\n\",","              \"  font-family: monospace;\\n\",","              \"  background-color: var(--sklearn-color-background);\\n\",","              \"  border-radius: 1rem;\\n\",","              \"  height: 1rem;\\n\",","              \"  width: 1rem;\\n\",","              \"  text-decoration: none;\\n\",","              \"  /* unfitted */\\n\",","              \"  color: var(--sklearn-color-unfitted-level-1);\\n\",","              \"  border: var(--sklearn-color-unfitted-level-1) 1pt solid;\\n\",","              \"}\\n\",","              \"\\n\",","              \"#sk-container-id-1 a.estimator_doc_link.fitted {\\n\",","              \"  /* fitted */\\n\",","              \"  border: var(--sklearn-color-fitted-level-1) 1pt solid;\\n\",","              \"  color: var(--sklearn-color-fitted-level-1);\\n\",","              \"}\\n\",","              \"\\n\",","              \"/* On hover */\\n\",","              \"#sk-container-id-1 a.estimator_doc_link:hover {\\n\",","              \"  /* unfitted */\\n\",","              \"  background-color: var(--sklearn-color-unfitted-level-3);\\n\",","              \"  color: var(--sklearn-color-background);\\n\",","              \"  text-decoration: none;\\n\",","              \"}\\n\",","              \"\\n\",","              \"#sk-container-id-1 a.estimator_doc_link.fitted:hover {\\n\",","              \"  /* fitted */\\n\",","              \"  background-color: var(--sklearn-color-fitted-level-3);\\n\",","              \"}\\n\",","              \"\u003c/style\u003e\u003cdiv id=\\\"sk-container-id-1\\\" class=\\\"sk-top-container\\\"\u003e\u003cdiv class=\\\"sk-text-repr-fallback\\\"\u003e\u003cpre\u003eLogisticRegression()\u003c/pre\u003e\u003cb\u003eIn a Jupyter environment, please rerun this cell to show the HTML representation or trust the notebook. \u003cbr /\u003eOn GitHub, the HTML representation is unable to render, please try loading this page with nbviewer.org.\u003c/b\u003e\u003c/div\u003e\u003cdiv class=\\\"sk-container\\\" hidden\u003e\u003cdiv class=\\\"sk-item\\\"\u003e\u003cdiv class=\\\"sk-estimator fitted sk-toggleable\\\"\u003e\u003cinput class=\\\"sk-toggleable__control sk-hidden--visually\\\" id=\\\"sk-estimator-id-1\\\" type=\\\"checkbox\\\" checked\u003e\u003clabel for=\\\"sk-estimator-id-1\\\" class=\\\"sk-toggleable__label fitted sk-toggleable__label-arrow fitted\\\"\u003e\u0026nbsp;\u0026nbsp;LogisticRegression\u003ca class=\\\"sk-estimator-doc-link fitted\\\" rel=\\\"noreferrer\\\" target=\\\"_blank\\\" href=\\\"https://scikit-learn.org/1.5/modules/generated/sklearn.linear_model.LogisticRegression.html\\\"\u003e?\u003cspan\u003eDocumentation for LogisticRegression\u003c/span\u003e\u003c/a\u003e\u003cspan class=\\\"sk-estimator-doc-link fitted\\\"\u003ei\u003cspan\u003eFitted\u003c/span\u003e\u003c/span\u003e\u003c/label\u003e\u003cdiv class=\\\"sk-toggleable__content fitted\\\"\u003e\u003cpre\u003eLogisticRegression()\u003c/pre\u003e\u003c/div\u003e \u003c/div\u003e\u003c/div\u003e\u003c/div\u003e\u003c/div\u003e\"","            ]","          },","          \"metadata\": {},","          \"execution_count\": 11","        }","      ]","    },","    {","      \"cell_type\": \"markdown\",","      \"source\": [","        \"Setelah model dilatih, tahapan berikutnya adalah melakukan prediksi untuk melihat bagaimana performa model logistic regression terhadap testing data.\"","      ],","      \"metadata\": {","        \"id\": \"x7zdv4j2h58a\"","      }","    },","    {","      \"cell_type\": \"code\",","      \"source\": [","        \"#test the model\\n\",","        \"predictions = model.predict(X_test)\\n\",","        \"print(predictions)\\n\",","        \"\\n\",","        \"print()\"","      ],","      \"metadata\": {","        \"colab\": {","          \"base_uri\": \"https://localhost:8080/\"","        },","        \"id\": \"AHS9IO49hJ0o\",","        \"outputId\": \"516357b9-4dae-43b9-b4e8-dd7541600b87\"","      },","      \"execution_count\": null,","      \"outputs\": [","        {","          \"output_type\": \"stream\",","          \"name\": \"stdout\",","          \"text\": [","            \"['Iris-versicolor' 'Iris-setosa' 'Iris-virginica' 'Iris-versicolor'\\n\",","            \" 'Iris-versicolor' 'Iris-setosa' 'Iris-versicolor' 'Iris-virginica'\\n\",","            \" 'Iris-versicolor' 'Iris-versicolor' 'Iris-virginica' 'Iris-setosa'\\n\",","            \" 'Iris-setosa' 'Iris-setosa' 'Iris-setosa' 'Iris-versicolor'\\n\",","            \" 'Iris-virginica' 'Iris-versicolor' 'Iris-versicolor' 'Iris-virginica'\\n\",","            \" 'Iris-setosa' 'Iris-virginica' 'Iris-setosa' 'Iris-virginica'\\n\",","            \" 'Iris-virginica' 'Iris-virginica' 'Iris-virginica' 'Iris-virginica'\\n\",","            \" 'Iris-setosa' 'Iris-setosa']\\n\",","            \"\\n\"","          ]","        }","      ]","    },","    {","      \"cell_type\": \"markdown\",","      \"source\": [","        \"## 6. Evaluasi Model\"","      ],","      \"metadata\": {","        \"id\": \"gGnQ4tZqfc6H\"","      }","    },","    {","      \"cell_type\": \"markdown\",","      \"source\": [","        \"Untuk mempermudah dalam melihat performa atau kinerja dari model, kita akan menggunakan beberapa metrics seperti precision, recall, f1-score.\"","      ],","      \"metadata\": {","        \"id\": \"YvdYNDPfiBll\"","      }","    },","    {","      \"cell_type\": \"code\",","      \"source\": [","        \"#Mengevaluasi kinerja model dengan metrices precision, recall, f1-score\\n\",","        \"print(classification_report(y_test, predictions))\\n\",","        \"print(\\\"accuracy: \\\", accuracy_score(y_test, predictions))\"","      ],","      \"metadata\": {","        \"colab\": {","          \"base_uri\": \"https://localhost:8080/\"","        },","        \"id\": \"aY_0WiNefdHp\",","        \"outputId\": \"4de161d1-93d6-4c81-fa18-15ff3fb7b584\"","      },","      \"execution_count\": null,","      \"outputs\": [","        {","          \"output_type\": \"stream\",","          \"name\": \"stdout\",","          \"text\": [","            \"                 precision    recall  f1-score   support\\n\",","            \"\\n\",","            \"    Iris-setosa       1.00      1.00      1.00        10\\n\",","            \"Iris-versicolor       1.00      1.00      1.00         9\\n\",","            \" Iris-virginica       1.00      1.00      1.00        11\\n\",","            \"\\n\",","            \"       accuracy                           1.00        30\\n\",","            \"      macro avg       1.00      1.00      1.00        30\\n\",","            \"   weighted avg       1.00      1.00      1.00        30\\n\",","            \"\\n\",","            \"accuracy:  1.0\\n\"","          ]","        }","      ]","    },","    {","      \"cell_type\": \"markdown\",","      \"source\": [","        \"That's it! Teman-teman sudah berhasil melakukan klasifikasi sederhana menggunakan logistic regression terhadap spesies tumbuhan Iris.\"","      ],","      \"metadata\": {","        \"id\": \"dO9aAkdYhQ5v\"","      }","    },","    {","      \"cell_type\": \"markdown\",","      \"source\": [","        \"Referensi:\\n\",","        \"\\n\",","        \"\\n\",","        \"*   https://mitaartmitaart.medium.com/klasifikasi-logistic-regression-menggunakan-python-iris-dataset-278ce9da2c25\"","      ],","      \"metadata\": {","        \"id\": \"3T47uTa2g58H\"","      }","    }","  ]","}"],"stylingDirectives":null,"colorizedLines":null,"csv":null,"csvError":null,"dependabotInfo":{"showConfigurationBanner":false,"configFilePath":null,"networkDependabotPath":"/Dim4s4ufa/MSIB-K2-KelasAwanPintar/network/updates","dismissConfigurationNoticePath":"/settings/dismiss-notice/dependabot_configuration_notice","configurationNoticeDismissed":false},"displayName":"Salinan_dari_Regresi_Logistic_Iris_Dataset.ipynb","displayUrl":"https://notebooks.githubusercontent.com/view/ipynb?browser=chrome\u0026bypass_fastly=true\u0026color_mode=auto\u0026commit=0b024ebe0624af64477a37d96d7f7f9b72326a0f\u0026device=unknown_device\u0026docs_host=https%3A%2F%2Fdocs.github.com\u0026enc_url=68747470733a2f2f7261772e67697468756275736572636f6e74656e742e636f6d2f44696d3473347566612f4d5349422d4b322d4b656c61734177616e50696e7461722f306230323465626530363234616636343437376133376439366437663766396237323332366130662f53616c696e616e5f646172695f526567726573695f4c6f6769737469635f497269735f446174617365742e6970796e62\u0026logged_in=true\u0026nwo=Dim4s4ufa%2FMSIB-K2-KelasAwanPintar\u0026path=Salinan_dari_Regresi_Logistic_Iris_Dataset.ipynb\u0026platform=windows\u0026repository_id=858687523\u0026repository_type=Repository\u0026version=130","headerInfo":{"blobSize":"76.2 KB","deleteTooltip":"Fork this repository and delete the file","editTooltip":"Fork this repository and edit the file","ghDesktopPath":"https://desktop.github.com","isGitLfs":false,"onBranch":true,"shortPath":"d18cc50","siteNavLoginPath":"/login?return_to=https%3A%2F%2Fgithub.com%2FDim4s4ufa%2FMSIB-K2-KelasAwanPintar%2Fblob%2Fmain%2FSalinan_dari_Regresi_Logistic_Iris_Dataset.ipynb","isCSV":false,"isRichtext":false,"toc":null,"lineInfo":{"truncatedLoc":"1215","truncatedSloc":"1215"},"mode":"file"},"image":false,"isCodeownersFile":null,"isPlain":false,"isValidLegacyIssueTemplate":false,"issueTemplate":null,"discussionTemplate":null,"language":"Jupyter Notebook","languageID":185,"large":false,"planSupportInfo":{"repoIsFork":null,"repoOwnedByCurrentUser":null,"requestFullPath":"/Dim4s4ufa/MSIB-K2-KelasAwanPintar/blob/main/Salinan_dari_Regresi_Logistic_Iris_Dataset.ipynb","showFreeOrgGatedFeatureMessage":null,"showPlanSupportBanner":null,"upgradeDataAttributes":null,"upgradePath":null},"publishBannersInfo":{"dismissActionNoticePath":"/settings/dismiss-notice/publish_action_from_dockerfile","releasePath":"/Dim4s4ufa/MSIB-K2-KelasAwanPintar/releases/new?marketplace=true","showPublishActionBanner":false},"rawBlobUrl":"https://github.com/Dim4s4ufa/MSIB-K2-KelasAwanPintar/raw/refs/heads/main/Salinan_dari_Regresi_Logistic_Iris_Dataset.ipynb","renderImageOrRaw":false,"richText":null,"renderedFileInfo":{"identityUUID":"f14aec1e-7bcf-4eaf-bd07-3f352e604b0c","renderFileType":"ipynb","size":78006},"shortPath":null,"symbolsEnabled":true,"tabSize":8,"topBannersInfo":{"overridingGlobalFundingFile":false,"globalPreferredFundingPath":null,"showInvalidCitationWarning":false,"citationHelpUrl":"https://docs.github.com/github/creating-cloning-and-archiving-repositories/creating-a-repository-on-github/about-citation-files","actionsOnboardingTip":null},"truncated":false,"viewable":true,"workflowRedirectUrl":null,"symbols":{"timed_out":false,"not_analyzed":true,"symbols":[]}},"copilotInfo":{"documentationUrl":"https://docs.github.com/copilot/overview-of-github-copilot/about-github-copilot-for-individuals","notices":{"codeViewPopover":{"dismissed":false,"dismissPath":"/settings/dismiss-notice/code_view_copilot_popover"}},"userAccess":{"hasSubscriptionEnded":false,"orgHasCFBAccess":false,"userHasCFIAccess":false,"userHasOrgs":false,"userIsOrgAdmin":false,"userIsOrgMember":false,"business":null,"featureRequestInfo":null}},"copilotAccessAllowed":false,"csrf_tokens":{"/Dim4s4ufa/MSIB-K2-KelasAwanPintar/branches":{"post":"TafXDsHHIE9nf6sV6z4y1wyYnvq6Qtw6QRtD8khYplqEJn_HFJWIjNMFLjde4MSJ1gvgJ_xumsQ4Dsj-on9tBA"},"/repos/preferences":{"post":"InrPgngdpjfDHR6scTAN82aV28xMkxIgOYD0d9Vi6yENU3IzrgyqnQnysgWU2hSV0imYKhOEDpKNj_BDJZ81sA"}}},"title":"MSIB-K2-KelasAwanPintar/Salinan_dari_Regresi_Logistic_Iris_Dataset.ipynb at main · Dim4s4ufa/MSIB-K2-KelasAwanPintar","appPayload":{"helpUrl":"https://docs.github.com","findFileWorkerPath":"/assets-cdn/worker/find-file-worker-1583894afd38.js","findInFileWorkerPath":"/assets-cdn/worker/find-in-file-worker-67668e8c2caa.js","githubDevUrl":"https://github.dev/","enabled_features":{"code_nav_ui_events":false,"overview_shared_code_dropdown_button":false,"react_blob_overlay":false,"copilot_conversational_ux_embedding_update":false,"copilot_smell_icebreaker_ux":true,"copilot_workspace":false,"blob_edit_unsaved_changes_storage":true,"accessible_code_button":true}}}</script>
  <div data-target="react-app.reactRoot"><style data-styled="true" data-styled-version="5.3.11">.hOfjFo{padding:0;}/*!sc*/
.oDGAe{max-width:100%;margin-left:auto;margin-right:auto;display:-webkit-box;display:-webkit-flex;display:-ms-flexbox;display:flex;-webkit-flex-wrap:wrap;-ms-flex-wrap:wrap;flex-wrap:wrap;}/*!sc*/
.kowOcT{display:-webkit-box;display:-webkit-flex;display:-ms-flexbox;display:flex;-webkit-flex:1 1 100%;-ms-flex:1 1 100%;flex:1 1 100%;-webkit-flex-wrap:wrap;-ms-flex-wrap:wrap;flex-wrap:wrap;max-width:100%;}/*!sc*/
.gISSDQ{width:100%;}/*!sc*/
@media screen and (min-width:544px){.gISSDQ{width:100%;}}/*!sc*/
@media screen and (min-width:768px){.gISSDQ{width:auto;}}/*!sc*/
.bQRaNO{display:-webkit-box;display:-webkit-flex;display:-ms-flexbox;display:flex;-webkit-order:1;-ms-flex-order:1;order:1;width:100%;margin-left:0;margin-right:0;-webkit-flex-direction:column;-ms-flex-direction:column;flex-direction:column;margin-bottom:0;min-width:0;}/*!sc*/
@media screen and (min-width:544px){.bQRaNO{-webkit-flex-direction:column;-ms-flex-direction:column;flex-direction:column;}}/*!sc*/
@media screen and (min-width:768px){.bQRaNO{width:auto;margin-top:0 !important;margin-bottom:0 !important;position:-webkit-sticky;position:sticky;top:0px;max-height:100vh !important;-webkit-flex-direction:row;-ms-flex-direction:row;flex-direction:row;margin-right:0;height:100vh;}}/*!sc*/
@media print,screen and (max-width:1011px) and (min-width:768px){.bQRaNO{display:none;}}/*!sc*/
.hPvFuC{margin-left:0;margin-right:0;display:none;margin-top:0;}/*!sc*/
@media screen and (min-width:768px){.hPvFuC{margin-left:0 !important;margin-right:0 !important;}}/*!sc*/
.fFSoPl{--pane-min-width:256px;--pane-max-width-diff:511px;--pane-max-width:calc(100vw - var(--pane-max-width-diff));width:100%;padding:0;}/*!sc*/
@media screen and (min-width:544px){}/*!sc*/
@media screen and (min-width:768px){.fFSoPl{width:clamp(var(--pane-min-width),var(--pane-width),var(--pane-max-width));overflow:auto;}}/*!sc*/
@media screen and (min-width:1280px){.fFSoPl{--pane-max-width-diff:959px;}}/*!sc*/
.birIjn{max-height:100%;height:100%;display:-webkit-box;display:-webkit-flex;display:-ms-flexbox;display:flex;-webkit-flex-direction:column;-ms-flex-direction:column;flex-direction:column;}/*!sc*/
@media screen and (max-width:768px){.birIjn{display:none;}}/*!sc*/
@media screen and (min-width:768px){.birIjn{max-height:100vh;height:100vh;}}/*!sc*/
.hNNCwk{display:-webkit-box;display:-webkit-flex;display:-ms-flexbox;display:flex;-webkit-flex-direction:column;-ms-flex-direction:column;flex-direction:column;-webkit-align-items:center;-webkit-box-align:center;-ms-flex-align:center;align-items:center;padding-left:16px;padding-right:16px;padding-bottom:8px;padding-top:16px;}/*!sc*/
.jfIeyl{display:-webkit-box;display:-webkit-flex;display:-ms-flexbox;display:flex;width:100%;margin-bottom:16px;-webkit-align-items:center;-webkit-box-align:center;-ms-flex-align:center;align-items:center;}/*!sc*/
.XosP{display:-webkit-box;display:-webkit-flex;display:-ms-flexbox;display:flex;font-size:14px;}/*!sc*/
.hMLRgO[data-size="medium"]{color:var(--fgColor-muted,var(--color-fg-muted,#848d97));padding-left:8px;padding-right:8px;display:none;}/*!sc*/
@media screen and (max-width:768px){.hMLRgO[data-size="medium"]{display:block;}}/*!sc*/
.gUkoLg{-webkit-box-pack:center;-webkit-justify-content:center;-ms-flex-pack:center;justify-content:center;}/*!sc*/
.kOkWgo{font-size:16px;margin-left:8px;}/*!sc*/
.lhbroM{margin-left:24px;margin-right:24px;display:-webkit-box;display:-webkit-flex;display:-ms-flexbox;display:flex;width:100%;}/*!sc*/
.khzwtX{-webkit-box-flex:1;-webkit-flex-grow:1;-ms-flex-positive:1;flex-grow:1;}/*!sc*/
.JMXqM[data-size="medium"]{display:-webkit-box;display:-webkit-flex;display:-ms-flexbox;display:flex;min-width:0;}/*!sc*/
.JMXqM[data-size="medium"] svg{color:var(--fgColor-muted,var(--color-fg-muted,#848d97));}/*!sc*/
.JMXqM[data-size="medium"] > span{width:inherit;}/*!sc*/
.bZBlpz{display:-webkit-box;display:-webkit-flex;display:-ms-flexbox;display:flex;width:100%;}/*!sc*/
.bJjzmO{margin-right:4px;color:var(--fgColor-muted,var(--color-fg-muted,#848d97));}/*!sc*/
.ffLUq{font-size:14px;min-width:0;overflow:hidden;text-overflow:ellipsis;white-space:nowrap;}/*!sc*/
.bmcJak{min-width:0;}/*!sc*/
.eTeVqd{margin-left:8px;white-space:nowrap;}/*!sc*/
.eTeVqd:hover button:not(:hover){border-left-color:var(--button-default-borderColor-hover,var(--color-btn-hover-border));}/*!sc*/
.jNHrPP[data-size="medium"][data-no-visuals]{color:var(--fgColor-muted,var(--color-fg-subtle,#6e7681));border-top-right-radius:0;border-bottom-right-radius:0;border-right:0;}/*!sc*/
.ijefGF[data-size="medium"][data-no-visuals]{color:var(--fgColor-muted,var(--color-fg-subtle,#6e7681));font-size:14px;font-weight:400;-webkit-flex-shrink:0;-ms-flex-negative:0;flex-shrink:0;border-top-left-radius:0;border-bottom-left-radius:0;}/*!sc*/
.ftzGWg{margin-left:16px;margin-right:16px;margin-bottom:12px;}/*!sc*/
@media screen and (max-width:768px){.ftzGWg{display:none;}}/*!sc*/
.dItACB{margin-right:-6px;}/*!sc*/
.gjtfVk{-webkit-box-flex:1;-webkit-flex-grow:1;-ms-flex-positive:1;flex-grow:1;max-height:100% !important;overflow-y:auto;-webkit-scrollbar-gutter:stable;-moz-scrollbar-gutter:stable;-ms-scrollbar-gutter:stable;scrollbar-gutter:stable;}/*!sc*/
@media screen and (max-width:768px){.gjtfVk{display:none;}}/*!sc*/
.cOxzdh{padding-left:16px;padding-right:16px;padding-bottom:8px;}/*!sc*/
.bTBnTW{height:100%;position:relative;display:none;margin-left:0;}/*!sc*/
.fFMzrG{position:absolute;inset:0 -2px;cursor:col-resize;background-color:transparent;-webkit-transition-delay:0.1s;transition-delay:0.1s;}/*!sc*/
.fFMzrG:hover{background-color:var(--bgColor-neutral-muted,var(--color-neutral-muted,rgba(110,118,129,0.4)));}/*!sc*/
.iKqMNA{display:-webkit-box;display:-webkit-flex;display:-ms-flexbox;display:flex;-webkit-flex-direction:column;-ms-flex-direction:column;flex-direction:column;-webkit-order:2;-ms-flex-order:2;order:2;-webkit-flex-basis:0;-ms-flex-preferred-size:0;flex-basis:0;-webkit-box-flex:1;-webkit-flex-grow:1;-ms-flex-positive:1;flex-grow:1;-webkit-flex-shrink:1;-ms-flex-negative:1;flex-shrink:1;min-width:1px;margin-right:auto;}/*!sc*/
@media print{.iKqMNA{display:-webkit-box !important;display:-webkit-flex !important;display:-ms-flexbox !important;display:flex !important;}}/*!sc*/
.FxAyp{width:100%;max-width:100%;margin-left:auto;margin-right:auto;-webkit-box-flex:1;-webkit-flex-grow:1;-ms-flex-positive:1;flex-grow:1;padding:0;}/*!sc*/
.leYMvG{margin-left:auto;margin-right:auto;-webkit-flex-direction:column;-ms-flex-direction:column;flex-direction:column;padding-bottom:40px;max-width:100%;margin-top:0;}/*!sc*/
.KMPzq{display:inherit;}/*!sc*/
.hfKjHv{width:100%;}/*!sc*/
.gZWyZE{display:-webkit-box;display:-webkit-flex;display:-ms-flexbox;display:flex;gap:8px;-webkit-flex-direction:column;-ms-flex-direction:column;flex-direction:column;width:100%;}/*!sc*/
.dwYKDk{display:-webkit-box;display:-webkit-flex;display:-ms-flexbox;display:flex;-webkit-align-items:start;-webkit-box-align:start;-ms-flex-align:start;align-items:start;-webkit-box-pack:justify;-webkit-justify-content:space-between;-ms-flex-pack:justify;justify-content:space-between;gap:8px;}/*!sc*/
.iDtIiT{-webkit-align-self:center;-ms-flex-item-align:center;align-self:center;display:-webkit-box;display:-webkit-flex;display:-ms-flexbox;display:flex;padding-right:8px;min-width:0;}/*!sc*/
.cEytCf{display:-webkit-box;display:-webkit-flex;display:-ms-flexbox;display:flex;-webkit-flex-direction:row;-ms-flex-direction:row;flex-direction:row;font-size:16px;min-width:0;-webkit-flex-shrink:1;-ms-flex-negative:1;flex-shrink:1;-webkit-flex-wrap:wrap;-ms-flex-wrap:wrap;flex-wrap:wrap;max-width:100%;-webkit-align-items:center;-webkit-box-align:center;-ms-flex-align:center;align-items:center;}/*!sc*/
.fzFXnm{max-width:100%;}/*!sc*/
.iMnkmv{max-width:100%;list-style:none;display:inline-block;}/*!sc*/
.ghzDag{display:inline-block;max-width:100%;}/*!sc*/
.kHuKdh{font-weight:600;}/*!sc*/
.hXyrdx{padding-left:4px;padding-right:4px;font-weight:400;color:var(--fgColor-muted,var(--color-fg-muted,#848d97));font-size:16px;}/*!sc*/
.jGhzSQ{font-weight:600;display:inline-block;max-width:100%;font-size:16px;}/*!sc*/
.faNtbn{min-height:32px;display:-webkit-box;display:-webkit-flex;display:-ms-flexbox;display:flex;-webkit-align-items:start;-webkit-box-align:start;-ms-flex-align:start;align-items:start;}/*!sc*/
.dwNhzn[data-size="medium"][data-no-visuals]{border-top-left-radius:0;border-bottom-left-radius:0;display:none;}/*!sc*/
.kVRliy[data-size="medium"][data-no-visuals]{color:var(--fgColor-muted,var(--color-fg-muted,#848d97));}/*!sc*/
.dJxjrT{margin-left:16px;margin-right:16px;}/*!sc*/
.eFxKDQ{display:-webkit-box;display:-webkit-flex;display:-ms-flexbox;display:flex;-webkit-flex-direction:column;-ms-flex-direction:column;flex-direction:column;}/*!sc*/
.dzCJzi{display:-webkit-box;display:-webkit-flex;display:-ms-flexbox;display:flex;-webkit-flex-direction:row;-ms-flex-direction:row;flex-direction:row;-webkit-flex-wrap:wrap;-ms-flex-wrap:wrap;flex-wrap:wrap;-webkit-box-pack:justify;-webkit-justify-content:space-between;-ms-flex-pack:justify;justify-content:space-between;-webkit-align-items:center;-webkit-box-align:center;-ms-flex-align:center;align-items:center;gap:8px;min-width:273px;padding:8px;}/*!sc*/
@media screen and (min-width:544px){.dzCJzi{-webkit-flex-wrap:nowrap;-ms-flex-wrap:nowrap;flex-wrap:nowrap;}}/*!sc*/
.ldRxiI{display:-webkit-box;display:-webkit-flex;display:-ms-flexbox;display:flex;-webkit-flex-direction:row;-ms-flex-direction:row;flex-direction:row;}/*!sc*/
.fVkfyA{width:100%;height:-webkit-fit-content;height:-moz-fit-content;height:fit-content;min-width:0;margin-right:0;}/*!sc*/
.gNAmSV{height:40px;padding-left:4px;padding-bottom:16px;}/*!sc*/
.jNEwzY{-webkit-align-items:center;-webkit-box-align:center;-ms-flex-align:center;align-items:center;}/*!sc*/
.ifyOQK{font-size:12px;-webkit-flex:auto;-ms-flex:auto;flex:auto;padding-right:16px;color:var(--fgColor-muted,var(--color-fg-muted,#848d97));min-width:0;}/*!sc*/
.jlVuVO[data-size="small"]{color:var(--fgColor-default,var(--color-fg-default,#e6edf3));display:none;}/*!sc*/
@media screen and (min-width:544px){.jlVuVO[data-size="small"]{display:none;}}/*!sc*/
@media screen and (min-width:768px){.jlVuVO[data-size="small"]{display:none;}}/*!sc*/
@media screen and (min-width:1012px){.jlVuVO[data-size="small"]{display:none;}}/*!sc*/
@media screen and (min-width:1280px){.jlVuVO[data-size="small"]{display:block;}}/*!sc*/
.jdLMhu{top:0px;z-index:4;background:var(--bgColor-default,var(--color-canvas-default));position:-webkit-sticky;position:sticky;}/*!sc*/
.tOISc{display:-webkit-box;display:-webkit-flex;display:-ms-flexbox;display:flex;-webkit-flex-direction:column;-ms-flex-direction:column;flex-direction:column;width:100%;position:absolute;}/*!sc*/
.hqwSEx{display:none;min-width:0;padding-top:8px;padding-bottom:8px;}/*!sc*/
.lzKZY{margin-right:8px;margin-left:16px;text-overflow:ellipsis;overflow:hidden;display:-webkit-box;display:-webkit-flex;display:-ms-flexbox;display:flex;-webkit-flex-direction:row;-ms-flex-direction:row;flex-direction:row;-webkit-align-items:center;-webkit-box-align:center;-ms-flex-align:center;align-items:center;-webkit-box-pack:justify;-webkit-justify-content:space-between;-ms-flex-pack:justify;justify-content:space-between;width:100%;}/*!sc*/
.fHind{display:-webkit-box;display:-webkit-flex;display:-ms-flexbox;display:flex;-webkit-flex-direction:row;-ms-flex-direction:row;flex-direction:row;font-size:14px;min-width:0;-webkit-flex-shrink:1;-ms-flex-negative:1;flex-shrink:1;-webkit-flex-wrap:wrap;-ms-flex-wrap:wrap;flex-wrap:wrap;max-width:100%;-webkit-align-items:center;-webkit-box-align:center;-ms-flex-align:center;align-items:center;}/*!sc*/
.bQeXnn{padding-left:4px;padding-right:4px;font-weight:400;color:var(--fgColor-muted,var(--color-fg-muted,#848d97));font-size:14px;}/*!sc*/
.dnZoUW{font-weight:600;display:inline-block;max-width:100%;font-size:14px;}/*!sc*/
.dpNnZU[data-size="small"]{color:var(--fgColor-default,var(--color-fg-default,#e6edf3));margin-left:8px;}/*!sc*/
.gpHFJV{padding-left:8px;padding-top:8px;padding-bottom:8px;display:-webkit-box;display:-webkit-flex;display:-ms-flexbox;display:flex;-webkit-flex:1;-ms-flex:1;flex:1;-webkit-align-items:center;-webkit-box-align:center;-ms-flex-align:center;align-items:center;-webkit-box-pack:justify;-webkit-justify-content:space-between;-ms-flex-pack:justify;justify-content:space-between;background-color:var(--bgColor-muted,var(--color-canvas-subtle,#161b22));border:1px solid var(--borderColor-default,var(--color-border-default));border-radius:6px 6px 0px 0px;}/*!sc*/
.iNMjfP{display:-webkit-box;display:-webkit-flex;display:-ms-flexbox;display:flex;-webkit-align-items:center;-webkit-box-align:center;-ms-flex-align:center;align-items:center;gap:8px;min-width:0;}/*!sc*/
.fefCSX{display:block;position:relative;-webkit-box-flex:1;-webkit-flex-grow:1;-ms-flex-positive:1;flex-grow:1;margin-top:-1px;margin-bottom:-1px;--separator-color:transparent;}/*!sc*/
.fefCSX:not(:last-child){margin-right:1px;}/*!sc*/
.fefCSX:not(:last-child):after{background-color:var(--separator-color);content:"";position:absolute;right:-2px;top:8px;bottom:8px;width:1px;}/*!sc*/
.fefCSX:focus-within:has(:focus-visible){--separator-color:transparent;}/*!sc*/
.fefCSX:first-child{margin-left:-1px;}/*!sc*/
.fefCSX:last-child{margin-right:-1px;}/*!sc*/
.sulSy{display:block;position:relative;-webkit-box-flex:1;-webkit-flex-grow:1;-ms-flex-positive:1;flex-grow:1;margin-top:-1px;margin-bottom:-1px;--separator-color:var(--borderColor-default,var(--color-border-default,#30363d));}/*!sc*/
.sulSy:not(:last-child){margin-right:1px;}/*!sc*/
.sulSy:not(:last-child):after{background-color:var(--separator-color);content:"";position:absolute;right:-2px;top:8px;bottom:8px;width:1px;}/*!sc*/
.sulSy:focus-within:has(:focus-visible){--separator-color:transparent;}/*!sc*/
.sulSy:first-child{margin-left:-1px;}/*!sc*/
.sulSy:last-child{margin-right:-1px;}/*!sc*/
.kcLCKF{display:-webkit-box;display:-webkit-flex;display:-ms-flexbox;display:flex;-webkit-align-items:center;-webkit-box-align:center;-ms-flex-align:center;align-items:center;gap:8px;margin-right:8px;}/*!sc*/
.kVWtTz{gap:8px;}/*!sc*/
.gWqxTd{padding-left:8px;padding-right:8px;}/*!sc*/
.gWqxTd linkButtonSx:hover:not([disabled]){-webkit-text-decoration:none;text-decoration:none;}/*!sc*/
.gWqxTd linkButtonSx:focus:not([disabled]){-webkit-text-decoration:none;text-decoration:none;}/*!sc*/
.gWqxTd linkButtonSx:active:not([disabled]){-webkit-text-decoration:none;text-decoration:none;}/*!sc*/
.ivobqY[data-size="small"][data-no-visuals]{border-top-left-radius:0;border-bottom-left-radius:0;}/*!sc*/
.kilKoS[data-size="small"][data-no-visuals]{border-top-right-radius:0;border-bottom-right-radius:0;border-right-width:0;}/*!sc*/
.kilKoS[data-size="small"][data-no-visuals]:hover:not([disabled]){-webkit-text-decoration:none;text-decoration:none;}/*!sc*/
.kilKoS[data-size="small"][data-no-visuals]:focus:not([disabled]){-webkit-text-decoration:none;text-decoration:none;}/*!sc*/
.kilKoS[data-size="small"][data-no-visuals]:active:not([disabled]){-webkit-text-decoration:none;text-decoration:none;}/*!sc*/
.itGLhU[data-size="small"][data-no-visuals]{color:var(--fgColor-muted,var(--color-fg-muted,#848d97));}/*!sc*/
.hycJXc{border:1px solid;border-top:none;border-color:var(--borderColor-default,var(--color-border-default,#30363d));border-radius:0px 0px 6px 6px;min-width:273px;}/*!sc*/
.iWAocR{background-color:var(--bgColor-default,var(--color-canvas-default));border:0px;border-width:0;border-radius:0px 0px 6px 6px;padding:0;min-width:0;margin-top:46px;overflow:auto;}/*!sc*/
.cCoXib{position:fixed;top:0;right:0;height:100%;width:15px;-webkit-transition:-webkit-transform 0.3s;-webkit-transition:transform 0.3s;transition:transform 0.3s;z-index:1;}/*!sc*/
.cCoXib:hover{-webkit-transform:scaleX(1.5);-ms-transform:scaleX(1.5);transform:scaleX(1.5);}/*!sc*/
.fgsa-DI{display:-webkit-box;display:-webkit-flex;display:-ms-flexbox;display:flex;-webkit-flex-direction:column;-ms-flex-direction:column;flex-direction:column;-webkit-align-items:center;-webkit-box-align:center;-ms-flex-align:center;align-items:center;padding-top:16px;padding-bottom:16px;}/*!sc*/
data-styled.g1[id="Box-sc-g0xbh4-0"]{content:"hOfjFo,oDGAe,kowOcT,gISSDQ,bQRaNO,hPvFuC,fFSoPl,birIjn,hNNCwk,jfIeyl,XosP,hMLRgO,gUkoLg,kOkWgo,lhbroM,khzwtX,JMXqM,bZBlpz,bJjzmO,ffLUq,bmcJak,eTeVqd,jNHrPP,ijefGF,ftzGWg,dItACB,gjtfVk,cOxzdh,bTBnTW,fFMzrG,iKqMNA,FxAyp,leYMvG,KMPzq,hfKjHv,gZWyZE,dwYKDk,iDtIiT,cEytCf,fzFXnm,iMnkmv,ghzDag,kHuKdh,hXyrdx,jGhzSQ,faNtbn,dwNhzn,kVRliy,dJxjrT,eFxKDQ,dzCJzi,ldRxiI,fVkfyA,gNAmSV,jNEwzY,ifyOQK,jlVuVO,jdLMhu,tOISc,hqwSEx,lzKZY,fHind,bQeXnn,dnZoUW,dpNnZU,gpHFJV,iNMjfP,fefCSX,sulSy,kcLCKF,kVWtTz,gWqxTd,ivobqY,kilKoS,itGLhU,hycJXc,iWAocR,cCoXib,fgsa-DI,"}/*!sc*/
.iOyQGB{-webkit-animation:rotate-keyframes 1s linear infinite;animation:rotate-keyframes 1s linear infinite;}/*!sc*/
@-webkit-keyframes rotate-keyframes{100%{-webkit-transform:rotate(360deg);-ms-transform:rotate(360deg);transform:rotate(360deg);}}/*!sc*/
@keyframes rotate-keyframes{100%{-webkit-transform:rotate(360deg);-ms-transform:rotate(360deg);transform:rotate(360deg);}}/*!sc*/
data-styled.g5[id="Spinner__StyledComponentSpinner-sc-1knt686-0"]{content:"iOyQGB,"}/*!sc*/
.fiSvBN{position:relative;display:inline-block;}/*!sc*/
.fiSvBN::after{position:absolute;z-index:1000000;display:none;padding:0.5em 0.75em;font:normal normal 11px/1.5 -apple-system,BlinkMacSystemFont,"Segoe UI","Noto Sans",Helvetica,Arial,sans-serif,"Apple Color Emoji","Segoe UI Emoji";-webkit-font-smoothing:subpixel-antialiased;color:var(--tooltip-fgColor,var(--fgColor-onEmphasis,var(--color-fg-on-emphasis,#ffffff)));text-align:center;-webkit-text-decoration:none;text-decoration:none;text-shadow:none;text-transform:none;-webkit-letter-spacing:normal;-moz-letter-spacing:normal;-ms-letter-spacing:normal;letter-spacing:normal;word-wrap:break-word;white-space:pre;pointer-events:none;content:attr(aria-label);background:var(--tooltip-bgColor,var(--bgColor-emphasis,var(--color-neutral-emphasis-plus,#6e7681)));border-radius:6px;opacity:0;}/*!sc*/
@-webkit-keyframes tooltip-appear{from{opacity:0;}to{opacity:1;}}/*!sc*/
@keyframes tooltip-appear{from{opacity:0;}to{opacity:1;}}/*!sc*/
.fiSvBN:hover::after,.fiSvBN:active::after,.fiSvBN:focus::after,.fiSvBN:focus-within::after{display:inline-block;-webkit-text-decoration:none;text-decoration:none;-webkit-animation-name:tooltip-appear;animation-name:tooltip-appear;-webkit-animation-duration:0.1s;animation-duration:0.1s;-webkit-animation-fill-mode:forwards;animation-fill-mode:forwards;-webkit-animation-timing-function:ease-in;animation-timing-function:ease-in;-webkit-animation-delay:0s;animation-delay:0s;}/*!sc*/
.fiSvBN.tooltipped-no-delay:hover::after,.fiSvBN.tooltipped-no-delay:active::after,.fiSvBN.tooltipped-no-delay:focus::after,.fiSvBN.tooltipped-no-delay:focus-within::after{-webkit-animation-delay:0s;animation-delay:0s;}/*!sc*/
.fiSvBN.tooltipped-multiline:hover::after,.fiSvBN.tooltipped-multiline:active::after,.fiSvBN.tooltipped-multiline:focus::after,.fiSvBN.tooltipped-multiline:focus-within::after{display:table-cell;}/*!sc*/
.fiSvBN.tooltipped-s::after,.fiSvBN.tooltipped-se::after,.fiSvBN.tooltipped-sw::after{top:100%;right:50%;margin-top:6px;}/*!sc*/
.fiSvBN.tooltipped-se::after{right:auto;left:50%;margin-left:-16px;}/*!sc*/
.fiSvBN.tooltipped-sw::after{margin-right:-16px;}/*!sc*/
.fiSvBN.tooltipped-n::after,.fiSvBN.tooltipped-ne::after,.fiSvBN.tooltipped-nw::after{right:50%;bottom:100%;margin-bottom:6px;}/*!sc*/
.fiSvBN.tooltipped-ne::after{right:auto;left:50%;margin-left:-16px;}/*!sc*/
.fiSvBN.tooltipped-nw::after{margin-right:-16px;}/*!sc*/
.fiSvBN.tooltipped-s::after,.fiSvBN.tooltipped-n::after{-webkit-transform:translateX(50%);-ms-transform:translateX(50%);transform:translateX(50%);}/*!sc*/
.fiSvBN.tooltipped-w::after{right:100%;bottom:50%;margin-right:6px;-webkit-transform:translateY(50%);-ms-transform:translateY(50%);transform:translateY(50%);}/*!sc*/
.fiSvBN.tooltipped-e::after{bottom:50%;left:100%;margin-left:6px;-webkit-transform:translateY(50%);-ms-transform:translateY(50%);transform:translateY(50%);}/*!sc*/
.fiSvBN.tooltipped-multiline::after{width:-webkit-max-content;width:-moz-max-content;width:max-content;max-width:250px;word-wrap:break-word;white-space:pre-line;border-collapse:separate;}/*!sc*/
.fiSvBN.tooltipped-multiline.tooltipped-s::after,.fiSvBN.tooltipped-multiline.tooltipped-n::after{right:auto;left:50%;-webkit-transform:translateX(-50%);-ms-transform:translateX(-50%);transform:translateX(-50%);}/*!sc*/
.fiSvBN.tooltipped-multiline.tooltipped-w::after,.fiSvBN.tooltipped-multiline.tooltipped-e::after{right:100%;}/*!sc*/
.fiSvBN.tooltipped-align-right-2::after{right:0;margin-right:0;}/*!sc*/
.fiSvBN.tooltipped-align-left-2::after{left:0;margin-left:0;}/*!sc*/
data-styled.g9[id="Tooltip__TooltipBase-sc-17tf59c-0"]{content:"fiSvBN,"}/*!sc*/
.brGdpi{position:absolute;width:1px;height:1px;padding:0;margin:-1px;overflow:hidden;-webkit-clip:rect(0,0,0,0);clip:rect(0,0,0,0);white-space:nowrap;border-width:0;}/*!sc*/
data-styled.g11[id="_VisuallyHidden__VisuallyHidden-sc-11jhm7a-0"]{content:"brGdpi,"}/*!sc*/
.eAtkQz{display:inline-block;overflow:hidden;text-overflow:ellipsis;vertical-align:top;white-space:nowrap;max-width:125px;max-width:100%;}/*!sc*/
data-styled.g13[id="Truncate__StyledTruncate-sc-23o1d2-0"]{content:"eAtkQz,"}/*!sc*/
.fgiTUz{font-size:14px;line-height:20px;color:var(--fgColor-default,var(--color-fg-default,#e6edf3));vertical-align:middle;background-color:var(--bgColor-default,var(--color-canvas-default,#0d1117));border:1px solid var(--control-borderColor-rest,var(--borderColor-default,var(--color-border-default,#30363d)));border-radius:6px;outline:none;box-shadow:var(--shadow-inset,var(--color-primer-shadow-inset,0 0 transparent));display:-webkit-inline-box;display:-webkit-inline-flex;display:-ms-inline-flexbox;display:inline-flex;-webkit-align-items:stretch;-webkit-box-align:stretch;-ms-flex-align:stretch;align-items:stretch;min-height:32px;overflow:hidden;display:-webkit-box;display:-webkit-flex;display:-ms-flexbox;display:flex;min-width:160px;}/*!sc*/
.fgiTUz input,.fgiTUz textarea{cursor:text;}/*!sc*/
.fgiTUz select{cursor:pointer;}/*!sc*/
.fgiTUz input::-webkit-input-placeholder,.fgiTUz textarea::-webkit-input-placeholder,.fgiTUz select::-webkit-input-placeholder{color:var(---control-fgColor-placeholder,var(--fgColor-muted,var(--color-fg-muted,#848d97)));}/*!sc*/
.fgiTUz input::-moz-placeholder,.fgiTUz textarea::-moz-placeholder,.fgiTUz select::-moz-placeholder{color:var(---control-fgColor-placeholder,var(--fgColor-muted,var(--color-fg-muted,#848d97)));}/*!sc*/
.fgiTUz input:-ms-input-placeholder,.fgiTUz textarea:-ms-input-placeholder,.fgiTUz select:-ms-input-placeholder{color:var(---control-fgColor-placeholder,var(--fgColor-muted,var(--color-fg-muted,#848d97)));}/*!sc*/
.fgiTUz input::placeholder,.fgiTUz textarea::placeholder,.fgiTUz select::placeholder{color:var(---control-fgColor-placeholder,var(--fgColor-muted,var(--color-fg-muted,#848d97)));}/*!sc*/
.fgiTUz:focus-within{border-color:var(--fgColor-accent,var(--color-accent-fg,#2f81f7));outline:2px solid var(--fgColor-accent,var(--color-accent-fg,#2f81f7));outline-offset:-1px;}/*!sc*/
.fgiTUz > textarea{padding:12px;}/*!sc*/
@media (min-width:768px){.fgiTUz{font-size:14px;}}/*!sc*/
data-styled.g41[id="TextInputWrapper__TextInputBaseWrapper-sc-1mqhpbi-0"]{content:"fgiTUz,"}/*!sc*/
.klSCQM{background-repeat:no-repeat;background-position:right 8px center;padding-left:12px;padding-right:12px;display:-webkit-box;display:-webkit-flex;display:-ms-flexbox;display:flex;min-width:160px;}/*!sc*/
.klSCQM > :not(:last-child){margin-right:8px;}/*!sc*/
.klSCQM .TextInput-icon,.klSCQM .TextInput-action{-webkit-align-self:center;-ms-flex-item-align:center;align-self:center;color:var(--fgColor-muted,var(--color-fg-muted,#848d97));-webkit-flex-shrink:0;-ms-flex-negative:0;flex-shrink:0;}/*!sc*/
.klSCQM > input,.klSCQM > select{padding-left:0;padding-right:0;}/*!sc*/
data-styled.g42[id="TextInputWrapper-sc-1mqhpbi-1"]{content:"klSCQM,"}/*!sc*/
.kbCLEG{border:0;font-size:inherit;font-family:inherit;background-color:transparent;-webkit-appearance:none;color:inherit;width:100%;}/*!sc*/
.kbCLEG:focus{outline:0;}/*!sc*/
data-styled.g43[id="UnstyledTextInput-sc-14ypya-0"]{content:"kbCLEG,"}/*!sc*/
body[data-page-layout-dragging="true"]{cursor:col-resize;}/*!sc*/
body[data-page-layout-dragging="true"] *{-webkit-user-select:none;-moz-user-select:none;-ms-user-select:none;user-select:none;}/*!sc*/
data-styled.g99[id="sc-global-gbKrvU1"]{content:"sc-global-gbKrvU1,"}/*!sc*/
.lirRhW{display:-webkit-inline-box;display:-webkit-inline-flex;display:-ms-inline-flexbox;display:inline-flex;vertical-align:middle;isolation:isolate;}/*!sc*/
.lirRhW.lirRhW > *:not([data-loading-wrapper]){margin-inline-end:-1px;position:relative;border-radius:0;}/*!sc*/
.lirRhW.lirRhW > *:not([data-loading-wrapper]):first-child{border-top-left-radius:6px;border-bottom-left-radius:6px;}/*!sc*/
.lirRhW.lirRhW > *:not([data-loading-wrapper]):last-child{border-top-right-radius:6px;border-bottom-right-radius:6px;}/*!sc*/
.lirRhW.lirRhW > *:not([data-loading-wrapper]):focus,.lirRhW.lirRhW > *:not([data-loading-wrapper]):active,.lirRhW.lirRhW > *:not([data-loading-wrapper]):hover{z-index:1;}/*!sc*/
.lirRhW [data-loading-wrapper]:first-child button,.lirRhW [data-loading-wrapper]:first-child a{border-top-left-radius:6px;border-bottom-left-radius:6px;}/*!sc*/
.lirRhW [data-loading-wrapper]:last-child button,.lirRhW [data-loading-wrapper]:last-child a{border-top-right-radius:6px;border-bottom-right-radius:6px;}/*!sc*/
.lirRhW [data-loading-wrapper] > *{margin-inline-end:-1px;position:relative;border-radius:0;}/*!sc*/
.lirRhW [data-loading-wrapper] > *:focus,.lirRhW [data-loading-wrapper] > *:active,.lirRhW [data-loading-wrapper] > *:hover{z-index:1;}/*!sc*/
data-styled.g104[id="ButtonGroup__StyledButtonGroup-sc-1gxhls1-0"]{content:"lirRhW,"}/*!sc*/
.dPDqJE{--segmented-control-button-inner-padding:12px;--segmented-control-button-bg-inset:4px;--segmented-control-outer-radius:6px;background-color:transparent;border-color:transparent;border-radius:var(--segmented-control-outer-radius);border-width:0;color:currentColor;cursor:pointer;font-family:inherit;font-size:inherit;font-weight:600;padding:0;height:100%;width:100%;}/*!sc*/
.dPDqJE:focus:not(:disabled){box-shadow:none;outline:2px solid var(--fgColor-accent,var(--color-accent-fg,#2f81f7));outline-offset:-1px;}/*!sc*/
.dPDqJE:focus:not(:disabled):not(:focus-visible){outline:solid 1px transparent;}/*!sc*/
.dPDqJE:focus-visible:not(:disabled){box-shadow:none;outline:2px solid var(--fgColor-accent,var(--color-accent-fg,#2f81f7));outline-offset:-1px;}/*!sc*/
.dPDqJE .segmentedControl-content{-webkit-align-items:center;-webkit-box-align:center;-ms-flex-align:center;align-items:center;background-color:var(--controlKnob-bgColor-rest,var(--color-segmented-control-button-bg,#0d1117));border-color:var(--controlKnob-borderColor-rest,var(--color-segmented-control-button-selected-border,#6e7681));border-style:solid;border-width:1px;border-radius:var(--segmented-control-outer-radius);display:-webkit-box;display:-webkit-flex;display:-ms-flexbox;display:flex;height:100%;-webkit-box-pack:center;-webkit-justify-content:center;-ms-flex-pack:center;justify-content:center;padding-left:var(--segmented-control-button-inner-padding);padding-right:var(--segmented-control-button-inner-padding);}/*!sc*/
.dPDqJE svg{fill:var(--fgColor-muted,var(--color-fg-muted,#848d97));}/*!sc*/
.dPDqJE:focus:focus-visible:not(:last-child):after{width:0;}/*!sc*/
.dPDqJE .segmentedControl-text:after{content:"Preview";display:block;font-weight:600;height:0;overflow:hidden;pointer-events:none;-webkit-user-select:none;-moz-user-select:none;-ms-user-select:none;user-select:none;visibility:hidden;}/*!sc*/
@media (pointer:coarse){.dPDqJE:before{content:"";position:absolute;left:0;right:0;-webkit-transform:translateY(-50%);-ms-transform:translateY(-50%);transform:translateY(-50%);top:50%;min-height:44px;}}/*!sc*/
.kTvXLQ{--segmented-control-button-inner-padding:12px;--segmented-control-button-bg-inset:4px;--segmented-control-outer-radius:6px;background-color:transparent;border-color:transparent;border-radius:var(--segmented-control-outer-radius);border-width:0;color:currentColor;cursor:pointer;font-family:inherit;font-size:inherit;font-weight:400;padding:var(--segmented-control-button-bg-inset);height:100%;width:100%;}/*!sc*/
.kTvXLQ:focus:not(:disabled){box-shadow:none;outline:2px solid var(--fgColor-accent,var(--color-accent-fg,#2f81f7));outline-offset:-1px;}/*!sc*/
.kTvXLQ:focus:not(:disabled):not(:focus-visible){outline:solid 1px transparent;}/*!sc*/
.kTvXLQ:focus-visible:not(:disabled){box-shadow:none;outline:2px solid var(--fgColor-accent,var(--color-accent-fg,#2f81f7));outline-offset:-1px;}/*!sc*/
.kTvXLQ .segmentedControl-content{-webkit-align-items:center;-webkit-box-align:center;-ms-flex-align:center;align-items:center;background-color:transparent;border-color:transparent;border-style:solid;border-width:1px;border-radius:calc(var(--segmented-control-outer-radius) - var(--segmented-control-button-bg-inset) / 2);display:-webkit-box;display:-webkit-flex;display:-ms-flexbox;display:flex;height:100%;-webkit-box-pack:center;-webkit-justify-content:center;-ms-flex-pack:center;justify-content:center;padding-left:calc(var(--segmented-control-button-inner-padding) - var(--segmented-control-button-bg-inset));padding-right:calc(var(--segmented-control-button-inner-padding) - var(--segmented-control-button-bg-inset));}/*!sc*/
.kTvXLQ svg{fill:var(--fgColor-muted,var(--color-fg-muted,#848d97));}/*!sc*/
.kTvXLQ:hover .segmentedControl-content{background-color:var(--controlTrack-bgColor-hover,var(--color-segmented-control-button-hover-bg,#30363d));}/*!sc*/
.kTvXLQ:active .segmentedControl-content{background-color:var(--controlTrack-bgColor-active,var(--color-segmented-control-button-active-bg,#21262d));}/*!sc*/
.kTvXLQ:focus:focus-visible:not(:last-child):after{width:0;}/*!sc*/
.kTvXLQ .segmentedControl-text:after{content:"Code";display:block;font-weight:600;height:0;overflow:hidden;pointer-events:none;-webkit-user-select:none;-moz-user-select:none;-ms-user-select:none;user-select:none;visibility:hidden;}/*!sc*/
@media (pointer:coarse){.kTvXLQ:before{content:"";position:absolute;left:0;right:0;-webkit-transform:translateY(-50%);-ms-transform:translateY(-50%);transform:translateY(-50%);top:50%;min-height:44px;}}/*!sc*/
.gKyOFO{--segmented-control-button-inner-padding:12px;--segmented-control-button-bg-inset:4px;--segmented-control-outer-radius:6px;background-color:transparent;border-color:transparent;border-radius:var(--segmented-control-outer-radius);border-width:0;color:currentColor;cursor:pointer;font-family:inherit;font-size:inherit;font-weight:400;padding:var(--segmented-control-button-bg-inset);height:100%;width:100%;}/*!sc*/
.gKyOFO:focus:not(:disabled){box-shadow:none;outline:2px solid var(--fgColor-accent,var(--color-accent-fg,#2f81f7));outline-offset:-1px;}/*!sc*/
.gKyOFO:focus:not(:disabled):not(:focus-visible){outline:solid 1px transparent;}/*!sc*/
.gKyOFO:focus-visible:not(:disabled){box-shadow:none;outline:2px solid var(--fgColor-accent,var(--color-accent-fg,#2f81f7));outline-offset:-1px;}/*!sc*/
.gKyOFO .segmentedControl-content{-webkit-align-items:center;-webkit-box-align:center;-ms-flex-align:center;align-items:center;background-color:transparent;border-color:transparent;border-style:solid;border-width:1px;border-radius:calc(var(--segmented-control-outer-radius) - var(--segmented-control-button-bg-inset) / 2);display:-webkit-box;display:-webkit-flex;display:-ms-flexbox;display:flex;height:100%;-webkit-box-pack:center;-webkit-justify-content:center;-ms-flex-pack:center;justify-content:center;padding-left:calc(var(--segmented-control-button-inner-padding) - var(--segmented-control-button-bg-inset));padding-right:calc(var(--segmented-control-button-inner-padding) - var(--segmented-control-button-bg-inset));}/*!sc*/
.gKyOFO svg{fill:var(--fgColor-muted,var(--color-fg-muted,#848d97));}/*!sc*/
.gKyOFO:hover .segmentedControl-content{background-color:var(--controlTrack-bgColor-hover,var(--color-segmented-control-button-hover-bg,#30363d));}/*!sc*/
.gKyOFO:active .segmentedControl-content{background-color:var(--controlTrack-bgColor-active,var(--color-segmented-control-button-active-bg,#21262d));}/*!sc*/
.gKyOFO:focus:focus-visible:not(:last-child):after{width:0;}/*!sc*/
.gKyOFO .segmentedControl-text:after{content:"Blame";display:block;font-weight:600;height:0;overflow:hidden;pointer-events:none;-webkit-user-select:none;-moz-user-select:none;-ms-user-select:none;user-select:none;visibility:hidden;}/*!sc*/
@media (pointer:coarse){.gKyOFO:before{content:"";position:absolute;left:0;right:0;-webkit-transform:translateY(-50%);-ms-transform:translateY(-50%);transform:translateY(-50%);top:50%;min-height:44px;}}/*!sc*/
data-styled.g106[id="SegmentedControlButton__SegmentedControlButtonStyled-sc-8lkgxl-0"]{content:"dPDqJE,kTvXLQ,gKyOFO,"}/*!sc*/
.eYPFoP{background-color:var(--controlTrack-bgColor-rest,var(--color-segmented-control-bg,rgba(110,118,129,0.1)));border-radius:6px;border:1px solid;border-color:var(--controlTrack-borderColor-rest,transparent);display:-webkit-inline-box;display:-webkit-inline-flex;display:-ms-inline-flexbox;display:inline-flex;font-size:14px;height:28px;margin:0;padding:0;}/*!sc*/
data-styled.g108[id="SegmentedControl__SegmentedControlList-sc-1rzig82-0"]{content:"eYPFoP,"}/*!sc*/
.jGvHJc{list-style:none;padding:0;margin:0;}/*!sc*/
.jGvHJc .PRIVATE_TreeView-item{outline:none;}/*!sc*/
.jGvHJc .PRIVATE_TreeView-item:focus-visible > div,.jGvHJc .PRIVATE_TreeView-item.focus-visible > div{box-shadow:inset 0 0 0 2px var(--fgColor-accent,var(--color-accent-fg,#2f81f7));}/*!sc*/
@media (forced-colors:active){.jGvHJc .PRIVATE_TreeView-item:focus-visible > div,.jGvHJc .PRIVATE_TreeView-item.focus-visible > div{outline:2px solid HighlightText;outline-offset:-2;}}/*!sc*/
.jGvHJc .PRIVATE_TreeView-item[data-has-leading-action]{--has-leading-action:1;}/*!sc*/
.jGvHJc .PRIVATE_TreeView-item-container{--level:1;--toggle-width:1rem;--min-item-height:2rem;position:relative;display:grid;--leading-action-width:calc(var(--has-leading-action,0) * 1.5rem);--spacer-width:calc(calc(var(--level) - 1) * (var(--toggle-width) / 2));grid-template-columns:var(--spacer-width) var(--leading-action-width) var(--toggle-width) 1fr;grid-template-areas:'spacer leadingAction toggle content';width:100%;font-size:14px;color:var(--fgColor-default,var(--color-fg-default,#e6edf3));border-radius:6px;cursor:pointer;}/*!sc*/
.jGvHJc .PRIVATE_TreeView-item-container:hover{background-color:var(--control-transparent-bgColor-hover,var(--color-action-list-item-default-hover-bg,rgba(177,186,196,0.12)));}/*!sc*/
@media (forced-colors:active){.jGvHJc .PRIVATE_TreeView-item-container:hover{outline:2px solid transparent;outline-offset:-2px;}}/*!sc*/
@media (pointer:coarse){.jGvHJc .PRIVATE_TreeView-item-container{--toggle-width:1.5rem;--min-item-height:2.75rem;}}/*!sc*/
.jGvHJc .PRIVATE_TreeView-item-container:has(.PRIVATE_TreeView-item-skeleton):hover{background-color:transparent;cursor:default;}/*!sc*/
@media (forced-colors:active){.jGvHJc .PRIVATE_TreeView-item-container:has(.PRIVATE_TreeView-item-skeleton):hover{outline:none;}}/*!sc*/
.jGvHJc[data-omit-spacer='true'] .PRIVATE_TreeView-item-container{grid-template-columns:0 0 0 1fr;}/*!sc*/
.jGvHJc .PRIVATE_TreeView-item[aria-current='true'] > .PRIVATE_TreeView-item-container{background-color:var(--control-transparent-bgColor-selected,var(--color-action-list-item-default-selected-bg,rgba(177,186,196,0.08)));}/*!sc*/
.jGvHJc .PRIVATE_TreeView-item[aria-current='true'] > .PRIVATE_TreeView-item-container::after{content:'';position:absolute;top:calc(50% - 0.75rem);left:-8px;width:0.25rem;height:1.5rem;background-color:var(--fgColor-accent,var(--color-accent-fg,#2f81f7));border-radius:6px;}/*!sc*/
@media (forced-colors:active){.jGvHJc .PRIVATE_TreeView-item[aria-current='true'] > .PRIVATE_TreeView-item-container::after{background-color:HighlightText;}}/*!sc*/
.jGvHJc .PRIVATE_TreeView-item-toggle{grid-area:toggle;display:-webkit-box;display:-webkit-flex;display:-ms-flexbox;display:flex;-webkit-box-pack:center;-webkit-justify-content:center;-ms-flex-pack:center;justify-content:center;-webkit-align-items:flex-start;-webkit-box-align:flex-start;-ms-flex-align:flex-start;align-items:flex-start;padding-top:calc(var(--min-item-height) / 2 - 12px / 2);height:100%;color:var(--fgColor-muted,var(--color-fg-muted,#848d97));}/*!sc*/
.jGvHJc .PRIVATE_TreeView-item-toggle--hover:hover{background-color:var(--control-transparent-bgColor-hover,var(--color-tree-view-item-chevron-hover-bg,rgba(177,186,196,0.12)));}/*!sc*/
.jGvHJc .PRIVATE_TreeView-item-toggle--end{border-top-left-radius:6px;border-bottom-left-radius:6px;}/*!sc*/
.jGvHJc .PRIVATE_TreeView-item-content{grid-area:content;display:-webkit-box;display:-webkit-flex;display:-ms-flexbox;display:flex;height:100%;padding:0 8px;gap:8px;line-height:var(--custom-line-height,var(--text-body-lineHeight-medium,1.4285));padding-top:calc((var(--min-item-height) - var(--custom-line-height,1.3rem)) / 2);padding-bottom:calc((var(--min-item-height) - var(--custom-line-height,1.3rem)) / 2);}/*!sc*/
.jGvHJc .PRIVATE_TreeView-item-content-text{-webkit-flex:1 1 auto;-ms-flex:1 1 auto;flex:1 1 auto;width:0;}/*!sc*/
.jGvHJc[data-truncate-text='true'] .PRIVATE_TreeView-item-content-text{overflow:hidden;white-space:nowrap;text-overflow:ellipsis;}/*!sc*/
.jGvHJc[data-truncate-text='false'] .PRIVATE_TreeView-item-content-text{word-break:break-word;}/*!sc*/
.jGvHJc .PRIVATE_TreeView-item-visual{display:-webkit-box;display:-webkit-flex;display:-ms-flexbox;display:flex;-webkit-align-items:center;-webkit-box-align:center;-ms-flex-align:center;align-items:center;color:var(--fgColor-muted,var(--color-fg-muted,#848d97));height:var(--custom-line-height,1.3rem);}/*!sc*/
.jGvHJc .PRIVATE_TreeView-item-leading-action{display:-webkit-box;display:-webkit-flex;display:-ms-flexbox;display:flex;color:var(--fgColor-muted,var(--color-fg-muted,#848d97));grid-area:leadingAction;}/*!sc*/
.jGvHJc .PRIVATE_TreeView-item-level-line{width:100%;height:100%;border-right:1px solid;border-color:var(--borderColor-muted,var(--color-border-subtle,rgba(240,246,252,0.1)));}/*!sc*/
@media (hover:hover){.jGvHJc .PRIVATE_TreeView-item-level-line{border-color:transparent;}.jGvHJc:hover .PRIVATE_TreeView-item-level-line,.jGvHJc:focus-within .PRIVATE_TreeView-item-level-line{border-color:var(--borderColor-muted,var(--color-border-subtle,rgba(240,246,252,0.1)));}}/*!sc*/
.jGvHJc .PRIVATE_TreeView-directory-icon{display:grid;color:var(--treeViewItem-leadingVisual-bgColor-rest,var(--color-tree-view-item-directory-fill,#848d97));}/*!sc*/
.jGvHJc .PRIVATE_VisuallyHidden{position:absolute;width:1px;height:1px;padding:0;margin:-1px;overflow:hidden;-webkit-clip:rect(0,0,0,0);clip:rect(0,0,0,0);white-space:nowrap;border-width:0;}/*!sc*/
data-styled.g109[id="TreeView__UlBox-sc-4ex6b6-0"]{content:"jGvHJc,"}/*!sc*/
</style><meta data-hydrostats="publish"/> <!-- --> <!-- --> <button hidden="" data-testid="header-permalink-button" data-hotkey-scope="read-only-cursor-text-area"></button><button hidden=""></button><div><div style="--sticky-pane-height:100vh" class="Box-sc-g0xbh4-0 hOfjFo"><div class="Box-sc-g0xbh4-0 oDGAe"><div class="Box-sc-g0xbh4-0 kowOcT"><div tabindex="0" class="Box-sc-g0xbh4-0 gISSDQ"><div class="Box-sc-g0xbh4-0 bQRaNO"><div class="Box-sc-g0xbh4-0 hPvFuC"></div><div style="--pane-width:320px" class="Box-sc-g0xbh4-0 fFSoPl"><div class="react-tree-pane-contents"><div id="repos-file-tree" class="Box-sc-g0xbh4-0 birIjn"><div class="Box-sc-g0xbh4-0 hNNCwk"><div class="Box-sc-g0xbh4-0 jfIeyl"><h2 class="Box-sc-g0xbh4-0 XosP prc-Heading-Heading-6CmGO"><button style="--button-color:fg.muted" type="button" aria-label="Expand file tree" data-testid="expand-file-tree-button-mobile" class="Box-sc-g0xbh4-0 hMLRgO prc-Button-ButtonBase-c50BI" data-loading="false" data-size="medium" data-variant="invisible" aria-describedby=":Rl6mplab:-loading-announcement"><span data-component="buttonContent" class="Box-sc-g0xbh4-0 gUkoLg prc-Button-ButtonContent-HKbr-"><span data-component="leadingVisual" class="prc-Button-Visual-2epfX prc-Button-VisualWrap-Db-eB"><svg aria-hidden="true" focusable="false" class="octicon octicon-arrow-left" viewBox="0 0 16 16" width="16" height="16" fill="currentColor" style="display:inline-block;user-select:none;vertical-align:text-bottom;overflow:visible"><path d="M7.78 12.53a.75.75 0 0 1-1.06 0L2.47 8.28a.75.75 0 0 1 0-1.06l4.25-4.25a.751.751 0 0 1 1.042.018.751.751 0 0 1 .018 1.042L4.81 7h7.44a.75.75 0 0 1 0 1.5H4.81l2.97 2.97a.75.75 0 0 1 0 1.06Z"></path></svg></span><span data-component="text" class="prc-Button-Label-pTQ3x">Files</span></span></button><span role="tooltip" aria-label="Collapse file tree" id="expand-button-file-tree-button" class="Tooltip__TooltipBase-sc-17tf59c-0 fiSvBN tooltipped-se"><button data-component="IconButton" type="button" data-testid="collapse-file-tree-button" aria-expanded="true" aria-controls="repos-file-tree" class="prc-Button-ButtonBase-c50BI position-relative ExpandFileTreeButton-module__expandButton--gL4is ExpandFileTreeButton-module__filesButtonBreakpoint--WfX9t fgColor-muted prc-Button-IconButton-szpyj" data-loading="false" data-no-visuals="true" data-size="medium" data-variant="invisible" aria-describedby=":R356mplab:-loading-announcement" aria-labelledby="expand-button-file-tree-button"><svg aria-hidden="true" focusable="false" class="octicon octicon-sidebar-expand" viewBox="0 0 16 16" width="16" height="16" fill="currentColor" style="display:inline-block;user-select:none;vertical-align:text-bottom;overflow:visible"><path d="m4.177 7.823 2.396-2.396A.25.25 0 0 1 7 5.604v4.792a.25.25 0 0 1-.427.177L4.177 8.177a.25.25 0 0 1 0-.354Z"></path><path d="M0 1.75C0 .784.784 0 1.75 0h12.5C15.216 0 16 .784 16 1.75v12.5A1.75 1.75 0 0 1 14.25 16H1.75A1.75 1.75 0 0 1 0 14.25Zm1.75-.25a.25.25 0 0 0-.25.25v12.5c0 .138.112.25.25.25H9.5v-13Zm12.5 13a.25.25 0 0 0 .25-.25V1.75a.25.25 0 0 0-.25-.25H11v13Z"></path></svg></button></span><button hidden="" data-testid="" data-hotkey-scope="read-only-cursor-text-area"></button></h2><h2 class="Box-sc-g0xbh4-0 kOkWgo prc-Heading-Heading-6CmGO">Files</h2></div><div class="Box-sc-g0xbh4-0 lhbroM"><div class="Box-sc-g0xbh4-0 khzwtX"><button type="button" aria-haspopup="true" aria-expanded="false" tabindex="0" aria-label="main branch" data-testid="anchor-button" class="Box-sc-g0xbh4-0 JMXqM prc-Button-ButtonBase-c50BI react-repos-tree-pane-ref-selector width-full ref-selector-class" data-loading="false" data-size="medium" data-variant="default" aria-describedby="branch-picker-repos-header-ref-selector-loading-announcement" id="branch-picker-repos-header-ref-selector"><span data-component="buttonContent" class="Box-sc-g0xbh4-0 gUkoLg prc-Button-ButtonContent-HKbr-"><span data-component="text" class="prc-Button-Label-pTQ3x"><div class="Box-sc-g0xbh4-0 bZBlpz"><div class="Box-sc-g0xbh4-0 bJjzmO"><svg aria-hidden="true" focusable="false" class="octicon octicon-git-branch" viewBox="0 0 16 16" width="16" height="16" fill="currentColor" style="display:inline-block;user-select:none;vertical-align:text-bottom;overflow:visible"><path d="M9.5 3.25a2.25 2.25 0 1 1 3 2.122V6A2.5 2.5 0 0 1 10 8.5H6a1 1 0 0 0-1 1v1.128a2.251 2.251 0 1 1-1.5 0V5.372a2.25 2.25 0 1 1 1.5 0v1.836A2.493 2.493 0 0 1 6 7h4a1 1 0 0 0 1-1v-.628A2.25 2.25 0 0 1 9.5 3.25Zm-6 0a.75.75 0 1 0 1.5 0 .75.75 0 0 0-1.5 0Zm8.25-.75a.75.75 0 1 0 0 1.5.75.75 0 0 0 0-1.5ZM4.25 12a.75.75 0 1 0 0 1.5.75.75 0 0 0 0-1.5Z"></path></svg></div><div class="Box-sc-g0xbh4-0 ffLUq ref-selector-button-text-container"><span class="Box-sc-g0xbh4-0 bmcJak prc-Text-Text-0ima0"> <!-- -->main</span></div></div></span><span data-component="trailingVisual" class="prc-Button-Visual-2epfX prc-Button-VisualWrap-Db-eB"><svg aria-hidden="true" focusable="false" class="octicon octicon-triangle-down" viewBox="0 0 16 16" width="16" height="16" fill="currentColor" style="display:inline-block;user-select:none;vertical-align:text-bottom;overflow:visible"><path d="m4.427 7.427 3.396 3.396a.25.25 0 0 0 .354 0l3.396-3.396A.25.25 0 0 0 11.396 7H4.604a.25.25 0 0 0-.177.427Z"></path></svg></span></span></button><button hidden="" data-hotkey-scope="read-only-cursor-text-area"></button></div><div class="Box-sc-g0xbh4-0 eTeVqd"><span role="tooltip" aria-label="Add file" id=":Rq6mplab:" class="Tooltip__TooltipBase-sc-17tf59c-0 fiSvBN tooltipped-s"><a sx="[object Object]" data-component="IconButton" type="button" aria-label="Add file" class="Box-sc-g0xbh4-0 jNHrPP prc-Button-ButtonBase-c50BI prc-Button-IconButton-szpyj" data-loading="false" data-no-visuals="true" data-size="medium" data-variant="default" aria-describedby=":R2q6mplab:-loading-announcement" href="/Dim4s4ufa/MSIB-K2-KelasAwanPintar/new/main"><svg aria-hidden="true" focusable="false" class="octicon octicon-plus" viewBox="0 0 16 16" width="16" height="16" fill="currentColor" style="display:inline-block;user-select:none;vertical-align:text-bottom;overflow:visible"><path d="M7.75 2a.75.75 0 0 1 .75.75V7h4.25a.75.75 0 0 1 0 1.5H8.5v4.25a.75.75 0 0 1-1.5 0V8.5H2.75a.75.75 0 0 1 0-1.5H7V2.75A.75.75 0 0 1 7.75 2Z"></path></svg></a></span><button data-component="IconButton" type="button" aria-label="Search this repository" class="Box-sc-g0xbh4-0 ijefGF prc-Button-ButtonBase-c50BI prc-Button-IconButton-szpyj" data-loading="false" data-no-visuals="true" data-size="medium" data-variant="default" aria-describedby=":R3a6mplab:-loading-announcement"><svg aria-hidden="true" focusable="false" class="octicon octicon-search" viewBox="0 0 16 16" width="16" height="16" fill="currentColor" style="display:inline-block;user-select:none;vertical-align:text-bottom;overflow:visible"><path d="M10.68 11.74a6 6 0 0 1-7.922-8.982 6 6 0 0 1 8.982 7.922l3.04 3.04a.749.749 0 0 1-.326 1.275.749.749 0 0 1-.734-.215ZM11.5 7a4.499 4.499 0 1 0-8.997 0A4.499 4.499 0 0 0 11.5 7Z"></path></svg></button><button hidden="" data-testid="" data-hotkey-scope="read-only-cursor-text-area"></button></div></div></div><div class="Box-sc-g0xbh4-0 ftzGWg"><span class="TextInputWrapper__TextInputBaseWrapper-sc-1mqhpbi-0 TextInputWrapper-sc-1mqhpbi-1 fgiTUz klSCQM TextInput-wrapper" aria-busy="false"><span class="TextInput-icon" id=":R5amplab:" aria-hidden="true"><svg aria-hidden="true" focusable="false" class="octicon octicon-search" viewBox="0 0 16 16" width="16" height="16" fill="currentColor" style="display:inline-block;user-select:none;vertical-align:text-bottom;overflow:visible"><path d="M10.68 11.74a6 6 0 0 1-7.922-8.982 6 6 0 0 1 8.982 7.922l3.04 3.04a.749.749 0 0 1-.326 1.275.749.749 0 0 1-.734-.215ZM11.5 7a4.499 4.499 0 1 0-8.997 0A4.499 4.499 0 0 0 11.5 7Z"></path></svg></span><input type="text" aria-label="Go to file" role="combobox" aria-controls="file-results-list" aria-expanded="false" aria-haspopup="dialog" autoCorrect="off" spellcheck="false" placeholder="Go to file" aria-describedby=":R5amplab: :R5amplabH1:" data-component="input" class="UnstyledTextInput-sc-14ypya-0 kbCLEG" value=""/><span class="TextInput-icon" id=":R5amplabH1:" aria-hidden="true"><div class="Box-sc-g0xbh4-0 dItACB"><kbd>t</kbd></div></span></span></div><button hidden="" data-testid="" data-hotkey-scope="read-only-cursor-text-area"></button><button hidden=""></button><div class="Box-sc-g0xbh4-0 gjtfVk"><div class="react-tree-show-tree-items"><div data-testid="repos-file-tree-container" class="Box-sc-g0xbh4-0 cOxzdh"><nav aria-label="File Tree Navigation"><span role="status" aria-live="polite" aria-atomic="true" class="_VisuallyHidden__VisuallyHidden-sc-11jhm7a-0 brGdpi"></span><ul role="tree" aria-label="Files" data-truncate-text="true" class="TreeView__UlBox-sc-4ex6b6-0 jGvHJc"><li class="PRIVATE_TreeView-item" tabindex="0" id="Copy_of_Introduction_to_DS.ipynb-item" role="treeitem" aria-labelledby=":R39implab:" aria-describedby=":R39implabH1:" aria-level="1" aria-selected="false"><div class="PRIVATE_TreeView-item-container" style="--level:1;content-visibility:auto;contain-intrinsic-size:auto 2rem"><div style="grid-area:spacer;display:flex"><div style="width:100%;display:flex"></div></div><div id=":R39implab:" class="PRIVATE_TreeView-item-content"><div class="PRIVATE_VisuallyHidden" aria-hidden="true" id=":R39implabH1:"></div><div class="PRIVATE_TreeView-item-visual" aria-hidden="true"><svg aria-hidden="true" focusable="false" class="octicon octicon-file" viewBox="0 0 16 16" width="16" height="16" fill="currentColor" style="display:inline-block;user-select:none;vertical-align:text-bottom;overflow:visible"><path d="M2 1.75C2 .784 2.784 0 3.75 0h6.586c.464 0 .909.184 1.237.513l2.914 2.914c.329.328.513.773.513 1.237v9.586A1.75 1.75 0 0 1 13.25 16h-9.5A1.75 1.75 0 0 1 2 14.25Zm1.75-.25a.25.25 0 0 0-.25.25v12.5c0 .138.112.25.25.25h9.5a.25.25 0 0 0 .25-.25V6h-2.75A1.75 1.75 0 0 1 9 4.25V1.5Zm6.75.062V4.25c0 .138.112.25.25.25h2.688l-.011-.013-2.914-2.914-.013-.011Z"></path></svg></div><span class="PRIVATE_TreeView-item-content-text"><span>Copy_of_Introduction_to_DS.ipynb</span></span></div></div></li><li class="PRIVATE_TreeView-item" tabindex="0" id="README.md-item" role="treeitem" aria-labelledby=":R59implab:" aria-describedby=":R59implabH1:" aria-level="1" aria-selected="false"><div class="PRIVATE_TreeView-item-container" style="--level:1;content-visibility:auto;contain-intrinsic-size:auto 2rem"><div style="grid-area:spacer;display:flex"><div style="width:100%;display:flex"></div></div><div id=":R59implab:" class="PRIVATE_TreeView-item-content"><div class="PRIVATE_VisuallyHidden" aria-hidden="true" id=":R59implabH1:"></div><div class="PRIVATE_TreeView-item-visual" aria-hidden="true"><svg aria-hidden="true" focusable="false" class="octicon octicon-file" viewBox="0 0 16 16" width="16" height="16" fill="currentColor" style="display:inline-block;user-select:none;vertical-align:text-bottom;overflow:visible"><path d="M2 1.75C2 .784 2.784 0 3.75 0h6.586c.464 0 .909.184 1.237.513l2.914 2.914c.329.328.513.773.513 1.237v9.586A1.75 1.75 0 0 1 13.25 16h-9.5A1.75 1.75 0 0 1 2 14.25Zm1.75-.25a.25.25 0 0 0-.25.25v12.5c0 .138.112.25.25.25h9.5a.25.25 0 0 0 .25-.25V6h-2.75A1.75 1.75 0 0 1 9 4.25V1.5Zm6.75.062V4.25c0 .138.112.25.25.25h2.688l-.011-.013-2.914-2.914-.013-.011Z"></path></svg></div><span class="PRIVATE_TreeView-item-content-text"><span>README.md</span></span></div></div></li><li class="PRIVATE_TreeView-item" tabindex="0" id="Salinan_dari_(Student)SL_05_Data_Aquisition.ipynb-item" role="treeitem" aria-labelledby=":R79implab:" aria-describedby=":R79implabH1:" aria-level="1" aria-selected="false"><div class="PRIVATE_TreeView-item-container" style="--level:1;content-visibility:auto;contain-intrinsic-size:auto 2rem"><div style="grid-area:spacer;display:flex"><div style="width:100%;display:flex"></div></div><div id=":R79implab:" class="PRIVATE_TreeView-item-content"><div class="PRIVATE_VisuallyHidden" aria-hidden="true" id=":R79implabH1:"></div><div class="PRIVATE_TreeView-item-visual" aria-hidden="true"><svg aria-hidden="true" focusable="false" class="octicon octicon-file" viewBox="0 0 16 16" width="16" height="16" fill="currentColor" style="display:inline-block;user-select:none;vertical-align:text-bottom;overflow:visible"><path d="M2 1.75C2 .784 2.784 0 3.75 0h6.586c.464 0 .909.184 1.237.513l2.914 2.914c.329.328.513.773.513 1.237v9.586A1.75 1.75 0 0 1 13.25 16h-9.5A1.75 1.75 0 0 1 2 14.25Zm1.75-.25a.25.25 0 0 0-.25.25v12.5c0 .138.112.25.25.25h9.5a.25.25 0 0 0 .25-.25V6h-2.75A1.75 1.75 0 0 1 9 4.25V1.5Zm6.75.062V4.25c0 .138.112.25.25.25h2.688l-.011-.013-2.914-2.914-.013-.011Z"></path></svg></div><span class="PRIVATE_TreeView-item-content-text"><span>Salinan_dari_(Student)SL_05_Data_Aquisition.ipynb</span></span></div></div></li><li class="PRIVATE_TreeView-item" tabindex="0" id="Salinan_dari_AIJ0201S2302_C01_Hierarchical_Clustering.ipynb-item" role="treeitem" aria-labelledby=":R99implab:" aria-describedby=":R99implabH1:" aria-level="1" aria-selected="false"><div class="PRIVATE_TreeView-item-container" style="--level:1;content-visibility:auto;contain-intrinsic-size:auto 2rem"><div style="grid-area:spacer;display:flex"><div style="width:100%;display:flex"></div></div><div id=":R99implab:" class="PRIVATE_TreeView-item-content"><div class="PRIVATE_VisuallyHidden" aria-hidden="true" id=":R99implabH1:"></div><div class="PRIVATE_TreeView-item-visual" aria-hidden="true"><svg aria-hidden="true" focusable="false" class="octicon octicon-file" viewBox="0 0 16 16" width="16" height="16" fill="currentColor" style="display:inline-block;user-select:none;vertical-align:text-bottom;overflow:visible"><path d="M2 1.75C2 .784 2.784 0 3.75 0h6.586c.464 0 .909.184 1.237.513l2.914 2.914c.329.328.513.773.513 1.237v9.586A1.75 1.75 0 0 1 13.25 16h-9.5A1.75 1.75 0 0 1 2 14.25Zm1.75-.25a.25.25 0 0 0-.25.25v12.5c0 .138.112.25.25.25h9.5a.25.25 0 0 0 .25-.25V6h-2.75A1.75 1.75 0 0 1 9 4.25V1.5Zm6.75.062V4.25c0 .138.112.25.25.25h2.688l-.011-.013-2.914-2.914-.013-.011Z"></path></svg></div><span class="PRIVATE_TreeView-item-content-text"><span>Salinan_dari_AIJ0201S2302_C01_Hierarchical_Clustering.ipynb</span></span></div></div></li><li class="PRIVATE_TreeView-item" tabindex="0" id="Salinan_dari_AIJ0202S2302_C01_Non_Hierarchical_Clustering.ipynb-item" role="treeitem" aria-labelledby=":Rb9implab:" aria-describedby=":Rb9implabH1:" aria-level="1" aria-selected="false"><div class="PRIVATE_TreeView-item-container" style="--level:1;content-visibility:auto;contain-intrinsic-size:auto 2rem"><div style="grid-area:spacer;display:flex"><div style="width:100%;display:flex"></div></div><div id=":Rb9implab:" class="PRIVATE_TreeView-item-content"><div class="PRIVATE_VisuallyHidden" aria-hidden="true" id=":Rb9implabH1:"></div><div class="PRIVATE_TreeView-item-visual" aria-hidden="true"><svg aria-hidden="true" focusable="false" class="octicon octicon-file" viewBox="0 0 16 16" width="16" height="16" fill="currentColor" style="display:inline-block;user-select:none;vertical-align:text-bottom;overflow:visible"><path d="M2 1.75C2 .784 2.784 0 3.75 0h6.586c.464 0 .909.184 1.237.513l2.914 2.914c.329.328.513.773.513 1.237v9.586A1.75 1.75 0 0 1 13.25 16h-9.5A1.75 1.75 0 0 1 2 14.25Zm1.75-.25a.25.25 0 0 0-.25.25v12.5c0 .138.112.25.25.25h9.5a.25.25 0 0 0 .25-.25V6h-2.75A1.75 1.75 0 0 1 9 4.25V1.5Zm6.75.062V4.25c0 .138.112.25.25.25h2.688l-.011-.013-2.914-2.914-.013-.011Z"></path></svg></div><span class="PRIVATE_TreeView-item-content-text"><span>Salinan_dari_AIJ0202S2302_C01_Non_Hierarchical_Clustering.ipynb</span></span></div></div></li><li class="PRIVATE_TreeView-item" tabindex="0" id="Salinan_dari_CNN_Indonesian_Food_Classification.ipynb-item" role="treeitem" aria-labelledby=":Rd9implab:" aria-describedby=":Rd9implabH1:" aria-level="1" aria-selected="false"><div class="PRIVATE_TreeView-item-container" style="--level:1;content-visibility:auto;contain-intrinsic-size:auto 2rem"><div style="grid-area:spacer;display:flex"><div style="width:100%;display:flex"></div></div><div id=":Rd9implab:" class="PRIVATE_TreeView-item-content"><div class="PRIVATE_VisuallyHidden" aria-hidden="true" id=":Rd9implabH1:"></div><div class="PRIVATE_TreeView-item-visual" aria-hidden="true"><svg aria-hidden="true" focusable="false" class="octicon octicon-file" viewBox="0 0 16 16" width="16" height="16" fill="currentColor" style="display:inline-block;user-select:none;vertical-align:text-bottom;overflow:visible"><path d="M2 1.75C2 .784 2.784 0 3.75 0h6.586c.464 0 .909.184 1.237.513l2.914 2.914c.329.328.513.773.513 1.237v9.586A1.75 1.75 0 0 1 13.25 16h-9.5A1.75 1.75 0 0 1 2 14.25Zm1.75-.25a.25.25 0 0 0-.25.25v12.5c0 .138.112.25.25.25h9.5a.25.25 0 0 0 .25-.25V6h-2.75A1.75 1.75 0 0 1 9 4.25V1.5Zm6.75.062V4.25c0 .138.112.25.25.25h2.688l-.011-.013-2.914-2.914-.013-.011Z"></path></svg></div><span class="PRIVATE_TreeView-item-content-text"><span>Salinan_dari_CNN_Indonesian_Food_Classification.ipynb</span></span></div></div></li><li class="PRIVATE_TreeView-item" tabindex="0" id="Salinan_dari_DL_Chatbot_Student.ipynb-item" role="treeitem" aria-labelledby=":Rf9implab:" aria-describedby=":Rf9implabH1:" aria-level="1" aria-selected="false"><div class="PRIVATE_TreeView-item-container" style="--level:1;content-visibility:auto;contain-intrinsic-size:auto 2rem"><div style="grid-area:spacer;display:flex"><div style="width:100%;display:flex"></div></div><div id=":Rf9implab:" class="PRIVATE_TreeView-item-content"><div class="PRIVATE_VisuallyHidden" aria-hidden="true" id=":Rf9implabH1:"></div><div class="PRIVATE_TreeView-item-visual" aria-hidden="true"><svg aria-hidden="true" focusable="false" class="octicon octicon-file" viewBox="0 0 16 16" width="16" height="16" fill="currentColor" style="display:inline-block;user-select:none;vertical-align:text-bottom;overflow:visible"><path d="M2 1.75C2 .784 2.784 0 3.75 0h6.586c.464 0 .909.184 1.237.513l2.914 2.914c.329.328.513.773.513 1.237v9.586A1.75 1.75 0 0 1 13.25 16h-9.5A1.75 1.75 0 0 1 2 14.25Zm1.75-.25a.25.25 0 0 0-.25.25v12.5c0 .138.112.25.25.25h9.5a.25.25 0 0 0 .25-.25V6h-2.75A1.75 1.75 0 0 1 9 4.25V1.5Zm6.75.062V4.25c0 .138.112.25.25.25h2.688l-.011-.013-2.914-2.914-.013-.011Z"></path></svg></div><span class="PRIVATE_TreeView-item-content-text"><span>Salinan_dari_DL_Chatbot_Student.ipynb</span></span></div></div></li><li class="PRIVATE_TreeView-item" tabindex="0" id="Salinan_dari_DS05_Market_Basket_Analysis.ipynb-item" role="treeitem" aria-labelledby=":Rh9implab:" aria-describedby=":Rh9implabH1:" aria-level="1" aria-selected="false"><div class="PRIVATE_TreeView-item-container" style="--level:1;content-visibility:auto;contain-intrinsic-size:auto 2rem"><div style="grid-area:spacer;display:flex"><div style="width:100%;display:flex"></div></div><div id=":Rh9implab:" class="PRIVATE_TreeView-item-content"><div class="PRIVATE_VisuallyHidden" aria-hidden="true" id=":Rh9implabH1:"></div><div class="PRIVATE_TreeView-item-visual" aria-hidden="true"><svg aria-hidden="true" focusable="false" class="octicon octicon-file" viewBox="0 0 16 16" width="16" height="16" fill="currentColor" style="display:inline-block;user-select:none;vertical-align:text-bottom;overflow:visible"><path d="M2 1.75C2 .784 2.784 0 3.75 0h6.586c.464 0 .909.184 1.237.513l2.914 2.914c.329.328.513.773.513 1.237v9.586A1.75 1.75 0 0 1 13.25 16h-9.5A1.75 1.75 0 0 1 2 14.25Zm1.75-.25a.25.25 0 0 0-.25.25v12.5c0 .138.112.25.25.25h9.5a.25.25 0 0 0 .25-.25V6h-2.75A1.75 1.75 0 0 1 9 4.25V1.5Zm6.75.062V4.25c0 .138.112.25.25.25h2.688l-.011-.013-2.914-2.914-.013-.011Z"></path></svg></div><span class="PRIVATE_TreeView-item-content-text"><span>Salinan_dari_DS05_Market_Basket_Analysis.ipynb</span></span></div></div></li><li class="PRIVATE_TreeView-item" tabindex="0" id="Salinan_dari_Data_Preprocessing_in_Action.ipynb-item" role="treeitem" aria-labelledby=":Rj9implab:" aria-describedby=":Rj9implabH1:" aria-level="1" aria-selected="false"><div class="PRIVATE_TreeView-item-container" style="--level:1;content-visibility:auto;contain-intrinsic-size:auto 2rem"><div style="grid-area:spacer;display:flex"><div style="width:100%;display:flex"></div></div><div id=":Rj9implab:" class="PRIVATE_TreeView-item-content"><div class="PRIVATE_VisuallyHidden" aria-hidden="true" id=":Rj9implabH1:"></div><div class="PRIVATE_TreeView-item-visual" aria-hidden="true"><svg aria-hidden="true" focusable="false" class="octicon octicon-file" viewBox="0 0 16 16" width="16" height="16" fill="currentColor" style="display:inline-block;user-select:none;vertical-align:text-bottom;overflow:visible"><path d="M2 1.75C2 .784 2.784 0 3.75 0h6.586c.464 0 .909.184 1.237.513l2.914 2.914c.329.328.513.773.513 1.237v9.586A1.75 1.75 0 0 1 13.25 16h-9.5A1.75 1.75 0 0 1 2 14.25Zm1.75-.25a.25.25 0 0 0-.25.25v12.5c0 .138.112.25.25.25h9.5a.25.25 0 0 0 .25-.25V6h-2.75A1.75 1.75 0 0 1 9 4.25V1.5Zm6.75.062V4.25c0 .138.112.25.25.25h2.688l-.011-.013-2.914-2.914-.013-.011Z"></path></svg></div><span class="PRIVATE_TreeView-item-content-text"><span>Salinan_dari_Data_Preprocessing_in_Action.ipynb</span></span></div></div></li><li class="PRIVATE_TreeView-item" tabindex="0" id="Salinan_dari_Dimensionality_Reduction.ipynb-item" role="treeitem" aria-labelledby=":Rl9implab:" aria-describedby=":Rl9implabH1:" aria-level="1" aria-selected="false"><div class="PRIVATE_TreeView-item-container" style="--level:1;content-visibility:auto;contain-intrinsic-size:auto 2rem"><div style="grid-area:spacer;display:flex"><div style="width:100%;display:flex"></div></div><div id=":Rl9implab:" class="PRIVATE_TreeView-item-content"><div class="PRIVATE_VisuallyHidden" aria-hidden="true" id=":Rl9implabH1:"></div><div class="PRIVATE_TreeView-item-visual" aria-hidden="true"><svg aria-hidden="true" focusable="false" class="octicon octicon-file" viewBox="0 0 16 16" width="16" height="16" fill="currentColor" style="display:inline-block;user-select:none;vertical-align:text-bottom;overflow:visible"><path d="M2 1.75C2 .784 2.784 0 3.75 0h6.586c.464 0 .909.184 1.237.513l2.914 2.914c.329.328.513.773.513 1.237v9.586A1.75 1.75 0 0 1 13.25 16h-9.5A1.75 1.75 0 0 1 2 14.25Zm1.75-.25a.25.25 0 0 0-.25.25v12.5c0 .138.112.25.25.25h9.5a.25.25 0 0 0 .25-.25V6h-2.75A1.75 1.75 0 0 1 9 4.25V1.5Zm6.75.062V4.25c0 .138.112.25.25.25h2.688l-.011-.013-2.914-2.914-.013-.011Z"></path></svg></div><span class="PRIVATE_TreeView-item-content-text"><span>Salinan_dari_Dimensionality_Reduction.ipynb</span></span></div></div></li><li class="PRIVATE_TreeView-item" tabindex="0" id="Salinan_dari_JM_Rule_Based_Chatbot.ipynb-item" role="treeitem" aria-labelledby=":Rn9implab:" aria-describedby=":Rn9implabH1:" aria-level="1" aria-selected="false"><div class="PRIVATE_TreeView-item-container" style="--level:1;content-visibility:auto;contain-intrinsic-size:auto 2rem"><div style="grid-area:spacer;display:flex"><div style="width:100%;display:flex"></div></div><div id=":Rn9implab:" class="PRIVATE_TreeView-item-content"><div class="PRIVATE_VisuallyHidden" aria-hidden="true" id=":Rn9implabH1:"></div><div class="PRIVATE_TreeView-item-visual" aria-hidden="true"><svg aria-hidden="true" focusable="false" class="octicon octicon-file" viewBox="0 0 16 16" width="16" height="16" fill="currentColor" style="display:inline-block;user-select:none;vertical-align:text-bottom;overflow:visible"><path d="M2 1.75C2 .784 2.784 0 3.75 0h6.586c.464 0 .909.184 1.237.513l2.914 2.914c.329.328.513.773.513 1.237v9.586A1.75 1.75 0 0 1 13.25 16h-9.5A1.75 1.75 0 0 1 2 14.25Zm1.75-.25a.25.25 0 0 0-.25.25v12.5c0 .138.112.25.25.25h9.5a.25.25 0 0 0 .25-.25V6h-2.75A1.75 1.75 0 0 1 9 4.25V1.5Zm6.75.062V4.25c0 .138.112.25.25.25h2.688l-.011-.013-2.914-2.914-.013-.011Z"></path></svg></div><span class="PRIVATE_TreeView-item-content-text"><span>Salinan_dari_JM_Rule_Based_Chatbot.ipynb</span></span></div></div></li><li class="PRIVATE_TreeView-item" tabindex="0" id="Salinan_dari_Klasifikasi_Bunga_Iris_(Model_Decision_Tree).ipynb-item" role="treeitem" aria-labelledby=":Rp9implab:" aria-describedby=":Rp9implabH1:" aria-level="1" aria-selected="false"><div class="PRIVATE_TreeView-item-container" style="--level:1;content-visibility:auto;contain-intrinsic-size:auto 2rem"><div style="grid-area:spacer;display:flex"><div style="width:100%;display:flex"></div></div><div id=":Rp9implab:" class="PRIVATE_TreeView-item-content"><div class="PRIVATE_VisuallyHidden" aria-hidden="true" id=":Rp9implabH1:"></div><div class="PRIVATE_TreeView-item-visual" aria-hidden="true"><svg aria-hidden="true" focusable="false" class="octicon octicon-file" viewBox="0 0 16 16" width="16" height="16" fill="currentColor" style="display:inline-block;user-select:none;vertical-align:text-bottom;overflow:visible"><path d="M2 1.75C2 .784 2.784 0 3.75 0h6.586c.464 0 .909.184 1.237.513l2.914 2.914c.329.328.513.773.513 1.237v9.586A1.75 1.75 0 0 1 13.25 16h-9.5A1.75 1.75 0 0 1 2 14.25Zm1.75-.25a.25.25 0 0 0-.25.25v12.5c0 .138.112.25.25.25h9.5a.25.25 0 0 0 .25-.25V6h-2.75A1.75 1.75 0 0 1 9 4.25V1.5Zm6.75.062V4.25c0 .138.112.25.25.25h2.688l-.011-.013-2.914-2.914-.013-.011Z"></path></svg></div><span class="PRIVATE_TreeView-item-content-text"><span>Salinan_dari_Klasifikasi_Bunga_Iris_(Model_Decision_Tree).ipynb</span></span></div></div></li><li class="PRIVATE_TreeView-item" tabindex="0" id="Salinan_dari_Latihan_statistical_test.ipynb-item" role="treeitem" aria-labelledby=":Rr9implab:" aria-describedby=":Rr9implabH1:" aria-level="1" aria-selected="false"><div class="PRIVATE_TreeView-item-container" style="--level:1;content-visibility:auto;contain-intrinsic-size:auto 2rem"><div style="grid-area:spacer;display:flex"><div style="width:100%;display:flex"></div></div><div id=":Rr9implab:" class="PRIVATE_TreeView-item-content"><div class="PRIVATE_VisuallyHidden" aria-hidden="true" id=":Rr9implabH1:"></div><div class="PRIVATE_TreeView-item-visual" aria-hidden="true"><svg aria-hidden="true" focusable="false" class="octicon octicon-file" viewBox="0 0 16 16" width="16" height="16" fill="currentColor" style="display:inline-block;user-select:none;vertical-align:text-bottom;overflow:visible"><path d="M2 1.75C2 .784 2.784 0 3.75 0h6.586c.464 0 .909.184 1.237.513l2.914 2.914c.329.328.513.773.513 1.237v9.586A1.75 1.75 0 0 1 13.25 16h-9.5A1.75 1.75 0 0 1 2 14.25Zm1.75-.25a.25.25 0 0 0-.25.25v12.5c0 .138.112.25.25.25h9.5a.25.25 0 0 0 .25-.25V6h-2.75A1.75 1.75 0 0 1 9 4.25V1.5Zm6.75.062V4.25c0 .138.112.25.25.25h2.688l-.011-.013-2.914-2.914-.013-.011Z"></path></svg></div><span class="PRIVATE_TreeView-item-content-text"><span>Salinan_dari_Latihan_statistical_test.ipynb</span></span></div></div></li><li class="PRIVATE_TreeView-item" tabindex="0" id="Salinan_dari_ML_1_Korelasi_dan_Regresi.ipynb-item" role="treeitem" aria-labelledby=":Rt9implab:" aria-describedby=":Rt9implabH1:" aria-level="1" aria-selected="false"><div class="PRIVATE_TreeView-item-container" style="--level:1;content-visibility:auto;contain-intrinsic-size:auto 2rem"><div style="grid-area:spacer;display:flex"><div style="width:100%;display:flex"></div></div><div id=":Rt9implab:" class="PRIVATE_TreeView-item-content"><div class="PRIVATE_VisuallyHidden" aria-hidden="true" id=":Rt9implabH1:"></div><div class="PRIVATE_TreeView-item-visual" aria-hidden="true"><svg aria-hidden="true" focusable="false" class="octicon octicon-file" viewBox="0 0 16 16" width="16" height="16" fill="currentColor" style="display:inline-block;user-select:none;vertical-align:text-bottom;overflow:visible"><path d="M2 1.75C2 .784 2.784 0 3.75 0h6.586c.464 0 .909.184 1.237.513l2.914 2.914c.329.328.513.773.513 1.237v9.586A1.75 1.75 0 0 1 13.25 16h-9.5A1.75 1.75 0 0 1 2 14.25Zm1.75-.25a.25.25 0 0 0-.25.25v12.5c0 .138.112.25.25.25h9.5a.25.25 0 0 0 .25-.25V6h-2.75A1.75 1.75 0 0 1 9 4.25V1.5Zm6.75.062V4.25c0 .138.112.25.25.25h2.688l-.011-.013-2.914-2.914-.013-.011Z"></path></svg></div><span class="PRIVATE_TreeView-item-content-text"><span>Salinan_dari_ML_1_Korelasi_dan_Regresi.ipynb</span></span></div></div></li><li class="PRIVATE_TreeView-item" tabindex="0" id="Salinan_dari_ML_2_Classification_using_k_NN.ipynb-item" role="treeitem" aria-labelledby=":Rv9implab:" aria-describedby=":Rv9implabH1:" aria-level="1" aria-selected="false"><div class="PRIVATE_TreeView-item-container" style="--level:1;content-visibility:auto;contain-intrinsic-size:auto 2rem"><div style="grid-area:spacer;display:flex"><div style="width:100%;display:flex"></div></div><div id=":Rv9implab:" class="PRIVATE_TreeView-item-content"><div class="PRIVATE_VisuallyHidden" aria-hidden="true" id=":Rv9implabH1:"></div><div class="PRIVATE_TreeView-item-visual" aria-hidden="true"><svg aria-hidden="true" focusable="false" class="octicon octicon-file" viewBox="0 0 16 16" width="16" height="16" fill="currentColor" style="display:inline-block;user-select:none;vertical-align:text-bottom;overflow:visible"><path d="M2 1.75C2 .784 2.784 0 3.75 0h6.586c.464 0 .909.184 1.237.513l2.914 2.914c.329.328.513.773.513 1.237v9.586A1.75 1.75 0 0 1 13.25 16h-9.5A1.75 1.75 0 0 1 2 14.25Zm1.75-.25a.25.25 0 0 0-.25.25v12.5c0 .138.112.25.25.25h9.5a.25.25 0 0 0 .25-.25V6h-2.75A1.75 1.75 0 0 1 9 4.25V1.5Zm6.75.062V4.25c0 .138.112.25.25.25h2.688l-.011-.013-2.914-2.914-.013-.011Z"></path></svg></div><span class="PRIVATE_TreeView-item-content-text"><span>Salinan_dari_ML_2_Classification_using_k_NN.ipynb</span></span></div></div></li><li class="PRIVATE_TreeView-item" tabindex="0" id="Salinan_dari_ML_2_Regresi_Lanjutan.ipynb-item" role="treeitem" aria-labelledby=":R119implab:" aria-describedby=":R119implabH1:" aria-level="1" aria-selected="false"><div class="PRIVATE_TreeView-item-container" style="--level:1;content-visibility:auto;contain-intrinsic-size:auto 2rem"><div style="grid-area:spacer;display:flex"><div style="width:100%;display:flex"></div></div><div id=":R119implab:" class="PRIVATE_TreeView-item-content"><div class="PRIVATE_VisuallyHidden" aria-hidden="true" id=":R119implabH1:"></div><div class="PRIVATE_TreeView-item-visual" aria-hidden="true"><svg aria-hidden="true" focusable="false" class="octicon octicon-file" viewBox="0 0 16 16" width="16" height="16" fill="currentColor" style="display:inline-block;user-select:none;vertical-align:text-bottom;overflow:visible"><path d="M2 1.75C2 .784 2.784 0 3.75 0h6.586c.464 0 .909.184 1.237.513l2.914 2.914c.329.328.513.773.513 1.237v9.586A1.75 1.75 0 0 1 13.25 16h-9.5A1.75 1.75 0 0 1 2 14.25Zm1.75-.25a.25.25 0 0 0-.25.25v12.5c0 .138.112.25.25.25h9.5a.25.25 0 0 0 .25-.25V6h-2.75A1.75 1.75 0 0 1 9 4.25V1.5Zm6.75.062V4.25c0 .138.112.25.25.25h2.688l-.011-.013-2.914-2.914-.013-.011Z"></path></svg></div><span class="PRIVATE_TreeView-item-content-text"><span>Salinan_dari_ML_2_Regresi_Lanjutan.ipynb</span></span></div></div></li><li class="PRIVATE_TreeView-item" tabindex="0" id="Salinan_dari_ML_3_Classification_using_Decision_Tree.ipynb-item" role="treeitem" aria-labelledby=":R139implab:" aria-describedby=":R139implabH1:" aria-level="1" aria-selected="false"><div class="PRIVATE_TreeView-item-container" style="--level:1;content-visibility:auto;contain-intrinsic-size:auto 2rem"><div style="grid-area:spacer;display:flex"><div style="width:100%;display:flex"></div></div><div id=":R139implab:" class="PRIVATE_TreeView-item-content"><div class="PRIVATE_VisuallyHidden" aria-hidden="true" id=":R139implabH1:"></div><div class="PRIVATE_TreeView-item-visual" aria-hidden="true"><svg aria-hidden="true" focusable="false" class="octicon octicon-file" viewBox="0 0 16 16" width="16" height="16" fill="currentColor" style="display:inline-block;user-select:none;vertical-align:text-bottom;overflow:visible"><path d="M2 1.75C2 .784 2.784 0 3.75 0h6.586c.464 0 .909.184 1.237.513l2.914 2.914c.329.328.513.773.513 1.237v9.586A1.75 1.75 0 0 1 13.25 16h-9.5A1.75 1.75 0 0 1 2 14.25Zm1.75-.25a.25.25 0 0 0-.25.25v12.5c0 .138.112.25.25.25h9.5a.25.25 0 0 0 .25-.25V6h-2.75A1.75 1.75 0 0 1 9 4.25V1.5Zm6.75.062V4.25c0 .138.112.25.25.25h2.688l-.011-.013-2.914-2.914-.013-.011Z"></path></svg></div><span class="PRIVATE_TreeView-item-content-text"><span>Salinan_dari_ML_3_Classification_using_Decision_Tree.ipynb</span></span></div></div></li><li class="PRIVATE_TreeView-item" tabindex="0" id="Salinan_dari_ML_7_Deep_Learning.ipynb-item" role="treeitem" aria-labelledby=":R159implab:" aria-describedby=":R159implabH1:" aria-level="1" aria-selected="false"><div class="PRIVATE_TreeView-item-container" style="--level:1;content-visibility:auto;contain-intrinsic-size:auto 2rem"><div style="grid-area:spacer;display:flex"><div style="width:100%;display:flex"></div></div><div id=":R159implab:" class="PRIVATE_TreeView-item-content"><div class="PRIVATE_VisuallyHidden" aria-hidden="true" id=":R159implabH1:"></div><div class="PRIVATE_TreeView-item-visual" aria-hidden="true"><svg aria-hidden="true" focusable="false" class="octicon octicon-file" viewBox="0 0 16 16" width="16" height="16" fill="currentColor" style="display:inline-block;user-select:none;vertical-align:text-bottom;overflow:visible"><path d="M2 1.75C2 .784 2.784 0 3.75 0h6.586c.464 0 .909.184 1.237.513l2.914 2.914c.329.328.513.773.513 1.237v9.586A1.75 1.75 0 0 1 13.25 16h-9.5A1.75 1.75 0 0 1 2 14.25Zm1.75-.25a.25.25 0 0 0-.25.25v12.5c0 .138.112.25.25.25h9.5a.25.25 0 0 0 .25-.25V6h-2.75A1.75 1.75 0 0 1 9 4.25V1.5Zm6.75.062V4.25c0 .138.112.25.25.25h2.688l-.011-.013-2.914-2.914-.013-.011Z"></path></svg></div><span class="PRIVATE_TreeView-item-content-text"><span>Salinan_dari_ML_7_Deep_Learning.ipynb</span></span></div></div></li><li class="PRIVATE_TreeView-item" tabindex="0" id="Salinan_dari_Python_1_Let&#x27;s_Start_Coding.ipynb-item" role="treeitem" aria-labelledby=":R179implab:" aria-describedby=":R179implabH1:" aria-level="1" aria-selected="false"><div class="PRIVATE_TreeView-item-container" style="--level:1;content-visibility:auto;contain-intrinsic-size:auto 2rem"><div style="grid-area:spacer;display:flex"><div style="width:100%;display:flex"></div></div><div id=":R179implab:" class="PRIVATE_TreeView-item-content"><div class="PRIVATE_VisuallyHidden" aria-hidden="true" id=":R179implabH1:"></div><div class="PRIVATE_TreeView-item-visual" aria-hidden="true"><svg aria-hidden="true" focusable="false" class="octicon octicon-file" viewBox="0 0 16 16" width="16" height="16" fill="currentColor" style="display:inline-block;user-select:none;vertical-align:text-bottom;overflow:visible"><path d="M2 1.75C2 .784 2.784 0 3.75 0h6.586c.464 0 .909.184 1.237.513l2.914 2.914c.329.328.513.773.513 1.237v9.586A1.75 1.75 0 0 1 13.25 16h-9.5A1.75 1.75 0 0 1 2 14.25Zm1.75-.25a.25.25 0 0 0-.25.25v12.5c0 .138.112.25.25.25h9.5a.25.25 0 0 0 .25-.25V6h-2.75A1.75 1.75 0 0 1 9 4.25V1.5Zm6.75.062V4.25c0 .138.112.25.25.25h2.688l-.011-.013-2.914-2.914-.013-.011Z"></path></svg></div><span class="PRIVATE_TreeView-item-content-text"><span>Salinan_dari_Python_1_Let&#x27;s_Start_Coding.ipynb</span></span></div></div></li><li class="PRIVATE_TreeView-item" tabindex="0" id="Salinan_dari_Python_2_MyFirstProgram_py.ipynb-item" role="treeitem" aria-labelledby=":R199implab:" aria-describedby=":R199implabH1:" aria-level="1" aria-selected="false"><div class="PRIVATE_TreeView-item-container" style="--level:1;content-visibility:auto;contain-intrinsic-size:auto 2rem"><div style="grid-area:spacer;display:flex"><div style="width:100%;display:flex"></div></div><div id=":R199implab:" class="PRIVATE_TreeView-item-content"><div class="PRIVATE_VisuallyHidden" aria-hidden="true" id=":R199implabH1:"></div><div class="PRIVATE_TreeView-item-visual" aria-hidden="true"><svg aria-hidden="true" focusable="false" class="octicon octicon-file" viewBox="0 0 16 16" width="16" height="16" fill="currentColor" style="display:inline-block;user-select:none;vertical-align:text-bottom;overflow:visible"><path d="M2 1.75C2 .784 2.784 0 3.75 0h6.586c.464 0 .909.184 1.237.513l2.914 2.914c.329.328.513.773.513 1.237v9.586A1.75 1.75 0 0 1 13.25 16h-9.5A1.75 1.75 0 0 1 2 14.25Zm1.75-.25a.25.25 0 0 0-.25.25v12.5c0 .138.112.25.25.25h9.5a.25.25 0 0 0 .25-.25V6h-2.75A1.75 1.75 0 0 1 9 4.25V1.5Zm6.75.062V4.25c0 .138.112.25.25.25h2.688l-.011-.013-2.914-2.914-.013-.011Z"></path></svg></div><span class="PRIVATE_TreeView-item-content-text"><span>Salinan_dari_Python_2_MyFirstProgram_py.ipynb</span></span></div></div></li><li class="PRIVATE_TreeView-item" tabindex="0" id="Salinan_dari_Python_3__Container_list,_tupple,_set.ipynb-item" role="treeitem" aria-labelledby=":R1b9implab:" aria-describedby=":R1b9implabH1:" aria-level="1" aria-selected="false"><div class="PRIVATE_TreeView-item-container" style="--level:1;content-visibility:auto;contain-intrinsic-size:auto 2rem"><div style="grid-area:spacer;display:flex"><div style="width:100%;display:flex"></div></div><div id=":R1b9implab:" class="PRIVATE_TreeView-item-content"><div class="PRIVATE_VisuallyHidden" aria-hidden="true" id=":R1b9implabH1:"></div><div class="PRIVATE_TreeView-item-visual" aria-hidden="true"><svg aria-hidden="true" focusable="false" class="octicon octicon-file" viewBox="0 0 16 16" width="16" height="16" fill="currentColor" style="display:inline-block;user-select:none;vertical-align:text-bottom;overflow:visible"><path d="M2 1.75C2 .784 2.784 0 3.75 0h6.586c.464 0 .909.184 1.237.513l2.914 2.914c.329.328.513.773.513 1.237v9.586A1.75 1.75 0 0 1 13.25 16h-9.5A1.75 1.75 0 0 1 2 14.25Zm1.75-.25a.25.25 0 0 0-.25.25v12.5c0 .138.112.25.25.25h9.5a.25.25 0 0 0 .25-.25V6h-2.75A1.75 1.75 0 0 1 9 4.25V1.5Zm6.75.062V4.25c0 .138.112.25.25.25h2.688l-.011-.013-2.914-2.914-.013-.011Z"></path></svg></div><span class="PRIVATE_TreeView-item-content-text"><span>Salinan_dari_Python_3__Container_list,_tupple,_set.ipynb</span></span></div></div></li><li class="PRIVATE_TreeView-item" tabindex="0" id="Salinan_dari_Python_4__Container_Dictionary_and_Numpy.ipynb-item" role="treeitem" aria-labelledby=":R1d9implab:" aria-describedby=":R1d9implabH1:" aria-level="1" aria-selected="false"><div class="PRIVATE_TreeView-item-container" style="--level:1;content-visibility:auto;contain-intrinsic-size:auto 2rem"><div style="grid-area:spacer;display:flex"><div style="width:100%;display:flex"></div></div><div id=":R1d9implab:" class="PRIVATE_TreeView-item-content"><div class="PRIVATE_VisuallyHidden" aria-hidden="true" id=":R1d9implabH1:"></div><div class="PRIVATE_TreeView-item-visual" aria-hidden="true"><svg aria-hidden="true" focusable="false" class="octicon octicon-file" viewBox="0 0 16 16" width="16" height="16" fill="currentColor" style="display:inline-block;user-select:none;vertical-align:text-bottom;overflow:visible"><path d="M2 1.75C2 .784 2.784 0 3.75 0h6.586c.464 0 .909.184 1.237.513l2.914 2.914c.329.328.513.773.513 1.237v9.586A1.75 1.75 0 0 1 13.25 16h-9.5A1.75 1.75 0 0 1 2 14.25Zm1.75-.25a.25.25 0 0 0-.25.25v12.5c0 .138.112.25.25.25h9.5a.25.25 0 0 0 .25-.25V6h-2.75A1.75 1.75 0 0 1 9 4.25V1.5Zm6.75.062V4.25c0 .138.112.25.25.25h2.688l-.011-.013-2.914-2.914-.013-.011Z"></path></svg></div><span class="PRIVATE_TreeView-item-content-text"><span>Salinan_dari_Python_4__Container_Dictionary_and_Numpy.ipynb</span></span></div></div></li><li class="PRIVATE_TreeView-item" tabindex="0" id="Salinan_dari_Python_5_Flow_Control.ipynb-item" role="treeitem" aria-labelledby=":R1f9implab:" aria-describedby=":R1f9implabH1:" aria-level="1" aria-selected="false"><div class="PRIVATE_TreeView-item-container" style="--level:1;content-visibility:auto;contain-intrinsic-size:auto 2rem"><div style="grid-area:spacer;display:flex"><div style="width:100%;display:flex"></div></div><div id=":R1f9implab:" class="PRIVATE_TreeView-item-content"><div class="PRIVATE_VisuallyHidden" aria-hidden="true" id=":R1f9implabH1:"></div><div class="PRIVATE_TreeView-item-visual" aria-hidden="true"><svg aria-hidden="true" focusable="false" class="octicon octicon-file" viewBox="0 0 16 16" width="16" height="16" fill="currentColor" style="display:inline-block;user-select:none;vertical-align:text-bottom;overflow:visible"><path d="M2 1.75C2 .784 2.784 0 3.75 0h6.586c.464 0 .909.184 1.237.513l2.914 2.914c.329.328.513.773.513 1.237v9.586A1.75 1.75 0 0 1 13.25 16h-9.5A1.75 1.75 0 0 1 2 14.25Zm1.75-.25a.25.25 0 0 0-.25.25v12.5c0 .138.112.25.25.25h9.5a.25.25 0 0 0 .25-.25V6h-2.75A1.75 1.75 0 0 1 9 4.25V1.5Zm6.75.062V4.25c0 .138.112.25.25.25h2.688l-.011-.013-2.914-2.914-.013-.011Z"></path></svg></div><span class="PRIVATE_TreeView-item-content-text"><span>Salinan_dari_Python_5_Flow_Control.ipynb</span></span></div></div></li><li class="PRIVATE_TreeView-item" tabindex="0" id="Salinan_dari_Python_6_Don&#x27;t_Repeat_Yourself.ipynb-item" role="treeitem" aria-labelledby=":R1h9implab:" aria-describedby=":R1h9implabH1:" aria-level="1" aria-selected="false"><div class="PRIVATE_TreeView-item-container" style="--level:1;content-visibility:auto;contain-intrinsic-size:auto 2rem"><div style="grid-area:spacer;display:flex"><div style="width:100%;display:flex"></div></div><div id=":R1h9implab:" class="PRIVATE_TreeView-item-content"><div class="PRIVATE_VisuallyHidden" aria-hidden="true" id=":R1h9implabH1:"></div><div class="PRIVATE_TreeView-item-visual" aria-hidden="true"><svg aria-hidden="true" focusable="false" class="octicon octicon-file" viewBox="0 0 16 16" width="16" height="16" fill="currentColor" style="display:inline-block;user-select:none;vertical-align:text-bottom;overflow:visible"><path d="M2 1.75C2 .784 2.784 0 3.75 0h6.586c.464 0 .909.184 1.237.513l2.914 2.914c.329.328.513.773.513 1.237v9.586A1.75 1.75 0 0 1 13.25 16h-9.5A1.75 1.75 0 0 1 2 14.25Zm1.75-.25a.25.25 0 0 0-.25.25v12.5c0 .138.112.25.25.25h9.5a.25.25 0 0 0 .25-.25V6h-2.75A1.75 1.75 0 0 1 9 4.25V1.5Zm6.75.062V4.25c0 .138.112.25.25.25h2.688l-.011-.013-2.914-2.914-.013-.011Z"></path></svg></div><span class="PRIVATE_TreeView-item-content-text"><span>Salinan_dari_Python_6_Don&#x27;t_Repeat_Yourself.ipynb</span></span></div></div></li><li class="PRIVATE_TreeView-item" tabindex="0" id="Salinan_dari_Python_7_Handling_AI_Source_of_Power.ipynb-item" role="treeitem" aria-labelledby=":R1j9implab:" aria-describedby=":R1j9implabH1:" aria-level="1" aria-selected="false"><div class="PRIVATE_TreeView-item-container" style="--level:1;content-visibility:auto;contain-intrinsic-size:auto 2rem"><div style="grid-area:spacer;display:flex"><div style="width:100%;display:flex"></div></div><div id=":R1j9implab:" class="PRIVATE_TreeView-item-content"><div class="PRIVATE_VisuallyHidden" aria-hidden="true" id=":R1j9implabH1:"></div><div class="PRIVATE_TreeView-item-visual" aria-hidden="true"><svg aria-hidden="true" focusable="false" class="octicon octicon-file" viewBox="0 0 16 16" width="16" height="16" fill="currentColor" style="display:inline-block;user-select:none;vertical-align:text-bottom;overflow:visible"><path d="M2 1.75C2 .784 2.784 0 3.75 0h6.586c.464 0 .909.184 1.237.513l2.914 2.914c.329.328.513.773.513 1.237v9.586A1.75 1.75 0 0 1 13.25 16h-9.5A1.75 1.75 0 0 1 2 14.25Zm1.75-.25a.25.25 0 0 0-.25.25v12.5c0 .138.112.25.25.25h9.5a.25.25 0 0 0 .25-.25V6h-2.75A1.75 1.75 0 0 1 9 4.25V1.5Zm6.75.062V4.25c0 .138.112.25.25.25h2.688l-.011-.013-2.914-2.914-.013-.011Z"></path></svg></div><span class="PRIVATE_TreeView-item-content-text"><span>Salinan_dari_Python_7_Handling_AI_Source_of_Power.ipynb</span></span></div></div></li><li class="PRIVATE_TreeView-item" tabindex="0" id="Salinan_dari_RB_03_Data_Exploration_NLP_(Coach).ipynb-item" role="treeitem" aria-labelledby=":R1l9implab:" aria-describedby=":R1l9implabH1:" aria-level="1" aria-selected="false"><div class="PRIVATE_TreeView-item-container" style="--level:1;content-visibility:auto;contain-intrinsic-size:auto 2rem"><div style="grid-area:spacer;display:flex"><div style="width:100%;display:flex"></div></div><div id=":R1l9implab:" class="PRIVATE_TreeView-item-content"><div class="PRIVATE_VisuallyHidden" aria-hidden="true" id=":R1l9implabH1:"></div><div class="PRIVATE_TreeView-item-visual" aria-hidden="true"><svg aria-hidden="true" focusable="false" class="octicon octicon-file" viewBox="0 0 16 16" width="16" height="16" fill="currentColor" style="display:inline-block;user-select:none;vertical-align:text-bottom;overflow:visible"><path d="M2 1.75C2 .784 2.784 0 3.75 0h6.586c.464 0 .909.184 1.237.513l2.914 2.914c.329.328.513.773.513 1.237v9.586A1.75 1.75 0 0 1 13.25 16h-9.5A1.75 1.75 0 0 1 2 14.25Zm1.75-.25a.25.25 0 0 0-.25.25v12.5c0 .138.112.25.25.25h9.5a.25.25 0 0 0 .25-.25V6h-2.75A1.75 1.75 0 0 1 9 4.25V1.5Zm6.75.062V4.25c0 .138.112.25.25.25h2.688l-.011-.013-2.914-2.914-.013-.011Z"></path></svg></div><span class="PRIVATE_TreeView-item-content-text"><span>Salinan_dari_RB_03_Data_Exploration_NLP_(Coach).ipynb</span></span></div></div></li><li class="PRIVATE_TreeView-item" tabindex="0" id="Salinan_dari_Regresi_Logistic_Iris_Dataset.ipynb-item" role="treeitem" aria-labelledby=":R1n9implab:" aria-describedby=":R1n9implabH1:" aria-level="1" aria-current="true" aria-selected="false"><div class="PRIVATE_TreeView-item-container" style="--level:1"><div style="grid-area:spacer;display:flex"><div style="width:100%;display:flex"></div></div><div id=":R1n9implab:" class="PRIVATE_TreeView-item-content"><div class="PRIVATE_VisuallyHidden" aria-hidden="true" id=":R1n9implabH1:"></div><div class="PRIVATE_TreeView-item-visual" aria-hidden="true"><svg aria-hidden="true" focusable="false" class="octicon octicon-file" viewBox="0 0 16 16" width="16" height="16" fill="currentColor" style="display:inline-block;user-select:none;vertical-align:text-bottom;overflow:visible"><path d="M2 1.75C2 .784 2.784 0 3.75 0h6.586c.464 0 .909.184 1.237.513l2.914 2.914c.329.328.513.773.513 1.237v9.586A1.75 1.75 0 0 1 13.25 16h-9.5A1.75 1.75 0 0 1 2 14.25Zm1.75-.25a.25.25 0 0 0-.25.25v12.5c0 .138.112.25.25.25h9.5a.25.25 0 0 0 .25-.25V6h-2.75A1.75 1.75 0 0 1 9 4.25V1.5Zm6.75.062V4.25c0 .138.112.25.25.25h2.688l-.011-.013-2.914-2.914-.013-.011Z"></path></svg></div><span class="PRIVATE_TreeView-item-content-text"><span>Salinan_dari_Regresi_Logistic_Iris_Dataset.ipynb</span></span></div></div></li><li class="PRIVATE_TreeView-item" tabindex="0" id="Salinan_dari_SL_04_Regular_Expression.ipynb-item" role="treeitem" aria-labelledby=":R1p9implab:" aria-describedby=":R1p9implabH1:" aria-level="1" aria-selected="false"><div class="PRIVATE_TreeView-item-container" style="--level:1;content-visibility:auto;contain-intrinsic-size:auto 2rem"><div style="grid-area:spacer;display:flex"><div style="width:100%;display:flex"></div></div><div id=":R1p9implab:" class="PRIVATE_TreeView-item-content"><div class="PRIVATE_VisuallyHidden" aria-hidden="true" id=":R1p9implabH1:"></div><div class="PRIVATE_TreeView-item-visual" aria-hidden="true"><svg aria-hidden="true" focusable="false" class="octicon octicon-file" viewBox="0 0 16 16" width="16" height="16" fill="currentColor" style="display:inline-block;user-select:none;vertical-align:text-bottom;overflow:visible"><path d="M2 1.75C2 .784 2.784 0 3.75 0h6.586c.464 0 .909.184 1.237.513l2.914 2.914c.329.328.513.773.513 1.237v9.586A1.75 1.75 0 0 1 13.25 16h-9.5A1.75 1.75 0 0 1 2 14.25Zm1.75-.25a.25.25 0 0 0-.25.25v12.5c0 .138.112.25.25.25h9.5a.25.25 0 0 0 .25-.25V6h-2.75A1.75 1.75 0 0 1 9 4.25V1.5Zm6.75.062V4.25c0 .138.112.25.25.25h2.688l-.011-.013-2.914-2.914-.013-.011Z"></path></svg></div><span class="PRIVATE_TreeView-item-content-text"><span>Salinan_dari_SL_04_Regular_Expression.ipynb</span></span></div></div></li><li class="PRIVATE_TreeView-item" tabindex="0" id="Salinan_dari_SL_NLP_4_Self_Learning_Sentiment_Analysis_Python.ipynb-item" role="treeitem" aria-labelledby=":R1r9implab:" aria-describedby=":R1r9implabH1:" aria-level="1" aria-selected="false"><div class="PRIVATE_TreeView-item-container" style="--level:1;content-visibility:auto;contain-intrinsic-size:auto 2rem"><div style="grid-area:spacer;display:flex"><div style="width:100%;display:flex"></div></div><div id=":R1r9implab:" class="PRIVATE_TreeView-item-content"><div class="PRIVATE_VisuallyHidden" aria-hidden="true" id=":R1r9implabH1:"></div><div class="PRIVATE_TreeView-item-visual" aria-hidden="true"><svg aria-hidden="true" focusable="false" class="octicon octicon-file" viewBox="0 0 16 16" width="16" height="16" fill="currentColor" style="display:inline-block;user-select:none;vertical-align:text-bottom;overflow:visible"><path d="M2 1.75C2 .784 2.784 0 3.75 0h6.586c.464 0 .909.184 1.237.513l2.914 2.914c.329.328.513.773.513 1.237v9.586A1.75 1.75 0 0 1 13.25 16h-9.5A1.75 1.75 0 0 1 2 14.25Zm1.75-.25a.25.25 0 0 0-.25.25v12.5c0 .138.112.25.25.25h9.5a.25.25 0 0 0 .25-.25V6h-2.75A1.75 1.75 0 0 1 9 4.25V1.5Zm6.75.062V4.25c0 .138.112.25.25.25h2.688l-.011-.013-2.914-2.914-.013-.011Z"></path></svg></div><span class="PRIVATE_TreeView-item-content-text"><span>Salinan_dari_SL_NLP_4_Self_Learning_Sentiment_Analysis_Python.ipynb</span></span></div></div></li><li class="PRIVATE_TreeView-item" tabindex="0" id="Salinan_dari_SVM_Iris_Dataset.ipynb-item" role="treeitem" aria-labelledby=":R1t9implab:" aria-describedby=":R1t9implabH1:" aria-level="1" aria-selected="false"><div class="PRIVATE_TreeView-item-container" style="--level:1;content-visibility:auto;contain-intrinsic-size:auto 2rem"><div style="grid-area:spacer;display:flex"><div style="width:100%;display:flex"></div></div><div id=":R1t9implab:" class="PRIVATE_TreeView-item-content"><div class="PRIVATE_VisuallyHidden" aria-hidden="true" id=":R1t9implabH1:"></div><div class="PRIVATE_TreeView-item-visual" aria-hidden="true"><svg aria-hidden="true" focusable="false" class="octicon octicon-file" viewBox="0 0 16 16" width="16" height="16" fill="currentColor" style="display:inline-block;user-select:none;vertical-align:text-bottom;overflow:visible"><path d="M2 1.75C2 .784 2.784 0 3.75 0h6.586c.464 0 .909.184 1.237.513l2.914 2.914c.329.328.513.773.513 1.237v9.586A1.75 1.75 0 0 1 13.25 16h-9.5A1.75 1.75 0 0 1 2 14.25Zm1.75-.25a.25.25 0 0 0-.25.25v12.5c0 .138.112.25.25.25h9.5a.25.25 0 0 0 .25-.25V6h-2.75A1.75 1.75 0 0 1 9 4.25V1.5Zm6.75.062V4.25c0 .138.112.25.25.25h2.688l-.011-.013-2.914-2.914-.013-.011Z"></path></svg></div><span class="PRIVATE_TreeView-item-content-text"><span>Salinan_dari_SVM_Iris_Dataset.ipynb</span></span></div></div></li><li class="PRIVATE_TreeView-item" tabindex="0" id="Salinan_dari_Self_Learning_pelabelan_dan_pembuatan_WordCloud.ipynb-item" role="treeitem" aria-labelledby=":R1v9implab:" aria-describedby=":R1v9implabH1:" aria-level="1" aria-selected="false"><div class="PRIVATE_TreeView-item-container" style="--level:1;content-visibility:auto;contain-intrinsic-size:auto 2rem"><div style="grid-area:spacer;display:flex"><div style="width:100%;display:flex"></div></div><div id=":R1v9implab:" class="PRIVATE_TreeView-item-content"><div class="PRIVATE_VisuallyHidden" aria-hidden="true" id=":R1v9implabH1:"></div><div class="PRIVATE_TreeView-item-visual" aria-hidden="true"><svg aria-hidden="true" focusable="false" class="octicon octicon-file" viewBox="0 0 16 16" width="16" height="16" fill="currentColor" style="display:inline-block;user-select:none;vertical-align:text-bottom;overflow:visible"><path d="M2 1.75C2 .784 2.784 0 3.75 0h6.586c.464 0 .909.184 1.237.513l2.914 2.914c.329.328.513.773.513 1.237v9.586A1.75 1.75 0 0 1 13.25 16h-9.5A1.75 1.75 0 0 1 2 14.25Zm1.75-.25a.25.25 0 0 0-.25.25v12.5c0 .138.112.25.25.25h9.5a.25.25 0 0 0 .25-.25V6h-2.75A1.75 1.75 0 0 1 9 4.25V1.5Zm6.75.062V4.25c0 .138.112.25.25.25h2.688l-.011-.013-2.914-2.914-.013-.011Z"></path></svg></div><span class="PRIVATE_TreeView-item-content-text"><span>Salinan_dari_Self_Learning_pelabelan_dan_pembuatan_WordCloud.ipynb</span></span></div></div></li><li class="PRIVATE_TreeView-item" tabindex="0" id="Salinan_dari_Siklus_2_Data_Exploration.ipynb-item" role="treeitem" aria-labelledby=":R219implab:" aria-describedby=":R219implabH1:" aria-level="1" aria-selected="false"><div class="PRIVATE_TreeView-item-container" style="--level:1;content-visibility:auto;contain-intrinsic-size:auto 2rem"><div style="grid-area:spacer;display:flex"><div style="width:100%;display:flex"></div></div><div id=":R219implab:" class="PRIVATE_TreeView-item-content"><div class="PRIVATE_VisuallyHidden" aria-hidden="true" id=":R219implabH1:"></div><div class="PRIVATE_TreeView-item-visual" aria-hidden="true"><svg aria-hidden="true" focusable="false" class="octicon octicon-file" viewBox="0 0 16 16" width="16" height="16" fill="currentColor" style="display:inline-block;user-select:none;vertical-align:text-bottom;overflow:visible"><path d="M2 1.75C2 .784 2.784 0 3.75 0h6.586c.464 0 .909.184 1.237.513l2.914 2.914c.329.328.513.773.513 1.237v9.586A1.75 1.75 0 0 1 13.25 16h-9.5A1.75 1.75 0 0 1 2 14.25Zm1.75-.25a.25.25 0 0 0-.25.25v12.5c0 .138.112.25.25.25h9.5a.25.25 0 0 0 .25-.25V6h-2.75A1.75 1.75 0 0 1 9 4.25V1.5Zm6.75.062V4.25c0 .138.112.25.25.25h2.688l-.011-.013-2.914-2.914-.013-.011Z"></path></svg></div><span class="PRIVATE_TreeView-item-content-text"><span>Salinan_dari_Siklus_2_Data_Exploration.ipynb</span></span></div></div></li><li class="PRIVATE_TreeView-item" tabindex="0" id="Salinan_dari_Student_Transfer_Learning.ipynb-item" role="treeitem" aria-labelledby=":R239implab:" aria-describedby=":R239implabH1:" aria-level="1" aria-selected="false"><div class="PRIVATE_TreeView-item-container" style="--level:1;content-visibility:auto;contain-intrinsic-size:auto 2rem"><div style="grid-area:spacer;display:flex"><div style="width:100%;display:flex"></div></div><div id=":R239implab:" class="PRIVATE_TreeView-item-content"><div class="PRIVATE_VisuallyHidden" aria-hidden="true" id=":R239implabH1:"></div><div class="PRIVATE_TreeView-item-visual" aria-hidden="true"><svg aria-hidden="true" focusable="false" class="octicon octicon-file" viewBox="0 0 16 16" width="16" height="16" fill="currentColor" style="display:inline-block;user-select:none;vertical-align:text-bottom;overflow:visible"><path d="M2 1.75C2 .784 2.784 0 3.75 0h6.586c.464 0 .909.184 1.237.513l2.914 2.914c.329.328.513.773.513 1.237v9.586A1.75 1.75 0 0 1 13.25 16h-9.5A1.75 1.75 0 0 1 2 14.25Zm1.75-.25a.25.25 0 0 0-.25.25v12.5c0 .138.112.25.25.25h9.5a.25.25 0 0 0 .25-.25V6h-2.75A1.75 1.75 0 0 1 9 4.25V1.5Zm6.75.062V4.25c0 .138.112.25.25.25h2.688l-.011-.013-2.914-2.914-.013-.011Z"></path></svg></div><span class="PRIVATE_TreeView-item-content-text"><span>Salinan_dari_Student_Transfer_Learning.ipynb</span></span></div></div></li><li class="PRIVATE_TreeView-item" tabindex="0" id="Salinan_dari_YOLOv4_tiny_Darknet_Deteksi_Masker.ipynb-item" role="treeitem" aria-labelledby=":R259implab:" aria-describedby=":R259implabH1:" aria-level="1" aria-selected="false"><div class="PRIVATE_TreeView-item-container" style="--level:1;content-visibility:auto;contain-intrinsic-size:auto 2rem"><div style="grid-area:spacer;display:flex"><div style="width:100%;display:flex"></div></div><div id=":R259implab:" class="PRIVATE_TreeView-item-content"><div class="PRIVATE_VisuallyHidden" aria-hidden="true" id=":R259implabH1:"></div><div class="PRIVATE_TreeView-item-visual" aria-hidden="true"><svg aria-hidden="true" focusable="false" class="octicon octicon-file" viewBox="0 0 16 16" width="16" height="16" fill="currentColor" style="display:inline-block;user-select:none;vertical-align:text-bottom;overflow:visible"><path d="M2 1.75C2 .784 2.784 0 3.75 0h6.586c.464 0 .909.184 1.237.513l2.914 2.914c.329.328.513.773.513 1.237v9.586A1.75 1.75 0 0 1 13.25 16h-9.5A1.75 1.75 0 0 1 2 14.25Zm1.75-.25a.25.25 0 0 0-.25.25v12.5c0 .138.112.25.25.25h9.5a.25.25 0 0 0 .25-.25V6h-2.75A1.75 1.75 0 0 1 9 4.25V1.5Zm6.75.062V4.25c0 .138.112.25.25.25h2.688l-.011-.013-2.914-2.914-.013-.011Z"></path></svg></div><span class="PRIVATE_TreeView-item-content-text"><span>Salinan_dari_YOLOv4_tiny_Darknet_Deteksi_Masker.ipynb</span></span></div></div></li><li class="PRIVATE_TreeView-item" tabindex="0" id="Salinan_dari_Yolo_v11_custom_dataset_by_rasyidev.ipynb-item" role="treeitem" aria-labelledby=":R279implab:" aria-describedby=":R279implabH1:" aria-level="1" aria-selected="false"><div class="PRIVATE_TreeView-item-container" style="--level:1;content-visibility:auto;contain-intrinsic-size:auto 2rem"><div style="grid-area:spacer;display:flex"><div style="width:100%;display:flex"></div></div><div id=":R279implab:" class="PRIVATE_TreeView-item-content"><div class="PRIVATE_VisuallyHidden" aria-hidden="true" id=":R279implabH1:"></div><div class="PRIVATE_TreeView-item-visual" aria-hidden="true"><svg aria-hidden="true" focusable="false" class="octicon octicon-file" viewBox="0 0 16 16" width="16" height="16" fill="currentColor" style="display:inline-block;user-select:none;vertical-align:text-bottom;overflow:visible"><path d="M2 1.75C2 .784 2.784 0 3.75 0h6.586c.464 0 .909.184 1.237.513l2.914 2.914c.329.328.513.773.513 1.237v9.586A1.75 1.75 0 0 1 13.25 16h-9.5A1.75 1.75 0 0 1 2 14.25Zm1.75-.25a.25.25 0 0 0-.25.25v12.5c0 .138.112.25.25.25h9.5a.25.25 0 0 0 .25-.25V6h-2.75A1.75 1.75 0 0 1 9 4.25V1.5Zm6.75.062V4.25c0 .138.112.25.25.25h2.688l-.011-.013-2.914-2.914-.013-.011Z"></path></svg></div><span class="PRIVATE_TreeView-item-content-text"><span>Salinan_dari_Yolo_v11_custom_dataset_by_rasyidev.ipynb</span></span></div></div></li><li class="PRIVATE_TreeView-item" tabindex="0" id="Salinan_dari_[Student]_Revised_Object_Detection_Haar_Cascade_Hands_On.ipynb-item" role="treeitem" aria-labelledby=":R299implab:" aria-describedby=":R299implabH1:" aria-level="1" aria-selected="false"><div class="PRIVATE_TreeView-item-container" style="--level:1;content-visibility:auto;contain-intrinsic-size:auto 2rem"><div style="grid-area:spacer;display:flex"><div style="width:100%;display:flex"></div></div><div id=":R299implab:" class="PRIVATE_TreeView-item-content"><div class="PRIVATE_VisuallyHidden" aria-hidden="true" id=":R299implabH1:"></div><div class="PRIVATE_TreeView-item-visual" aria-hidden="true"><svg aria-hidden="true" focusable="false" class="octicon octicon-file" viewBox="0 0 16 16" width="16" height="16" fill="currentColor" style="display:inline-block;user-select:none;vertical-align:text-bottom;overflow:visible"><path d="M2 1.75C2 .784 2.784 0 3.75 0h6.586c.464 0 .909.184 1.237.513l2.914 2.914c.329.328.513.773.513 1.237v9.586A1.75 1.75 0 0 1 13.25 16h-9.5A1.75 1.75 0 0 1 2 14.25Zm1.75-.25a.25.25 0 0 0-.25.25v12.5c0 .138.112.25.25.25h9.5a.25.25 0 0 0 .25-.25V6h-2.75A1.75 1.75 0 0 1 9 4.25V1.5Zm6.75.062V4.25c0 .138.112.25.25.25h2.688l-.011-.013-2.914-2.914-.013-.011Z"></path></svg></div><span class="PRIVATE_TreeView-item-content-text"><span>Salinan_dari_[Student]_Revised_Object_Detection_Haar_Cascade_Hands_On.ipynb</span></span></div></div></li><li class="PRIVATE_TreeView-item" tabindex="0" id="Salinan_dari_simple_data_pre_processing_steps.ipynb-item" role="treeitem" aria-labelledby=":R2b9implab:" aria-describedby=":R2b9implabH1:" aria-level="1" aria-selected="false"><div class="PRIVATE_TreeView-item-container" style="--level:1;content-visibility:auto;contain-intrinsic-size:auto 2rem"><div style="grid-area:spacer;display:flex"><div style="width:100%;display:flex"></div></div><div id=":R2b9implab:" class="PRIVATE_TreeView-item-content"><div class="PRIVATE_VisuallyHidden" aria-hidden="true" id=":R2b9implabH1:"></div><div class="PRIVATE_TreeView-item-visual" aria-hidden="true"><svg aria-hidden="true" focusable="false" class="octicon octicon-file" viewBox="0 0 16 16" width="16" height="16" fill="currentColor" style="display:inline-block;user-select:none;vertical-align:text-bottom;overflow:visible"><path d="M2 1.75C2 .784 2.784 0 3.75 0h6.586c.464 0 .909.184 1.237.513l2.914 2.914c.329.328.513.773.513 1.237v9.586A1.75 1.75 0 0 1 13.25 16h-9.5A1.75 1.75 0 0 1 2 14.25Zm1.75-.25a.25.25 0 0 0-.25.25v12.5c0 .138.112.25.25.25h9.5a.25.25 0 0 0 .25-.25V6h-2.75A1.75 1.75 0 0 1 9 4.25V1.5Zm6.75.062V4.25c0 .138.112.25.25.25h2.688l-.011-.013-2.914-2.914-.013-.011Z"></path></svg></div><span class="PRIVATE_TreeView-item-content-text"><span>Salinan_dari_simple_data_pre_processing_steps.ipynb</span></span></div></div></li></ul></nav></div></div></div></div></div></div><div class="Box-sc-g0xbh4-0 bTBnTW"><div role="slider" aria-label="Draggable pane splitter" aria-valuemin="0" aria-valuemax="0" aria-valuenow="0" aria-valuetext="Pane width 0 pixels" tabindex="0" class="Box-sc-g0xbh4-0 fFMzrG"></div></div></div></div><div class="Box-sc-g0xbh4-0 iKqMNA"><div class="Box-sc-g0xbh4-0"></div><div class="Box-sc-g0xbh4-0 FxAyp"><div data-selector="repos-split-pane-content" tabindex="0" class="Box-sc-g0xbh4-0 leYMvG"><div class="Box-sc-g0xbh4-0 KMPzq"><div class="Box-sc-g0xbh4-0 hfKjHv container"><div class="px-3 pt-3 pb-0" id="StickyHeader"><div class="Box-sc-g0xbh4-0 gZWyZE"><div class="Box-sc-g0xbh4-0 dwYKDk"><div class="Box-sc-g0xbh4-0 iDtIiT"><div class="Box-sc-g0xbh4-0 cEytCf"><nav data-testid="breadcrumbs" aria-labelledby="repos-header-breadcrumb--wide-heading" id="repos-header-breadcrumb--wide" class="Box-sc-g0xbh4-0 fzFXnm"><h2 class="sr-only prc-Heading-Heading-6CmGO" data-testid="screen-reader-heading" id="repos-header-breadcrumb--wide-heading">Breadcrumbs</h2><ol class="Box-sc-g0xbh4-0 iMnkmv"><li class="Box-sc-g0xbh4-0 ghzDag"><a class="Box-sc-g0xbh4-0 kHuKdh prc-Link-Link-85e08" sx="[object Object]" data-testid="breadcrumbs-repo-link" href="/Dim4s4ufa/MSIB-K2-KelasAwanPintar/tree/main">MSIB-K2-KelasAwanPintar</a></li></ol></nav><div data-testid="breadcrumbs-filename" class="Box-sc-g0xbh4-0 ghzDag"><span class="Box-sc-g0xbh4-0 hXyrdx prc-Text-Text-0ima0" aria-hidden="true">/</span><h1 class="Box-sc-g0xbh4-0 jGhzSQ prc-Heading-Heading-6CmGO" tabindex="-1" id="file-name-id-wide">Salinan_dari_Regresi_Logistic_Iris_Dataset.ipynb</h1></div><div aria-describedby=":Rdd9lab:"><button data-component="IconButton" type="button" aria-label="Copy path" tabindex="0" class="Box-sc-g0xbh4-0 prc-Button-ButtonBase-c50BI prc-Button-IconButton-szpyj" data-loading="false" data-no-visuals="true" data-size="small" data-variant="invisible" aria-describedby=":R1td9lab:-loading-announcement"><svg aria-hidden="true" focusable="false" class="octicon octicon-copy" viewBox="0 0 16 16" width="16" height="16" fill="currentColor" style="display:inline-block;user-select:none;vertical-align:text-bottom;overflow:visible"><path d="M0 6.75C0 5.784.784 5 1.75 5h1.5a.75.75 0 0 1 0 1.5h-1.5a.25.25 0 0 0-.25.25v7.5c0 .138.112.25.25.25h7.5a.25.25 0 0 0 .25-.25v-1.5a.75.75 0 0 1 1.5 0v1.5A1.75 1.75 0 0 1 9.25 16h-7.5A1.75 1.75 0 0 1 0 14.25Z"></path><path d="M5 1.75C5 .784 5.784 0 6.75 0h7.5C15.216 0 16 .784 16 1.75v7.5A1.75 1.75 0 0 1 14.25 11h-7.5A1.75 1.75 0 0 1 5 9.25Zm1.75-.25a.25.25 0 0 0-.25.25v7.5c0 .138.112.25.25.25h7.5a.25.25 0 0 0 .25-.25v-7.5a.25.25 0 0 0-.25-.25Z"></path></svg></button></div></div></div><div class="react-code-view-header-element--wide"><div class="Box-sc-g0xbh4-0 faNtbn"><div class="d-flex gap-2"> <button type="button" class="Box-sc-g0xbh4-0 dwNhzn prc-Button-ButtonBase-c50BI" data-loading="false" data-no-visuals="true" data-size="medium" data-variant="default" aria-describedby=":R2l6d9lab:-loading-announcement"><span data-component="buttonContent" class="Box-sc-g0xbh4-0 gUkoLg prc-Button-ButtonContent-HKbr-"><span data-component="text" class="prc-Button-Label-pTQ3x">Blame</span></span></button><button hidden="" data-testid="" data-hotkey-scope="read-only-cursor-text-area"></button><button data-component="IconButton" type="button" aria-label="More file actions" title="More file actions" data-testid="more-file-actions-button-nav-menu-wide" aria-haspopup="true" aria-expanded="false" tabindex="0" class="Box-sc-g0xbh4-0 kVRliy prc-Button-ButtonBase-c50BI js-blob-dropdown-click prc-Button-IconButton-szpyj" data-loading="false" data-no-visuals="true" data-size="medium" data-variant="default" aria-describedby=":R156d9lab:-loading-announcement" id=":R156d9lab:"><svg aria-hidden="true" focusable="false" class="octicon octicon-kebab-horizontal" viewBox="0 0 16 16" width="16" height="16" fill="currentColor" style="display:inline-block;user-select:none;vertical-align:text-bottom;overflow:visible"><path d="M8 9a1.5 1.5 0 1 0 0-3 1.5 1.5 0 0 0 0 3ZM1.5 9a1.5 1.5 0 1 0 0-3 1.5 1.5 0 0 0 0 3Zm13 0a1.5 1.5 0 1 0 0-3 1.5 1.5 0 0 0 0 3Z"></path></svg></button> </div></div></div><div class="react-code-view-header-element--narrow"><div class="Box-sc-g0xbh4-0 faNtbn"><div class="d-flex gap-2"> <button type="button" class="Box-sc-g0xbh4-0 dwNhzn prc-Button-ButtonBase-c50BI" data-loading="false" data-no-visuals="true" data-size="medium" data-variant="default" aria-describedby=":R2l7d9lab:-loading-announcement"><span data-component="buttonContent" class="Box-sc-g0xbh4-0 gUkoLg prc-Button-ButtonContent-HKbr-"><span data-component="text" class="prc-Button-Label-pTQ3x">Blame</span></span></button><button hidden="" data-testid="" data-hotkey-scope="read-only-cursor-text-area"></button><button data-component="IconButton" type="button" aria-label="More file actions" title="More file actions" data-testid="more-file-actions-button-nav-menu-narrow" aria-haspopup="true" aria-expanded="false" tabindex="0" class="Box-sc-g0xbh4-0 kVRliy prc-Button-ButtonBase-c50BI js-blob-dropdown-click prc-Button-IconButton-szpyj" data-loading="false" data-no-visuals="true" data-size="medium" data-variant="default" aria-describedby=":R157d9lab:-loading-announcement" id=":R157d9lab:"><svg aria-hidden="true" focusable="false" class="octicon octicon-kebab-horizontal" viewBox="0 0 16 16" width="16" height="16" fill="currentColor" style="display:inline-block;user-select:none;vertical-align:text-bottom;overflow:visible"><path d="M8 9a1.5 1.5 0 1 0 0-3 1.5 1.5 0 0 0 0 3ZM1.5 9a1.5 1.5 0 1 0 0-3 1.5 1.5 0 0 0 0 3Zm13 0a1.5 1.5 0 1 0 0-3 1.5 1.5 0 0 0 0 3Z"></path></svg></button> </div></div></div></div></div></div></div></div><div class="Box-sc-g0xbh4-0 dJxjrT react-code-view-bottom-padding"> <div class="Box-sc-g0xbh4-0 eFxKDQ"></div> <!-- --> <!-- --> </div><div class="Box-sc-g0xbh4-0 dJxjrT"> <!-- --> <!-- --> <div class="d-flex flex-column border rounded-2 mb-3 pl-1"><div class="Box-sc-g0xbh4-0 dzCJzi"><h2 class="sr-only prc-Heading-Heading-6CmGO" data-testid="screen-reader-heading">Latest commit</h2><div style="width:120px" class="Skeleton Skeleton--text" data-testid="loading"> </div><div class="d-flex flex-shrink-0 gap-2"><div data-testid="latest-commit-details" class="d-none d-sm-flex flex-items-center"></div><div class="d-flex gap-2"><h2 class="sr-only prc-Heading-Heading-6CmGO" data-testid="screen-reader-heading">History</h2><a href="/Dim4s4ufa/MSIB-K2-KelasAwanPintar/commits/main/Salinan_dari_Regresi_Logistic_Iris_Dataset.ipynb" class="prc-Button-ButtonBase-c50BI d-none d-lg-flex LinkButton-module__code-view-link-button--xvCGA flex-items-center fgColor-default" data-loading="false" data-size="small" data-variant="invisible" aria-describedby=":R5dlal9lab:-loading-announcement"><span data-component="buttonContent" data-align="center" class="prc-Button-ButtonContent-HKbr-"><span data-component="leadingVisual" class="prc-Button-Visual-2epfX prc-Button-VisualWrap-Db-eB"><svg aria-hidden="true" focusable="false" class="octicon octicon-history" viewBox="0 0 16 16" width="16" height="16" fill="currentColor" style="display:inline-block;user-select:none;vertical-align:text-bottom;overflow:visible"><path d="m.427 1.927 1.215 1.215a8.002 8.002 0 1 1-1.6 5.685.75.75 0 1 1 1.493-.154 6.5 6.5 0 1 0 1.18-4.458l1.358 1.358A.25.25 0 0 1 3.896 6H.25A.25.25 0 0 1 0 5.75V2.104a.25.25 0 0 1 .427-.177ZM7.75 4a.75.75 0 0 1 .75.75v2.992l2.028.812a.75.75 0 0 1-.557 1.392l-2.5-1A.751.751 0 0 1 7 8.25v-3.5A.75.75 0 0 1 7.75 4Z"></path></svg></span><span data-component="text" class="prc-Button-Label-pTQ3x"><span class="fgColor-default">History</span></span></span></a><div class="d-sm-none"></div><div class="d-flex d-lg-none"><span role="tooltip" aria-label="History" id="history-icon-button-tooltip" class="Tooltip__TooltipBase-sc-17tf59c-0 fiSvBN tooltipped-n"><a href="/Dim4s4ufa/MSIB-K2-KelasAwanPintar/commits/main/Salinan_dari_Regresi_Logistic_Iris_Dataset.ipynb" class="prc-Button-ButtonBase-c50BI LinkButton-module__code-view-link-button--xvCGA flex-items-center fgColor-default" data-loading="false" data-size="small" data-variant="invisible" aria-describedby=":Rpdlal9lab:-loading-announcement history-icon-button-tooltip"><span data-component="buttonContent" data-align="center" class="prc-Button-ButtonContent-HKbr-"><span data-component="leadingVisual" class="prc-Button-Visual-2epfX prc-Button-VisualWrap-Db-eB"><svg aria-hidden="true" focusable="false" class="octicon octicon-history" viewBox="0 0 16 16" width="16" height="16" fill="currentColor" style="display:inline-block;user-select:none;vertical-align:text-bottom;overflow:visible"><path d="m.427 1.927 1.215 1.215a8.002 8.002 0 1 1-1.6 5.685.75.75 0 1 1 1.493-.154 6.5 6.5 0 1 0 1.18-4.458l1.358 1.358A.25.25 0 0 1 3.896 6H.25A.25.25 0 0 1 0 5.75V2.104a.25.25 0 0 1 .427-.177ZM7.75 4a.75.75 0 0 1 .75.75v2.992l2.028.812a.75.75 0 0 1-.557 1.392l-2.5-1A.751.751 0 0 1 7 8.25v-3.5A.75.75 0 0 1 7.75 4Z"></path></svg></span></span></a></span></div></div></div></div></div><div class="Box-sc-g0xbh4-0 ldRxiI"><div class="Box-sc-g0xbh4-0 fVkfyA container"><div class="Box-sc-g0xbh4-0 gNAmSV react-code-size-details-banner"><div class="Box-sc-g0xbh4-0 jNEwzY react-code-size-details-banner"><div class="Box-sc-g0xbh4-0 ifyOQK text-mono"><div title="76.2 KB" data-testid="blob-size" class="Truncate__StyledTruncate-sc-23o1d2-0 eAtkQz"><span>1215 lines (1215 loc) · 76.2 KB</span></div></div></div><div class="react-code-size-details-banner"><button style="--button-color:fg.default" type="button" aria-haspopup="true" aria-expanded="false" tabindex="0" data-testid="copilot-popover-button" class="Box-sc-g0xbh4-0 jlVuVO prc-Button-ButtonBase-c50BI" data-loading="false" data-size="small" data-variant="invisible" aria-describedby=":R15tal9lab:-loading-announcement" id=":R15tal9lab:"><span data-component="buttonContent" class="Box-sc-g0xbh4-0 gUkoLg prc-Button-ButtonContent-HKbr-"><span data-component="leadingVisual" class="prc-Button-Visual-2epfX prc-Button-VisualWrap-Db-eB"><svg aria-hidden="true" focusable="false" class="octicon octicon-copilot" viewBox="0 0 16 16" width="16" height="16" fill="currentColor" style="display:inline-block;user-select:none;vertical-align:text-bottom;overflow:visible"><path d="M7.998 15.035c-4.562 0-7.873-2.914-7.998-3.749V9.338c.085-.628.677-1.686 1.588-2.065.013-.07.024-.143.036-.218.029-.183.06-.384.126-.612-.201-.508-.254-1.084-.254-1.656 0-.87.128-1.769.693-2.484.579-.733 1.494-1.124 2.724-1.261 1.206-.134 2.262.034 2.944.765.05.053.096.108.139.165.044-.057.094-.112.143-.165.682-.731 1.738-.899 2.944-.765 1.23.137 2.145.528 2.724 1.261.566.715.693 1.614.693 2.484 0 .572-.053 1.148-.254 1.656.066.228.098.429.126.612.012.076.024.148.037.218.924.385 1.522 1.471 1.591 2.095v1.872c0 .766-3.351 3.795-8.002 3.795Zm0-1.485c2.28 0 4.584-1.11 5.002-1.433V7.862l-.023-.116c-.49.21-1.075.291-1.727.291-1.146 0-2.059-.327-2.71-.991A3.222 3.222 0 0 1 8 6.303a3.24 3.24 0 0 1-.544.743c-.65.664-1.563.991-2.71.991-.652 0-1.236-.081-1.727-.291l-.023.116v4.255c.419.323 2.722 1.433 5.002 1.433ZM6.762 2.83c-.193-.206-.637-.413-1.682-.297-1.019.113-1.479.404-1.713.7-.247.312-.369.789-.369 1.554 0 .793.129 1.171.308 1.371.162.181.519.379 1.442.379.853 0 1.339-.235 1.638-.54.315-.322.527-.827.617-1.553.117-.935-.037-1.395-.241-1.614Zm4.155-.297c-1.044-.116-1.488.091-1.681.297-.204.219-.359.679-.242 1.614.091.726.303 1.231.618 1.553.299.305.784.54 1.638.54.922 0 1.28-.198 1.442-.379.179-.2.308-.578.308-1.371 0-.765-.123-1.242-.37-1.554-.233-.296-.693-.587-1.713-.7Z"></path><path d="M6.25 9.037a.75.75 0 0 1 .75.75v1.501a.75.75 0 0 1-1.5 0V9.787a.75.75 0 0 1 .75-.75Zm4.25.75v1.501a.75.75 0 0 1-1.5 0V9.787a.75.75 0 0 1 1.5 0Z"></path></svg></span><span data-component="text" class="prc-Button-Label-pTQ3x">Code 55% faster with GitHub Copilot</span></span></button></div></div><div class="Box-sc-g0xbh4-0 jdLMhu react-blob-view-header-sticky" id="repos-sticky-header"><div class="Box-sc-g0xbh4-0 tOISc"><div class="react-blob-sticky-header"><div class="Box-sc-g0xbh4-0 hqwSEx"><div class="Box-sc-g0xbh4-0 lzKZY"><div class="Box-sc-g0xbh4-0 fHind"><nav data-testid="breadcrumbs" aria-labelledby="sticky-breadcrumb-heading" id="sticky-breadcrumb" class="Box-sc-g0xbh4-0 fzFXnm"><h2 class="sr-only prc-Heading-Heading-6CmGO" data-testid="screen-reader-heading" id="sticky-breadcrumb-heading">Breadcrumbs</h2><ol class="Box-sc-g0xbh4-0 iMnkmv"><li class="Box-sc-g0xbh4-0 ghzDag"><a class="Box-sc-g0xbh4-0 kHuKdh prc-Link-Link-85e08" sx="[object Object]" data-testid="breadcrumbs-repo-link" href="/Dim4s4ufa/MSIB-K2-KelasAwanPintar/tree/main">MSIB-K2-KelasAwanPintar</a></li></ol></nav><div data-testid="breadcrumbs-filename" class="Box-sc-g0xbh4-0 ghzDag"><span class="Box-sc-g0xbh4-0 bQeXnn prc-Text-Text-0ima0" aria-hidden="true">/</span><h1 class="Box-sc-g0xbh4-0 dnZoUW prc-Heading-Heading-6CmGO" tabindex="-1" id="sticky-file-name-id">Salinan_dari_Regresi_Logistic_Iris_Dataset.ipynb</h1></div></div><button style="--button-color:fg.default" type="button" class="Box-sc-g0xbh4-0 dpNnZU prc-Button-ButtonBase-c50BI" data-loading="false" data-size="small" data-variant="invisible" aria-describedby=":Riptal9lab:-loading-announcement"><span data-component="buttonContent" class="Box-sc-g0xbh4-0 gUkoLg prc-Button-ButtonContent-HKbr-"><span data-component="leadingVisual" class="prc-Button-Visual-2epfX prc-Button-VisualWrap-Db-eB"><svg aria-hidden="true" focusable="false" class="octicon octicon-arrow-up" viewBox="0 0 16 16" width="16" height="16" fill="currentColor" style="display:inline-block;user-select:none;vertical-align:text-bottom;overflow:visible"><path d="M3.47 7.78a.75.75 0 0 1 0-1.06l4.25-4.25a.75.75 0 0 1 1.06 0l4.25 4.25a.751.751 0 0 1-.018 1.042.751.751 0 0 1-1.042.018L9 4.81v7.44a.75.75 0 0 1-1.5 0V4.81L4.53 7.78a.75.75 0 0 1-1.06 0Z"></path></svg></span><span data-component="text" class="prc-Button-Label-pTQ3x">Top</span></span></button></div></div></div><div class="Box-sc-g0xbh4-0 gpHFJV"><h2 class="sr-only prc-Heading-Heading-6CmGO" data-testid="screen-reader-heading">File metadata and controls</h2><div class="Box-sc-g0xbh4-0 iNMjfP"><ul aria-label="File view" class="SegmentedControl__SegmentedControlList-sc-1rzig82-0 eYPFoP"><li class="Box-sc-g0xbh4-0 fefCSX"><button aria-current="true" type="button" class="SegmentedControlButton__SegmentedControlButtonStyled-sc-8lkgxl-0 dPDqJE"><span class="segmentedControl-content"><div class="Box-sc-g0xbh4-0 segmentedControl-text">Preview</div></span></button></li><li class="Box-sc-g0xbh4-0 sulSy"><button aria-current="false" type="button" class="SegmentedControlButton__SegmentedControlButtonStyled-sc-8lkgxl-0 kTvXLQ"><span class="segmentedControl-content"><div class="Box-sc-g0xbh4-0 segmentedControl-text">Code</div></span></button></li><li class="Box-sc-g0xbh4-0 sulSy"><button aria-current="false" type="button" class="SegmentedControlButton__SegmentedControlButtonStyled-sc-8lkgxl-0 gKyOFO"><span class="segmentedControl-content"><div class="Box-sc-g0xbh4-0 segmentedControl-text">Blame</div></span></button></li></ul><button hidden="" data-testid="" data-hotkey-scope="read-only-cursor-text-area"></button><button hidden="" data-testid="" data-hotkey-scope="read-only-cursor-text-area"></button><button hidden="" data-testid="" data-hotkey-scope="read-only-cursor-text-area"></button><div class="Box-sc-g0xbh4-0 jNEwzY react-code-size-details-in-header"><div class="Box-sc-g0xbh4-0 ifyOQK text-mono"><div title="76.2 KB" data-testid="blob-size" class="Truncate__StyledTruncate-sc-23o1d2-0 eAtkQz"><span>1215 lines (1215 loc) · 76.2 KB</span></div></div></div><div class="react-code-size-details-in-header"><button style="--button-color:fg.default" type="button" aria-haspopup="true" aria-expanded="false" tabindex="0" data-testid="copilot-popover-button" class="Box-sc-g0xbh4-0 jlVuVO prc-Button-ButtonBase-c50BI" data-loading="false" data-size="small" data-variant="invisible" aria-describedby=":R3kptal9lab:-loading-announcement" id=":R3kptal9lab:"><span data-component="buttonContent" class="Box-sc-g0xbh4-0 gUkoLg prc-Button-ButtonContent-HKbr-"><span data-component="leadingVisual" class="prc-Button-Visual-2epfX prc-Button-VisualWrap-Db-eB"><svg aria-hidden="true" focusable="false" class="octicon octicon-copilot" viewBox="0 0 16 16" width="16" height="16" fill="currentColor" style="display:inline-block;user-select:none;vertical-align:text-bottom;overflow:visible"><path d="M7.998 15.035c-4.562 0-7.873-2.914-7.998-3.749V9.338c.085-.628.677-1.686 1.588-2.065.013-.07.024-.143.036-.218.029-.183.06-.384.126-.612-.201-.508-.254-1.084-.254-1.656 0-.87.128-1.769.693-2.484.579-.733 1.494-1.124 2.724-1.261 1.206-.134 2.262.034 2.944.765.05.053.096.108.139.165.044-.057.094-.112.143-.165.682-.731 1.738-.899 2.944-.765 1.23.137 2.145.528 2.724 1.261.566.715.693 1.614.693 2.484 0 .572-.053 1.148-.254 1.656.066.228.098.429.126.612.012.076.024.148.037.218.924.385 1.522 1.471 1.591 2.095v1.872c0 .766-3.351 3.795-8.002 3.795Zm0-1.485c2.28 0 4.584-1.11 5.002-1.433V7.862l-.023-.116c-.49.21-1.075.291-1.727.291-1.146 0-2.059-.327-2.71-.991A3.222 3.222 0 0 1 8 6.303a3.24 3.24 0 0 1-.544.743c-.65.664-1.563.991-2.71.991-.652 0-1.236-.081-1.727-.291l-.023.116v4.255c.419.323 2.722 1.433 5.002 1.433ZM6.762 2.83c-.193-.206-.637-.413-1.682-.297-1.019.113-1.479.404-1.713.7-.247.312-.369.789-.369 1.554 0 .793.129 1.171.308 1.371.162.181.519.379 1.442.379.853 0 1.339-.235 1.638-.54.315-.322.527-.827.617-1.553.117-.935-.037-1.395-.241-1.614Zm4.155-.297c-1.044-.116-1.488.091-1.681.297-.204.219-.359.679-.242 1.614.091.726.303 1.231.618 1.553.299.305.784.54 1.638.54.922 0 1.28-.198 1.442-.379.179-.2.308-.578.308-1.371 0-.765-.123-1.242-.37-1.554-.233-.296-.693-.587-1.713-.7Z"></path><path d="M6.25 9.037a.75.75 0 0 1 .75.75v1.501a.75.75 0 0 1-1.5 0V9.787a.75.75 0 0 1 .75-.75Zm4.25.75v1.501a.75.75 0 0 1-1.5 0V9.787a.75.75 0 0 1 1.5 0Z"></path></svg></span><span data-component="text" class="prc-Button-Label-pTQ3x">Code 55% faster with GitHub Copilot</span></span></button></div></div><div class="Box-sc-g0xbh4-0 kcLCKF"><div class="Box-sc-g0xbh4-0 kVWtTz react-blob-header-edit-and-raw-actions"><div class="ButtonGroup__StyledButtonGroup-sc-1gxhls1-0 lirRhW"><a href="https://github.com/Dim4s4ufa/MSIB-K2-KelasAwanPintar/raw/refs/heads/main/Salinan_dari_Regresi_Logistic_Iris_Dataset.ipynb" data-testid="raw-button" class="Box-sc-g0xbh4-0 gWqxTd prc-Button-ButtonBase-c50BI" data-loading="false" data-no-visuals="true" data-size="small" data-variant="default" aria-describedby=":R5csptal9lab:-loading-announcement"><span data-component="buttonContent" class="Box-sc-g0xbh4-0 gUkoLg prc-Button-ButtonContent-HKbr-"><span data-component="text" class="prc-Button-Label-pTQ3x">Raw</span></span></a><button data-component="IconButton" type="button" aria-label="Copy raw content" data-testid="copy-raw-button" class="prc-Button-ButtonBase-c50BI prc-Button-IconButton-szpyj" data-loading="false" data-no-visuals="true" data-size="small" data-variant="default" aria-describedby=":Rpcsptal9lab:-loading-announcement"><svg aria-hidden="true" focusable="false" class="octicon octicon-copy" viewBox="0 0 16 16" width="16" height="16" fill="currentColor" style="display:inline-block;user-select:none;vertical-align:text-bottom;overflow:visible"><path d="M0 6.75C0 5.784.784 5 1.75 5h1.5a.75.75 0 0 1 0 1.5h-1.5a.25.25 0 0 0-.25.25v7.5c0 .138.112.25.25.25h7.5a.25.25 0 0 0 .25-.25v-1.5a.75.75 0 0 1 1.5 0v1.5A1.75 1.75 0 0 1 9.25 16h-7.5A1.75 1.75 0 0 1 0 14.25Z"></path><path d="M5 1.75C5 .784 5.784 0 6.75 0h7.5C15.216 0 16 .784 16 1.75v7.5A1.75 1.75 0 0 1 14.25 11h-7.5A1.75 1.75 0 0 1 5 9.25Zm1.75-.25a.25.25 0 0 0-.25.25v7.5c0 .138.112.25.25.25h7.5a.25.25 0 0 0 .25-.25v-7.5a.25.25 0 0 0-.25-.25Z"></path></svg></button><span role="tooltip" aria-label="Download raw file" id=":Rdcsptal9lab:" class="Tooltip__TooltipBase-sc-17tf59c-0 fiSvBN tooltipped-n"><button data-component="IconButton" type="button" aria-label="Download raw content" data-testid="download-raw-button" class="Box-sc-g0xbh4-0 ivobqY prc-Button-ButtonBase-c50BI prc-Button-IconButton-szpyj" data-loading="false" data-no-visuals="true" data-size="small" data-variant="default" aria-describedby=":Rtcsptal9lab:-loading-announcement"><svg aria-hidden="true" focusable="false" class="octicon octicon-download" viewBox="0 0 16 16" width="16" height="16" fill="currentColor" style="display:inline-block;user-select:none;vertical-align:text-bottom;overflow:visible"><path d="M2.75 14A1.75 1.75 0 0 1 1 12.25v-2.5a.75.75 0 0 1 1.5 0v2.5c0 .138.112.25.25.25h10.5a.25.25 0 0 0 .25-.25v-2.5a.75.75 0 0 1 1.5 0v2.5A1.75 1.75 0 0 1 13.25 14Z"></path><path d="M7.25 7.689V2a.75.75 0 0 1 1.5 0v5.689l1.97-1.969a.749.749 0 1 1 1.06 1.06l-3.25 3.25a.749.749 0 0 1-1.06 0L4.22 6.78a.749.749 0 1 1 1.06-1.06l1.97 1.969Z"></path></svg></button></span></div><button hidden="" data-testid="raw-button-shortcut" data-hotkey-scope="read-only-cursor-text-area"></button><button hidden="" data-testid="copy-raw-button-shortcut" data-hotkey-scope="read-only-cursor-text-area"></button><button hidden="" data-testid="download-raw-button-shortcut" data-hotkey-scope="read-only-cursor-text-area"></button><a class="js-github-dev-shortcut d-none prc-Link-Link-85e08" href="https://github.dev/"></a><button hidden="" data-testid="" data-hotkey-scope="read-only-cursor-text-area"></button><a class="js-github-dev-new-tab-shortcut d-none prc-Link-Link-85e08" href="https://github.dev/" target="_blank"></a><button hidden="" data-testid="" data-hotkey-scope="read-only-cursor-text-area"></button><div class="ButtonGroup__StyledButtonGroup-sc-1gxhls1-0 lirRhW"><span role="tooltip" aria-label="Fork this repository and edit the file" id=":R6ksptal9lab:" class="Tooltip__TooltipBase-sc-17tf59c-0 fiSvBN tooltipped-nw"><a sx="[object Object]" data-component="IconButton" type="button" aria-label="Edit file" data-testid="edit-button" class="Box-sc-g0xbh4-0 kilKoS prc-Button-ButtonBase-c50BI prc-Button-IconButton-szpyj" data-loading="false" data-no-visuals="true" data-size="small" data-variant="default" aria-describedby=":Rmksptal9lab:-loading-announcement" href="/Dim4s4ufa/MSIB-K2-KelasAwanPintar/edit/main/Salinan_dari_Regresi_Logistic_Iris_Dataset.ipynb"><svg aria-hidden="true" focusable="false" class="octicon octicon-pencil" viewBox="0 0 16 16" width="16" height="16" fill="currentColor" style="display:inline-block;user-select:none;vertical-align:text-bottom;overflow:visible"><path d="M11.013 1.427a1.75 1.75 0 0 1 2.474 0l1.086 1.086a1.75 1.75 0 0 1 0 2.474l-8.61 8.61c-.21.21-.47.364-.756.445l-3.251.93a.75.75 0 0 1-.927-.928l.929-3.25c.081-.286.235-.547.445-.758l8.61-8.61Zm.176 4.823L9.75 4.81l-6.286 6.287a.253.253 0 0 0-.064.108l-.558 1.953 1.953-.558a.253.253 0 0 0 .108-.064Zm1.238-3.763a.25.25 0 0 0-.354 0L10.811 3.75l1.439 1.44 1.263-1.263a.25.25 0 0 0 0-.354Z"></path></svg></a></span><button data-component="IconButton" type="button" aria-label="More edit options" data-testid="more-edit-button" aria-haspopup="true" aria-expanded="false" tabindex="0" class="prc-Button-ButtonBase-c50BI prc-Button-IconButton-szpyj" data-loading="false" data-no-visuals="true" data-size="small" data-variant="default" aria-describedby=":Raksptal9lab:-loading-announcement" id=":Raksptal9lab:"><svg aria-hidden="true" focusable="false" class="octicon octicon-triangle-down" viewBox="0 0 16 16" width="16" height="16" fill="currentColor" style="display:inline-block;user-select:none;vertical-align:text-bottom;overflow:visible"><path d="m4.427 7.427 3.396 3.396a.25.25 0 0 0 .354 0l3.396-3.396A.25.25 0 0 0 11.396 7H4.604a.25.25 0 0 0-.177.427Z"></path></svg></button></div><button hidden="" data-testid="" data-hotkey="e,Shift+E" data-hotkey-scope="read-only-cursor-text-area"></button></div><div class="react-blob-header-edit-and-raw-actions-combined"><button data-component="IconButton" type="button" aria-label="Edit and raw actions" title="More file actions" data-testid="more-file-actions-button" aria-haspopup="true" aria-expanded="false" tabindex="0" class="Box-sc-g0xbh4-0 itGLhU prc-Button-ButtonBase-c50BI js-blob-dropdown-click prc-Button-IconButton-szpyj" data-loading="false" data-no-visuals="true" data-size="small" data-variant="invisible" aria-describedby=":Rnsptal9lab:-loading-announcement" id=":Rnsptal9lab:"><svg aria-hidden="true" focusable="false" class="octicon octicon-kebab-horizontal" viewBox="0 0 16 16" width="16" height="16" fill="currentColor" style="display:inline-block;user-select:none;vertical-align:text-bottom;overflow:visible"><path d="M8 9a1.5 1.5 0 1 0 0-3 1.5 1.5 0 0 0 0 3ZM1.5 9a1.5 1.5 0 1 0 0-3 1.5 1.5 0 0 0 0 3Zm13 0a1.5 1.5 0 1 0 0-3 1.5 1.5 0 0 0 0 3Z"></path></svg></button></div></div></div></div><div></div></div><div class="Box-sc-g0xbh4-0 hycJXc"><section aria-labelledby="file-name-id-wide file-name-id-mobile" class="Box-sc-g0xbh4-0 iWAocR"><!--$!--><template></template><div class="Box-sc-g0xbh4-0 fgsa-DI"><span class="prc-Spinner-Box-qNUI9"><svg height="32px" width="32px" viewBox="0 0 16 16" fill="none" aria-hidden="true" aria-label="Loading" class="Spinner__StyledComponentSpinner-sc-1knt686-0 iOyQGB"><circle cx="8" cy="8" r="7" stroke="currentColor" stroke-opacity="0.25" stroke-width="2" vector-effect="non-scaling-stroke"></circle><path d="M15 8a7.002 7.002 0 00-7-7" stroke="currentColor" stroke-width="2" stroke-linecap="round" vector-effect="non-scaling-stroke"></path></svg></span></div><!--/$--></section></div></div></div> <!-- --> <!-- --> </div></div></div><div class="Box-sc-g0xbh4-0"></div></div></div></div></div><div id="find-result-marks-container" class="Box-sc-g0xbh4-0 cCoXib"></div><button hidden="" data-testid="" data-hotkey-scope="read-only-cursor-text-area"></button><button hidden=""></button></div> <!-- --> <!-- --> <script type="application/json" id="__PRIMER_DATA_:R0:__">{"resolvedServerColorMode":"night"}</script></div>
</react-app>
</turbo-frame>



  </div>

</turbo-frame>

    </main>
  </div>

  </div>

          <footer class="footer pt-8 pb-6 f6 color-fg-muted p-responsive" role="contentinfo" >
  <h2 class='sr-only'>Footer</h2>

  


  <div class="d-flex flex-justify-center flex-items-center flex-column-reverse flex-lg-row flex-wrap flex-lg-nowrap">
    <div class="d-flex flex-items-center flex-shrink-0 mx-2">
      <a aria-label="Homepage" title="GitHub" class="footer-octicon mr-2" href="https://github.com">
        <svg aria-hidden="true" height="24" viewBox="0 0 24 24" version="1.1" width="24" data-view-component="true" class="octicon octicon-mark-github">
    <path d="M12.5.75C6.146.75 1 5.896 1 12.25c0 5.089 3.292 9.387 7.863 10.91.575.101.79-.244.79-.546 0-.273-.014-1.178-.014-2.142-2.889.532-3.636-.704-3.866-1.35-.13-.331-.69-1.352-1.18-1.625-.402-.216-.977-.748-.014-.762.906-.014 1.553.834 1.769 1.179 1.035 1.74 2.688 1.25 3.349.948.1-.747.402-1.25.733-1.538-2.559-.287-5.232-1.279-5.232-5.678 0-1.25.445-2.285 1.178-3.09-.115-.288-.517-1.467.115-3.048 0 0 .963-.302 3.163 1.179.92-.259 1.897-.388 2.875-.388.977 0 1.955.13 2.875.388 2.2-1.495 3.162-1.179 3.162-1.179.633 1.581.23 2.76.115 3.048.733.805 1.179 1.825 1.179 3.09 0 4.413-2.688 5.39-5.247 5.678.417.36.776 1.05.776 2.128 0 1.538-.014 2.774-.014 3.162 0 .302.216.662.79.547C20.709 21.637 24 17.324 24 12.25 24 5.896 18.854.75 12.5.75Z"></path>
</svg>
</a>
      <span>
        &copy; 2024 GitHub,&nbsp;Inc.
      </span>
    </div>

    <nav aria-label="Footer">
      <h3 class="sr-only" id="sr-footer-heading">Footer navigation</h3>

      <ul class="list-style-none d-flex flex-justify-center flex-wrap mb-2 mb-lg-0" aria-labelledby="sr-footer-heading">

          <li class="mx-2">
            <a data-analytics-event="{&quot;category&quot;:&quot;Footer&quot;,&quot;action&quot;:&quot;go to Terms&quot;,&quot;label&quot;:&quot;text:terms&quot;}" href="https://docs.github.com/site-policy/github-terms/github-terms-of-service" data-view-component="true" class="Link--secondary Link">Terms</a>
          </li>

          <li class="mx-2">
            <a data-analytics-event="{&quot;category&quot;:&quot;Footer&quot;,&quot;action&quot;:&quot;go to privacy&quot;,&quot;label&quot;:&quot;text:privacy&quot;}" href="https://docs.github.com/site-policy/privacy-policies/github-privacy-statement" data-view-component="true" class="Link--secondary Link">Privacy</a>
          </li>

          <li class="mx-2">
            <a data-analytics-event="{&quot;category&quot;:&quot;Footer&quot;,&quot;action&quot;:&quot;go to security&quot;,&quot;label&quot;:&quot;text:security&quot;}" href="https://github.com/security" data-view-component="true" class="Link--secondary Link">Security</a>
          </li>

          <li class="mx-2">
            <a data-analytics-event="{&quot;category&quot;:&quot;Footer&quot;,&quot;action&quot;:&quot;go to status&quot;,&quot;label&quot;:&quot;text:status&quot;}" href="https://www.githubstatus.com/" data-view-component="true" class="Link--secondary Link">Status</a>
          </li>

          <li class="mx-2">
            <a data-analytics-event="{&quot;category&quot;:&quot;Footer&quot;,&quot;action&quot;:&quot;go to docs&quot;,&quot;label&quot;:&quot;text:docs&quot;}" href="https://docs.github.com/" data-view-component="true" class="Link--secondary Link">Docs</a>
          </li>

          <li class="mx-2">
            <a data-analytics-event="{&quot;category&quot;:&quot;Footer&quot;,&quot;action&quot;:&quot;go to contact&quot;,&quot;label&quot;:&quot;text:contact&quot;}" href="https://support.github.com?tags=dotcom-footer" data-view-component="true" class="Link--secondary Link">Contact</a>
          </li>

          <li class="mx-2" >
  <cookie-consent-link>
    <button
      type="button"
      class="Link--secondary underline-on-hover border-0 p-0 color-bg-transparent"
      data-action="click:cookie-consent-link#showConsentManagement"
      data-analytics-event="{&quot;location&quot;:&quot;footer&quot;,&quot;action&quot;:&quot;cookies&quot;,&quot;context&quot;:&quot;subfooter&quot;,&quot;tag&quot;:&quot;link&quot;,&quot;label&quot;:&quot;cookies_link_subfooter_footer&quot;}"
    >
      Manage cookies
    </button>
  </cookie-consent-link>
</li>

<li class="mx-2">
  <cookie-consent-link>
    <button
      type="button"
      class="Link--secondary underline-on-hover border-0 p-0 color-bg-transparent"
      data-action="click:cookie-consent-link#showConsentManagement"
      data-analytics-event="{&quot;location&quot;:&quot;footer&quot;,&quot;action&quot;:&quot;dont_share_info&quot;,&quot;context&quot;:&quot;subfooter&quot;,&quot;tag&quot;:&quot;link&quot;,&quot;label&quot;:&quot;dont_share_info_link_subfooter_footer&quot;}"
    >
      Do not share my personal information
    </button>
  </cookie-consent-link>
</li>

      </ul>
    </nav>
  </div>
</footer>




    <ghcc-consent id="ghcc" class="position-fixed bottom-0 left-0" style="z-index: 999999" data-initial-cookie-consent-allowed="" data-cookie-consent-required="false"></ghcc-consent>


  <div id="ajax-error-message" class="ajax-error-message flash flash-error" hidden>
    <svg aria-hidden="true" height="16" viewBox="0 0 16 16" version="1.1" width="16" data-view-component="true" class="octicon octicon-alert">
    <path d="M6.457 1.047c.659-1.234 2.427-1.234 3.086 0l6.082 11.378A1.75 1.75 0 0 1 14.082 15H1.918a1.75 1.75 0 0 1-1.543-2.575Zm1.763.707a.25.25 0 0 0-.44 0L1.698 13.132a.25.25 0 0 0 .22.368h12.164a.25.25 0 0 0 .22-.368Zm.53 3.996v2.5a.75.75 0 0 1-1.5 0v-2.5a.75.75 0 0 1 1.5 0ZM9 11a1 1 0 1 1-2 0 1 1 0 0 1 2 0Z"></path>
</svg>
    <button type="button" class="flash-close js-ajax-error-dismiss" aria-label="Dismiss error">
      <svg aria-hidden="true" height="16" viewBox="0 0 16 16" version="1.1" width="16" data-view-component="true" class="octicon octicon-x">
    <path d="M3.72 3.72a.75.75 0 0 1 1.06 0L8 6.94l3.22-3.22a.749.749 0 0 1 1.275.326.749.749 0 0 1-.215.734L9.06 8l3.22 3.22a.749.749 0 0 1-.326 1.275.749.749 0 0 1-.734-.215L8 9.06l-3.22 3.22a.751.751 0 0 1-1.042-.018.751.751 0 0 1-.018-1.042L6.94 8 3.72 4.78a.75.75 0 0 1 0-1.06Z"></path>
</svg>
    </button>
    You can’t perform that action at this time.
  </div>

    <template id="site-details-dialog">
  <details class="details-reset details-overlay details-overlay-dark lh-default color-fg-default hx_rsm" open>
    <summary role="button" aria-label="Close dialog"></summary>
    <details-dialog class="Box Box--overlay d-flex flex-column anim-fade-in fast hx_rsm-dialog hx_rsm-modal">
      <button class="Box-btn-octicon m-0 btn-octicon position-absolute right-0 top-0" type="button" aria-label="Close dialog" data-close-dialog>
        <svg aria-hidden="true" height="16" viewBox="0 0 16 16" version="1.1" width="16" data-view-component="true" class="octicon octicon-x">
    <path d="M3.72 3.72a.75.75 0 0 1 1.06 0L8 6.94l3.22-3.22a.749.749 0 0 1 1.275.326.749.749 0 0 1-.215.734L9.06 8l3.22 3.22a.749.749 0 0 1-.326 1.275.749.749 0 0 1-.734-.215L8 9.06l-3.22 3.22a.751.751 0 0 1-1.042-.018.751.751 0 0 1-.018-1.042L6.94 8 3.72 4.78a.75.75 0 0 1 0-1.06Z"></path>
</svg>
      </button>
      <div class="octocat-spinner my-6 js-details-dialog-spinner"></div>
    </details-dialog>
  </details>
</template>

    <div class="Popover js-hovercard-content position-absolute" style="display: none; outline: none;">
  <div class="Popover-message Popover-message--bottom-left Popover-message--large Box color-shadow-large" style="width:360px;">
  </div>
</div>

    <template id="snippet-clipboard-copy-button">
  <div class="zeroclipboard-container position-absolute right-0 top-0">
    <clipboard-copy aria-label="Copy" class="ClipboardButton btn js-clipboard-copy m-2 p-0" data-copy-feedback="Copied!" data-tooltip-direction="w">
      <svg aria-hidden="true" height="16" viewBox="0 0 16 16" version="1.1" width="16" data-view-component="true" class="octicon octicon-copy js-clipboard-copy-icon m-2">
    <path d="M0 6.75C0 5.784.784 5 1.75 5h1.5a.75.75 0 0 1 0 1.5h-1.5a.25.25 0 0 0-.25.25v7.5c0 .138.112.25.25.25h7.5a.25.25 0 0 0 .25-.25v-1.5a.75.75 0 0 1 1.5 0v1.5A1.75 1.75 0 0 1 9.25 16h-7.5A1.75 1.75 0 0 1 0 14.25Z"></path><path d="M5 1.75C5 .784 5.784 0 6.75 0h7.5C15.216 0 16 .784 16 1.75v7.5A1.75 1.75 0 0 1 14.25 11h-7.5A1.75 1.75 0 0 1 5 9.25Zm1.75-.25a.25.25 0 0 0-.25.25v7.5c0 .138.112.25.25.25h7.5a.25.25 0 0 0 .25-.25v-7.5a.25.25 0 0 0-.25-.25Z"></path>
</svg>
      <svg aria-hidden="true" height="16" viewBox="0 0 16 16" version="1.1" width="16" data-view-component="true" class="octicon octicon-check js-clipboard-check-icon color-fg-success d-none m-2">
    <path d="M13.78 4.22a.75.75 0 0 1 0 1.06l-7.25 7.25a.75.75 0 0 1-1.06 0L2.22 9.28a.751.751 0 0 1 .018-1.042.751.751 0 0 1 1.042-.018L6 10.94l6.72-6.72a.75.75 0 0 1 1.06 0Z"></path>
</svg>
    </clipboard-copy>
  </div>
</template>
<template id="snippet-clipboard-copy-button-unpositioned">
  <div class="zeroclipboard-container">
    <clipboard-copy aria-label="Copy" class="ClipboardButton btn btn-invisible js-clipboard-copy m-2 p-0 d-flex flex-justify-center flex-items-center" data-copy-feedback="Copied!" data-tooltip-direction="w">
      <svg aria-hidden="true" height="16" viewBox="0 0 16 16" version="1.1" width="16" data-view-component="true" class="octicon octicon-copy js-clipboard-copy-icon">
    <path d="M0 6.75C0 5.784.784 5 1.75 5h1.5a.75.75 0 0 1 0 1.5h-1.5a.25.25 0 0 0-.25.25v7.5c0 .138.112.25.25.25h7.5a.25.25 0 0 0 .25-.25v-1.5a.75.75 0 0 1 1.5 0v1.5A1.75 1.75 0 0 1 9.25 16h-7.5A1.75 1.75 0 0 1 0 14.25Z"></path><path d="M5 1.75C5 .784 5.784 0 6.75 0h7.5C15.216 0 16 .784 16 1.75v7.5A1.75 1.75 0 0 1 14.25 11h-7.5A1.75 1.75 0 0 1 5 9.25Zm1.75-.25a.25.25 0 0 0-.25.25v7.5c0 .138.112.25.25.25h7.5a.25.25 0 0 0 .25-.25v-7.5a.25.25 0 0 0-.25-.25Z"></path>
</svg>
      <svg aria-hidden="true" height="16" viewBox="0 0 16 16" version="1.1" width="16" data-view-component="true" class="octicon octicon-check js-clipboard-check-icon color-fg-success d-none">
    <path d="M13.78 4.22a.75.75 0 0 1 0 1.06l-7.25 7.25a.75.75 0 0 1-1.06 0L2.22 9.28a.751.751 0 0 1 .018-1.042.751.751 0 0 1 1.042-.018L6 10.94l6.72-6.72a.75.75 0 0 1 1.06 0Z"></path>
</svg>
    </clipboard-copy>
  </div>
</template>


    <style>
      .user-mention[href$="/FreddyMernanda16"] {
        color: var(--color-user-mention-fg);
        background-color: var(--bgColor-attention-muted, var(--color-attention-subtle));
        border-radius: 2px;
        margin-left: -2px;
        margin-right: -2px;
      }
      .user-mention[href$="/FreddyMernanda16"]:before,
      .user-mention[href$="/FreddyMernanda16"]:after {
        content: '';
        display: inline-block;
        width: 2px;
      }
    </style>


    </div>

    <div id="js-global-screen-reader-notice" class="sr-only mt-n1" aria-live="polite" aria-atomic="true" ></div>
    <div id="js-global-screen-reader-notice-assertive" class="sr-only mt-n1" aria-live="assertive" aria-atomic="true"></div>
  </body>
</html>

